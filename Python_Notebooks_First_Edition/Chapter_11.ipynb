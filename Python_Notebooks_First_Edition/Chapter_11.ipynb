{
 "cells": [
  {
   "cell_type": "markdown",
   "metadata": {},
   "source": [
    "### Introduction"
   ]
  },
  {
   "cell_type": "markdown",
   "metadata": {},
   "source": [
    "The source graph for this notebook was prepared using the map taken from: https://github.com/pszufe/OpenStreetMapX.jl/blob/master/test/data/reno_east3.osm.\n",
    "\n",
    "In order to follow the notebook you need to make sure you have the `folium` package installed. You can add it to your Python environment e.g. using the following command `conda install -c conda-forge folium` (or similar, depending on the Python configuration you use)."
   ]
  },
  {
   "cell_type": "code",
   "execution_count": null,
   "metadata": {},
   "outputs": [],
   "source": [
    "## path to datasets\n",
    "datadir='../Datasets/'"
   ]
  },
  {
   "cell_type": "code",
   "execution_count": null,
   "metadata": {},
   "outputs": [],
   "source": [
    "import folium as flm \n",
    "import igraph as ig\n",
    "import numpy as np\n",
    "import pandas as pd\n",
    "import matplotlib.pyplot as plt"
   ]
  },
  {
   "cell_type": "markdown",
   "metadata": {},
   "source": [
    "In this notebook we want to analyze the real data where the graph is representing the road network of Reno, NV, USA.\n",
    "\n",
    "We are interested in finding which intersections can be expected to be most busy. In order to perform this analysys we assume that citizens want to travel between any two randomly picked intersections via a shortest path linking them.\n",
    "\n",
    "In the notebook, in order to highlight how sensitive the results of the analysis are to the level of detail reflected by the graph, we present three scenarios:\n",
    "* assuming that each edge in the road graph has the same length and travel time;\n",
    "* assigning real road length but assuming that the driving speed on each edge is the same;\n",
    "* assuming real road lengths and differentiating driving speeds between roads (e.g. you can drive faster using a highway than using a gravel road)."
   ]
  },
  {
   "cell_type": "markdown",
   "metadata": {},
   "source": [
    "Of course our analysis will still be lacking many real-life details that are potentially important in practice like. Here are some major things we ignore in the analysis:\n",
    "* non-uniform distribution of source and destination locations of travel;\n",
    "* number of lanes on each road;\n",
    "* relationship between traffic on a road and effective average driving speed;\n",
    "* road usage restrictions for certain classes of vehicles;\n",
    "* effect of street lights;\n",
    "* restrictions on turning on intersections.\n",
    "\n",
    "We left these details from the analysis to keep the example simple enough. However, we encourage readers to try to experiment and extend the presented model with some of these details to check how they would influence the results."
   ]
  },
  {
   "cell_type": "markdown",
   "metadata": {},
   "source": [
    "### Ingesting the data"
   ]
  },
  {
   "cell_type": "markdown",
   "metadata": {},
   "source": [
    "We first read in the source data. It is stored in two files:\n",
    "* `nodeloc.csv` that for each node of the graph (intersection) contains information on its geographic location;\n",
    "* `weights.csv` that for each edge of the graph (road) contains information on its length (weight), and speed a car can drive on a given road."
   ]
  },
  {
   "cell_type": "code",
   "execution_count": null,
   "metadata": {},
   "outputs": [],
   "source": [
    "## build undirected weighted graph\n",
    "g_edges = pd.read_csv(datadir+'Reno/weights.csv')\n",
    "nv = 1 + max(max(g_edges[\"from\"]), max(g_edges[\"to\"]))\n",
    "\n",
    "g = ig.Graph(directed=True)\n",
    "g.add_vertices(nv)\n",
    "\n",
    "for i in range(len(g_edges)):\n",
    "    g.add_edge(g_edges[\"from\"][i], g_edges[\"to\"][i])\n",
    "\n",
    "g.es['weight'] = g_edges['w']\n",
    "g.es['speed'] = g_edges['speed']"
   ]
  },
  {
   "cell_type": "code",
   "execution_count": null,
   "metadata": {},
   "outputs": [],
   "source": [
    "## read lat/lon position of nodes (intersections)\n",
    "meta = pd.read_csv(datadir+'Reno/nodeloc.csv')\n",
    "\n",
    "g.vs['longitude'] = list(meta['lon'])\n",
    "g.vs['latitude'] = list(meta['lat'])\n",
    "g.vs['layout'] = [(v['longitude'],v['latitude']) for v in g.vs]\n",
    "\n",
    "g.vs['color'] = \"black\""
   ]
  },
  {
   "cell_type": "markdown",
   "metadata": {},
   "source": [
    "Check that the graph is connected:"
   ]
  },
  {
   "cell_type": "code",
   "execution_count": null,
   "metadata": {},
   "outputs": [],
   "source": [
    "g.is_connected()"
   ]
  },
  {
   "cell_type": "markdown",
   "metadata": {},
   "source": [
    "Check the number of nodes and edges:"
   ]
  },
  {
   "cell_type": "code",
   "execution_count": null,
   "metadata": {},
   "outputs": [],
   "source": [
    "print(g.vcount(),'nodes and',g.ecount(),'edges')"
   ]
  },
  {
   "cell_type": "markdown",
   "metadata": {},
   "source": [
    "Verify the degree distribution of nodes:"
   ]
  },
  {
   "cell_type": "code",
   "execution_count": null,
   "metadata": {},
   "outputs": [],
   "source": [
    "pd.Series(g.indegree()).value_counts(normalize=True, sort=False)"
   ]
  },
  {
   "cell_type": "code",
   "execution_count": null,
   "metadata": {},
   "outputs": [],
   "source": [
    "pd.Series(g.outdegree()).value_counts(normalize=True, sort=False)"
   ]
  },
  {
   "cell_type": "markdown",
   "metadata": {},
   "source": [
    "Note that interestingly nodes having in- and out- degree 1, 2, and 3 have similar frequency, and in- and out- degree equal to 4 is less frequent."
   ]
  },
  {
   "cell_type": "markdown",
   "metadata": {},
   "source": [
    "Finally lest us visualize our graph."
   ]
  },
  {
   "cell_type": "markdown",
   "metadata": {},
   "source": [
    "First we do it using standard iGraph plotting:"
   ]
  },
  {
   "cell_type": "code",
   "execution_count": null,
   "metadata": {},
   "outputs": [],
   "source": [
    "ly = ig.Layout(g.vs['layout'])\n",
    "ly.mirror(1)\n",
    "ig.plot(g, layout=ly, vertex_size=3, edge_arrow_size=0.01, edge_arrow_width=0.01, edge_curved=0)"
   ]
  },
  {
   "cell_type": "markdown",
   "metadata": {},
   "source": [
    "Let us also learn how we can nicely overlay a graph on top of a map using the `folium` package:"
   ]
  },
  {
   "cell_type": "code",
   "execution_count": null,
   "metadata": {},
   "outputs": [],
   "source": [
    "MAP_BOUNDS = ((39.5001-0.001, -119.802-0.001), (39.5435+0.001, -119.7065+0.001))\n",
    "m_plot = flm.Map()\n",
    "\n",
    "for v in g.vs:\n",
    "    flm.Circle(\n",
    "        (v['latitude'], v['longitude']),\n",
    "        radius=1, weight=1,\n",
    "        color=v['color'], fill=True, fill_color=v['color']).add_to(m_plot)\n",
    "\n",
    "for e in g.es:\n",
    "    v1 = g.vs[e.source]\n",
    "    v2 = g.vs[e.target]\n",
    "    flm.PolyLine(\n",
    "        [(v1['latitude'], v1['longitude']), (v2['latitude'], v2['longitude'])],\n",
    "        color=\"black\", weight=1).add_to(m_plot)\n",
    "\n",
    "flm.Rectangle(MAP_BOUNDS, color=\"blue\",weight=4).add_to(m_plot)\n",
    "m_plot.fit_bounds(MAP_BOUNDS)\n",
    "m_plot"
   ]
  },
  {
   "cell_type": "markdown",
   "metadata": {},
   "source": [
    "Observe that the plot produced by `folium` is interactive: you can zoom it and move it around.\n",
    "\n",
    "This plot confirms that ineed we have nodes correctly aligned with intersections on a map of Reno, NV, USA. For instance we see that there are no roads crossing the airport."
   ]
  },
  {
   "cell_type": "markdown",
   "metadata": {},
   "source": [
    "Let us now show how to plot nodes of different in- and out- degrees using different colors:"
   ]
  },
  {
   "cell_type": "code",
   "execution_count": null,
   "metadata": {},
   "outputs": [],
   "source": [
    "# in-degree:\n",
    "# yellow - 1\n",
    "# blue - 2\n",
    "# red - 3\n",
    "# green - 4\n",
    "ig.plot(g, layout=ly, vertex_color=list(np.array(['yellow', 'blue', 'red', 'green'])[np.array(g.indegree())-1]),\n",
    "        vertex_size=5, edge_arrow_size=0.01, edge_arrow_width=0.01, edge_curved=0)"
   ]
  },
  {
   "cell_type": "code",
   "execution_count": null,
   "metadata": {},
   "outputs": [],
   "source": [
    "# out-degree:\n",
    "# yellow - 1\n",
    "# blue - 2\n",
    "# red - 3\n",
    "# green - 4\n",
    "ig.plot(g, layout=ly, vertex_color=list(np.array(['yellow', 'blue', 'red', 'green'])[np.array(g.outdegree())-1]),\n",
    "        vertex_size=5, edge_arrow_size=0.01, edge_arrow_width=0.01, edge_curved=0)"
   ]
  },
  {
   "cell_type": "markdown",
   "metadata": {},
   "source": [
    "On the plots we see that we have large differences in road lengths in our graph. Let us inverstigate it.\n",
    "\n",
    "Notice in particular that most nodes lying on the highway are of in- and out- degree 1. This is due to the fact that the highway has only few entry/exit points but its representation in OpenStreetMaps consists of many road segments."
   ]
  },
  {
   "cell_type": "code",
   "execution_count": null,
   "metadata": {},
   "outputs": [],
   "source": [
    "plt.hist(g_edges[\"w\"], 50);"
   ]
  },
  {
   "cell_type": "markdown",
   "metadata": {},
   "source": [
    "Indeed most of the roads are short, but some of them are very long."
   ]
  },
  {
   "cell_type": "markdown",
   "metadata": {},
   "source": [
    "Similarly we see that there are different road classes in our graph: there are highways, but there are also many local roads. "
   ]
  },
  {
   "cell_type": "code",
   "execution_count": null,
   "metadata": {},
   "outputs": [],
   "source": [
    "pd.Series(g_edges[\"speed\"]).value_counts(normalize=True)"
   ]
  },
  {
   "cell_type": "markdown",
   "metadata": {},
   "source": [
    "Indeed we see that the vast majority of the roads allow for the lowest speed."
   ]
  },
  {
   "cell_type": "markdown",
   "metadata": {},
   "source": [
    "Let us check if roads allowing speed `120` coincide with the highways on the map. This is easy to do visually using the following code:"
   ]
  },
  {
   "cell_type": "code",
   "execution_count": null,
   "metadata": {},
   "outputs": [],
   "source": [
    "MAP_BOUNDS = ((39.5001-0.001, -119.802-0.001), (39.5435+0.001, -119.7065+0.001))\n",
    "m_plot = flm.Map()\n",
    "\n",
    "for v in g.vs:\n",
    "    flm.Circle(\n",
    "        (v['latitude'], v['longitude']),\n",
    "        radius=1, weight=1,\n",
    "        color=v['color'], fill=True, fill_color=v['color']).add_to(m_plot)\n",
    "\n",
    "for i in range(g.ecount()):\n",
    "    e = g.es[i]\n",
    "    v1 = g.vs[e.source]\n",
    "    v2 = g.vs[e.target]\n",
    "    if g.es[\"speed\"][i] == 120:\n",
    "        w = 3\n",
    "        c = 'green'\n",
    "    else:\n",
    "        w = 1\n",
    "        c = 'black'\n",
    "    flm.PolyLine(\n",
    "        [(v1['latitude'], v1['longitude']), (v2['latitude'], v2['longitude'])],\n",
    "        color=c, weight=w).add_to(m_plot)\n",
    "\n",
    "flm.Rectangle(MAP_BOUNDS, color=\"blue\",weight=4).add_to(m_plot)\n",
    "m_plot.fit_bounds(MAP_BOUNDS)\n",
    "m_plot"
   ]
  },
  {
   "cell_type": "markdown",
   "metadata": {},
   "source": [
    "Indeed we see that the thick green edges are covering a highway."
   ]
  },
  {
   "cell_type": "markdown",
   "metadata": {},
   "source": [
    "Having checked our input data we may turn to the analysis trying to answer which intersections can be expected to be most busy on the map."
   ]
  },
  {
   "cell_type": "markdown",
   "metadata": {},
   "source": [
    "## Basic analysis - each edge has weight 1\n",
    "\n",
    "We use betweenness centrality to identify how busy a given intersection is, as it measures number of shortest paths in the graph that go through a given node.\n",
    "\n",
    "In the plots we distinguish 3 types of nodes with respect to their betweenness centrality:\n",
    "* the very heavy ones (big circle), 99th percentile\n",
    "* heavy ones (small circle), 90th percentile\n",
    "* others (very small circle)"
   ]
  },
  {
   "cell_type": "code",
   "execution_count": null,
   "metadata": {},
   "outputs": [],
   "source": [
    "## compute betweenness and plot distribution\n",
    "bet = g.betweenness()\n",
    "plt.hist(bet, 50);"
   ]
  },
  {
   "cell_type": "code",
   "execution_count": null,
   "metadata": {},
   "outputs": [],
   "source": [
    "## size w.r.t. 3 types of nodes\n",
    "very_heavy_usage = np.quantile(bet, 0.99)\n",
    "heavy_usage = np.quantile(bet, 0.9)\n",
    "\n",
    "g.vs['size'] = [1 if b < heavy_usage else 7 if b < very_heavy_usage else 14 for b in bet]"
   ]
  },
  {
   "cell_type": "code",
   "execution_count": null,
   "metadata": {},
   "outputs": [],
   "source": [
    "## plot highlighting intersections with high betweenness\n",
    "ly = ig.Layout(g.vs['layout'])\n",
    "ly.mirror(1)\n",
    "ig.plot(g, layout=ly, vertex_size=g.vs['size'], vertex_color=g.vs['color'], edge_arrow_size=0.01, edge_arrow_width=0.01, edge_curved=0)"
   ]
  },
  {
   "cell_type": "code",
   "execution_count": null,
   "metadata": {},
   "outputs": [],
   "source": [
    "MAP_BOUNDS = ((39.5001-0.001, -119.802-0.001), (39.5435+0.001, -119.7065+0.001))\n",
    "m_plot = flm.Map()\n",
    "\n",
    "for v in g.vs:\n",
    "    flm.Circle(\n",
    "        (v['latitude'], v['longitude']),\n",
    "        radius=1, color=v['color'], weight= v['size'],\n",
    "        fill=True, fill_color=v['color']).add_to(m_plot)\n",
    "\n",
    "for e in g.es:\n",
    "    v1 = g.vs[e.source]\n",
    "    v2 = g.vs[e.target]\n",
    "    flm.PolyLine(\n",
    "        [(v1['latitude'], v1['longitude']), (v2['latitude'], v2['longitude'])],\n",
    "        color=\"black\", weight=1).add_to(m_plot)\n",
    "\n",
    "flm.Rectangle(MAP_BOUNDS, color=\"blue\",weight=4).add_to(m_plot)\n",
    "m_plot.fit_bounds(MAP_BOUNDS)\n",
    "m_plot"
   ]
  },
  {
   "cell_type": "markdown",
   "metadata": {},
   "source": [
    "In this simple analysis the most busy nodes are lying around the center of the map. We also have a set of relatively busy intersections in the most dense regions of the map.\n",
    "\n",
    "However, it seems that this analysis is too simple. We are ignoring the fact how distant are nodes in the calculation of betweenness. Let us include the road lengths in our model."
   ]
  },
  {
   "cell_type": "markdown",
   "metadata": {},
   "source": [
    "## Using betweenness with road length\n"
   ]
  },
  {
   "cell_type": "code",
   "execution_count": null,
   "metadata": {},
   "outputs": [],
   "source": [
    "## compute betweenness and plot distribution\n",
    "bet = g.betweenness(weights=g.es['weight'])\n",
    "plt.hist(bet, 50);"
   ]
  },
  {
   "cell_type": "code",
   "execution_count": null,
   "metadata": {},
   "outputs": [],
   "source": [
    "## size w.r.t. 3 types of nodes\n",
    "very_heavy_usage = np.quantile(bet, 0.99)\n",
    "heavy_usage = np.quantile(bet, 0.9)\n",
    "\n",
    "g.vs['size'] = [1 if b < heavy_usage else 7 if b < very_heavy_usage else 14 for b in bet]"
   ]
  },
  {
   "cell_type": "code",
   "execution_count": null,
   "metadata": {},
   "outputs": [],
   "source": [
    "## plot highlighting intersections with high betweenness\n",
    "ly = ig.Layout(g.vs['layout'])\n",
    "ly.mirror(1)\n",
    "ig.plot(g, layout=ly, vertex_size=g.vs['size'], vertex_color=g.vs['color'], edge_arrow_size=0.01, edge_arrow_width=0.01, edge_curved=0)"
   ]
  },
  {
   "cell_type": "code",
   "execution_count": null,
   "metadata": {},
   "outputs": [],
   "source": [
    "MAP_BOUNDS = ((39.5001-0.001, -119.802-0.001), (39.5435+0.001, -119.7065+0.001))\n",
    "m_plot = flm.Map()\n",
    "\n",
    "for v in g.vs:\n",
    "    flm.Circle(\n",
    "        (v['latitude'], v['longitude']),\n",
    "        radius=10, color=v['color'], weight= v['size'],\n",
    "        fill=True, fill_color=v['color']).add_to(m_plot)\n",
    "\n",
    "for e in g.es:\n",
    "    v1 = g.vs[e.source]\n",
    "    v2 = g.vs[e.target]\n",
    "    flm.PolyLine(\n",
    "        [(v1['latitude'], v1['longitude']), (v2['latitude'], v2['longitude'])],\n",
    "        color=\"black\", weight=1).add_to(m_plot)\n",
    "\n",
    "flm.Rectangle(MAP_BOUNDS, color=\"blue\",weight=4).add_to(m_plot)\n",
    "m_plot.fit_bounds(MAP_BOUNDS)\n",
    "m_plot"
   ]
  },
  {
   "cell_type": "markdown",
   "metadata": {},
   "source": [
    "This time we see that the most busy intersections lie on the main roads. However, surprisinly, the highways seem not bo be used much. This clearly is related to the fact that we ignore the speed that cars can drive with on different roads. Let us then add this dimension to our analysis."
   ]
  },
  {
   "cell_type": "markdown",
   "metadata": {},
   "source": [
    "## Using betweenness with travel time"
   ]
  },
  {
   "cell_type": "code",
   "execution_count": null,
   "metadata": {},
   "outputs": [],
   "source": [
    "## compute betweenness and plot distribution\n",
    "bet = g.betweenness(weights=g.es['weight'] / g_edges[\"speed\"])\n",
    "plt.hist(bet, 50);"
   ]
  },
  {
   "cell_type": "code",
   "execution_count": null,
   "metadata": {},
   "outputs": [],
   "source": [
    "## size w.r.t. 3 types of nodes\n",
    "very_heavy_usage = np.quantile(bet, 0.99)\n",
    "heavy_usage = np.quantile(bet, 0.9)\n",
    "\n",
    "g.vs['size'] = [1 if b < heavy_usage else 7 if b < very_heavy_usage else 14 for b in bet]"
   ]
  },
  {
   "cell_type": "code",
   "execution_count": null,
   "metadata": {},
   "outputs": [],
   "source": [
    "## plot highlighting intersections with high betweenness\n",
    "ly = ig.Layout(g.vs['layout'])\n",
    "ly.mirror(1)\n",
    "ig.plot(g, layout=ly, vertex_size=g.vs['size'], vertex_color=g.vs['color'], edge_arrow_size=0.01, edge_arrow_width=0.01, edge_curved=0)"
   ]
  },
  {
   "cell_type": "code",
   "execution_count": null,
   "metadata": {},
   "outputs": [],
   "source": [
    "MAP_BOUNDS = ((39.5001-0.001, -119.802-0.001), (39.5435+0.001, -119.7065+0.001))\n",
    "m_plot = flm.Map()\n",
    "\n",
    "for v in g.vs:\n",
    "    flm.Circle(\n",
    "        (v['latitude'], v['longitude']),\n",
    "        radius=10, color=v['color'], weight= v['size'],\n",
    "        fill=True, fill_color=v['color']).add_to(m_plot)\n",
    "\n",
    "for e in g.es:\n",
    "    v1 = g.vs[e.source]\n",
    "    v2 = g.vs[e.target]\n",
    "    flm.PolyLine(\n",
    "        [(v1['latitude'], v1['longitude']), (v2['latitude'], v2['longitude'])],\n",
    "        color=\"black\", weight=1).add_to(m_plot)\n",
    "\n",
    "flm.Rectangle(MAP_BOUNDS, color=\"blue\",weight=4).add_to(m_plot)\n",
    "m_plot.fit_bounds(MAP_BOUNDS)\n",
    "m_plot"
   ]
  },
  {
   "cell_type": "markdown",
   "metadata": {},
   "source": [
    "We finally get what we would expect in practice - the most busy intersections go along the highway as it is the fastest way to travel."
   ]
  },
  {
   "cell_type": "markdown",
   "metadata": {},
   "source": [
    "In this experiment we could observe that relatively small changes to the setting of the problem might lead to significantly different conclusions. Fortunately, in this case, the most realistic assumptions lead to the most realistic outcome!"
   ]
  }
 ],
 "metadata": {
  "kernelspec": {
   "display_name": "graphmining",
   "language": "python",
   "name": "graphmining"
  },
  "language_info": {
   "codemirror_mode": {
    "name": "ipython",
    "version": 3
   },
   "file_extension": ".py",
   "mimetype": "text/x-python",
   "name": "python",
   "nbconvert_exporter": "python",
   "pygments_lexer": "ipython3",
   "version": "3.10.9"
  }
 },
 "nbformat": 4,
 "nbformat_minor": 4
}
