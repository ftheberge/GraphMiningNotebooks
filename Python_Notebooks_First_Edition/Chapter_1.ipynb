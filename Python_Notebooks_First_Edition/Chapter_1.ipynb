{
 "cells": [
  {
   "cell_type": "markdown",
   "metadata": {},
   "source": [
    "# Chapter 1 - Graph Theory"
   ]
  },
  {
   "cell_type": "markdown",
   "metadata": {},
   "source": [
    "## Requirements\n",
    "\n",
    "This notebook was tested on Linux and MacOS, using a conda environment.\n",
    "Details to build the conda environment can be found here: https://github.com/ftheberge/GraphMiningNotebooks\n",
    "In case users would find some issues with the notebook, we ask the users to open an issue in the GitHub repository.\n",
    "\n",
    "For the data, make sure you have the right directory in next cell"
   ]
  },
  {
   "cell_type": "code",
   "execution_count": null,
   "metadata": {},
   "outputs": [],
   "source": [
    "## setting the path to the datasets\n",
    "datadir='../Datasets/'\n"
   ]
  },
  {
   "cell_type": "code",
   "execution_count": null,
   "metadata": {},
   "outputs": [],
   "source": [
    "## required packages for this Chapter\n",
    "import igraph as ig\n",
    "import numpy as np\n",
    "import pandas as pd\n",
    "import matplotlib.pyplot as plt\n",
    "from sklearn.linear_model import LinearRegression\n",
    "from collections import Counter\n",
    "from statsmodels.distributions.empirical_distribution import ECDF as ecdf\n"
   ]
  },
  {
   "cell_type": "markdown",
   "metadata": {},
   "source": [
    "## Summary\n",
    "\n",
    "In this notebook, we look at basic statistics such as:\n",
    "- degree distribution\n",
    "- clustering coefficient\n",
    "- shortest path lengths\n",
    "\n",
    "The main lesson is that even with such simple measures, we can identify huge difference between different types of graphs, namely:\n",
    "\n",
    "- social-type graphs (GitHub developers)\n",
    "- transportation-type (power grid) network."
   ]
  },
  {
   "cell_type": "markdown",
   "metadata": {},
   "source": [
    "## GitHub Developers Graph\n",
    "\n",
    "#### Description\n",
    "\n",
    "A large undirected social network of GitHub developers which was collected from the public API in June 2019. Nodes are developers who have starred at least 10 repositories and edges are mutual follower relationships between them. The vertex features are extracted based on the location, repositories starred, employer and e-mail address. \n",
    "\n",
    "The graph has two types of nodes: \n",
    "- web developer \n",
    "- machine learning developer \n",
    "\n",
    "Below, we construct this graph (with igraph); later we will look at subgraphs respectively for web or ml developer.\n",
    "\n",
    "The graph is stored in object ```gh```; look at the code below to see how we can also store attributes for edges and vertices in such igraph objects.\n",
    "\n",
    "There are several ways to read the edges; here we used a function from the ```pandas``` package."
   ]
  },
  {
   "cell_type": "code",
   "execution_count": null,
   "metadata": {},
   "outputs": [],
   "source": [
    "## read the GitHub edge list as tuples and build undirected graph\n",
    "D = pd.read_csv(datadir+'GitHubDevelopers/musae_git_edges.csv')\n",
    "tuples = [tuple(x) for x in D.values]\n",
    "gh = ig.Graph.TupleList(tuples, directed = False)\n",
    "\n",
    "## read node features\n",
    "X = pd.read_csv(datadir+'GitHubDevelopers/musae_git_target.csv')\n",
    "\n",
    "## map node names in edgelist to indices in the graph\n",
    "idx = [int(i) for i in gh.vs['name']]\n",
    "sorterIndex = dict(zip(idx,range(len(idx))))\n",
    "X['Rank'] = X['id'].map(sorterIndex) \n",
    "X.sort_values(['Rank'], ascending=[True],inplace=True)\n",
    "X.dropna(inplace=True)\n",
    "\n",
    "cls = ['grey','black'] ## node colors\n",
    "lbl = ['web','ml']     ## node labels\n",
    "gh.es['color'] = 'grey' ## edge color\n",
    "\n",
    "## there are 2 node types: ml or web\n",
    "gh.vs['color'] = [cls[i] for i in list(X['ml_target'])]\n",
    "gh.vs['lbl'] = [lbl[i] for i in list(X['ml_target'])]\n"
   ]
  },
  {
   "cell_type": "markdown",
   "metadata": {},
   "source": [
    "### node attrbutes\n",
    "\n",
    "Below we show the attributes (data frame X) for the first few nodes.\n",
    "The 'id' is from the list of edges while the 'Rank' correspond to the node ordering in the graph 'gh'.\n",
    "Finally 'ml_target' is a binary flag indicating ml developer (if equal 1) or web developer (if zero)."
   ]
  },
  {
   "cell_type": "code",
   "execution_count": null,
   "metadata": {},
   "outputs": [],
   "source": [
    "X.head()"
   ]
  },
  {
   "cell_type": "markdown",
   "metadata": {},
   "source": [
    "### GitHub subgraphs\n",
    "\n",
    "We build the two subgraphs below: ml and web developers."
   ]
  },
  {
   "cell_type": "code",
   "execution_count": null,
   "metadata": {},
   "outputs": [],
   "source": [
    "## build the subgraphs\n",
    "gh_ml = gh.subgraph([v for v in gh.vs() if v['lbl']=='ml'])\n",
    "gh_web = gh.subgraph([v for v in gh.vs() if v['lbl']=='web'])\n",
    "\n",
    "## there are 9739 ml developers and 27961 web developers\n",
    "print('GitHub nodes:',gh.vcount(),'; ml developers:',gh_ml.vcount(),'; web developers:',gh_web.vcount())\n"
   ]
  },
  {
   "cell_type": "markdown",
   "metadata": {},
   "source": [
    "Note that some ml developers are connected only to web developers and vice-versa. \n",
    "\n",
    "Therefore, some nodes will end up with no connection (degree 0) in the subgraphs.\n"
   ]
  },
  {
   "cell_type": "code",
   "execution_count": null,
   "metadata": {},
   "outputs": [],
   "source": [
    "## github graph: count ml with connection to web only and vice-versa\n",
    "c_ml = c_web = 0\n",
    "for v in gh.vs():\n",
    "    if v['lbl']=='ml':\n",
    "        if set([gh.vs[i]['lbl'] for i in gh.neighbors(v)])=={'web'}:\n",
    "            c_ml+=1\n",
    "    else:\n",
    "        if set([gh.vs[i]['lbl'] for i in gh.neighbors(v)])=={'ml'}:\n",
    "            c_web+=1\n",
    "print(c_ml,'ml dev. connected only to web dev. and',c_web,'web dev. connected only to ml dev.')        "
   ]
  },
  {
   "cell_type": "code",
   "execution_count": null,
   "metadata": {},
   "outputs": [],
   "source": [
    "## this should correpond to the number of degree 0 nodes\n",
    "print(sum([i==0 for i in gh_ml.degree()]))\n",
    "print(sum([i==0 for i in gh_web.degree()]))\n"
   ]
  },
  {
   "cell_type": "markdown",
   "metadata": {},
   "source": [
    "## Europe Electric Grid\n",
    "\n",
    "Network of high voltage grid in Europe. Vertices are stations and edges are the lines connecting them.\n",
    "More details at: https://zenodo.org/record/47317#.Xt6nzy3MxTY\n",
    "\n",
    "The graph is stored in object ```gr```; look at the code below to see how we can also store attributes for edges and vertices in such igraph objects. \n",
    "\n",
    "Edges have directionality, but for this notebook, we consider an undirected version of this graph, so after reading the edges, we \"simplify\" the graph to remove multiedges.\n",
    "\n",
    "Nodes have different attributes, including longitude and latitude; we use those to force a graph layout for plotting according to the geography.\n",
    "\n",
    "There are also several types of nodes: 'joint', 'merge', 'plant', 'station', 'sub_station', 'substation'."
   ]
  },
  {
   "cell_type": "code",
   "execution_count": null,
   "metadata": {},
   "outputs": [],
   "source": [
    "## read edge list for the grid network and build undirected graph\n",
    "gr = ig.Graph.Read_Ncol(datadir+'GridEurope/gridkit_europe-highvoltage.edges', directed=False)\n",
    "gr = gr.simplify()\n",
    "\n",
    "## read the vertices along with some of the attributes\n",
    "X = pd.read_csv(datadir+'GridEurope/gridkit_europe-highvoltage.vertices')\n",
    "idx = [int(i) for i in gr.vs['name']]\n",
    "sorterIndex = dict(zip(idx,range(len(idx))))\n",
    "X['Rank'] = X['v_id'].map(sorterIndex)\n",
    "X.sort_values(['Rank'], ascending=[True],inplace=True)\n",
    "X.dropna(inplace=True)\n",
    "gr.vs['longitude'] = list(X['lon'])\n",
    "gr.vs['latitude'] = list(X['lat'])\n",
    "gr.vs['type'] = list(X['typ'])\n",
    "gr.vs['layout'] = [(v['longitude'],v['latitude']) for v in gr.vs()] ## tuples with lat/lon\n",
    "gr.vs['size'] = 3\n",
    "gr.es['color'] = 'grey'\n",
    "gr.vs['color'] = 'black'"
   ]
  },
  {
   "cell_type": "code",
   "execution_count": null,
   "metadata": {},
   "outputs": [],
   "source": [
    "## here is an example of a node along with its attributes\n",
    "gr.vs[0]"
   ]
  },
  {
   "cell_type": "markdown",
   "metadata": {},
   "source": [
    "# Graph Features\n",
    "\n",
    "Below, we compute several basic features for the 4 graphs we have:\n",
    "- GitHub\n",
    "- GitHub (ml developers subgraph)\n",
    "- GitHub (web developers subgraph)\n",
    "- Grid\n",
    "\n",
    "Please refer to the book for details of those features.\n",
    "\n",
    "Note that running the cell below can take a few minutes.\n"
   ]
  },
  {
   "cell_type": "code",
   "execution_count": null,
   "metadata": {},
   "outputs": [],
   "source": [
    "## compute and store basic stats in a table\n",
    "## this can take a few minutes\n",
    "def baseStats(G):\n",
    "    deg = G.degree()\n",
    "    return [G.vcount(),G.ecount(),np.min(deg),np.mean(deg),np.median(deg),np.quantile(deg,.99),\n",
    "            np.max(deg),G.diameter(),np.max(G.connected_components().membership)+1,\n",
    "            G.connected_components().giant().vcount(),\n",
    "            sum([x==0 for x in G.degree()]),G.transitivity_undirected(mode='nan'),\n",
    "            G.transitivity_avglocal_undirected(mode='nan')]\n",
    "S = []\n",
    "S.append(['GitHub'] + baseStats(gh))\n",
    "S.append(['GitHub (ml)'] + baseStats(gh_ml))\n",
    "S.append(['GitHub (web)'] + baseStats(gh_web))\n",
    "S.append(['Grid'] + baseStats(gr))\n",
    "D = pd.DataFrame(S,columns=['graph','nodes','edges',r'$d_{min}$',r'$d_{mean}$',r'$d_{median}$',\n",
    "                            r'$d_{quant_{99}}$',r'$d_{max}$','diameter','components','largest',\n",
    "                            'isolates',r'$C_{glob}$',r'$C_{loc}$']).transpose()\n",
    "D"
   ]
  },
  {
   "cell_type": "markdown",
   "metadata": {},
   "source": [
    "#### Analysis of the results\n",
    "\n",
    "What do we see in the table above?\n",
    "\n",
    "First, look at the degree distribution; the GitHub graphs have a wide range of values, including some very high degree nodes, while the Grid graph has degree in range 1 to 16 only.\n",
    "\n",
    "The diameter (max shortest path length) is also quite different; it is common for social networks to have relatively small diameter. On the other hand, geometric graphs by nature must have large diameter.\n",
    "\n",
    "Looking at components, the GitHub graph is connected (single component), but the two subgraphs are not, and there are event nodes with null degree as we already saw. The Grid graph has several components, but most nodes fall is what we call the \"giant component\".\n",
    "\n",
    "Finally, we see some differences between the local and global clustering coefficients for the GitHub graphs; why is this so? what happens with very high degree nodes?"
   ]
  },
  {
   "cell_type": "code",
   "execution_count": null,
   "metadata": {},
   "outputs": [],
   "source": [
    "## Note: to produce LaTeX code from a DataFrame:\n",
    "#  df = D.round(decimals=3)\n",
    "#  print(df.to_latex(index=True))"
   ]
  },
  {
   "cell_type": "markdown",
   "metadata": {},
   "source": [
    "## Visualize part of the Grid network\n",
    "\n",
    "For the Grid graph, we select a range of lat/lon that correspond to the Iberic peninsula.\n",
    "\n"
   ]
  },
  {
   "cell_type": "code",
   "execution_count": null,
   "metadata": {},
   "outputs": [],
   "source": [
    "## subgraph of Grid -- Iberic peninsula\n",
    "V = [v for v in gr.vs() if v['latitude']>36 and v['latitude']<44 and v['longitude']>-10 and v['longitude']<4]\n",
    "gr_spain = gr.subgraph(V)\n",
    "ly = ig.Layout(gr_spain.vs['layout'])\n",
    "ly.mirror(1)\n",
    "print(gr_spain.vcount(),'nodes')\n",
    "#ig.plot(gr_spain, 'grid_sg.eps', layout=ly, bbox=(0,0,300,300))\n",
    "ig.plot(gr_spain, layout=ly, bbox=(0,0,300,300))\n"
   ]
  },
  {
   "cell_type": "markdown",
   "metadata": {},
   "source": [
    "## Visualize part of the GitHub (ml) graph\n",
    "\n",
    "There is no lat/lon here; in the code below, we take the giant component for the GitHub ml subgraph,\n",
    "and arbitrary cut w.r.t. the computed layout to display a portion of the subgraph.\n",
    "\n",
    "This is for illustration only; note that this is quite different from the Grid graph, with clumps (dense areas) and less regular edge distribution.\n"
   ]
  },
  {
   "cell_type": "code",
   "execution_count": null,
   "metadata": {},
   "outputs": [],
   "source": [
    "## plot subgraph for github(ml)\n",
    "sg = gh_ml.connected_components().giant()\n",
    "ly = sg.layout_auto()\n",
    "sg.vs['x'] = [x[0] for x in ly]\n",
    "sg.vs['y'] = [x[1] for x in ly]\n",
    "\n",
    "## \n",
    "z = 40 ## adjust to zoom in or out\n",
    "V = [v for v in sg.vs() if v['x']<z and v['x']>-z and v['y']<z and v['y']>-z]\n",
    "ssg = sg.subgraph(V).connected_components().giant()\n",
    "ssg.vs['size'] = 3\n",
    "print('showing',ssg.vcount(),'nodes')\n",
    "#ig.plot(ssg, 'github_ml_sg.eps',bbox=(0,0,300,300))\n",
    "ig.plot(ssg,bbox=(0,0,300,300))"
   ]
  },
  {
   "cell_type": "markdown",
   "metadata": {},
   "source": [
    "## Visualize part of the GitHub (web) graph\n",
    "\n",
    "Same as above for the larger GitHub web subgraph; \n",
    "Uncomment the cell below to run. Note that this can be slow!\n"
   ]
  },
  {
   "cell_type": "raw",
   "metadata": {},
   "source": [
    "## plot subgraph for github (web)\n",
    "sg = gh_web.connected_components().giant()\n",
    "ly = sg.layout_auto()\n",
    "sg.vs['x'] = [x[0] for x in ly]\n",
    "sg.vs['y'] = [x[1] for x in ly]\n",
    "\n",
    "## you can try various zoom as this will vary\n",
    "z = 60\n",
    "V = [v for v in sg.vs() if v['x']<z and v['x']>-z and v['y']<z and v['y']>-z]\n",
    "ssg = sg.subgraph(V).connected_components().giant()\n",
    "ssg.vs['size'] = 3\n",
    "ssg.vs['color'] = 'black'\n",
    "print(ssg.vcount(),'nodes')\n",
    "#ig.plot(ssg, 'github_web_sg.eps',bbox=(0,0,300,300))\n",
    "ig.plot(ssg,bbox=(0,0,300,300))"
   ]
  },
  {
   "cell_type": "markdown",
   "metadata": {},
   "source": [
    "## Compare degree distributions\n",
    "\n",
    "We plot the (empirical) cumulative distribution functions (cdf) of the degree distribution for the GitHib and Grid graphs. \n",
    "\n",
    "As we notes before, for the GitHub graph, most nodes have low degree, but a few have very high degree, up to almost 10,000. This is not the case with the Grid graph: almost all nodes having degree less than 10, and max degree observed is only 16.\n"
   ]
  },
  {
   "cell_type": "code",
   "execution_count": null,
   "metadata": {},
   "outputs": [],
   "source": [
    "## degree distribution - GitHub graph\n",
    "deg = gh.degree()\n",
    "e = ecdf(deg)\n",
    "x = np.arange(1,max(deg),1)\n",
    "y = [e(i) for i in x]\n",
    "plt.semilogx(x,y,'-',color='black',label='GitHub')\n",
    "plt.xlabel('degree',fontsize=14)\n",
    "plt.ylabel('empirical cdf',fontsize=14);\n",
    "#plt.savefig('ecdf_gh.eps');\n"
   ]
  },
  {
   "cell_type": "code",
   "execution_count": null,
   "metadata": {},
   "outputs": [],
   "source": [
    "## degree distribution - Grid graph\n",
    "## we see much lower degree here\n",
    "deg = gr.degree()\n",
    "e = ecdf(deg)\n",
    "x = np.arange(1,30,1)\n",
    "y = [e(i) for i in x]\n",
    "plt.semilogx(x,y,'-',color='black',label='Grid')\n",
    "plt.xlabel('degree',fontsize=14)\n",
    "plt.ylabel('empirical cdf',fontsize=14);\n",
    "#plt.savefig('ecdf_gr.eps');\n"
   ]
  },
  {
   "cell_type": "markdown",
   "metadata": {},
   "source": [
    "## Shortest paths distribution\n",
    "\n",
    "In the plots below, we consider 100 randomly chosen nodes, and compute the length of the shortest path to reach every other node. We then plot histograms of those values.\n",
    "\n",
    "Once again we see much different distributions; for the GitHub graph, most paths are quite short, with common values in the range from 2 to 6.\n",
    "For the Grid graph however, the paths are generally longer, and over a much wider range.\n"
   ]
  },
  {
   "cell_type": "code",
   "execution_count": null,
   "metadata": {
    "scrolled": false
   },
   "outputs": [],
   "source": [
    "## shortest paths length from a given node, GitHub graph\n",
    "from collections import Counter\n",
    "sg = gh.connected_components().giant()\n",
    "V = np.random.choice(sg.vcount(),size=100,replace=False) ## sample\n",
    "sp = []\n",
    "for v in V:\n",
    "    sp.extend(sg.distances(source=v)[0])\n",
    "c = Counter(sp)\n",
    "s = sorted(c.items())\n",
    "\n",
    "fig, ax = plt.subplots()\n",
    "## exclude 0-length paths\n",
    "x = [x[0] for x in s[1:]]\n",
    "y = [x[1] for x in s[1:]]\n",
    "b = ax.bar(x, y, color='darkgrey') \n",
    "\n",
    "ax.set_yscale('log')\n",
    "\n",
    "ax.set_xlabel('path length',fontsize=14)\n",
    "ax.set_ylabel('number of paths (log scale)',fontsize=14);\n",
    "#plt.savefig('pathlen_github.eps');\n"
   ]
  },
  {
   "cell_type": "code",
   "execution_count": null,
   "metadata": {},
   "outputs": [],
   "source": [
    "## min path length from that node to other nodes, Grid network\n",
    "sg = gr.connected_components().giant()\n",
    "V = np.random.choice(sg.vcount(),size=100,replace=False) ## sample\n",
    "sp = []\n",
    "for v in V:\n",
    "    sp.extend(sg.distances(source=v)[0])\n",
    "c = Counter(sp)\n",
    "s = sorted(c.items())\n",
    "\n",
    "fig, ax = plt.subplots()\n",
    "## exclude 0-length paths\n",
    "x = [x[0] for x in s[1:]]\n",
    "y = [x[1] for x in s[1:]]\n",
    "b = ax.bar(x, y, color='darkgrey') \n",
    "ax.set_xlabel('path length',fontsize=14)\n",
    "ax.set_ylabel('number of paths',fontsize=14);\n",
    "#plt.savefig('pathlen_grid.eps');\n"
   ]
  },
  {
   "cell_type": "markdown",
   "metadata": {},
   "source": [
    "## Local clustering coefficient\n",
    "\n",
    "Below, we compare the average local clustering coefficients as a function\n",
    "of the node degrees. We consider degrees from 10 to 1000.\n",
    "\n",
    "Looking at a log-log plot, we see a power law relation between those quantities; \n",
    "we also compute the regression line for comparison."
   ]
  },
  {
   "cell_type": "code",
   "execution_count": null,
   "metadata": {},
   "outputs": [],
   "source": [
    "## build dataframe with degrees and local clustering coefficients\n",
    "## and compute mean values w.r.t. degree.\n",
    "## GitHub graph\n",
    "mindeg = 10\n",
    "maxdeg = 1000\n",
    "D = pd.DataFrame(np.array([gh.transitivity_local_undirected(),gh.degree()]).transpose(),\n",
    "            columns=['CC','d'])\n",
    "C = D[D['d']>=mindeg].groupby(by='d').mean()\n",
    "deg = list(C.index)\n",
    "l = sum([i<=maxdeg for i in deg])\n",
    "deg = deg[:l]\n",
    "clust = list(C['CC'])[:l]\n"
   ]
  },
  {
   "cell_type": "code",
   "execution_count": null,
   "metadata": {},
   "outputs": [],
   "source": [
    "# Fit a regression (log-log scale) and plot\n",
    "regressor = LinearRegression()  \n",
    "x = [np.log(i) for i in deg]\n",
    "y = [np.log(i) for i in clust]\n",
    "regressor.fit(np.array(x).reshape(-1,1), y)\n",
    "print('power law exponent:',regressor.coef_[0])\n",
    "\n",
    "## plot on log-log scale\n",
    "b = regressor.intercept_\n",
    "a = regressor.coef_[0]\n",
    "plt.loglog(deg,clust,'.-',color='grey')\n",
    "\n",
    "## since log y = a log x + b, y = e^b x^a, we plot:\n",
    "plt.plot([mindeg,maxdeg],[np.exp(b)*mindeg**a,np.exp(b)*maxdeg**a],color='black')\n",
    "plt.xlabel('log(degree)',fontsize=14)\n",
    "plt.ylabel('log(mean local clust. coef.)',fontsize=14);\n",
    "\n",
    "## un-comment to save plot in a file\n",
    "#plt.savefig('localCC.eps');"
   ]
  }
 ],
 "metadata": {
  "kernelspec": {
   "display_name": "graphmining",
   "language": "python",
   "name": "graphmining"
  },
  "language_info": {
   "codemirror_mode": {
    "name": "ipython",
    "version": 3
   },
   "file_extension": ".py",
   "mimetype": "text/x-python",
   "name": "python",
   "nbconvert_exporter": "python",
   "pygments_lexer": "ipython3",
   "version": "3.10.9"
  }
 },
 "nbformat": 4,
 "nbformat_minor": 4
}
