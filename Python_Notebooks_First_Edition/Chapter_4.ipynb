{
 "cells": [
  {
   "cell_type": "markdown",
   "metadata": {},
   "source": [
    "# Chapter 4 - Degree Correlations\n",
    "\n",
    "In this notebook, we explore various notions of degree correlation (assortativity, disassortativity) and related measures.\n",
    "\n",
    "As with the previous notebooks, make sure to set the data directory properly in the next cell"
   ]
  },
  {
   "cell_type": "code",
   "execution_count": null,
   "metadata": {},
   "outputs": [],
   "source": [
    "datadir = '../Datasets/'"
   ]
  },
  {
   "cell_type": "code",
   "execution_count": null,
   "metadata": {
    "slideshow": {
     "slide_type": "slide"
    }
   },
   "outputs": [],
   "source": [
    "import igraph as ig\n",
    "import numpy as np\n",
    "import pandas as pd\n",
    "import matplotlib.pyplot as plt\n",
    "from sklearn.linear_model import LinearRegression\n",
    "from collections import Counter\n"
   ]
  },
  {
   "cell_type": "code",
   "execution_count": null,
   "metadata": {},
   "outputs": [],
   "source": [
    "## define the colors and node sizes here\n",
    "cls_edges = 'gainsboro'\n",
    "cls = ['silver','dimgray','black']\n",
    "sz = [6,9,12]"
   ]
  },
  {
   "cell_type": "markdown",
   "metadata": {},
   "source": [
    "## Some useful functions\n",
    "\n",
    "* deg_corr: compute $k_{nn}(l)$ for all degrees $l$, as defined in section 4.3 (undirected)\n",
    "* deg_corr_directed: compute $k_{nn}^{mode1,mode2}(l)$ for all degrees $l$, as defined in section 4.5; mode1 and mode2 can be 'in', 'out' or 'all'\n",
    "* deg_corr_neutral: for neutral graph with same degree distribution as in G\n",
    "* corr_exp: correlation exponent via linear regression (taking logs) as in section 4.3\n",
    "* rich_club: rich club coefficient (section 4.3) for a given degree $l$"
   ]
  },
  {
   "cell_type": "code",
   "execution_count": null,
   "metadata": {},
   "outputs": [],
   "source": [
    "## Degree correlation functions\n",
    "\n",
    "# undirected\n",
    "def deg_corr(G):\n",
    "    idx = {v:k for k,v in enumerate([i for i in set(G.degree())])}\n",
    "    idx_inv = {k:v for k,v in enumerate(idx)}\n",
    "    deg = G.degree()\n",
    "    L = [[] for i in range(len(idx))]\n",
    "    for v in G.vs():\n",
    "        w = [deg[i] for i in G.neighbors(v)] \n",
    "        L[idx[v.degree()]].extend(w)\n",
    "    return {idx_inv[i]:np.mean(L[i]) for i in range(len(L))}\n",
    "\n",
    "## degree correlation for neutral graph with degree distribution in G\n",
    "def deg_corr_neutral(G, mode='all'):\n",
    "    x = G.degree(mode=mode)\n",
    "    return np.mean([i**2 for i in x])/np.mean(x)    \n",
    "\n",
    "## k_nn^{mode1,mode2}(l) : average mode2-degree of mode1-neighbours of nodes with mode1-degree = l\n",
    "def deg_corr_directed(G, mode1='all', mode2='all'):\n",
    "    idx = {v:k for k,v in enumerate([i for i in set(G.degree(mode=mode1))])}\n",
    "    idx_inv = {k:v for k,v in enumerate(idx)}\n",
    "    deg = G.degree(mode=mode2)\n",
    "    L = [[] for i in range(len(idx))]\n",
    "    for v in G.vs():\n",
    "        w = [deg[i] for i in G.neighbors(v, mode='out')] ## do each link only once\n",
    "        L[idx[v.degree(mode=mode1)]].extend(w)\n",
    "    return {idx_inv[i]:np.mean(L[i]) for i in range(len(L)) if len(L[i])>0}\n",
    "\n",
    "## Correlation exponent via linear regression (taking logs)\n",
    "def corr_exp(G):\n",
    "    ## compute knn's\n",
    "    knn = deg_corr(G)\n",
    "    # Fit the regression\n",
    "    regressor = LinearRegression()  \n",
    "    x = [np.log(i) for i in knn.keys()]\n",
    "    y = [np.log(i) for i in knn.values()]\n",
    "    regressor.fit(np.array(x).reshape(-1,1), y)\n",
    "    return regressor.coef_[0]\n",
    "\n",
    "## for a fixed l -- can be slow for multiple l's\n",
    "def rich_club(g, l=1):\n",
    "    g.vs()['degree'] = g.degree()\n",
    "    l_max = np.max(g.degree())\n",
    "    c = Counter(g.degree())\n",
    "    n = g.vcount()\n",
    "    moment = np.sum([k*c[k]/n for k in c])**2\n",
    "    S = [k*c[k]/n for k in c if k>=l]\n",
    "    phi_hat = np.sum([x*y for x in S for y in S])*g.ecount()/moment\n",
    "    G = g.subgraph([v for v in g.vs() if v['degree']>=l])\n",
    "    phi = G.ecount()\n",
    "    return phi/phi_hat     \n"
   ]
  },
  {
   "cell_type": "markdown",
   "metadata": {},
   "source": [
    "## US Airports -  Volume of Passengers\n",
    "\n",
    "We use the same dataset as in previous chapter: a directed, weighted graph where edge weights are passenger volumes between airports. The weights are not used in this notebook, as we only consider node degrees.\n"
   ]
  },
  {
   "cell_type": "code",
   "execution_count": null,
   "metadata": {},
   "outputs": [],
   "source": [
    "## read edges and build weighted directed graph\n",
    "D = pd.read_csv(datadir+'Airports/connections.csv')\n",
    "g = ig.Graph.TupleList([tuple(x) for x in D.values], directed=True, edge_attrs=['weight'])\n",
    "\n",
    "## read vertex attributes and add to graph\n",
    "A = pd.read_csv(datadir+'Airports/airports_loc.csv')\n",
    "lookup = {k:v for v,k in enumerate(A['airport'])}\n",
    "l = [lookup[x] for x in g.vs()['name']]\n",
    "g.vs()['layout'] = [(A['lon'][i],A['lat'][i]) for i in l]\n",
    "g.vs()['state'] = [A['state'][i] for i in l]\n",
    "g.vs()['city'] = [A['city'][i] for i in l]\n",
    "\n",
    "## drop loops; this will also remove edge weights, but we won't need those\n",
    "g = g.simplify()\n",
    "\n",
    "## add a few more attributes for visualization\n",
    "g.vs()['size'] = sz[1]\n",
    "g.vs['color'] = cls[1]\n",
    "g.es()['color'] = cls_edges\n"
   ]
  },
  {
   "cell_type": "markdown",
   "metadata": {},
   "source": [
    "## Directed Degree Correlation Functions (4 cases)\n",
    "\n",
    "Plot $k_{nn}^{mode1,mode2}(l)$ for all degrees $l$, where mode1 and mode2 are either 'in' or 'out'.\n",
    "As detailed in section 4.5, this is the average mode2-degree of mode1-neighbours of nodes with mode1-degree = $l$.\n",
    "Dashed lines are for neutral graphs.\n",
    "\n",
    "While not identical, we see that the four plots are very similar, showing a slightly negative correlation except for the nodes of small degree. This similarity is not surprising as in this directed graph the edges very often come in pairs: when there are flights from A to B, there are very often flights from B to A.\n"
   ]
  },
  {
   "cell_type": "code",
   "execution_count": null,
   "metadata": {},
   "outputs": [],
   "source": [
    "knn = deg_corr_directed(g,'in','in')\n",
    "x = list(knn.keys())\n",
    "y = list(knn.values())\n",
    "r = deg_corr_neutral(g,'in')\n",
    "plt.scatter(x,y,c='black')\n",
    "plt.hlines(y=r,xmin=min(x),xmax=max(x),linestyles=':')\n",
    "plt.ylabel(r'$k_{nn}(\\ell)$',fontsize=12);\n",
    "#plt.savefig('degree_corr_in_in.eps')"
   ]
  },
  {
   "cell_type": "code",
   "execution_count": null,
   "metadata": {},
   "outputs": [],
   "source": [
    "knn = deg_corr_directed(g,'in','out')\n",
    "x = list(knn.keys())\n",
    "y = list(knn.values())\n",
    "r = deg_corr_neutral(g,'out')\n",
    "plt.scatter(x,y,c='black')\n",
    "plt.hlines(y=r,xmin=min(x),xmax=max(x),linestyles=':');\n",
    "#plt.savefig('degree_corr_in_out.eps')"
   ]
  },
  {
   "cell_type": "code",
   "execution_count": null,
   "metadata": {},
   "outputs": [],
   "source": [
    "knn = deg_corr_directed(g,'out','in')\n",
    "x = list(knn.keys())\n",
    "y = list(knn.values())\n",
    "r = deg_corr_neutral(g,'in')\n",
    "plt.scatter(x,y,c='black')\n",
    "plt.hlines(y=r,xmin=min(x),xmax=max(x),linestyles=':')\n",
    "plt.xlabel(r'degree ($\\ell$)',fontsize=12)\n",
    "plt.ylabel(r'$k_{nn}(\\ell)$',fontsize=12);\n",
    "#plt.savefig('degree_corr_out_in.eps')\n"
   ]
  },
  {
   "cell_type": "code",
   "execution_count": null,
   "metadata": {},
   "outputs": [],
   "source": [
    "knn = deg_corr_directed(g,'out','out')\n",
    "x = list(knn.keys())\n",
    "y = list(knn.values())\n",
    "r = deg_corr_neutral(g,'out')\n",
    "plt.scatter(x,y,c='black')\n",
    "plt.hlines(y=r,xmin=min(x),xmax=max(x),linestyles=':')\n",
    "plt.xlabel(r'degree ($\\ell$)',fontsize=12);\n",
    "#plt.savefig('degree_corr_out_out.eps')\n"
   ]
  },
  {
   "cell_type": "markdown",
   "metadata": {},
   "source": [
    "## Undirected airport graph\n",
    "\n",
    "We now consider an undirected version of the airport graph. \n",
    "Degree correlation is quite similar to the previous plots, for the same reason the previous plots were similar. \n",
    "\n",
    "We plot both using linear and log scale.\n"
   ]
  },
  {
   "cell_type": "code",
   "execution_count": null,
   "metadata": {},
   "outputs": [],
   "source": [
    "## consider undirected graph\n",
    "g = g.as_undirected()\n",
    "g.es()['color'] = cls_edges\n"
   ]
  },
  {
   "cell_type": "code",
   "execution_count": null,
   "metadata": {},
   "outputs": [],
   "source": [
    "## linear scale plot\n",
    "knn = deg_corr(g)\n",
    "x = list(knn.keys())\n",
    "y = list(knn.values())\n",
    "r = deg_corr_neutral(g)\n",
    "plt.scatter(x,y,c='black')\n",
    "plt.hlines(y=r,xmin=min(x),xmax=max(x),linestyles=':')\n",
    "plt.xlabel(r'degree ($\\ell$)',fontsize=12)\n",
    "plt.ylabel(r'$k_{nn}(\\ell)$',fontsize=12);\n",
    "#plt.savefig('degree_corr_linear.eps')\n"
   ]
  },
  {
   "cell_type": "code",
   "execution_count": null,
   "metadata": {},
   "outputs": [],
   "source": [
    "## log scale plot\n",
    "plt.loglog(x,y,'o',c='black')\n",
    "plt.hlines(y=r,xmin=min(x),xmax=max(x),linestyles=':')\n",
    "plt.xlabel(r'degree ($\\ell$)',fontsize=12);\n",
    "#plt.savefig('degree_corr_log.eps');"
   ]
  },
  {
   "cell_type": "markdown",
   "metadata": {},
   "source": [
    "# State by state assortativity and correlation exponent\n",
    "\n",
    "We consider each state in the airport graph with more than 5 vertices having in-state edges.\n",
    "We compute the following quantities defined in section 4.3:\n",
    "\n",
    "* the degree correlation coefficient, or assortativity ($r$)\n",
    "* the correlation exponent ($\\mu$) estimated via regression\n"
   ]
  },
  {
   "cell_type": "code",
   "execution_count": null,
   "metadata": {},
   "outputs": [],
   "source": [
    "## compute r and mu for each state, store in data frame and sort w.r.t. r (assortativity)\n",
    "L = []\n",
    "for s in set(list(A['state'])):\n",
    "    ## Build state subgraph\n",
    "    hva = [v for v in g.vs() if v['state'] == s]\n",
    "    G = g.subgraph(hva)\n",
    "    ## drop isolated vertices (i.e. without in-state connections)\n",
    "    G = G.subgraph([v for v in G.vs() if v.degree()>0])\n",
    "    ## remove loops\n",
    "    G = G.simplify(multiple=False)\n",
    "    ## only consider graphs with > 5 vertices\n",
    "    if G.vcount() >= 6:\n",
    "        mu = corr_exp(G)        \n",
    "        L.append([s,G.vcount(),G.ecount(),G.assortativity_degree(),mu])\n",
    "P = pd.DataFrame(L,columns=['state','nodes','edges','assortativity','mu'])\n",
    "P = P.sort_values(by='assortativity')"
   ]
  },
  {
   "cell_type": "code",
   "execution_count": null,
   "metadata": {},
   "outputs": [],
   "source": [
    "## show top states w.r.t. 'r' (lowest assortativity; min possible value is -1)\n",
    "df = P.head(5)\n",
    "df"
   ]
  },
  {
   "cell_type": "code",
   "execution_count": null,
   "metadata": {},
   "outputs": [],
   "source": [
    "## show bottom states w.r.t. 'r' (high, positive assortativity)\n",
    "df = P.tail(3)\n",
    "df"
   ]
  },
  {
   "cell_type": "markdown",
   "metadata": {},
   "source": [
    "### Correlation between $r$ and $\\mu$\n",
    "\n",
    "Some states are quite small (very few nodes and edges), but we still see good correlation between those quantities."
   ]
  },
  {
   "cell_type": "code",
   "execution_count": null,
   "metadata": {},
   "outputs": [],
   "source": [
    "## correlation between r and mu\n",
    "plt.plot(P['assortativity'],P['mu'],'o',color='black')\n",
    "plt.xlabel('degree correlation coefficient ($r$)',fontsize=12)\n",
    "plt.ylabel(r'correlation exponent ($\\mu$)',fontsize=12)\n",
    "print('Person correlation:',np.corrcoef(P['assortativity'],P['mu'])[1,0])\n",
    "ident = [-1.0, 1.0]\n",
    "plt.plot(ident,ident,':',c='gray');\n",
    "#plt.savefig('mu.eps')"
   ]
  },
  {
   "cell_type": "markdown",
   "metadata": {},
   "source": [
    "# Looking at a few states with high/low assortativity"
   ]
  },
  {
   "cell_type": "markdown",
   "metadata": {},
   "source": [
    "## Positive assortativity: ND+SD\n",
    "\n",
    "We merge the graphs from North and South Dakota; the resulting graph has positive assortativity value $r$ = 0.243. \n",
    "We notice the presence of a dense region (interconnected high degree nodes) and some tendrils with low degree nodes. \n"
   ]
  },
  {
   "cell_type": "code",
   "execution_count": null,
   "metadata": {},
   "outputs": [],
   "source": [
    "## positive assortativity: the Dakotas (ND+SD)\n",
    "hva = [v for v in g.vs() if v['state'] == 'SD' or v['state'] == 'ND']\n",
    "G_D = g.subgraph(hva)\n",
    "G_D = G_D.subgraph([v for v in G_D.vs() if v.degree()>0])\n",
    "G_D = G_D.simplify(multiple=False)\n",
    "print('r =',G_D.assortativity_degree())\n",
    "#ig.plot(G_D, \"ND_SD.eps\", bbox=(0,0,300,200))\n",
    "ig.plot(G_D, bbox=(0,0,300,200))"
   ]
  },
  {
   "cell_type": "markdown",
   "metadata": {},
   "source": [
    "Below we compare $r$ and $\\mu$ vs random models for the Dakotas graph G_D.\n",
    "We use the configuration model from Viger and Latapy; we also report the proportion of nodes above the structural cutoff given the degree distribution.\n",
    "\n",
    "The resulting values are quite different from the real graph."
   ]
  },
  {
   "cell_type": "code",
   "execution_count": null,
   "metadata": {
    "scrolled": false
   },
   "outputs": [],
   "source": [
    "## r and mu for 1000 random graphs via Viger-Latapy model\n",
    "r = []\n",
    "mu = []\n",
    "for i in range(1000):    \n",
    "    cm = ig.Graph.Degree_Sequence(G_D.degree(),method=\"vl\")\n",
    "    r.append(cm.assortativity_degree())\n",
    "    mu.append(corr_exp(cm))\n",
    "## structural cutoff\n",
    "sc = np.sqrt(2*G_D.ecount())\n",
    "p = len([x for x in G_D.degree() if x > sc])/G_D.vcount()\n",
    "print('r =',G_D.assortativity_degree(),'mu =',corr_exp(G_D),'\\nP(edges above structural cutoff) =', p)\n",
    "plt.boxplot([r,mu],labels=[r'assortativity ($r$)',r'correlation exponent ($\\mu$)'],widths=.7,sym='');\n",
    "#plt.savefig('config_D.eps');"
   ]
  },
  {
   "cell_type": "markdown",
   "metadata": {},
   "source": [
    "Another way to see this is to plot the degree correlation functions for the real graphs and for one of the generated configuration model graphs, which we show below."
   ]
  },
  {
   "cell_type": "code",
   "execution_count": null,
   "metadata": {},
   "outputs": [],
   "source": [
    "## degree correlation function for the Dakotas graph\n",
    "## dotted line: neutral graph value\n",
    "knn = deg_corr(G_D)\n",
    "x = list(knn.keys())\n",
    "y = list(knn.values())\n",
    "r = deg_corr_neutral(G_D)\n",
    "plt.scatter(x,y,c='black')\n",
    "plt.hlines(y=r,xmin=min(x),xmax=max(x),linestyles=':')\n",
    "plt.xlabel('degree (k)',fontsize=12)\n",
    "plt.ylabel(r'$k_{nn}(k)$',fontsize=12);\n",
    "#plt.savefig('degree_corr_D.eps')"
   ]
  },
  {
   "cell_type": "code",
   "execution_count": null,
   "metadata": {},
   "outputs": [],
   "source": [
    "## degree correlation function for a configuration model random graph\n",
    "## quite different!\n",
    "knn = deg_corr(cm)\n",
    "x = list(knn.keys())\n",
    "y = list(knn.values())\n",
    "r = deg_corr_neutral(cm)\n",
    "plt.scatter(x,y,c='black')\n",
    "plt.hlines(y=r,xmin=min(x),xmax=max(x),linestyles=':')\n",
    "plt.xlabel('degree (k)',fontsize=12)\n",
    "plt.ylabel(r'$k_{nn}(k)$',fontsize=12);\n",
    "#plt.savefig('degree_corr_MO_cm.eps')"
   ]
  },
  {
   "cell_type": "markdown",
   "metadata": {},
   "source": [
    "## Negative assortativity: MO\n",
    "\n",
    "We plot the graph for MO (Missouri) which has negative assortativity value r = -0.547. We see that in this graph the low degree nodes mostly connect to the large degree hub nodes.\n"
   ]
  },
  {
   "cell_type": "code",
   "execution_count": null,
   "metadata": {},
   "outputs": [],
   "source": [
    "## negative case: the MO graph (Missouri) \n",
    "hva = [v for v in g.vs() if v['state'] == 'MO' ]\n",
    "G_MO = g.subgraph(hva)\n",
    "G_MO = G_MO.subgraph([v for v in G_MO.vs() if v.degree()>0])\n",
    "G_MO = G_MO.simplify(multiple=False)\n",
    "print('r =',G_MO.assortativity_degree())\n",
    "#ig.plot(G_MO, \"MO.eps\", bbox=(0,0,300,200))\n",
    "ig.plot(G_MO, bbox=(0,0,300,200))"
   ]
  },
  {
   "cell_type": "markdown",
   "metadata": {},
   "source": [
    "Below we compare $r$ and $\\mu$ vs random models for the MO graph G_MO.\n",
    "We use the configuration model from Viger and Latapy; we also report the proportion of nodes above the structural cutoff given the degree distribution.\n",
    "\n",
    "The values are similar to the ones for the real graph. Therefore, in that case, the resulting values for $r$ and $\\mu$ can mostly be explained by the degree distribution: hubs are forced to be adjacent to small degree nodes. \n"
   ]
  },
  {
   "cell_type": "code",
   "execution_count": null,
   "metadata": {
    "scrolled": false
   },
   "outputs": [],
   "source": [
    "## r and mu vs random configuration model for MO graph\n",
    "r = []\n",
    "mu = []\n",
    "for i in range(1000):    \n",
    "    cm = ig.Graph.Degree_Sequence(G_MO.degree(),method=\"vl\")\n",
    "    r.append(cm.assortativity_degree())\n",
    "    mu.append(corr_exp(cm))\n",
    "## structural cutoff\n",
    "sc = np.sqrt(2*G_MO.ecount())\n",
    "p = len([x for x in G_MO.degree() if x > sc])/G_MO.vcount()\n",
    "print('r =',G_MO.assortativity_degree(),'mu =',corr_exp(G_MO),'P(edges above structural cutoff) =', p)\n",
    "plt.boxplot([r,mu],labels=[r'assortativity ($r$)',r'correlation exponent ($\\mu$)'],widths=.7,sym='');\n",
    "#plt.savefig('config_MO.eps');"
   ]
  },
  {
   "cell_type": "markdown",
   "metadata": {},
   "source": [
    "Results are very similar if we use simple \"rejection sampling\" for the configuration model.\n",
    "This is however much slower. Un-comment the cell below to run."
   ]
  },
  {
   "cell_type": "raw",
   "metadata": {},
   "source": [
    "## note: we can also use rejection sampling (BEWARE: this can be very slow)\n",
    "G_MO.vs['degree'] = G_MO.degree()\n",
    "V = []\n",
    "for v in G_MO.vs():\n",
    "    V.extend(np.repeat(v.index,v['degree']))\n",
    "r = []\n",
    "mu = []\n",
    "for rep in range(100): ## generating 1000 graphs as above can take several minutes\n",
    "    notdone = True\n",
    "    while notdone:\n",
    "        np.random.shuffle(V)\n",
    "        notdone = False\n",
    "        rg = ig.Graph()\n",
    "        rg.add_vertices(np.max(V)+1)\n",
    "        for i in np.arange(0,len(V),2):\n",
    "            a, b = V[i], V[i+1]\n",
    "            if a == b or rg.get_eid(a,b,error=False) != -1:\n",
    "                notdone = True\n",
    "                break\n",
    "            else:\n",
    "                rg.add_edge(a,b)\n",
    "    r.append(rg.assortativity_degree())\n",
    "    mu.append(corr_exp(rg))\n",
    "\n",
    "plt.boxplot([r,mu],labels=[r'assortativity ($r$)',r'correlation exponent ($\\mu$)'],widths=.7,sym='');\n",
    "# plt.savefig('reject_MO.png');"
   ]
  },
  {
   "cell_type": "markdown",
   "metadata": {},
   "source": [
    "Another way to see this is to plot the degree correlation functions for the real graphs and for one of the generated configuration model graphs, which we show below."
   ]
  },
  {
   "cell_type": "code",
   "execution_count": null,
   "metadata": {},
   "outputs": [],
   "source": [
    "## degree correlation function for MO graph\n",
    "knn = deg_corr(G_MO)\n",
    "x = list(knn.keys())\n",
    "y = list(knn.values())\n",
    "r = deg_corr_neutral(G_MO)\n",
    "plt.scatter(x,y,c='black')\n",
    "plt.hlines(y=r,xmin=min(x),xmax=max(x),linestyles=':')\n",
    "plt.xlabel('degree (k)',fontsize=12)\n",
    "plt.ylabel(r'$k_{nn}(k)$',fontsize=12);\n",
    "#plt.savefig('degree_corr_MO.eps')"
   ]
  },
  {
   "cell_type": "code",
   "execution_count": null,
   "metadata": {},
   "outputs": [],
   "source": [
    "## degree correlation function for a configuration random graph\n",
    "## quite similar!\n",
    "knn = deg_corr(cm)\n",
    "x = list(knn.keys())\n",
    "y = list(knn.values())\n",
    "r = deg_corr_neutral(cm)\n",
    "plt.scatter(x,y,c='black')\n",
    "plt.hlines(y=r,xmin=min(x),xmax=max(x),linestyles=':')\n",
    "plt.xlabel('degree (k)',fontsize=12)\n",
    "plt.ylabel(r'$k_{nn}(k)$',fontsize=12);\n",
    "#plt.savefig('degree_corr_MO_cm.eps')"
   ]
  },
  {
   "cell_type": "markdown",
   "metadata": {},
   "source": [
    "## Assortativity: two extreme cases\n",
    "\n",
    "Below we show two small state subgraphs with $r=-1$ (NE) and $r=1$ (AR).\n",
    "The AR graph consists of two cliques, so each node has the same degree as its neighbour. On the other hand, in the NE graph every node of degree 1 has a neighbour of degree 2, and nodes of degree 2 have 2 neighbours of degree 1. \n"
   ]
  },
  {
   "cell_type": "code",
   "execution_count": null,
   "metadata": {},
   "outputs": [],
   "source": [
    "## state with r = -1 (NE)\n",
    "hva = [v for v in g.vs() if v['state'] == 'NE' ]\n",
    "G = g.subgraph(hva)\n",
    "G = G.subgraph([v for v in G.vs() if v.degree()>0])\n",
    "G = G.simplify(multiple=False)\n",
    "print('r =',G.assortativity_degree())\n",
    "#ig.plot(G, \"NE.eps\", bbox=(0,0,300,200))\n",
    "ig.plot(G,bbox=(0,0,300,200))"
   ]
  },
  {
   "cell_type": "code",
   "execution_count": null,
   "metadata": {},
   "outputs": [],
   "source": [
    "## state with r = +1 (AR) \n",
    "hva = [v for v in g.vs() if v['state'] == 'AR' ]\n",
    "G = g.subgraph(hva)\n",
    "G = G.subgraph([v for v in G.vs() if v.degree()>0])\n",
    "G = G.simplify(multiple=False)\n",
    "print('r =',G.assortativity_degree())\n",
    "#ig.plot(G, \"AR.eps\", bbox=(0,0,300,200))\n",
    "ig.plot(G, bbox=(0,0,300,200))"
   ]
  },
  {
   "cell_type": "markdown",
   "metadata": {},
   "source": [
    "## Back to Overall US Airport graph \n",
    "\n",
    "We go back to the full (undirected) US airport graph in order to illustrate two concepts:\n",
    "\n",
    "* the friendship \"paradox\" \n",
    "* the rich club phenomenon, if any\n",
    "\n",
    "For each node, we compare its degree with the average degree of its neighbours. We draw a line with unit slope to highlight the fact that the region above that line is much denser. This is due to the fact that there are many low degree nodes (smaller airports) which mostly tend to connect to hub airports, which explains the presence of this “paradox.”\n",
    "\n",
    "Next we compute the rich-club ratio $\\rho(l)$ for all values of $l$. We see that the curve starts at 1, increases slightly before decreasing gradually. We conclude that there is no indication of a rich-club phenomenon here.\n"
   ]
  },
  {
   "cell_type": "code",
   "execution_count": null,
   "metadata": {},
   "outputs": [],
   "source": [
    "## plot degree vs avg neighbour degree\n",
    "## friendship 'paradox' US Airport graph (overall)\n",
    "deg = [v.degree() for v in g.vs()]\n",
    "nad = []\n",
    "for v in g.vs():\n",
    "    nv = g.neighbors(v)\n",
    "    nad.append(np.mean([deg[i] for i in nv]))\n",
    "\n",
    "plt.scatter(deg,nad,c='black',marker='.')\n",
    "plt.xlim((0,200))\n",
    "plt.ylim((0,200))\n",
    "plt.xlabel('node degree', fontsize=14)\n",
    "plt.ylabel('average neighbour degree', fontsize=14);\n",
    "plt.plot([0,200],[0,200],'--', c='gray')\n",
    "print('r =',g.assortativity_degree());\n",
    "#plt.savefig('friendship.eps')"
   ]
  },
  {
   "cell_type": "code",
   "execution_count": null,
   "metadata": {},
   "outputs": [],
   "source": [
    "## looking for rich club -- not here!\n",
    "d = list(set(g.degree()))\n",
    "rc = []\n",
    "for i in d:\n",
    "    rc.append(rich_club(g, l=i))\n",
    "plt.semilogx(d,rc,'.',c='black')\n",
    "plt.xlabel(r'degree $\\ell$',fontsize=12)\n",
    "plt.ylabel(r'rich club coefficient $\\rho(\\ell)$');\n",
    "#plt.savefig('rich_club.eps');"
   ]
  },
  {
   "cell_type": "markdown",
   "metadata": {},
   "source": [
    "## Quick look: Europe Electric Grid Network\n",
    "\n",
    "This is a graph we saw before. \n",
    "Recall that the degree distribution is quite uniform (no high degree node, for example).\n",
    "\n",
    "We notice a small, but positive assortativity $r$, which we also see on the degree correlation function plot.\n",
    "From the average neighbour degree plot, the friendship paradox is not obvious here, mainly due to the absence of high degree \"hub\" nodes.\n"
   ]
  },
  {
   "cell_type": "code",
   "execution_count": null,
   "metadata": {},
   "outputs": [],
   "source": [
    "## Europe Electric Grid\n",
    "grid = ig.Graph.Read_Ncol(datadir+'GridEurope/gridkit_europe-highvoltage.edges', directed=False)\n",
    "grid = grid.simplify()"
   ]
  },
  {
   "cell_type": "code",
   "execution_count": null,
   "metadata": {},
   "outputs": [],
   "source": [
    "## plot degree vs avg neighbour degree\n",
    "deg = [v.degree() for v in grid.vs()]\n",
    "nad = []\n",
    "for v in grid.vs():\n",
    "    nv = grid.neighbors(v)\n",
    "    nad.append(np.mean([deg[i] for i in nv]))\n",
    "\n",
    "plt.scatter(deg,nad,c='black',marker='.')\n",
    "plt.xlim((0,18))\n",
    "plt.ylim((0,18))\n",
    "plt.xlabel('node degree', fontsize=14)\n",
    "plt.ylabel('average neighbour degree', fontsize=14);\n",
    "plt.plot([0,18],[0,18],'--', c='gray')\n",
    "print('r =',grid.assortativity_degree());\n",
    "#plt.savefig('friendship_grid.eps')"
   ]
  },
  {
   "cell_type": "code",
   "execution_count": null,
   "metadata": {},
   "outputs": [],
   "source": [
    "## Degree correlation function\n",
    "knn = deg_corr(grid)\n",
    "x = list(knn.keys())\n",
    "y = list(knn.values())\n",
    "r = deg_corr_neutral(grid)\n",
    "plt.scatter(x,y,c='black')\n",
    "plt.hlines(y=r,xmin=min(x),xmax=max(x),linestyles=':')\n",
    "plt.xlabel(r'degree ($\\ell$)',fontsize=12)\n",
    "plt.ylabel(r'$k_{nn}(\\ell)$',fontsize=12);\n",
    "#plt.savefig('degree_corr_grid.eps')"
   ]
  },
  {
   "cell_type": "markdown",
   "metadata": {},
   "source": [
    "## Quick look: GitHub Developers Graph\n",
    "\n",
    "This is a graph we saw before. \n",
    "\n",
    "Here, we observe negative assortativity, which is common for social networks, and we also strongly observe the friendship paradox phenomenon.\n",
    "\n",
    "Despite the presence of high degree nodes, there is no evidence of the rich club phenomenon in this graph."
   ]
  },
  {
   "cell_type": "code",
   "execution_count": null,
   "metadata": {},
   "outputs": [],
   "source": [
    "## GitHub Developers (undirected)\n",
    "D = pd.read_csv(datadir+'GitHubDevelopers/musae_git_edges.csv')\n",
    "tuples = [tuple(x) for x in D.values]\n",
    "git = ig.Graph.TupleList(tuples, directed = False)"
   ]
  },
  {
   "cell_type": "code",
   "execution_count": null,
   "metadata": {},
   "outputs": [],
   "source": [
    "## plot degree vs avg neighbour degree\n",
    "## zoom in on nodes with degree < LIM\n",
    "LIM = 1000\n",
    "deg = [v.degree() for v in git.vs()]\n",
    "nad = []\n",
    "for v in git.vs():\n",
    "    nv = git.neighbors(v)\n",
    "    nad.append(np.mean([deg[i] for i in nv]))\n",
    "\n",
    "plt.scatter(deg,nad,c='black',marker='.')\n",
    "plt.xlim((0,LIM))\n",
    "plt.ylim((0,LIM))\n",
    "plt.xlabel('node degree', fontsize=14)\n",
    "plt.ylabel('average neighbour degree', fontsize=14);\n",
    "plt.plot([0,LIM],[0,LIM],'--', c='gray')\n",
    "print('r =',git.assortativity_degree());\n",
    "#plt.savefig('friendship_github.eps')"
   ]
  },
  {
   "cell_type": "code",
   "execution_count": null,
   "metadata": {},
   "outputs": [],
   "source": [
    "## degree correlation function\n",
    "knn = deg_corr(git)\n",
    "x = list(knn.keys())\n",
    "y = list(knn.values())\n",
    "idx = np.random.choice(len(x),100,replace=False)\n",
    "r = deg_corr_neutral(git)\n",
    "plt.xlim((0,LIM))\n",
    "plt.scatter(x,y,marker='.',c='black')\n",
    "plt.hlines(y=r,xmin=min(x),xmax=max(x),linestyles=':')\n",
    "plt.xlabel(r'degree ($\\ell$)',fontsize=12)\n",
    "plt.ylabel(r'$k_{nn}(\\ell)$',fontsize=12);\n",
    "#plt.savefig('degree_corr_github.eps')"
   ]
  },
  {
   "cell_type": "code",
   "execution_count": null,
   "metadata": {},
   "outputs": [],
   "source": [
    "## still no rich club group here\n",
    "d = list(set(git.degree()))\n",
    "rc = []\n",
    "for i in d:\n",
    "    rc.append(rich_club(git, l=i))\n",
    "plt.semilogx(d,rc,'.',c='black')\n",
    "plt.xlabel(r'degree $\\ell$',fontsize=12)\n",
    "plt.ylabel(r'rich club coefficient $\\rho(\\ell)$');\n",
    "#plt.savefig('rich_club_github.eps');"
   ]
  },
  {
   "cell_type": "markdown",
   "metadata": {},
   "source": [
    "## Showing a Rich Club phenomenon: the Actors graph\n",
    "\n",
    "This data set is part of the accompanying material of the book \"Complex Networks: Principles, Methods and Applications\", V. Latora, V. Nicosia, G. Russo, Cambridge University Press (2017).\n",
    "\n",
    "It has 248,243 nodes (actors) and 8,302,734 edges (actors co-appearing in at least 1 movie).\n",
    "\n",
    "We use this data to illustrate the presence of a \"rich club\", which may be explained by the fact that famous actors tend to play in many movies (high degree) and with other famous actors (rich-club phenomenon).\n",
    "\n",
    "To speed up the computation, we sample 200 distinct node degrees appearing in the graph for which we compute and plot the rich club coefficient. This can still take a few minutes to complete.\n"
   ]
  },
  {
   "cell_type": "code",
   "execution_count": null,
   "metadata": {},
   "outputs": [],
   "source": [
    "## Actors graph\n",
    "D = pd.read_csv(datadir+'Actors/movie_actors.net', sep=' ', header=None)\n",
    "tuples = [tuple(x) for x in D.values]\n",
    "g = ig.Graph.TupleList(tuples, directed = False)\n",
    "\n",
    "## This can be slow -- you may want to take a sample first\n",
    "d = np.random.choice(list(set(g.degree())),size=200,replace=False) ## sample\n",
    "#d = list(set(g.degree())) ## full; plot in book obtained with full set of values\n",
    "\n",
    "rc = []\n",
    "for i in d:\n",
    "    rc.append(rich_club(g, l=i))"
   ]
  },
  {
   "cell_type": "code",
   "execution_count": null,
   "metadata": {},
   "outputs": [],
   "source": [
    "## rich club coefficients\n",
    "plt.semilogx(d,rc,'.',c='black')\n",
    "plt.xlabel(r'degree $\\ell$',fontsize=12)\n",
    "plt.ylabel(r'rich club coefficient $\\rho(\\ell)$');\n",
    "#plt.savefig('rich_club_actors.eps')"
   ]
  },
  {
   "cell_type": "markdown",
   "metadata": {},
   "source": [
    "## Figures 4.1 and 4.2: Xulvi-Brunet and Sokolov (XBS) algorithm\n",
    "\n",
    "The figures in the book were obtained with the faster Julia code. \n",
    "We show a smaller scale example here. (smaller value for $N$ and less repeats).\n",
    "\n",
    "* Fig. 4.1: degree correlation function for various assortativity values, using XBS algorithm\n",
    "* Fig. 4.2: order of the giant component vs expected average degree\n"
   ]
  },
  {
   "cell_type": "code",
   "execution_count": null,
   "metadata": {},
   "outputs": [],
   "source": [
    "## Naive Xulvi-Brunet and Sokolov algorithm\n",
    "def XBS(n, d, q, assortative):\n",
    "    p = d/n\n",
    "    g = ig.Graph.Erdos_Renyi(n,p)\n",
    "    g.es['touched'] = False\n",
    "    ec = g.ecount()\n",
    "    while True:\n",
    "        re = np.random.choice(ec, 2, replace=False)\n",
    "        nodes = list(g.es[re[0]].tuple+g.es[re[1]].tuple)\n",
    "        if len(set(nodes))==4:\n",
    "            ## with proba q, wire w.r.t. assortativity, else randomly\n",
    "            if np.random.random()<q:\n",
    "                idx = np.argsort(g.degree(nodes))\n",
    "                if assortative:\n",
    "                    e1 = (nodes[idx[0]],nodes[idx[1]])\n",
    "                    e2 = (nodes[idx[2]],nodes[idx[3]])\n",
    "                else:\n",
    "                    e1 = (nodes[idx[0]],nodes[idx[3]])\n",
    "                    e2 = (nodes[idx[1]],nodes[idx[2]])\n",
    "            else:\n",
    "                np.random.shuffle(nodes)\n",
    "                e1 = (nodes[0],nodes[1])\n",
    "                e2 = (nodes[2],nodes[3])\n",
    "            if g.get_eid(e1[0], e1[1], directed=False, error=False)+\\\n",
    "               g.get_eid(e2[0], e2[1], directed=False, error=False) == -2:\n",
    "                    g.delete_edges(re)\n",
    "                    g.add_edge(e1[0],e1[1],touched=True)\n",
    "                    g.add_edge(e2[0],e2[1],touched=True)\n",
    "            else:\n",
    "                g.es[re[0]]['touched']=True\n",
    "                g.es[re[1]]['touched']=True\n",
    "        if sum(g.es['touched']) == g.ecount():\n",
    "            break\n",
    "    return g"
   ]
  },
  {
   "cell_type": "code",
   "execution_count": null,
   "metadata": {},
   "outputs": [],
   "source": [
    "## Generating Figure 4.2 with N nodes and averaging over Rep results\n",
    "N = 2**9 ## we use 2**16 and Rep=64 in the book using Julia \n",
    "Rep = 8\n",
    "\n",
    "Q = [2/3,1/3,0,1/3,2/3]\n",
    "A = [True,True,True,False,False]\n",
    "x = np.arange(0.25,3.01,.25)\n",
    "Y = []\n",
    "\n",
    "for i in range(len(Q)):\n",
    "    y = []\n",
    "    for d in x:\n",
    "        sz = 0\n",
    "        for rep in range(Rep):\n",
    "            g = XBS(n = N, d = d, q = Q[i] , assortative = A[i])\n",
    "            sz += g.connected_components().giant().vcount()/g.vcount()\n",
    "        y.append(sz / Rep)\n",
    "    Y.append(y)\n",
    "    \n",
    "clr = ['black','gray','black','gray','black']\n",
    "typ = ['-','-',':','--','--']\n",
    "lbl = ['assortative q=2/3','assortative q=1/3','q=0','disassortative q=1/3','disassortative q=2/3']\n",
    "for i in range(len(Y)):\n",
    "    plt.plot(x,Y[i],color=clr[i],linestyle=typ[i],label=lbl[i])\n",
    "plt.xlabel('average degree')\n",
    "plt.ylabel('fraction of nodes')\n",
    "plt.legend();\n"
   ]
  },
  {
   "cell_type": "code",
   "execution_count": null,
   "metadata": {},
   "outputs": [],
   "source": [
    "## Generating Figure 4.1 with N nodes and averaging over Rep results\n",
    "Y = []\n",
    "for i in range(len(Q)):\n",
    "    D = pd.DataFrame()\n",
    "    for rep in range(Rep):\n",
    "        g = XBS(n = N, d = 4, q = Q[i] , assortative = A[i])\n",
    "        deg = g.degree()\n",
    "        g.delete_vertices([i for i in range(len(deg)) if deg[i]==0])\n",
    "        knn = deg_corr(g)\n",
    "        D = pd.concat([D,pd.DataFrame(np.transpose(np.array([list(knn.keys()),list(knn.values())])))])\n",
    "    X = D.groupby(by=0).mean()\n",
    "    plt.plot(list(X.index)[:10],list(X[1])[:10],color=clr[i],linestyle=typ[i],label=lbl[i])\n",
    "plt.xlabel(r'degree ($\\ell$)')\n",
    "plt.ylabel(r'$knn(\\ell)$')\n",
    "plt.legend();"
   ]
  }
 ],
 "metadata": {
  "kernelspec": {
   "display_name": "graphmining",
   "language": "python",
   "name": "graphmining"
  },
  "language_info": {
   "codemirror_mode": {
    "name": "ipython",
    "version": 3
   },
   "file_extension": ".py",
   "mimetype": "text/x-python",
   "name": "python",
   "nbconvert_exporter": "python",
   "pygments_lexer": "ipython3",
   "version": "3.10.9"
  }
 },
 "nbformat": 4,
 "nbformat_minor": 2
}
