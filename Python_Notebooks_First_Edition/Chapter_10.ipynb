{
 "cells": [
  {
   "cell_type": "code",
   "execution_count": null,
   "metadata": {},
   "outputs": [],
   "source": [
    "## path to datasets\n",
    "datadir='../Datasets/'"
   ]
  },
  {
   "cell_type": "code",
   "execution_count": null,
   "metadata": {},
   "outputs": [],
   "source": [
    "import igraph as ig\n",
    "import numpy as np\n",
    "import pandas as pd\n",
    "import matplotlib.pyplot as plt\n",
    "import random"
   ]
  },
  {
   "cell_type": "markdown",
   "metadata": {},
   "source": [
    "# Power grid graph"
   ]
  },
  {
   "cell_type": "markdown",
   "metadata": {},
   "source": [
    "We start with a test of robustness of an empirical graph that does not exhibit power law.\n",
    "\n",
    "Network robustness is an important practical topic for power grids."
   ]
  },
  {
   "cell_type": "markdown",
   "metadata": {},
   "source": [
    "First we load data"
   ]
  },
  {
   "cell_type": "code",
   "execution_count": null,
   "metadata": {},
   "outputs": [],
   "source": [
    "gr = ig.Graph.Read_Ncol(datadir+'GridEurope/gridkit_europe-highvoltage.edges', directed=False)\n",
    "gr = gr.simplify()\n",
    "gr.ecount()"
   ]
  },
  {
   "cell_type": "code",
   "execution_count": null,
   "metadata": {},
   "outputs": [],
   "source": [
    "X = pd.read_csv(datadir+'GridEurope/gridkit_europe-highvoltage.vertices')\n",
    "X"
   ]
  },
  {
   "cell_type": "code",
   "execution_count": null,
   "metadata": {},
   "outputs": [],
   "source": [
    "gr = ig.Graph.Read_Ncol(datadir+'GridEurope/gridkit_europe-highvoltage.edges', directed=False)\n",
    "gr = gr.simplify()\n",
    "## read the vertices along with some attributes\n",
    "X = pd.read_csv(datadir+'GridEurope/gridkit_europe-highvoltage.vertices')\n",
    "idx = [int(i) for i in gr.vs['name']]\n",
    "sorterIndex = dict(zip(idx,range(len(idx))))\n",
    "X['Rank'] = X['v_id'].map(sorterIndex)\n",
    "X.sort_values(['Rank'], ascending=[True],inplace=True)\n",
    "X.dropna(inplace=True)\n",
    "gr.vs['longitude'] = list(X['lon'])\n",
    "gr.vs['latitude'] = list(X['lat'])\n",
    "gr.vs['type'] = list(X['typ'])\n",
    "gr.vs['layout'] = [(v['longitude'],v['latitude']) for v in gr.vs()]\n",
    "gr.vs['size'] = 3\n",
    "gr.es['color'] = 'grey'\n",
    "gr.vs['color'] = 'black'"
   ]
  },
  {
   "cell_type": "code",
   "execution_count": null,
   "metadata": {},
   "outputs": [],
   "source": [
    "ig.plot(gr, layout = ig.Layout(gr.vs['layout']))"
   ]
  },
  {
   "cell_type": "markdown",
   "metadata": {},
   "source": [
    "We want to concentrate on an Iberic peninsula. Note that we select a giant component of the graph selected by latitude and longitude as e.g. nodes located on islands are not part of the giant component of this subgraph."
   ]
  },
  {
   "cell_type": "code",
   "execution_count": null,
   "metadata": {},
   "outputs": [],
   "source": [
    "V = [v for v in gr.vs() if v['latitude']>36 and v['latitude']<44 and v['longitude']>-10 and v['longitude']<4]\n",
    "gr_spain = gr.subgraph(V)\n",
    "ig.plot(gr_spain, layout = ig.Layout(gr_spain.vs['layout']))"
   ]
  },
  {
   "cell_type": "code",
   "execution_count": null,
   "metadata": {},
   "outputs": [],
   "source": [
    "## subgraph of Grid -- giant component on Iberic peninsula\n",
    "V = [v for v in gr.vs() if v['latitude']>36 and v['latitude']<44 and v['longitude']>-10 and v['longitude']<4]\n",
    "gr_spain = gr.subgraph(V).connected_components().giant()\n",
    "ly = ig.Layout(gr_spain.vs['layout'])\n",
    "ly.mirror(1)\n",
    "ig.plot(gr_spain, layout=ly, bbox=(0,0,300,300))\n",
    "#ig.plot(gr_spain, 'grid_iberic_giant.eps', layout=ly, bbox=(0,0,300,300))"
   ]
  },
  {
   "cell_type": "markdown",
   "metadata": {},
   "source": [
    "We check the node count and average node degree "
   ]
  },
  {
   "cell_type": "code",
   "execution_count": null,
   "metadata": {},
   "outputs": [],
   "source": [
    "gr_spain.vcount()"
   ]
  },
  {
   "cell_type": "code",
   "execution_count": null,
   "metadata": {},
   "outputs": [],
   "source": [
    "np.mean(gr_spain.degree())"
   ]
  },
  {
   "cell_type": "markdown",
   "metadata": {},
   "source": [
    "This function given a graph `gr` tests removing nodes from this graph until `stop_count` nodes are left.\n",
    "* If `fun` is `\"random\"` then we assume random failure model.\n",
    "* If `fun` is `\"degree\"` then we assume targetted attack, in which sequentially a node with the highest degree in the remaining network is removed.\n",
    "* If `fun` is `\"between\"` then we assume targetted attack, in which sequentially a node with the highest betweenness centrality in the remaining network is removed.\n",
    "\n",
    "The function returns order parameter sequence (i.e. the fraction of nodes in the giant component of the remaining graph) and the final graph."
   ]
  },
  {
   "cell_type": "code",
   "execution_count": null,
   "metadata": {},
   "outputs": [],
   "source": [
    "def single_run(gr, fun, stop_count=1):\n",
    "    ref_vcount = gr.vcount()\n",
    "    gr = gr.copy()\n",
    "    order = [1.0]\n",
    "    while gr.vcount() > stop_count:\n",
    "        if fun == \"random\":\n",
    "            to_delete = random.randint(0, gr.vcount() - 1)\n",
    "        elif fun == \"degree\":\n",
    "            m = max(gr.degree())\n",
    "            am = [i for i, j in enumerate(gr.degree()) if j == m]\n",
    "            to_delete = random.choice(am)\n",
    "        elif fun == \"between\":\n",
    "            b = gr.betweenness()\n",
    "            m = max(b)\n",
    "            am = [i for i, j in enumerate(b) if j == m]\n",
    "            to_delete = random.choice(am)\n",
    "        else:\n",
    "            raise Exception(\"unknown value of parameter fun\")\n",
    "        gr.delete_vertices(to_delete)\n",
    "        order.append(gr.connected_components().giant().vcount() / ref_vcount)\n",
    "    return order, gr"
   ]
  },
  {
   "cell_type": "markdown",
   "metadata": {},
   "source": [
    "We run all variants of failure scenarios:"
   ]
  },
  {
   "cell_type": "code",
   "execution_count": null,
   "metadata": {},
   "outputs": [],
   "source": [
    "res_rnd = single_run(gr_spain, \"random\")[0]\n",
    "res_degree = single_run(gr_spain, \"degree\")[0]\n",
    "res_between = single_run(gr_spain, \"between\")[0]"
   ]
  },
  {
   "cell_type": "code",
   "execution_count": null,
   "metadata": {},
   "outputs": [],
   "source": [
    "gr_spain.vcount()"
   ]
  },
  {
   "cell_type": "markdown",
   "metadata": {},
   "source": [
    "Observe that order parameter:\n",
    "1. Falls slowest when `fun` is `\"random\"`.\n",
    "2. For the considered graph `\"betweenness\"` attack is more effective (note that this graph does not follow power law in the degree distriubtion and is embedded on a plane, with edges connecting nodes that are close geographically).\n",
    "3. When almost all nodes are removed order parameter increases, but this is a case that is not very interesting (we are mostly interested in the left parts of the plots)"
   ]
  },
  {
   "cell_type": "code",
   "execution_count": null,
   "metadata": {},
   "outputs": [],
   "source": [
    "plt.plot(100 * np.arange(600) / gr_spain.vcount(), res_rnd[:600], \":\", color=\"black\")\n",
    "plt.plot(100 * np.arange(600) / gr_spain.vcount(), res_degree[:600], \"--\", color=\"black\")\n",
    "plt.plot(100 * np.arange(600) / gr_spain.vcount(), res_between[:600], \"-\", color=\"black\")\n",
    "plt.plot(100 * np.arange(600) / gr_spain.vcount(), 1 - np.arange(600) / gr_spain.vcount(), color=\"gray\")\n",
    "plt.xlabel(\"% of removed nodes\")\n",
    "plt.ylabel(\"order parameter\")\n",
    "plt.legend([\"random\", \"degree\", \"betweenness\", \"% of nodes\"], loc=1);\n",
    "#plt.savefig('op_power_grid.eps', format='eps')"
   ]
  },
  {
   "cell_type": "markdown",
   "metadata": {},
   "source": [
    "We test a single scenario under maximum betweenness attack when 5% of nodes are removed. Colors on the plot represent different components of the graph."
   ]
  },
  {
   "cell_type": "code",
   "execution_count": null,
   "metadata": {},
   "outputs": [],
   "source": [
    "_, gr_sel = single_run(gr_spain, \"between\", gr_spain.vcount()*0.95)"
   ]
  },
  {
   "cell_type": "code",
   "execution_count": null,
   "metadata": {},
   "outputs": [],
   "source": [
    "ly = ig.Layout(gr_sel.vs['layout'])\n",
    "ly.mirror(1)\n",
    "ig.plot(gr_sel.connected_components(), layout=ly)#, bbox=(0,0,300,300))\n",
    "#ig.plot(gr_sel.clusters(), 'grid_iberic_5pct_attack.eps', layout=ly)#, bbox=(0,0,300,300))"
   ]
  },
  {
   "cell_type": "code",
   "execution_count": null,
   "metadata": {},
   "outputs": [],
   "source": [
    "len(gr_sel.connected_components())"
   ]
  },
  {
   "cell_type": "markdown",
   "metadata": {},
   "source": [
    "Check the number of components"
   ]
  },
  {
   "cell_type": "code",
   "execution_count": null,
   "metadata": {},
   "outputs": [],
   "source": [
    "gr_sel.connected_components().sizes()"
   ]
  },
  {
   "cell_type": "markdown",
   "metadata": {},
   "source": [
    "And distribution of their sizes. We can see that we have many small components."
   ]
  },
  {
   "cell_type": "code",
   "execution_count": null,
   "metadata": {},
   "outputs": [],
   "source": [
    "plt.hist(gr_sel.connected_components().sizes(), 50);"
   ]
  },
  {
   "cell_type": "code",
   "execution_count": null,
   "metadata": {},
   "outputs": [],
   "source": [
    "df = pd.DataFrame({'size': gr_sel.connected_components().sizes()})"
   ]
  },
  {
   "cell_type": "code",
   "execution_count": null,
   "metadata": {},
   "outputs": [],
   "source": [
    "df['size'].value_counts().sort_index()"
   ]
  },
  {
   "cell_type": "markdown",
   "metadata": {},
   "source": [
    "Let us now consider maximum degree attack."
   ]
  },
  {
   "cell_type": "code",
   "execution_count": null,
   "metadata": {},
   "outputs": [],
   "source": [
    "_, gr_sel = single_run(gr_spain, \"degree\", gr_spain.vcount()*0.95)"
   ]
  },
  {
   "cell_type": "code",
   "execution_count": null,
   "metadata": {},
   "outputs": [],
   "source": [
    "plt.hist(gr_sel.connected_components().sizes(), 50);"
   ]
  },
  {
   "cell_type": "code",
   "execution_count": null,
   "metadata": {},
   "outputs": [],
   "source": [
    "df = pd.DataFrame({'size': gr_sel.connected_components().sizes()})\n",
    "df['size'].value_counts().sort_index()"
   ]
  },
  {
   "cell_type": "markdown",
   "metadata": {},
   "source": [
    "This time we get more very small components components, but the largest components are bigger."
   ]
  },
  {
   "cell_type": "markdown",
   "metadata": {},
   "source": [
    "# Watts-Strogatz"
   ]
  },
  {
   "cell_type": "markdown",
   "metadata": {},
   "source": [
    "In this scenario we consider a Watts-Strogratz graph with 2000 nodes and 4000 edges. We vary $p$ parameter from $0.00$ to $1.00$."
   ]
  },
  {
   "cell_type": "code",
   "execution_count": null,
   "metadata": {},
   "outputs": [],
   "source": [
    "g000 = ig.Graph.Watts_Strogatz(1, 2000, 2, 0.00)"
   ]
  },
  {
   "cell_type": "code",
   "execution_count": null,
   "metadata": {},
   "outputs": [],
   "source": [
    "g001 = ig.Graph.Watts_Strogatz(1, 2000, 2, 0.01)"
   ]
  },
  {
   "cell_type": "code",
   "execution_count": null,
   "metadata": {},
   "outputs": [],
   "source": [
    "g005 = ig.Graph.Watts_Strogatz(1, 2000, 2, 0.05)"
   ]
  },
  {
   "cell_type": "code",
   "execution_count": null,
   "metadata": {},
   "outputs": [],
   "source": [
    "g100 = ig.Graph.Watts_Strogatz(1, 2000, 2, 1.00)"
   ]
  },
  {
   "cell_type": "code",
   "execution_count": null,
   "metadata": {},
   "outputs": [],
   "source": [
    "plt.plot(100 * np.arange(1000) / g000.vcount(), single_run(g000, \"random\")[0][:1000], \":\", color=\"black\")\n",
    "plt.plot(100 * np.arange(1000) / g001.vcount(), single_run(g001, \"random\")[0][:1000], \"--\", color=\"black\")\n",
    "plt.plot(100 * np.arange(1000) / g005.vcount(), single_run(g005, \"random\")[0][:1000], \"--\", color=\"gray\")\n",
    "plt.plot(100 * np.arange(1000) / g100.vcount(), single_run(g100, \"random\")[0][:1000], \"-\", color=\"black\")\n",
    "plt.plot(100 * np.arange(1000) / g000.vcount(), 1 - np.arange(1000) / g000.vcount(), color=\"gray\")\n",
    "plt.xlabel(\"% of removed nodes\")\n",
    "plt.ylabel(\"order parameter\")\n",
    "plt.legend([\"p=0%\", \"p=1%\", \"p=5%\", \"p=100%\", \"% of nodes\"], loc=1);\n",
    "#plt.savefig('ws_random.eps', format='eps')"
   ]
  },
  {
   "cell_type": "markdown",
   "metadata": {},
   "source": [
    "Observe that for random removal of nodes even a small fraction of rewired edges makes the graph much more robust."
   ]
  },
  {
   "cell_type": "code",
   "execution_count": null,
   "metadata": {},
   "outputs": [],
   "source": [
    "plt.plot(100 * np.arange(1000) / g000.vcount(), single_run(g000, \"degree\")[0][:1000], \":\", color=\"black\")\n",
    "plt.plot(100 * np.arange(1000) / g001.vcount(), single_run(g001, \"degree\")[0][:1000], \"--\", color=\"black\")\n",
    "plt.plot(100 * np.arange(1000) / g005.vcount(), single_run(g005, \"degree\")[0][:1000], \"--\", color=\"gray\")\n",
    "plt.plot(100 * np.arange(1000) / g100.vcount(), single_run(g100, \"degree\")[0][:1000], \"-\", color=\"black\")\n",
    "plt.plot(100 * np.arange(1000) / g000.vcount(), 1 - np.arange(1000) / g000.vcount(), color=\"gray\")\n",
    "plt.xlabel(\"% of removed nodes\")\n",
    "plt.ylabel(\"order parameter\")\n",
    "plt.legend([\"p=0%\", \"p=1%\", \"p=5%\", \"p=100%\", \"% of nodes\"], loc=1);\n",
    "#plt.savefig('ws_degree.eps', format='eps')"
   ]
  },
  {
   "cell_type": "markdown",
   "metadata": {},
   "source": [
    "For Watts-Strogatz graph we see that the effectiveness of maximum degree attack does not show a simple pattern. We see that fro a regular graph ($p=0.00$) this type of attack is not very effective. Then as the $p$ insreases the relationship is non-monotonous."
   ]
  },
  {
   "cell_type": "code",
   "execution_count": null,
   "metadata": {},
   "outputs": [],
   "source": [
    "plt.plot(100 * np.arange(1000) / g000.vcount(), single_run(g000, \"between\")[0][:1000], \":\", color=\"black\")\n",
    "plt.plot(100 * np.arange(1000) / g001.vcount(), single_run(g001, \"between\")[0][:1000], \"--\", color=\"black\")\n",
    "plt.plot(100 * np.arange(1000) / g005.vcount(), single_run(g005, \"between\")[0][:1000], \"--\", color=\"gray\")\n",
    "plt.plot(100 * np.arange(1000) / g100.vcount(), single_run(g100, \"between\")[0][:1000], \"-\", color=\"black\")\n",
    "plt.plot(100 * np.arange(1000) / g000.vcount(), 1 - np.arange(1000) / g000.vcount(), color=\"gray\")\n",
    "plt.xlabel(\"% of removed nodes\")\n",
    "plt.ylabel(\"order parameter\")\n",
    "plt.legend([\"p=0%\", \"p=1%\", \"p=5%\", \"p=100%\", \"% of nodes\"], loc=1);\n",
    "#plt.savefig('ws_between.eps', format='eps')"
   ]
  },
  {
   "cell_type": "markdown",
   "metadata": {},
   "source": [
    "Note that the betweenness scenario is the most expensive to calculate.\n",
    "\n",
    "We note that this kind of attack is very effective for Watts-Strogatz graph, expecially when $p$ is very small."
   ]
  },
  {
   "cell_type": "markdown",
   "metadata": {},
   "source": [
    "# Power law"
   ]
  },
  {
   "cell_type": "markdown",
   "metadata": {},
   "source": [
    "Here we investigate the scenario where we simulate a graph whose degree distribution follows the power law."
   ]
  },
  {
   "cell_type": "markdown",
   "metadata": {},
   "source": [
    "In all compared scenarios we generate a graph with 2000 nodes and mean degree 4 and change the power law exponent only. It takes values from the set $\\{2, 2.5, 3, 4\\}$."
   ]
  },
  {
   "cell_type": "code",
   "execution_count": null,
   "metadata": {},
   "outputs": [],
   "source": [
    "def gen_pl(exponent):\n",
    "    g = ig.Graph.Static_Power_Law(2000, 4000, exponent)\n",
    "    return (single_run(g, \"random\")[0], single_run(g, \"degree\")[0], single_run(g, \"between\")[0])"
   ]
  },
  {
   "cell_type": "markdown",
   "metadata": {},
   "source": [
    "Note that computations are slow, which is mostly caused by the fact that  betweenness centrality is expensive to calculate."
   ]
  },
  {
   "cell_type": "code",
   "execution_count": null,
   "metadata": {},
   "outputs": [],
   "source": [
    "r4, d4, b4 = gen_pl(4)\n",
    "r3, d3, b3 = gen_pl(3)\n",
    "r25, d25, b25 = gen_pl(2.5)\n",
    "r2, d2, b2 = gen_pl(2)"
   ]
  },
  {
   "cell_type": "code",
   "execution_count": null,
   "metadata": {},
   "outputs": [],
   "source": [
    "plt.plot(100 * np.arange(1000) / 2000, r4[:1000], \":\", color=\"black\")\n",
    "plt.plot(100 * np.arange(1000) / 2000, r3[:1000], \"--\", color=\"black\")\n",
    "plt.plot(100 * np.arange(1000) / 2000, r25[:1000], \"--\", color=\"gray\")\n",
    "plt.plot(100 * np.arange(1000) / 2000, r2[:1000], \"-\", color=\"black\")\n",
    "plt.plot(100 * np.arange(1000) / 2000, 1 - np.arange(1000) / 2000, color=\"gray\")\n",
    "plt.xlabel(\"% of removed nodes\")\n",
    "plt.ylabel(\"order parameter\")\n",
    "plt.legend([\"exponent=4\", \"exponent=3\", \"exponent=2.5\", \"exponent=2\", \"% of nodes\"], loc=1);\n",
    "#plt.savefig('pl_random.eps', format='eps')"
   ]
  },
  {
   "cell_type": "code",
   "execution_count": null,
   "metadata": {},
   "outputs": [],
   "source": [
    "plt.plot(100 * np.arange(1000) / 2000, d4[:1000], \":\", color=\"black\")\n",
    "plt.plot(100 * np.arange(1000) / 2000, d3[:1000], \"--\", color=\"black\")\n",
    "plt.plot(100 * np.arange(1000) / 2000, d25[:1000], \"--\", color=\"gray\")\n",
    "plt.plot(100 * np.arange(1000) / 2000, d2[:1000], \"-\", color=\"black\")\n",
    "plt.plot(100 * np.arange(1000) / 2000, 1 - np.arange(1000) / 2000, color=\"gray\")\n",
    "plt.xlabel(\"% of removed nodes\")\n",
    "plt.ylabel(\"order parameter\")\n",
    "plt.legend([\"exponent=4\", \"exponent=3\", \"exponent=2.5\", \"exponent=2\", \"% of nodes\"], loc=1);\n",
    "#plt.savefig('pl_degree.eps', format='eps')"
   ]
  },
  {
   "cell_type": "code",
   "execution_count": null,
   "metadata": {},
   "outputs": [],
   "source": [
    "plt.plot(100 * np.arange(1000) / 2000, b4[:1000], \":\", color=\"black\")\n",
    "plt.plot(100 * np.arange(1000) / 2000, b3[:1000], \"--\", color=\"black\")\n",
    "plt.plot(100 * np.arange(1000) / 2000, b25[:1000], \"--\", color=\"gray\")\n",
    "plt.plot(100 * np.arange(1000) / 2000, b2[:1000], \"-\", color=\"black\")\n",
    "plt.plot(100 * np.arange(1000) / 2000, 1 - np.arange(1000) / 2000, color=\"gray\")\n",
    "plt.xlabel(\"% of removed nodes\")\n",
    "plt.ylabel(\"order parameter\")\n",
    "plt.legend([\"exponent=4\", \"exponent=3\", \"exponent=2.5\", \"exponent=2\", \"% of nodes\"], loc=1);\n",
    "#plt.savefig('pl_between.eps', format='eps')"
   ]
  },
  {
   "cell_type": "markdown",
   "metadata": {},
   "source": [
    "Note that for all strategies the lower the value of the power law exponent the faster the order parameter decreases (even if we correct for the fact that for the value of the exponent equal to $2$ the initial graph has the higher number of isolated nodes)."
   ]
  },
  {
   "cell_type": "markdown",
   "metadata": {},
   "source": [
    "# Assortativity"
   ]
  },
  {
   "cell_type": "markdown",
   "metadata": {},
   "source": [
    "Next we turn our analysis to checking how network assortativity influences the order parameter."
   ]
  },
  {
   "cell_type": "markdown",
   "metadata": {},
   "source": [
    "We use an adaptation of Xulvi-Brunet and Sokolov algorithm, but we start from a graph on 2000 nodes and 4000 edges with degree distribution power law exponent equal to 3."
   ]
  },
  {
   "cell_type": "code",
   "execution_count": null,
   "metadata": {},
   "outputs": [],
   "source": [
    "## Xulvi-Brunet and Sokolov algorithm with power law underlying graph\n",
    "def XBS(q, assortative):\n",
    "    g = ig.Graph.Static_Power_Law(2000, 4000, 3)\n",
    "    g.es['touched'] = False\n",
    "    ec = g.ecount()\n",
    "    while True:\n",
    "        re = np.random.choice(ec, 2, replace=False)\n",
    "        nodes = list(g.es[re[0]].tuple+g.es[re[1]].tuple)\n",
    "        if len(set(nodes))==4:\n",
    "            ## with proba q, wire w.r.t. assortativity, else randomly\n",
    "            if np.random.random()<q:\n",
    "                idx = np.argsort(g.degree(nodes))\n",
    "                if assortative:\n",
    "                    e1 = (nodes[idx[0]],nodes[idx[1]])\n",
    "                    e2 = (nodes[idx[2]],nodes[idx[3]])\n",
    "                else:\n",
    "                    e1 = (nodes[idx[0]],nodes[idx[3]])\n",
    "                    e2 = (nodes[idx[1]],nodes[idx[2]])\n",
    "            else:\n",
    "                np.random.shuffle(nodes)\n",
    "                e1 = (nodes[0],nodes[1])\n",
    "                e2 = (nodes[2],nodes[3])\n",
    "            if g.get_eid(e1[0], e1[1], directed=False, error=False)+\\\n",
    "               g.get_eid(e2[0], e2[1], directed=False, error=False) == -2:\n",
    "                    g.delete_edges(re)\n",
    "                    g.add_edge(e1[0],e1[1],touched=True)\n",
    "                    g.add_edge(e2[0],e2[1],touched=True)\n",
    "            else:\n",
    "                g.es[re[0]]['touched']=True\n",
    "                g.es[re[1]]['touched']=True\n",
    "        if sum(g.es['touched']) == g.ecount():\n",
    "            break\n",
    "    return (single_run(g, \"random\")[0], single_run(g, \"degree\")[0], single_run(g, \"between\")[0])"
   ]
  },
  {
   "cell_type": "markdown",
   "metadata": {},
   "source": [
    "We compare positive, negative, and no modification in assortativity of the original power law graph scenarios."
   ]
  },
  {
   "cell_type": "code",
   "execution_count": null,
   "metadata": {},
   "outputs": [],
   "source": [
    "ra, da, ba = XBS(3/4, True)\n",
    "rd, dd, bd = XBS(3/4, False)\n",
    "r0, d0, b0 = XBS(0, True)"
   ]
  },
  {
   "cell_type": "code",
   "execution_count": null,
   "metadata": {},
   "outputs": [],
   "source": [
    "plt.plot(100 * np.arange(1000) / 2000, ra[:1000], \":\", color=\"black\")\n",
    "plt.plot(100 * np.arange(1000) / 2000, rd[:1000], \"--\", color=\"black\")\n",
    "plt.plot(100 * np.arange(1000) / 2000, r0[:1000], \"-\", color=\"black\")\n",
    "plt.plot(100 * np.arange(1000) / 2000, 1 - np.arange(1000) / 2000, color=\"gray\")\n",
    "plt.xlabel(\"% of removed nodes\")\n",
    "plt.ylabel(\"order parameter\")\n",
    "plt.legend([\"assortative\", \"dissortative\", \"neutral\", \"% of nodes\"], loc=1);\n",
    "#plt.savefig('ass_random.eps', format='eps')"
   ]
  },
  {
   "cell_type": "code",
   "execution_count": null,
   "metadata": {},
   "outputs": [],
   "source": [
    "plt.plot(100 * np.arange(1000) / 2000, da[:1000], \":\", color=\"black\")\n",
    "plt.plot(100 * np.arange(1000) / 2000, dd[:1000], \"--\", color=\"black\")\n",
    "plt.plot(100 * np.arange(1000) / 2000, d0[:1000], \"-\", color=\"black\")\n",
    "plt.plot(100 * np.arange(1000) / 2000, 1 - np.arange(1000) / 2000, color=\"gray\")\n",
    "plt.xlabel(\"% of removed nodes\")\n",
    "plt.ylabel(\"order parameter\")\n",
    "plt.legend([\"assortative\", \"dissortative\", \"neutral\", \"% of nodes\"], loc=1);\n",
    "#plt.savefig('ass_degree.eps', format='eps')"
   ]
  },
  {
   "cell_type": "code",
   "execution_count": null,
   "metadata": {},
   "outputs": [],
   "source": [
    "plt.plot(100 * np.arange(1000) / 2000, ba[:1000], \":\", color=\"black\")\n",
    "plt.plot(100 * np.arange(1000) / 2000, bd[:1000], \"--\", color=\"black\")\n",
    "plt.plot(100 * np.arange(1000) / 2000, b0[:1000], \"-\", color=\"black\")\n",
    "plt.plot(100 * np.arange(1000) / 2000, 1 - np.arange(1000) / 2000, color=\"gray\")\n",
    "plt.xlabel(\"% of removed nodes\")\n",
    "plt.ylabel(\"order parameter\")\n",
    "plt.legend([\"assortative\", \"dissortative\", \"neutral\", \"% of nodes\"], loc=1);\n",
    "#plt.savefig('ass_between.eps', format='eps')"
   ]
  },
  {
   "cell_type": "markdown",
   "metadata": {},
   "source": [
    "We can observe that higher assortitivity makes the graph more prone to random failures but less sensitive to both maximum degree and maximum betweenness attacks (both of them have approximately similar effectiveness for this graph, though max betweenness attack is slightly more effective)."
   ]
  },
  {
   "cell_type": "markdown",
   "metadata": {},
   "source": [
    "# Communities"
   ]
  },
  {
   "cell_type": "markdown",
   "metadata": {},
   "source": [
    "The last experiment we perform is with a graph that contains communities. We used ABCD graph generator with $\\xi\\in\\{0.0001,0.01,0.1,1.0\\}$.\n",
    "\n",
    "Again we tune the graphs to have 2000 nodes and average degree approximately equal to 4.\n",
    "\n",
    "The remaining parameters are described in Datasets/ABCD/readme_edge.txt file."
   ]
  },
  {
   "cell_type": "code",
   "execution_count": null,
   "metadata": {},
   "outputs": [],
   "source": [
    "def read_graph(name):\n",
    "    g = ig.Graph.Read_Ncol(datadir+'ABCD/edge'+name+'.dat',directed=False)\n",
    "    print(\"node count: \", g.vcount())\n",
    "    print(\"mean degree:\", np.mean(g.degree()))\n",
    "    return single_run(g, \"random\")[0], single_run(g, \"degree\")[0], single_run(g, \"between\")[0]"
   ]
  },
  {
   "cell_type": "code",
   "execution_count": null,
   "metadata": {},
   "outputs": [],
   "source": [
    "r00001, d00001, b00001 = read_graph('00001')\n",
    "r001, d001, b001 = read_graph('001')\n",
    "r01, d01, b01 = read_graph('01')\n",
    "r1, d1, b1 = read_graph('1')"
   ]
  },
  {
   "cell_type": "code",
   "execution_count": null,
   "metadata": {},
   "outputs": [],
   "source": [
    "plt.plot(100 * np.arange(1000) / 2000, r00001[:1000], \":\", color=\"black\")\n",
    "plt.plot(100 * np.arange(1000) / 2000, r001[:1000], \"--\", color=\"black\")\n",
    "plt.plot(100 * np.arange(1000) / 2000, r01[:1000], \"--\", color=\"gray\")\n",
    "plt.plot(100 * np.arange(1000) / 2000, r1[:1000], \"-\", color=\"black\")\n",
    "plt.plot(100 * np.arange(1000) / 2000, 1 - np.arange(1000) / 2000, color=\"gray\")\n",
    "plt.xlabel(\"% of removed nodes\")\n",
    "plt.ylabel(\"order parameter\")\n",
    "plt.legend([\"xi=0.0001\", \"x=0.01\", \"xi=0.1\", \"xi=1.0\", \"% of nodes\"], loc=1);\n",
    "#plt.savefig('xi_random.eps', format='eps')"
   ]
  },
  {
   "cell_type": "code",
   "execution_count": null,
   "metadata": {},
   "outputs": [],
   "source": [
    "plt.plot(100 * np.arange(1000) / 2000, d00001[:1000], \":\", color=\"black\")\n",
    "plt.plot(100 * np.arange(1000) / 2000, d001[:1000], \"--\", color=\"black\")\n",
    "plt.plot(100 * np.arange(1000) / 2000, d01[:1000], \"--\", color=\"gray\")\n",
    "plt.plot(100 * np.arange(1000) / 2000, d1[:1000], \"-\", color=\"black\")\n",
    "plt.plot(100 * np.arange(1000) / 2000, 1 - np.arange(1000) / 2000, color=\"gray\")\n",
    "plt.xlabel(\"% of removed nodes\")\n",
    "plt.ylabel(\"order parameter\")\n",
    "plt.legend([\"xi=0.0001\", \"x=0.01\", \"xi=0.1\", \"xi=1.0\", \"% of nodes\"], loc=1);\n",
    "#plt.savefig('xi_degree.eps', format='eps')"
   ]
  },
  {
   "cell_type": "code",
   "execution_count": null,
   "metadata": {},
   "outputs": [],
   "source": [
    "plt.plot(100 * np.arange(1000) / 2000, b00001[:1000], \":\", color=\"black\")\n",
    "plt.plot(100 * np.arange(1000) / 2000, b001[:1000], \"--\", color=\"black\")\n",
    "plt.plot(100 * np.arange(1000) / 2000, b01[:1000], \"--\", color=\"gray\")\n",
    "plt.plot(100 * np.arange(1000) / 2000, b1[:1000], \"-\", color=\"black\")\n",
    "plt.plot(100 * np.arange(1000) / 2000, 1 - np.arange(1000) / 2000, color=\"gray\")\n",
    "plt.xlabel(\"% of removed nodes\")\n",
    "plt.ylabel(\"order parameter\")\n",
    "plt.legend([\"xi=0.0001\", \"x=0.01\", \"xi=0.1\", \"xi=1.0\", \"% of nodes\"], loc=1);\n",
    "#plt.savefig('xi_between.eps', format='eps')"
   ]
  },
  {
   "cell_type": "markdown",
   "metadata": {},
   "source": [
    "We can see that again - max degree and max betweenness attacks are much more effective than random node removal. As in earlier scenarios we note that max betweenness attack is more efficient than max degree attack. In particular note that this is especially visible for low values of $\\xi$. For values of $\\xi$ in range $[0.1,1.0]$ we do not observe significant variability (actually for the max degree attack they are identical for the generated graphs)."
   ]
  }
 ],
 "metadata": {
  "kernelspec": {
   "display_name": "graphmining",
   "language": "python",
   "name": "graphmining"
  },
  "language_info": {
   "codemirror_mode": {
    "name": "ipython",
    "version": 3
   },
   "file_extension": ".py",
   "mimetype": "text/x-python",
   "name": "python",
   "nbconvert_exporter": "python",
   "pygments_lexer": "ipython3",
   "version": "3.10.9"
  }
 },
 "nbformat": 4,
 "nbformat_minor": 4
}
