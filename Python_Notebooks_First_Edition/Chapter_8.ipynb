{
 "cells": [
  {
   "cell_type": "markdown",
   "metadata": {},
   "source": [
    "# Chapter 8 -  Detecting Overlapping communities\n",
    "\n",
    "This is the first section in part II of the textbook (Additional Material) \n",
    "\n",
    "The problem of graph clustering is well studied, in particular the case where the vertices are partitioned into\n",
    "non-overlapping communities.\n",
    "We already saw one algorithm, ECG, which is among the best performing algorithms for graph partitioning, and also\n",
    "provides edge weights (strength of association) based on number of votes. \n",
    "Here, we look at the problem of graph clustering where:\n",
    "* vertices can be part of several communities (overlapping communities)\n",
    "* vertices can be part of no community (\"noise\" vertices)\n",
    "\n",
    "We explore the following three methods:\n",
    "* methods based on finding overlapping cliques (a clique is a complete subgraph)\n",
    "* methods based on splitting vertices into multiple personae, and\n",
    "* methods based on clustering the edges.\n",
    "\n",
    "We illustrate those methods here using the small Karate Club graph, a word association graph and artificial\n",
    "ABCD benchmark graphs. We also propose some novel improvements inspired by ECG.\n",
    "\n"
   ]
  },
  {
   "cell_type": "markdown",
   "metadata": {},
   "source": [
    "## Requirements\n",
    "\n",
    "* For the last experiment in this notebook, the following C++ packages need to be installed:\n",
    " * LFR benchmark with overlapping communities; download, untar and compile 'binary_networks.tar' from: https://sites.google.com/site/andrealancichinetti/files We had issues with the program sometimes not terminating correctly on Windows; in such case, just delete the last part of the print_network() function in file benchm.cpp (printing to statistics.dat) and re-compile.\n",
    " * overlapping NMI measure (oNMI): download and compile from: https://github.com/aaronmcdaid/Overlapping-NMI \n",
    "* also pip install omega-index-py3 (ref: https://pypi.org/project/omega-index-py3/)\n",
    "\n",
    "Finally, adjust the locations of directories in next cell. For Windows, you may need to use \"\\\\\" or \"\\\\\\\\\" as delimiters, for example 'C:\\\\oNMI\\\\onmi.exe'\n"
   ]
  },
  {
   "cell_type": "code",
   "execution_count": null,
   "metadata": {},
   "outputs": [],
   "source": [
    "datadir='../Datasets/'\n",
    "LFRo = '../LFR_Overlap/benchmark' ## overlapping LFR executable\n",
    "oNMI = '../oNMI/onmi'             ## overlapping NMI executable\n"
   ]
  },
  {
   "cell_type": "code",
   "execution_count": null,
   "metadata": {},
   "outputs": [],
   "source": [
    "import igraph as ig\n",
    "import numpy as np\n",
    "import pandas as pd\n",
    "from sklearn.metrics import adjusted_rand_score as ARI\n",
    "from sklearn.metrics import adjusted_mutual_info_score as AMI\n",
    "from itertools import combinations\n",
    "from IPython.display import display, SVG\n",
    "import time\n",
    "import matplotlib.pyplot as plt\n",
    "%matplotlib inline\n",
    "import csv\n",
    "import subprocess\n",
    "import partition_igraph\n",
    "import os\n",
    "import omega_index_py3 as omega\n",
    "import pickle\n",
    "#%config Completer.use_jedi = False"
   ]
  },
  {
   "cell_type": "markdown",
   "metadata": {},
   "source": [
    "# CPM (clique percolation method)\n",
    "\n",
    "The first algorithm we consider is the Clique Percolation Method, which can\n",
    "be summarized as:\n",
    "* fix the clique size $k$ (typically k=3 or 4)\n",
    "* for each $k$-clique, join all other $k$-cliques with $k-1$ vertices in common, in turn (the percolation)\n",
    "* continue until all $k$-cliques are exhausted\n",
    "\n",
    "Is is based on:\n",
    "\n",
    "Derényi I., *et al.*, Clique percolation in random networks, Phys. Rev. Lett., 2005, vol. 94 (pg. 160-202)\n"
   ]
  },
  {
   "cell_type": "code",
   "execution_count": null,
   "metadata": {},
   "outputs": [],
   "source": [
    "def CPM(g, k=3):\n",
    "    cls = list(map(set, g.cliques(min=k,max=k)))\n",
    "    edgelist = []\n",
    "    for i in range(len(cls)):\n",
    "        edgelist.append((i,i))\n",
    "    for i,j in combinations(range(len(cls)),2):\n",
    "        if len(cls[i].intersection(cls[j])) >= (k-1):\n",
    "            edgelist.append((i,j))\n",
    "    cg = ig.Graph(edgelist, directed=False)\n",
    "    clusters = cg.connected_components()\n",
    "    L = []\n",
    "    for cluster in clusters:\n",
    "        members = set()\n",
    "        for i in cluster:\n",
    "            members.update(cls[i])\n",
    "        L.append(set(g.vs[members][\"name\"]))\n",
    "    return L\n"
   ]
  },
  {
   "cell_type": "markdown",
   "metadata": {},
   "source": [
    "# ECG-based Hierarchical CPM\n",
    "\n",
    "We propose to use the ECG-generated edge weights (votes from the ensemble) to obtain a hierarchy of CPM-generated graphs as follows:\n",
    "* run ECG and obtain weights (proportional to the number of votes) for each edge\n",
    "* rank the edge weights from highest (many votes, strong association) to lowest (no vote, weak association)\n",
    "* for each weight value, drop edges below this value and run CPM\n",
    "\n",
    "This can be used to look at the hierarchy of communities around some given node(s).\n"
   ]
  },
  {
   "cell_type": "code",
   "execution_count": null,
   "metadata": {},
   "outputs": [],
   "source": [
    "## run a sequence of CPM w.r.t. ECG weights or existing edge weights\n",
    "## if 'focus' is set, only return communities with this node\n",
    "## returns a list of lists, the communities\n",
    "def CPM_ECG(g, k=3, focus=None, weighted=False, ens_size=32):\n",
    "    if weighted:\n",
    "        g.es['W'] = g.es['weight']\n",
    "    else:\n",
    "        ec = g.community_ecg(ens_size=ens_size)\n",
    "        g.es['W'] = ec.W\n",
    "    Jumps = np.unique(g.es['W']).tolist()\n",
    "    Jumps.reverse()\n",
    "    R = []\n",
    "    ## loop over 'Jumps'\n",
    "    for t in Jumps:\n",
    "        G = g.subgraph_edges([e for e in g.es if e['W']>=t])\n",
    "        X = CPM(G, k=k)\n",
    "        L = [set([g.vs.find(i).index for i in itr]) for itr in X]\n",
    "        ## keep only 'focus' nodes?\n",
    "        if focus != None:\n",
    "            v = g.vs.find(focus).index\n",
    "            X = [x for x in L if v in x]\n",
    "            L = X\n",
    "        if len(L)>0:\n",
    "            ## see if same as previous\n",
    "            if len(R)>0:\n",
    "                x = [i in R[len(R)-1] for i in L] + [i in L for i in R[len(R)-1]]\n",
    "                if sum(x)<len(x):\n",
    "                    R.append(L)\n",
    "            else:\n",
    "                R.append(L)\n",
    "    return R\n",
    "            "
   ]
  },
  {
   "cell_type": "markdown",
   "metadata": {},
   "source": [
    "### Utility functions to plot the CPM results"
   ]
  },
  {
   "cell_type": "code",
   "execution_count": null,
   "metadata": {},
   "outputs": [],
   "source": [
    "def PlotCPM(g, L, size=20, outfile=None, col='color', layout=None, margin=15, max_col=None):\n",
    "    if max_col != None:\n",
    "        m = max_col\n",
    "    else:\n",
    "        m = len(L)\n",
    "    if col=='color':\n",
    "        pal = ig.ClusterColoringPalette(n=m)\n",
    "    else:\n",
    "        pal = ig.GradientPalette('black','white',m+1)\n",
    "    g.vs['label'] = g.vs['name']\n",
    "    g.es['color'] = 'gainsboro'\n",
    "    ctr = 0\n",
    "    for l in L:\n",
    "        for e in g.es:\n",
    "            if set(e.tuple) <= l:\n",
    "                e['color'] = pal[ctr]\n",
    "        ctr += 1\n",
    "    sg = g.subgraph(set([x for iter in L for x in iter]))\n",
    "    for v in sg.vs:\n",
    "        s = set([sg.es[e]['color'] for e in sg.incident(v)])\n",
    "        if 'gainsboro' in s:\n",
    "            s.remove('gainsboro')\n",
    "        if len(s)==1:\n",
    "            v['color'] = s.pop()\n",
    "        else:\n",
    "            v['color'] = 'black'\n",
    "            v['shape'] = 'square'\n",
    "    sg.vs['label_color'] = sg.vs['color']\n",
    "    g.vs['label_color'] = 'gainsboro'\n",
    "    for v in sg.vs:\n",
    "        g.vs[g.vs.find(v['name']).index]['label_color'] = v['label_color']\n",
    "        g.vs[g.vs.find(v['name']).index]['color'] = v['color']\n",
    "        g.vs[g.vs.find(v['name']).index]['shape'] = v['shape']\n",
    "\n",
    "    if layout==None:\n",
    "        layout=g.layout_kamada_kawai()\n",
    "    if outfile != None:\n",
    "        ig.plot(g,outfile,bbox=(0,0,1200,800),vertex_size=size,vertex_label_size=1,layout=layout,margin=margin)\n",
    "    else:\n",
    "        pl = ig.plot(g,bbox=(0,0,450,300),vertex_size=size,vertex_label_size=1,layout=layout,margin=margin)\n",
    "        return pl\n",
    "\n",
    "## reorder 'b' w.r.t. 'a' to keep same comunity colours in successive plots\n",
    "## unless communities are merged (then one color is kept)\n",
    "def reorder(a,b):\n",
    "    x = []\n",
    "    flag = [0]*len(b)\n",
    "    for i in a:\n",
    "        for c in range(len(b)):\n",
    "            if i <= b[c] and flag[c]==0:\n",
    "                flag[c]=1\n",
    "                x.append(b[c])\n",
    "    for c in range(len(b)):\n",
    "        if flag[c]==0:\n",
    "            x.append(b[c])\n",
    "    return x\n",
    "\n",
    "    "
   ]
  },
  {
   "cell_type": "markdown",
   "metadata": {},
   "source": [
    "## CPM on the Zachary Graph\n",
    "\n",
    "We illustrate the different CPM-based algorithms with the well-known Karate Club dataset, which model interaction between 34 members. The 2 communities correspond to groups forming after a split in two \"factions\". Modularity-based algorithms usually find 4 or 5 communities.\n",
    "Below, we color the nodes according to the 2 factions after the split.  "
   ]
  },
  {
   "cell_type": "code",
   "execution_count": null,
   "metadata": {},
   "outputs": [],
   "source": [
    "## color with true communities (2 factions)\n",
    "g = ig.Graph.Read_Ncol(datadir+'Zachary/zachary.edgelist', directed=False)\n",
    "ly = g.layout_kamada_kawai()\n",
    "g.vs['size'] = 12\n",
    "c = np.loadtxt(datadir+'Zachary/zachary.communities', dtype='uint8')\n",
    "comm = [c[int(x['name'])] for x in g.vs]\n",
    "cl = ['white','grey']\n",
    "g.vs['color'] = [cl[i] for i in comm]\n",
    "g.es['color'] = 'gainsboro'\n",
    "g.vs['label'] = g.vs['name']\n",
    "g.vs['shape'] = 'circle'\n",
    "ig.plot(g,layout=ly, bbox=(0,0,300,300), vertex_label_size = 8, vertex_label_color='black')\n",
    "#ig.plot(g, 'zachary.eps',layout=ly, bbox=(0,0,600,400), vertex_label_size = 12, \n",
    "#        vertex_size=20,vertex_label_color='black')\n"
   ]
  },
  {
   "cell_type": "markdown",
   "metadata": {},
   "source": [
    "### Running the CPM algorithm\n",
    "\n",
    "* We run the CPM algorithm as is on the Karate graph.\n",
    "* Nodes that belong to 2 or more clusters are represented as squares.\n",
    "* You can select col='grey' for greyscale, but this is hard to distinguish with several clusters\n",
    "* We obtain one large community, two small ones and two orphan nodes (shown in white)"
   ]
  },
  {
   "cell_type": "code",
   "execution_count": null,
   "metadata": {},
   "outputs": [],
   "source": [
    "## CPM communities\n",
    "g.vs['color'] = 'white'\n",
    "X = CPM(g)\n",
    "L = [set([g.vs.find(i).index for i in itr]) for itr in X]\n",
    "PlotCPM(g=g, L=L, layout=ly, size=8, margin=5)\n",
    "#PlotCPM(g=g, L=L, outfile='zachary_cf.eps',layout=ly, col='grey')\n"
   ]
  },
  {
   "cell_type": "markdown",
   "metadata": {},
   "source": [
    "### Hierarchical CPM with ECG\n",
    "\n",
    "ECG induces edge weights from a finite list of values. For each value, we use it as threshold and prune the edges with weight less or equal, in decreasing order. This yields a hierarchy of overlapping clusters, which do not necessarity cover all nodes. \n",
    "\n",
    "Uncomment the corresponding lines in the cell below to save all of the hierarchy as PNG files; the number in the filename indicative of the level in the hierarchy (0-based), for example:\n",
    "\n",
    "* zachary_cf_0.png: only the srongest edges ar kept \n",
    "* zachary_cf_1.png: next stongest\n",
    "* ...\n",
    "* zachary_cf_8.png: all is kept except edges with NO vote\n",
    "* zachary_cf_9.png: same an non-heirarchical CPM, all is kept\n",
    "\n",
    "The number of thresholds can vary as ECG is stochastic. \n",
    "From our experiments, the penultimate result (all edges with at least some vote(s)) often gives an interesting view.\n",
    "\n",
    "* Nodes displayed as black squares belong to 2 or more communities.\n",
    "* You can select col='grey' for greyscale, but this is hard to distinguish on PNG output or with several clusters"
   ]
  },
  {
   "cell_type": "code",
   "execution_count": null,
   "metadata": {},
   "outputs": [],
   "source": [
    "## hierarchical CPM\n",
    "C = CPM_ECG(g)\n",
    "m = max([len(x) for x in C])\n",
    "g.vs['color'] = 'white'\n",
    "g.vs['shape'] = 'circle'\n",
    "for i in range(len(C)):\n",
    "    if i>0:\n",
    "        C[i] = reorder(C[i-1],C[i])\n",
    "print('number of thresholds:',len(C))\n",
    "\n",
    "## Uncomment to plot all results in color and save to PNG files \n",
    "#for i in range(len(C)):\n",
    "#    g.vs['shape'] = 'circle'\n",
    "#    PlotCPM(g=g, L=C[i], outfile='zachary_cf_'+str(i)+'.png', layout=ly, max_col=m)\n",
    "\n",
    "## plot the penultimate in greyscale\n",
    "g.vs['color'] = 'white'\n",
    "g.vs['shape'] = 'circle'\n",
    "PlotCPM(g=g, L=C[i-1], layout=ly, max_col=m, margin=5, size=8)\n",
    "#PlotCPM(g=g, L=C[i-1], outfile='zachary_cf_ecg.eps', layout=ly, max_col=m, col='grey')\n"
   ]
  },
  {
   "cell_type": "code",
   "execution_count": null,
   "metadata": {},
   "outputs": [],
   "source": [
    "## we can look at the hierarchy at various levels\n",
    "## here we look at level 2 (0-based)\n",
    "l = 2\n",
    "\n",
    "g.vs['color'] = 'white'\n",
    "g.vs['shape'] = 'circle'\n",
    "PlotCPM(g=g, L=C[l], layout=ly, max_col=m, margin=5, size=8)\n"
   ]
  },
  {
   "cell_type": "markdown",
   "metadata": {},
   "source": [
    "### Looking around a specific node\n",
    "\n",
    "The only difference here is that we select a node and only look at the hierarchy of clusters containing this node. This is an alternative to looking at $k$-hops neighbourhoods for $k \\ge 1$ around that node."
   ]
  },
  {
   "cell_type": "code",
   "execution_count": null,
   "metadata": {},
   "outputs": [],
   "source": [
    "## focus on a single node (see first Zachary plot for node IDs)\n",
    "node = 8\n",
    "\n",
    "m = max([len(x) for x in C])\n",
    "g.vs['color'] = 'white'\n",
    "g.vs['shape'] = 'circle'\n",
    "C = CPM_ECG(g, focus=str(node))\n",
    "for i in range(len(C)):\n",
    "    if i>0:\n",
    "        C[i] = reorder(C[i-1],C[i])\n",
    "        \n",
    "## uncomment to plot all results in color and save to PNG files\n",
    "#for i in range(len(C)):\n",
    "#    g.vs['shape'] = 'circle'\n",
    "#    PlotCPM(g=g, L=C[i], outfile='zachary_node_'+str(node)+'_cf_'+str(i)+'.png',layout=ly, max_col = m)    \n",
    "\n",
    "## plot the penultimate in greyscale\n",
    "g.vs['color'] = 'white'\n",
    "g.vs['shape'] = 'circle'\n",
    "PlotCPM(g=g, L=C[i-1], layout=ly, max_col=m, margin=5, size=8)\n",
    "#PlotCPM(g=g, L=C[i-1], outfile='zachary_cf_8_pen.eps', layout=ly, max_col=m, col='grey')      "
   ]
  },
  {
   "cell_type": "markdown",
   "metadata": {},
   "source": [
    "## CPM on a Word Association Graph\n",
    "\n",
    "We consider a graph built from the Word Association dataset (U of South Florida) based on:\n",
    "\n",
    "* G. Palla *et al.*, \"Uncovering the overlapping structure of complex networks in nature and society\", Nature 435, 814-818 (2005).\n",
    "\n",
    "In a nutshell, we build a graph with edges between pairs of similar words. We used a threshold of $w^*=.025$ for the association strength and use $k=4$ for the clique size. We use this dataset to illustrate the usefulness of overlapping clusters to discover various contexts of words. \n",
    "\n",
    "We look at two versions of CPM:\n",
    "* using the ECG-based version, and\n",
    "* using the association strength as edge weight.\n"
   ]
  },
  {
   "cell_type": "code",
   "execution_count": null,
   "metadata": {},
   "outputs": [],
   "source": [
    "## build the graph\n",
    "wg = ig.Graph.Read_Ncol(datadir+'Words/words.txt', names=True, directed=False, weights=True)\n",
    "wg = wg.simplify(combine_edges=\"sum\") ## sum association strength scores\n",
    "wg = wg.subgraph_edges([e for e in wg.es if e['weight'] >= .025]) ## prune low weight edges\n",
    "wg.vs['label'] = wg.vs['name']\n",
    "print(wg.vcount(),'nodes and',wg.ecount(),'edges')"
   ]
  },
  {
   "cell_type": "markdown",
   "metadata": {},
   "source": [
    "### Utility function to plot word graph"
   ]
  },
  {
   "cell_type": "code",
   "execution_count": null,
   "metadata": {},
   "outputs": [],
   "source": [
    "def PlotCPM_Partial(g, L, size=20, outfile=None, col='color',layout=None, margin=80, max_col=None):\n",
    "    if max_col != None:\n",
    "        m = max_col\n",
    "    else:\n",
    "        m = len(L)\n",
    "    if col=='color':\n",
    "        pal = ig.ClusterColoringPalette(n=m)\n",
    "    else:\n",
    "        pal = ig.GradientPalette('black','gainsboro',m)\n",
    "    g.vs['label'] = g.vs['name']\n",
    "    g.es['color'] = 'gainsboro'\n",
    "    ctr = 0\n",
    "    for l in L:\n",
    "        for e in g.es:\n",
    "            if set(e.tuple) <= l:\n",
    "                e['color'] = pal[ctr]\n",
    "        ctr += 1\n",
    "    sg = g.subgraph(set([x for iter in L for x in iter]))\n",
    "    for v in sg.vs:\n",
    "        s = set([sg.es[e]['color'] for e in sg.incident(v)])\n",
    "        if 'gainsboro' in s:\n",
    "            s.remove('gainsboro')\n",
    "        if len(s)==1:\n",
    "            v['color'] = s.pop()\n",
    "        else:\n",
    "            v['color'] = 'black'\n",
    "            v['shape'] = 'square'\n",
    "    sg.vs['label_color'] = sg.vs['color']\n",
    "    if outfile != None:\n",
    "        pl = ig.plot(sg,bbox=(0,0,1200,800),vertex_size=0,vertex_label_size=size,margin=margin)\n",
    "        pl.save(outfile)\n",
    "    else:\n",
    "        pl = ig.plot(sg,bbox=(0,0,500,400),vertex_size=0,vertex_label_size=size,margin=margin)\n",
    "        return pl\n"
   ]
  },
  {
   "cell_type": "markdown",
   "metadata": {},
   "source": [
    "## Some results with ECG-based Hierarchical CPM\n",
    "\n",
    "* recall that exact ECG weights may vary between runs, so the hierarchy might differ a little from run to run\n",
    "* we look at clusters around the words 'MATH' and 'MONEY' \n",
    "* other interesting examples include: WORK, DAY, BAD, PLAY, GOLD, COUNTRY ...\n"
   ]
  },
  {
   "cell_type": "code",
   "execution_count": null,
   "metadata": {},
   "outputs": [],
   "source": [
    "word='MATH' ## you can try other words; all words in CAP\n",
    "\n",
    "g = wg.copy()\n",
    "v = g.vs.find(name=word)\n",
    "n = g.neighborhood(v,order=2)\n",
    "sg = g.subgraph(n)\n",
    "C = CPM_ECG(sg,k=4, focus=word)\n",
    "m = max([len(x) for x in C])\n",
    "for i in range(len(C)):\n",
    "        if i>0:\n",
    "            C[i] = reorder(C[i-1],C[i])\n",
    "        \n",
    "## uncomment to plot all results in color and save to PNG files\n",
    "#for i in range(len(C)):\n",
    "#    sg.vs['label_color'] = 'black'\n",
    "#    PlotCPM_Partial(g=sg,L=C[i],outfile=word+'_'+str(i)+'.png',max_col=m)\n",
    "\n",
    "print('number of levels:',len(C))"
   ]
  },
  {
   "cell_type": "code",
   "execution_count": null,
   "metadata": {},
   "outputs": [],
   "source": [
    "## level-1: (you can try different values)\n",
    "for c in C[1]:\n",
    "    print([sg.vs[i]['name'] for i in c])"
   ]
  },
  {
   "cell_type": "code",
   "execution_count": null,
   "metadata": {},
   "outputs": [],
   "source": [
    "## level-2:\n",
    "for c in C[2]:\n",
    "    print([sg.vs[i]['name'] for i in c])"
   ]
  },
  {
   "cell_type": "code",
   "execution_count": null,
   "metadata": {},
   "outputs": [],
   "source": [
    "## penultimate level:\n",
    "for c in C[-2]:\n",
    "    print([sg.vs[i]['name'] for i in c])\n",
    "\n",
    "## plot it\n",
    "sg.vs['label_color'] = 'black'\n",
    "PlotCPM_Partial(g=sg, L=C[-2], max_col=m, size=8, margin=50, col='color')"
   ]
  },
  {
   "cell_type": "markdown",
   "metadata": {},
   "source": [
    "### Let's look at the word MONEY"
   ]
  },
  {
   "cell_type": "code",
   "execution_count": null,
   "metadata": {},
   "outputs": [],
   "source": [
    "## word MONEY has a lot of depth in terms of communities:\n",
    "word='MONEY'\n",
    "g = wg.copy()\n",
    "v = g.vs.find(name=word)\n",
    "n = g.neighborhood(v,order=2)\n",
    "sg = g.subgraph(n)\n",
    "C = CPM_ECG(sg,k=4,focus=word)\n",
    "m = max([len(x) for x in C])\n",
    "for i in range(len(C)):\n",
    "        if i>0:\n",
    "            C[i] = reorder(C[i-1],C[i])\n",
    "        \n",
    "## uncomment to plot all results in color and save to PNG files\n",
    "#for i in range(len(C)):\n",
    "#    sg.vs['label_color'] = 'black'\n",
    "#    PlotCPM_Partial(g=sg,L=C[i],outfile=word+'_'+str(i)+'.png',max_col=m)\n",
    "\n",
    "## many levels here\n",
    "print('number of levels:',len(C))"
   ]
  },
  {
   "cell_type": "code",
   "execution_count": null,
   "metadata": {},
   "outputs": [],
   "source": [
    "## level-x\n",
    "x = 2\n",
    "for c in C[x]:\n",
    "    print([sg.vs[i]['name'] for i in c])\n",
    "    \n",
    "## plot\n",
    "sg.vs['label_color'] = 'black'\n",
    "PlotCPM_Partial(g=sg, L=C[x], max_col=m, size=8, margin=50, col='color')"
   ]
  },
  {
   "cell_type": "code",
   "execution_count": null,
   "metadata": {},
   "outputs": [],
   "source": [
    "## number of clusters vs threshold\n",
    "pts = []\n",
    "for c in C:\n",
    "    pts.append(len(c))\n",
    "plt.plot(pts, 'o-',color='black')\n",
    "plt.title('Number of clusters')\n",
    "plt.xlabel('Level (distinct ECG thresholds)')\n",
    "plt.ylabel('Number of clusters');\n"
   ]
  },
  {
   "cell_type": "markdown",
   "metadata": {},
   "source": [
    "## Hierarchical CPM using the association strength weights\n",
    "\n",
    "We again look at clusters around 'MATH'"
   ]
  },
  {
   "cell_type": "code",
   "execution_count": null,
   "metadata": {},
   "outputs": [],
   "source": [
    "word='MATH'\n",
    "\n",
    "g = wg.copy()\n",
    "v = g.vs.find(name=word)\n",
    "n = g.neighborhood(v,order=2)\n",
    "sg = g.subgraph(n)\n",
    "C = CPM_ECG(sg,k=4,focus=word,weighted=True) ## use association scores\n",
    "m = max([len(x) for x in C])\n",
    "for i in range(len(C)):\n",
    "        if i>0:\n",
    "            C[i] = reorder(C[i-1],C[i])\n",
    "        \n",
    "## uncomment to plot all results in color and save to PNG files\n",
    "#for i in range(len(C)):\n",
    "#    sg.vs['label_color'] = 'black'\n",
    "#    PlotCPM_Partial(g=sg,L=C[i],outfile=word+'_'+str(i)+'.png',max_col=m)\n",
    "\n",
    "print('number of levels:',len(C))"
   ]
  },
  {
   "cell_type": "code",
   "execution_count": null,
   "metadata": {
    "scrolled": true
   },
   "outputs": [],
   "source": [
    "## level-x:\n",
    "x = 2\n",
    "for c in C[x]:\n",
    "    print([sg.vs[i]['name'] for i in c])"
   ]
  },
  {
   "cell_type": "markdown",
   "metadata": {},
   "source": [
    "# 2. Ego-Splitting method\n",
    "\n",
    "The Ego-Splitting framework is based on paper by A. Epasto, S. Lattanzi and R.P. Leme at KDD 2017:\n",
    "\n",
    "https://www.kdd.org/kdd2017/papers/view/ego-splitting-framework-from-non-overlapping-to-overlapping-clusters\n",
    "\n",
    "\n",
    "In summary, the steps are:\n",
    "* For each vertex $v$:\n",
    " * build the ego-net for $v$ (minus self)\n",
    " * cluster this ego-net using a local method, such as label propagation (LP) or connected components (CC)\n",
    " * \"split\" vertex $v$ into one persona per ego-net cluster\n",
    "* Cluster this new graph (with duplicated vertices) with some graph partitioning algorithm such as LP or ECG. \n",
    " * We can set a minimum community size to avoid tiny ones.\n",
    "\n",
    "The original paper uses a LP method based on the Potts model, but we will use the Label Propagation from Raghavan *et. al.* which is implemented in igraph.\n"
   ]
  },
  {
   "cell_type": "code",
   "execution_count": null,
   "metadata": {},
   "outputs": [],
   "source": [
    "def EgoSplit(G, split='CC', algo='LP'):\n",
    "    g = G.copy()\n",
    "    ## implement ego-split approach with LP+LP and LP+ECG\n",
    "    g.vs['original'] = g.vs['name']\n",
    "    ## use the vertex names to avoid issues when vertices are re-mapped ...\n",
    "    names = g.vs['name']\n",
    "    ## step 1 - ego-net splits\n",
    "    for nm in names:\n",
    "        v = g.vs.find(nm).index\n",
    "        n = g.neighbors(v)\n",
    "        sg = g.subgraph(n)\n",
    "        if split == 'LP':\n",
    "            x = sg.community_label_propagation().membership\n",
    "        else:\n",
    "            x = sg.connected_components().membership\n",
    "        if np.min(x)==-1:\n",
    "            x = [i+1 for i in x]\n",
    "        for j in set(x):\n",
    "            g.add_vertex(name=nm+'.'+str(j),original=nm)\n",
    "\n",
    "        l = sg.vs['name']\n",
    "        for j in range(len(x)):\n",
    "            g.add_edge(nm+'.'+str(x[j]) , l[j])\n",
    "        g.delete_vertices(v)\n",
    "    ## step 2 -- cluster w.r.t. multiple personae\n",
    "    if algo=='LP':\n",
    "        cl = g.community_label_propagation()\n",
    "    else:\n",
    "        cl = g.community_ecg(ens_size=32)\n",
    "    C = [set(sg.vs['original']) for sg in cl.subgraphs()]\n",
    "    return C\n"
   ]
  },
  {
   "cell_type": "markdown",
   "metadata": {},
   "source": [
    "### Ego-splitting on the Zachary graph\n",
    "\n",
    "Using Label Propagation for local ego-net clustering, and Label Propagation (LP) or ECG for the final clustering"
   ]
  },
  {
   "cell_type": "code",
   "execution_count": null,
   "metadata": {},
   "outputs": [],
   "source": [
    "## LP in last step\n",
    "g = ig.Graph.Read_Ncol(datadir+'Zachary/zachary.edgelist',directed=False)\n",
    "g.vs['color'] = 'white'\n",
    "X = EgoSplit(g, algo='LP') ## pick final algorithm as parameter (LP or ECG)\n",
    "L = [set([g.vs.find(i).index for i in itr]) for itr in X]\n",
    "C = [set(l) for l in L if len(l)>=3] ## min community size set to 3\n",
    "PlotCPM(g=g, L=C, margin=5, size=8)\n",
    "#PlotCPM(g=g, L=C, outfile='zachary_ego_lp.eps', layout=ly, col='grey')      "
   ]
  },
  {
   "cell_type": "code",
   "execution_count": null,
   "metadata": {},
   "outputs": [],
   "source": [
    "## ECG in last step\n",
    "g = ig.Graph.Read_Ncol(datadir+'Zachary/zachary.edgelist',directed=False)\n",
    "g.vs['color'] = 'white'\n",
    "X = EgoSplit(g, algo='ECG')\n",
    "L = [set([g.vs.find(i).index for i in itr]) for itr in X]\n",
    "C = [set(l) for l in L if len(l)>=3] ## min community size set to 3\n",
    "PlotCPM(g=g, L=C, margin=5, size=8)\n",
    "#PlotCPM(g=g, L=C, outfile='zachary_ego_ecg.eps', layout=ly, col='grey')      "
   ]
  },
  {
   "cell_type": "markdown",
   "metadata": {},
   "source": [
    "# 3. Edge Clustering \n",
    "\n",
    "We can obtain overlapping communities by clustering edges instead of vertices.\n",
    "The algorithm can be described as follows:\n",
    "* for each pair of edges sharing a node, say $(i,k)$ and $(j,k)$, compute some similarity measure between the neighborhoods of vertices $i$ and $j$, such as the Jaccard measure\n",
    "* perform hierarchical clustering on the edges with this similarity matrix\n",
    "\n",
    "It is based on:\n",
    "\n",
    "Ahn, YY., Bagrow, J., Lehmann, S. Link communities reveal multiscale complexity in networks. Nature 466, 761–764 (2010). https://doi.org/10.1038/nature09182\n",
    "\n",
    "This can be implemented by considering the connected components for the line-graph of the original graph using varying thresholds for the Jaccard measure.\n",
    "* line graph Lg(G) represents ties between edges of G\n",
    "* Lg(G) nodes are edges in G\n",
    "* edges sharing a node in G are linked by an edge in Lg(G)\n",
    "\n",
    "We pick the \"best\" clustering in the hierarchy based on the modularity scores on the line graph.\n"
   ]
  },
  {
   "cell_type": "code",
   "execution_count": null,
   "metadata": {},
   "outputs": [],
   "source": [
    "def Jaccard(a,b):\n",
    "    x = len(set(a).intersection(set(b)))/len(set(a).union(set(b)))\n",
    "    return x\n",
    "\n",
    "def weightedLinegraph(g):\n",
    "    lg = g.linegraph()\n",
    "    w=[]\n",
    "    for e in lg.es:\n",
    "        A = set(g.es[e.tuple[0]].tuple)\n",
    "        B = set(g.es[e.tuple[1]].tuple)\n",
    "        x = list((A-B).union(B-A))\n",
    "        w.append(Jaccard(g.neighbors(x[0]),g.neighbors(x[1])))\n",
    "    lg.es['weight'] = w\n",
    "    return lg\n",
    "\n",
    "def edgeCluster(g, color=False):\n",
    "    q = -999\n",
    "    D = weightedLinegraph(g)\n",
    "    for th in sorted(set(D.es['weight'])):\n",
    "        ## filter edges w.r.t. similarity and find CC\n",
    "        dg = D.copy()\n",
    "        dg.delete_edges([e for e in dg.es if e['weight']<=th])\n",
    "        cc = dg.connected_components().membership\n",
    "        mod = D.modularity(cc)\n",
    "        if mod>q:\n",
    "            q = mod\n",
    "            g.es['lc'] = cc\n",
    "            if color:\n",
    "                pal = ig.ClusterColoringPalette(n=max(cc)+1)\n",
    "                for e in g.es:\n",
    "                    e['color'] = pal[e['lc']]\n",
    "    ## Now gather the nodes for each edge cluster\n",
    "    L = []\n",
    "    for i in range(max(g.es['lc'])+1):\n",
    "        sg = g.subgraph_edges([e for e in g.es if e['lc']==i])\n",
    "        L.append(sg.vs['name'])\n",
    "    return L"
   ]
  },
  {
   "cell_type": "markdown",
   "metadata": {},
   "source": [
    "### Edge clustering on the Zachary graph\n"
   ]
  },
  {
   "cell_type": "code",
   "execution_count": null,
   "metadata": {},
   "outputs": [],
   "source": [
    "g = ig.Graph.Read_Ncol(datadir+'Zachary/zachary.edgelist',directed=False)\n",
    "g.vs['color'] = 'white'\n",
    "X = edgeCluster(g)\n",
    "L = [set([g.vs.find(i).index for i in itr]) for itr in X]\n",
    "C = [set(l) for l in L if len(l)>=3]\n",
    "PlotCPM(g=g, L=C, margin=5, size=8)\n",
    "#PlotCPM(g=g, L=C, outfile='zachary_edges.eps', layout=ly, col='grey')      "
   ]
  },
  {
   "cell_type": "markdown",
   "metadata": {},
   "source": [
    "# Study over benchmark graphs\n",
    "\n",
    "We compare several methods we presented over \"LFR with overlaps\" benchmark graphs, with varying noise parameter $\\mu$. In order to compare the (possibly) overlapping clusters with the ground truth, we use \"oNMI\", a modification of NMI that can handle overlapping communities, and the Omega index, a variation of the Rand index.\n",
    "\n",
    "Running the code below may take a several minutes as we do several repeats for a range of $\\mu$ values\n"
   ]
  },
  {
   "cell_type": "code",
   "execution_count": null,
   "metadata": {},
   "outputs": [],
   "source": [
    "## Reformat -- from LFR_overlap communities to 1 community per line\n",
    "def mapLFRcommunity(infile=None,outfile=None):\n",
    "    fn = infile\n",
    "    with open(fn) as f:\n",
    "        content = f.readlines()\n",
    "    f.close()\n",
    "    content = [x.strip() for x in content] \n",
    "    L = []\n",
    "    for line in content:\n",
    "        x = line.split('\\t')[1]\n",
    "        y = x.split(' ')\n",
    "        L.append([int(i) for i in y])\n",
    "    m = np.max([item for sublist in L for item in sublist])\n",
    "    C = [[] for i in range(m)]\n",
    "    for i in range(len(L)):\n",
    "        for j in L[i]:\n",
    "            C[j-1].append(i+1)\n",
    "    import  csv\n",
    "    fn = outfile\n",
    "    with open(fn,\"w\") as f:\n",
    "        wr = csv.writer(f, delimiter=\" \")\n",
    "        wr.writerows(C)\n",
    "    f.close()\n",
    "    return C\n",
    "\n",
    "## get communities and compute oNMI\n",
    "def oNMIrun(L, min_size=3, comm='./_communities', fn='./_temp'):\n",
    "    C = [l for l in L if len(l) >= min_size]\n",
    "    with open(fn,\"w\") as f:\n",
    "        wr = csv.writer(f, delimiter=\" \")\n",
    "        wr.writerows(C)\n",
    "    f.close()   \n",
    "    x = float(subprocess.check_output([oNMI,comm,fn]).decode(\"utf-8\").split()[1])\n",
    "    return x\n",
    "\n",
    "## compute Omega index vs GT\n",
    "def omegaIndex(L, min_size=3, gt='./_communities'):\n",
    "    s1 = {}\n",
    "    C = [l for l in L if len(l) >= min_size]\n",
    "    for i in range(len(C)):\n",
    "        s1[str(i)] = list(C[i])\n",
    "    ## ground truth\n",
    "    lines = [line.rstrip('\\n') for line in open(gt)]\n",
    "    s2 = {}\n",
    "    for i in range(len(lines)):\n",
    "        x = [j for j in lines[i].split(' ')]\n",
    "        s2[str(i)] = x\n",
    "    return omega.Omega(s1,s2).omega_score\n",
    "\n",
    "MUs = np.arange(5,71,5) ## range of mu's for the experiments below"
   ]
  },
  {
   "cell_type": "markdown",
   "metadata": {},
   "source": [
    "### running the experiment\n",
    "\n",
    "Uncomment the code below to re-run, or read the results from thr supplied pickle file.\n"
   ]
  },
  {
   "cell_type": "raw",
   "metadata": {},
   "source": [
    "## We generated graphs with 1000 nodes, 100 have overlap in 2 communities\n",
    "## You can re-run this experiments (may be slow) or just load results from pkl file (see next cell)\n",
    "X = []  ## put results there\n",
    "REP = 10 ## repeats per mu\n",
    "mc = 5  ## min comm size\n",
    "\n",
    "for m in MUs:\n",
    "    mu = m/100\n",
    "    for r in range(REP):\n",
    "            print(mu,r)\n",
    "            ## generate LFR-overlap graph\n",
    "            cmd = LFRo+' -N 1000 -k 10 -maxk 50 -minc 10 -maxc 100 -on 100 -om 2 -mu '+str(mu)+' >& _temp'\n",
    "            x = os.system(cmd)\n",
    "            ## map resulting communities to proper format for oNMI\n",
    "            x = mapLFRcommunity('./community.dat','./_communities')\n",
    "            nc = len(x)\n",
    "            ## build the graph\n",
    "            g = ig.Graph.Read_Ncol('./network.dat',directed=False)\n",
    "            g = g.simplify()## edges are repeated twice with LFRo\n",
    "            ## run CPM and compute oNMI\n",
    "            L = CPM(g, k=3)\n",
    "            X.append(['CPM',mu,oNMIrun(L,min_size=mc),omegaIndex(L,min_size=mc),len([l for l in L if len(l)>=mc])/nc])\n",
    "            ## run CPM_ECG and compute oNMI\n",
    "            ## do not produce the hierarchy, only cut edges w/o votes\n",
    "            ec = g.community_ecg()\n",
    "            g.es['W'] = ec.W\n",
    "            Th = np.min(ec.W)\n",
    "            sg = g.subgraph_edges([e for e in g.es if e['W']>Th], delete_vertices=False)\n",
    "            L = CPM(sg, k=3)\n",
    "            X.append(['H-CPM',mu,oNMIrun(L,min_size=mc),omegaIndex(L,min_size=mc),len([l for l in L if len(l)>=mc])/nc])\n",
    "            ## edge clustering\n",
    "            L = edgeCluster(g)\n",
    "            X.append(['edges',mu,oNMIrun(L,min_size=mc),omegaIndex(L,min_size=mc),len([l for l in L if len(l)>=mc])/nc])\n",
    "            ## ego-split with CC splits and LP\n",
    "            L = EgoSplit(g)\n",
    "            X.append(['ego-split-cc-lp',mu,oNMIrun(L,min_size=mc),omegaIndex(L,min_size=mc),len([l for l in L if len(l)>=mc])/nc])\n",
    "            L = EgoSplit(g, algo='ECG')\n",
    "            X.append(['ego-split-cc-ecg',mu,oNMIrun(L,min_size=mc),omegaIndex(L,min_size=mc),len([l for l in L if len(l)>=mc])/nc])\n",
    "            L = EgoSplit(g, split='LP')\n",
    "            X.append(['ego-split-lp-lp',mu,oNMIrun(L,min_size=mc),omegaIndex(L,min_size=mc),len([l for l in L if len(l)>=mc])/nc])\n",
    "            L = EgoSplit(g, split='LP', algo='ECG')\n",
    "            X.append(['ego-split-lp-ecg',mu,oNMIrun(L,min_size=mc),omegaIndex(L,min_size=mc),len([l for l in L if len(l)>=mc])/nc])\n",
    "\n",
    "D = pd.DataFrame(X,columns=['algo','mu','oNMI','Omega','delta(n_comm)'])\n",
    "\n",
    "## save D as pickle object \n",
    "with open( datadir+\"Overlap/lfr_100.pkl\", \"wb\" ) as f:\n",
    "    pickle.dump(D,f)\n"
   ]
  },
  {
   "cell_type": "code",
   "execution_count": null,
   "metadata": {},
   "outputs": [],
   "source": [
    "## load experiment results in D\n",
    "with open(datadir+\"Overlap/lfr_100.pkl\",\"rb\") as f:\n",
    "    D = pickle.load(f)\n"
   ]
  },
  {
   "cell_type": "code",
   "execution_count": null,
   "metadata": {},
   "outputs": [],
   "source": [
    "## oNMI - plot for the book\n",
    "M = D.groupby(by=['mu','algo']).mean()\n",
    "algo = [\"'CPM'\",\"'H-CPM'\",\"'ego-split-cc-lp'\"]\n",
    "ltyp = ['--','-',':','-.']\n",
    "for a in range(len(algo)):\n",
    "    y = [float(x) for x in list(M.query('algo =='+algo[a])['oNMI'])]\n",
    "    plt.plot([i/100 for i in MUs],y,label=algo[a],linestyle=ltyp[a],color='black')\n",
    "plt.legend([\"CPM\",\"H-CPM\",\"ego-split\"])\n",
    "plt.xlabel(r'Mixing parameter $\\mu$',fontsize=14)\n",
    "plt.ylabel('oNMI',fontsize=14)\n",
    "plt.grid();\n",
    "#plt.savefig('overlap_onmi.eps');"
   ]
  },
  {
   "cell_type": "code",
   "execution_count": null,
   "metadata": {},
   "outputs": [],
   "source": [
    "## Omega - plot for the book\n",
    "for a in range(len(algo)):\n",
    "    y = [float(x) for x in list(M.query('algo =='+algo[a])['Omega'])]\n",
    "    plt.plot([i/100 for i in MUs],y,label=algo[a],linestyle=ltyp[a],color='black')\n",
    "plt.legend([\"CPM\",\"H-CPM\",\"ego-split\"])\n",
    "plt.xlabel(r'Mixing parameter $\\mu$',fontsize=14)\n",
    "plt.ylabel('Omega',fontsize=14)\n",
    "plt.grid();\n",
    "#plt.savefig('overlap_omega.eps');"
   ]
  },
  {
   "cell_type": "code",
   "execution_count": null,
   "metadata": {},
   "outputs": [],
   "source": [
    "## ratio of communities found to true number - plot for the book\n",
    "for a in range(len(algo)):\n",
    "    y = [float(x) for x in list(M.query('algo =='+algo[a])['delta(n_comm)'])]\n",
    "    plt.semilogy([i/100 for i in MUs],y,label=algo[a],linestyle=ltyp[a],color='black',base=2)\n",
    "plt.legend([\"CPM\",\"H-CPM\",\"ego-split\"])\n",
    "#plt.hlines(0,0.05,.7,linestyles=':',color='black')\n",
    "plt.xlabel(r'Mixing parameter $\\mu$',fontsize=14)\n",
    "plt.ylabel('ratio of |communities|',fontsize=14)\n",
    "plt.ylim((1/4,2))\n",
    "plt.grid();\n",
    "#plt.savefig('overlap_n-comm.eps');"
   ]
  },
  {
   "cell_type": "code",
   "execution_count": null,
   "metadata": {},
   "outputs": [],
   "source": [
    "## oNMI - color plot\n",
    "M = D.groupby(by=['mu','algo']).mean()\n",
    "algo = [\"'CPM'\",\"'H-CPM'\",\"'ego-split-cc-ecg'\",\"'ego-split-cc-lp'\",\"'ego-split-lp-lp'\",\"'edges'\"]\n",
    "ltyp = ['--','-',':',':',':','-.']\n",
    "for a in range(len(algo)):\n",
    "    y = [float(x) for x in list(M.query('algo =='+algo[a])['oNMI'])]\n",
    "    plt.plot([i/100 for i in MUs],y,label=algo[a],linestyle=ltyp[a])\n",
    "plt.legend()\n",
    "plt.xlabel(r'Mixing parameter $\\mu$',fontsize=14)\n",
    "plt.ylabel('oNMI',fontsize=14);\n"
   ]
  },
  {
   "cell_type": "code",
   "execution_count": null,
   "metadata": {
    "scrolled": false
   },
   "outputs": [],
   "source": [
    "## Omega - color plot, more algorithms\n",
    "for a in range(len(algo)):\n",
    "    y = [float(x) for x in list(M.query('algo =='+algo[a])['Omega'])]\n",
    "    plt.plot([i/100 for i in MUs],y,label=algo[a],linestyle=ltyp[a])\n",
    "plt.legend()\n",
    "plt.xlabel(r'Mixing parameter $\\mu$',fontsize=14)\n",
    "plt.ylabel('Omega',fontsize=14);\n"
   ]
  },
  {
   "cell_type": "code",
   "execution_count": null,
   "metadata": {
    "scrolled": false
   },
   "outputs": [],
   "source": [
    "## ratio of communities found to true number - color plot\n",
    "for a in range(len(algo)):\n",
    "    y = [float(x) for x in list(M.query('algo =='+algo[a])['delta(n_comm)'])]\n",
    "    plt.plot([i/100 for i in MUs],y,label=algo[a],linestyle=ltyp[a])\n",
    "plt.legend()\n",
    "plt.hlines(0,0.05,.7,color='grey')\n",
    "plt.xlabel(r'Mixing parameter $\\mu$',fontsize=14)\n",
    "plt.ylabel('delta(n_comm)',fontsize=14);\n"
   ]
  },
  {
   "cell_type": "markdown",
   "metadata": {},
   "source": [
    "### same experiment with more overlap"
   ]
  },
  {
   "cell_type": "raw",
   "metadata": {},
   "source": [
    "## We generated graphs with 1000 nodes, 250 have overlap in 3 communities\n",
    "## You can re-run this experiments (may be slow) or just load results from pkl file (see next cell)\n",
    "X = []  ## put results there\n",
    "REP = 10 ## repeats per mu\n",
    "mc = 5  ## min comm size\n",
    "\n",
    "for m in MUs:\n",
    "    mu = m/100\n",
    "    for r in range(REP):\n",
    "            print(mu,r)\n",
    "            ## generate LFR-overlap graph\n",
    "            cmd = LFRo+' -N 1000 -k 10 -maxk 50 -minc 10 -maxc 100 -on 250 -om 3 -mu '+str(mu)+' >& _temp'\n",
    "            x = os.system(cmd)\n",
    "            ## map resulting communities to proper format for oNMI\n",
    "            x = mapLFRcommunity('./community.dat','./_communities')\n",
    "            nc = len(x)\n",
    "            ## build the graph\n",
    "            g = ig.Graph.Read_Ncol('./network.dat',directed=False)\n",
    "            g = g.simplify()## edges are repeated twice with LFRo\n",
    "            ## run CPM and compute oNMI\n",
    "            L = CPM(g, k=3)\n",
    "            X.append(['CPM',mu,oNMIrun(L,min_size=mc),omegaIndex(L,min_size=mc),len([l for l in L if len(l)>=mc])/nc])\n",
    "            ## run CPM_ECG and compute oNMI\n",
    "            ## do not produce the hierarchy, only cut edges w/o votes\n",
    "            ec = g.community_ecg()\n",
    "            g.es['W'] = ec.W\n",
    "            Th = np.min(ec.W)\n",
    "            sg = g.subgraph_edges([e for e in g.es if e['W']>Th], delete_vertices=False)\n",
    "            L = CPM(sg, k=3)\n",
    "            X.append(['H-CPM',mu,oNMIrun(L,min_size=mc),omegaIndex(L,min_size=mc),len([l for l in L if len(l)>=mc])/nc])\n",
    "            ## edge clustering\n",
    "            L = edgeCluster(g)\n",
    "            X.append(['edges',mu,oNMIrun(L,min_size=mc),omegaIndex(L,min_size=mc),len([l for l in L if len(l)>=mc])/nc])\n",
    "            ## ego-split with CC splits and LP\n",
    "            L = EgoSplit(g)\n",
    "            X.append(['ego-split-cc-lp',mu,oNMIrun(L,min_size=mc),omegaIndex(L,min_size=mc),len([l for l in L if len(l)>=mc])/nc])\n",
    "            L = EgoSplit(g, algo='ECG')\n",
    "            X.append(['ego-split-cc-ecg',mu,oNMIrun(L,min_size=mc),omegaIndex(L,min_size=mc),len([l for l in L if len(l)>=mc])/nc])\n",
    "            L = EgoSplit(g, split='LP')\n",
    "            X.append(['ego-split-lp-lp',mu,oNMIrun(L,min_size=mc),omegaIndex(L,min_size=mc),len([l for l in L if len(l)>=mc])/nc])\n",
    "            L = EgoSplit(g, split='LP', algo='ECG')\n",
    "            X.append(['ego-split-lp-ecg',mu,oNMIrun(L,min_size=mc),omegaIndex(L,min_size=mc),len([l for l in L if len(l)>=mc])/nc])\n",
    "\n",
    "D = pd.DataFrame(X,columns=['algo','mu','oNMI','Omega','delta(n_comm)'])\n",
    "\n",
    "## save D as pickle object \n",
    "#with open( datadir+\"Overlap/lfr_250.pkl\", \"wb\" ) as f:\n",
    "#    pickle.dump(D,f)\n"
   ]
  },
  {
   "cell_type": "code",
   "execution_count": null,
   "metadata": {},
   "outputs": [],
   "source": [
    "## load experiment results in D\n",
    "with open(datadir+\"Overlap/lfr_250.pkl\",\"rb\") as f:\n",
    "    D = pickle.load(f)\n"
   ]
  },
  {
   "cell_type": "code",
   "execution_count": null,
   "metadata": {},
   "outputs": [],
   "source": [
    "## oNMI\n",
    "M = D.groupby(by=['mu','algo']).mean()\n",
    "algo = [\"'CPM'\",\"'H-CPM'\",\"'ego-split-cc-ecg'\",\"'ego-split-cc-lp'\",\"'ego-split-lp-lp'\",\"'edges'\"]\n",
    "ltyp = ['--','-',':',':',':','-.']\n",
    "for a in range(len(algo)):\n",
    "    y = [float(x) for x in list(M.query('algo =='+algo[a])['oNMI'])]\n",
    "    plt.plot([i/100 for i in MUs],y,label=algo[a],linestyle=ltyp[a])\n",
    "plt.legend()\n",
    "plt.xlabel(r'Mixing parameter $\\mu$',fontsize=14)\n",
    "plt.ylabel('oNMI',fontsize=14);\n"
   ]
  },
  {
   "cell_type": "code",
   "execution_count": null,
   "metadata": {
    "scrolled": false
   },
   "outputs": [],
   "source": [
    "## Omega\n",
    "for a in range(len(algo)):\n",
    "    y = [float(x) for x in list(M.query('algo =='+algo[a])['Omega'])]\n",
    "    plt.plot([i/100 for i in MUs],y,label=algo[a],linestyle=ltyp[a])\n",
    "plt.legend()\n",
    "plt.xlabel(r'Mixing parameter $\\mu$',fontsize=14)\n",
    "plt.ylabel('Omega',fontsize=14);\n"
   ]
  },
  {
   "cell_type": "code",
   "execution_count": null,
   "metadata": {
    "scrolled": false
   },
   "outputs": [],
   "source": [
    "## ratio of communities found to true number\n",
    "for a in range(len(algo)):\n",
    "    y = [float(x) for x in list(M.query('algo =='+algo[a])['delta(n_comm)'])]\n",
    "    plt.plot([i/100 for i in MUs],y,label=algo[a],linestyle=ltyp[a])\n",
    "plt.legend()\n",
    "plt.hlines(0,0.05,.7,color='grey')\n",
    "plt.xlabel(r'Mixing parameter $\\mu$',fontsize=14)\n",
    "plt.ylabel('delta(n_comm)',fontsize=14);\n"
   ]
  },
  {
   "cell_type": "markdown",
   "metadata": {},
   "source": [
    "### Remarks\n",
    "\n",
    "* ego-net based method gives better results than CPM or edge clustering, in particular when using CC in the first step; using ECG in the second step improves ego-net method slightly over LP;\n",
    "* using ECG and keeping penultimate level in Hierarchical-CPM helps a lot;\n",
    "* CPM in general tends to find less communities;\n",
    "* edge clustgering yields too many communities w.r.t. ground-truth;\n"
   ]
  },
  {
   "cell_type": "markdown",
   "metadata": {},
   "source": [
    "## Measures\n",
    "\n",
    "We compare oNMI and Omega measures for random partitions to see if there are any clear bias, for example toward partitions with lots (or very little) parts.\n"
   ]
  },
  {
   "cell_type": "code",
   "execution_count": null,
   "metadata": {},
   "outputs": [],
   "source": [
    "## generate LFR-overlap graph\n",
    "cmd = LFRo+' -N 1000 -k 10 -maxk 50 -minc 10 -maxc 100 -on 100 -om 2 -mu .25'\n",
    "#cmd = LFRo+' -N 1000 -k 10 -maxk 50 -minc 10 -maxc 100 -mu .25'\n",
    "x = os.system(cmd+' >/dev/null 2>&1')\n",
    "## map resulting communities to proper format for oNMI\n",
    "x = mapLFRcommunity('./community.dat','./_communities')\n",
    "nc = len(x)\n",
    "## build the graph\n",
    "g = ig.Graph.Read_Ncol('./network.dat',directed=False)\n",
    "g = g.simplify() ## edges are repeated twice with LFRo\n",
    "print('number of communities:',len(x))"
   ]
  },
  {
   "cell_type": "code",
   "execution_count": null,
   "metadata": {},
   "outputs": [],
   "source": [
    "## random partition with r parts: 1000 nodes, 100 in 2 communities\n",
    "mc = 5  ## min comm size\n",
    "X = []\n",
    "for r in np.arange(2,61,2):\n",
    "    #n = [str(i) for i in np.arange(1,1001)]+[str(i) for i in np.arange(1,101)]\n",
    "    n = [str(i) for i in np.arange(1,1001)]\n",
    "    rc = np.random.choice(r,len(n))\n",
    "    L = [set() for i in range(r)]\n",
    "    for i in range(len(n)):\n",
    "        L[rc[i]].add(n[i])\n",
    "    X.append([r,oNMIrun(L,min_size=mc),omegaIndex(L,min_size=mc)])\n",
    "D = pd.DataFrame(X,columns=['comms','oNMI','Omega'])"
   ]
  },
  {
   "cell_type": "code",
   "execution_count": null,
   "metadata": {},
   "outputs": [],
   "source": [
    "## results for oNMI and Omega index;\n",
    "## oNMI is almost flat 0; Omega is very close to 0 without any clear patters w.r.t. number of parts.\n",
    "x = np.arange(2,61,2)\n",
    "plt.plot(x,D['oNMI'],label='oNMI',linestyle='-',color='black')\n",
    "plt.plot(x,D['Omega'],label='Omega',linestyle='--',color='black')\n",
    "plt.legend()\n",
    "plt.grid()\n",
    "plt.xlabel('Number of communities',fontsize=14);\n",
    "#plt.savefig('measures_bias.eps');\n"
   ]
  }
 ],
 "metadata": {
  "kernelspec": {
   "display_name": "graphmining",
   "language": "python",
   "name": "graphmining"
  },
  "language_info": {
   "codemirror_mode": {
    "name": "ipython",
    "version": 3
   },
   "file_extension": ".py",
   "mimetype": "text/x-python",
   "name": "python",
   "nbconvert_exporter": "python",
   "pygments_lexer": "ipython3",
   "version": "3.10.9"
  }
 },
 "nbformat": 4,
 "nbformat_minor": 4
}
