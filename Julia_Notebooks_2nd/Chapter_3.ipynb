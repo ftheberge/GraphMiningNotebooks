{
 "cells": [
  {
   "cell_type": "markdown",
   "metadata": {},
   "source": [
    "# Chapter 3 - Centrality Measures\n",
    "\n",
    "In this notebook, we explore various centrality measures on a **weighted**, **directed** graph which represents the volume of passengers between US airports in 2008. This dataset is available at: https://www.kaggle.com/flashgordon/usa-airport-dataset#Airports2.csv which is part of the Kaggle Public Datasets: https://www.kaggle.com/datasets\n",
    "\n",
    "As with the previous notebooks, make sure to set the data directory properly in the next cell."
   ]
  },
  {
   "cell_type": "code",
   "execution_count": null,
   "metadata": {},
   "outputs": [],
   "source": [
    "datadir = \"../Datasets/\""
   ]
  },
  {
   "cell_type": "code",
   "execution_count": null,
   "metadata": {
    "slideshow": {
     "slide_type": "slide"
    }
   },
   "outputs": [],
   "source": [
    "using Graphs\n",
    "using SimpleWeightedGraphs\n",
    "using DataFrames\n",
    "using CSV\n",
    "using PyPlot\n",
    "using GraphPlot\n",
    "using LinearAlgebra\n",
    "using StatsBase\n",
    "using Random\n",
    "using CategoricalArrays"
   ]
  },
  {
   "cell_type": "code",
   "execution_count": null,
   "metadata": {},
   "outputs": [],
   "source": [
    "ENV[\"COLUMNS\"] = 1000"
   ]
  },
  {
   "cell_type": "markdown",
   "metadata": {},
   "source": [
    "## US Airport Graph\n",
    "\n",
    "### Volume of Passengers\n",
    "\n",
    "The nodes are represented by the 3-letter airport codes such as LAX (Los Angeles); \n",
    "each line below represents the number of passenges from ```orig_airport``` to ```dest_airport```.\n",
    "The last column is the volume of passengers that we use as **edge weights**. Thus we will build a weighted,  directed graph.\n"
   ]
  },
  {
   "cell_type": "code",
   "execution_count": null,
   "metadata": {},
   "outputs": [],
   "source": [
    "## read edges and build weighted directed graph\n",
    "D = CSV.read(datadir * \"Airports/connections.csv\", DataFrame)\n",
    "first(D, 5)"
   ]
  },
  {
   "cell_type": "code",
   "execution_count": null,
   "metadata": {},
   "outputs": [],
   "source": [
    "# normalize weights\n",
    "max_passengers = maximum(D.total_passengers)\n",
    "D.total_passengers /= max_passengers\n",
    "extrema(D.total_passengers)"
   ]
  },
  {
   "cell_type": "code",
   "execution_count": null,
   "metadata": {},
   "outputs": [],
   "source": [
    "id2name = sort!(unique(union(D.orig_airport, D.dest_airport)))\n",
    "name2id = Dict(id2name .=> axes(id2name, 1))\n",
    "g = SimpleWeightedDiGraph(length(id2name))\n",
    "for row in eachrow(D)\n",
    "    from = name2id[row.orig_airport]\n",
    "    to = name2id[row.dest_airport]\n",
    "    from == to || add_edge!(g, from, to, row.total_passengers)\n",
    "end\n",
    "g"
   ]
  },
  {
   "cell_type": "code",
   "execution_count": null,
   "metadata": {},
   "outputs": [],
   "source": [
    "A = CSV.read(datadir * \"Airports/airports_loc.csv\", DataFrame)\n",
    "A.id = [name2id[a] for a in A.airport]\n",
    "@assert A.id == axes(A, 1)\n",
    "@assert A.airport == id2name\n",
    "first(A, 5)"
   ]
  },
  {
   "cell_type": "markdown",
   "metadata": {},
   "source": [
    "### Check for loops and multiple edges\n",
    "\n",
    "There are no multiedges (not surprising, edges are weighted here), but there are some loops in the raw data,\n",
    "i.e. same origin and destination airport. However, loops are not supported by SimpleWeightedDiGraph and are automatically removed during operating on the graph."
   ]
  },
  {
   "cell_type": "code",
   "execution_count": null,
   "metadata": {},
   "outputs": [],
   "source": [
    "D[D.orig_airport.==D.dest_airport, :]"
   ]
  },
  {
   "cell_type": "code",
   "execution_count": null,
   "metadata": {},
   "outputs": [],
   "source": [
    "length([e for e in edges(g) if src(e) == dst(e)])"
   ]
  },
  {
   "cell_type": "markdown",
   "metadata": {},
   "source": [
    "## Connected components\n",
    "\n",
    "A (sub)graph is **weakly connected** if there is a path between any pair of nodes when we ignore the edge direction (i.e. treat the directed graph as undirected). The airport graph is weakly connected (that is, ignoring directionality) except for 2 airports: DET and WVL that are connected by a single directed edge.\n",
    "\n",
    "A (sub)graph is **strongly connected** if there is a directed path from each node to every other node. The airport graph is not strongly connected. The largest stongly connected component has size 425.\n",
    " "
   ]
  },
  {
   "cell_type": "code",
   "execution_count": null,
   "metadata": {},
   "outputs": [],
   "source": [
    "## count the number of nodes in the giant component (weak connectivity)\n",
    "scomp = strongly_connected_components(g)\n",
    "println(\n",
    "    maximum(length.(scomp)),\n",
    "    \" out of \",\n",
    "    nv(g),\n",
    "    \" are in giant (strong) component\",\n",
    ")\n",
    "wcomp = weakly_connected_components(g)\n",
    "println(\n",
    "    maximum(length.(wcomp)),\n",
    "    \" out of \",\n",
    "    nv(g),\n",
    "    \" are in giant (weak) component\",\n",
    ")"
   ]
  },
  {
   "cell_type": "code",
   "execution_count": null,
   "metadata": {},
   "outputs": [],
   "source": [
    "## which two airports are NOT weakly connected to the rest of the graph?\n",
    "giant = wcomp[argmax(length.(wcomp))]  ## giant component\n",
    "println(\"Disconnected airports:\")\n",
    "for i in 1:nv(g)\n",
    "    if !(i in giant)\n",
    "        println(\n",
    "            A[i, \"airport\"],\n",
    "            \" has in degree \",\n",
    "            indegree(g, i),\n",
    "            \" and out degree \",\n",
    "            outdegree(g, i),\n",
    "        )\n",
    "    end\n",
    "end"
   ]
  },
  {
   "cell_type": "markdown",
   "metadata": {},
   "source": [
    "### Coreness\n",
    "\n",
    "Looking at coreness (we consider both in and out edges).\n",
    "We see a group of nodes with very high coreness: highly connected hub airports (such as 'SFO', 'LAX', 'ATL', etc.).\n",
    "There are also several nodes with low coreness: peripherial airports.\n"
   ]
  },
  {
   "cell_type": "code",
   "execution_count": null,
   "metadata": {},
   "outputs": [],
   "source": [
    "hist(core_number(g), bins=20, color=:gray, width=3)\n",
    "xlabel(\"Coreness\", fontsize=14)\n",
    "ylabel(\"Frequency\", fontsize=14);"
   ]
  },
  {
   "cell_type": "code",
   "execution_count": null,
   "metadata": {},
   "outputs": [],
   "source": [
    "max_core = maximum(core_number(g))\n",
    "max_core_idxs = findall(core_number(g) .== max_core)\n",
    "println(A[in.(A.id, Ref(max_core_idxs)), :airport])"
   ]
  },
  {
   "cell_type": "markdown",
   "metadata": {},
   "source": [
    "###  Degree distribution\n",
    "\n",
    "Below we plot the degree distribution (total degree, in and out).\n",
    "Which airport has maximal degree?"
   ]
  },
  {
   "cell_type": "code",
   "execution_count": null,
   "metadata": {
    "scrolled": true
   },
   "outputs": [],
   "source": [
    "## degree distribution\n",
    "air_deg = degree(g)\n",
    "hist(air_deg, bins=20, width=14, color=:gray)\n",
    "xlabel(\"Total degree\", fontsize=14)\n",
    "ylabel(\"Frequency\", fontsize=14);"
   ]
  },
  {
   "cell_type": "code",
   "execution_count": null,
   "metadata": {},
   "outputs": [],
   "source": [
    "## this is different than \"merging\" in/out edges:\n",
    "maximum(degree(SimpleWeightedGraph(g)))"
   ]
  },
  {
   "cell_type": "code",
   "execution_count": null,
   "metadata": {},
   "outputs": [],
   "source": [
    "## max degree airport\n",
    "degree_max_idx = argmax(air_deg)\n",
    "println(\"Airport with maximal degree: \", A.airport[degree_max_idx])"
   ]
  },
  {
   "cell_type": "markdown",
   "metadata": {},
   "source": [
    "## California Subgraph \n",
    "\n",
    "We will look at several **centrality** measures. To speed up the computation and plotting, we consider only the airports in **California**, and the edges within the state.\n",
    "You can try other states by changing the first line below."
   ]
  },
  {
   "cell_type": "code",
   "execution_count": null,
   "metadata": {},
   "outputs": [],
   "source": [
    "## Build smaller subgraph for California (you can try other states)\n",
    "## drop isolated vertices (i.e. without in-state connections)\n",
    "\n",
    "CA = findall(==(\"CA\"), A.state)\n",
    "G = induced_subgraph(g, CA)[1]\n",
    "A_CA = A[CA, :]\n",
    "NZ = findall(>(0), degree(G))\n",
    "G = induced_subgraph(G, NZ)[1]\n",
    "A_CANZ = A_CA[NZ, :]\n",
    "println(nv(G), \" nodes and \", ne(G), \" directed edges\")"
   ]
  },
  {
   "cell_type": "code",
   "execution_count": null,
   "metadata": {},
   "outputs": [],
   "source": [
    "## The graph is weakly connected except for 2 airports\n",
    "wcomp = weakly_connected_components(G)\n",
    "giant = wcomp[argmax(length.(wcomp))]  ## giant component\n",
    "println(\"Nodes outside the giant component:\")\n",
    "for i in 1:nv(G)\n",
    "    if !(i in giant)\n",
    "        println(\n",
    "            A_CANZ[i, \"airport\"],\n",
    "            \" has in degree \",\n",
    "            indegree(G, i),\n",
    "            \" and out degree \",\n",
    "            outdegree(G, i),\n",
    "        )\n",
    "    end\n",
    "end"
   ]
  },
  {
   "cell_type": "code",
   "execution_count": null,
   "metadata": {},
   "outputs": [],
   "source": [
    "## plot using lat/lon as layout\n",
    "gplot(G, A_CANZ.lon, -A_CANZ.lat,\n",
    "      NODESIZE=0.03, nodefillc=\"black\",\n",
    "      EDGELINEWIDTH=0.2, edgestrokec=\"lightgray\", arrowlengthfrac=0.05,\n",
    "      linetype=\"curve\")"
   ]
  },
  {
   "cell_type": "code",
   "execution_count": null,
   "metadata": {},
   "outputs": [],
   "source": [
    "## same subgraph using a force directed layout\n",
    "gplot(G, layout=spring_layout,\n",
    "      NODESIZE=0.03, nodefillc=\"black\",\n",
    "      EDGELINEWIDTH=0.2, edgestrokec=\"lightgray\", arrowlengthfrac=0.05,\n",
    "      linetype=\"curve\")"
   ]
  },
  {
   "cell_type": "markdown",
   "metadata": {},
   "source": [
    "## Centrality measures\n",
    "\n",
    "We compute the following centrality measures for the weighted graph g_CA:\n",
    "**PageRank**, **Authority** and **Hub**.\n",
    "For **degree centrality**, we define our own function below and we normalize the weights to get values bounded above by 1. \n",
    "\n",
    "For the distance based centrality measures **closeness**, **harmonic**, **eccentricity** and **betweenness**, we do not use the edges weights, so the distance between nodes is the number of hops, and is not based on the number of passengers. This is a natural choice here, since distance between airports (cities) can be viewed as the number of flights needed to travel between those cities.\n",
    "\n",
    "We compute the above centrality for every node in the G subgraph."
   ]
  },
  {
   "cell_type": "code",
   "execution_count": null,
   "metadata": {},
   "outputs": [],
   "source": [
    "dir_degree_centrality(G::SimpleWeightedDiGraph) =\n",
    "    (vec(sum(G.weights, dims=1)) + vec(sum(G.weights, dims=2))) / (2 * (nv(G) - 1))"
   ]
  },
  {
   "cell_type": "code",
   "execution_count": null,
   "metadata": {},
   "outputs": [],
   "source": [
    "function pagerank_simple(G::SimpleWeightedDiGraph; α=0.85)\n",
    "    A = G.weights\n",
    "    B = A ./ sum(A, dims=1)\n",
    "    B[findall(isnan, B)] .= 1 / nv(G) # handle 0 out-degree nodes\n",
    "    return (1 - α) / nv(G) * ((I - α * B) \\ ones(nv(G)))\n",
    "end"
   ]
  },
  {
   "cell_type": "code",
   "execution_count": null,
   "metadata": {},
   "outputs": [],
   "source": [
    "function hub_authority_simple(G::SimpleWeightedDiGraph)\n",
    "    A = Matrix(G.weights)\n",
    "    e = eigen(transpose(A) * A)\n",
    "    λ = e.values[end]\n",
    "    y = e.vectors[:, end]\n",
    "    if all(<=(eps()), y)\n",
    "        y .= -y\n",
    "    end\n",
    "    @assert all(>=(-eps()), y)\n",
    "    x = A * y\n",
    "    y ./= maximum(y)\n",
    "    x ./= maximum(x)\n",
    "    return x, y\n",
    "end"
   ]
  },
  {
   "cell_type": "code",
   "execution_count": null,
   "metadata": {},
   "outputs": [],
   "source": [
    "function simple_closeness(G::SimpleGraph)\n",
    "    c = zeros(nv(G))\n",
    "    for i in 1:nv(G)\n",
    "        x = gdistances(G, i)\n",
    "        x .= min.(x, nv(G))\n",
    "        c .+= x\n",
    "    end\n",
    "    return (nv(G) - 1) ./ c\n",
    "end"
   ]
  },
  {
   "cell_type": "code",
   "execution_count": null,
   "metadata": {},
   "outputs": [],
   "source": [
    "function simple_eccentricity(G::SimpleDiGraph)\n",
    "    return [replace(gdistances(G, v), typemax(Int) => 0) |> maximum for v in 1:nv(G)]\n",
    "end"
   ]
  },
  {
   "cell_type": "code",
   "execution_count": null,
   "metadata": {},
   "outputs": [],
   "source": [
    "function harmonic_centrality(G::SimpleWeightedDiGraph)\n",
    "    return [mean(replace(filter(x -> !isinf(x), 1 ./ gdistances(G, v)), 1 / typemax(Int) => 0)) for v in 1:nv(G)]\n",
    "end"
   ]
  },
  {
   "cell_type": "code",
   "execution_count": null,
   "metadata": {},
   "outputs": [],
   "source": [
    "df = DataFrame(\"airport\" => A_CANZ.airport,\n",
    "    \"degree\" => dir_degree_centrality(G),\n",
    "    \"pagerank\" => pagerank_simple(G),\n",
    "    ([\"authority\", \"hub\"] .=> hub_authority_simple(G))...,\n",
    "    \"between\" => 2 * betweenness_centrality(SimpleDiGraph(G)),\n",
    "    \"harmonic\" => harmonic_centrality(G),\n",
    "    \"closeness\" => simple_closeness(SimpleGraph(SimpleDiGraph(G))),\n",
    "    \"eccentricity\" => simple_eccentricity(SimpleDiGraph(G))\n",
    ")\n",
    "first(sort!(df, :degree, rev=true), 5)"
   ]
  },
  {
   "cell_type": "code",
   "execution_count": null,
   "metadata": {},
   "outputs": [],
   "source": [
    "## bottom ones\n",
    "last(df, 5)"
   ]
  },
  {
   "cell_type": "markdown",
   "metadata": {},
   "source": [
    "#### Top airports\n",
    "\n",
    "The above results agree with intuition in terms of the most central airports in California.\n",
    "Note however that **SAN** (San Diego) has high values *except* for betweenness, an indication that connecting flights transit mainly via LAX or SFO. \n",
    "\n",
    "Below, we plot the California graph again, highlighting the top-3 airports w.r.t. **pagerank**: LAX, SFO, SAN."
   ]
  },
  {
   "cell_type": "code",
   "execution_count": null,
   "metadata": {},
   "outputs": [],
   "source": [
    "## highlight top-3 airports w.r.t. pagerank\n",
    "## plot using lat/lon as layout\n",
    "gplot(G, A_CANZ.lon, -A_CANZ.lat,\n",
    "      NODESIZE=0.03, nodefillc=ifelse.(ordinalrank(df.pagerank, rev=true) .<= 3, \"red\", \"black\"),\n",
    "      EDGELINEWIDTH=0.2, edgestrokec=\"lightgray\", arrowlengthfrac=0.05,\n",
    "      linetype=\"curve\")"
   ]
  },
  {
   "cell_type": "markdown",
   "metadata": {},
   "source": [
    "## Correlation between measures\n",
    "\n",
    "We use the rank-based **Kendall-tau** correlation to compare the different centrality measures.\n",
    "\n",
    "We observe high agreement between all measures. In particular, degree-centrality, hub and authority measures are very highly correlated, and so are the distance-based measures (betweenness, closeness)."
   ]
  },
  {
   "cell_type": "code",
   "execution_count": null,
   "metadata": {},
   "outputs": [],
   "source": [
    "## rank-based correlation between measures\n",
    "DataFrame(corkendall(Matrix(df[:, 2:end])), names(df)[2:end])"
   ]
  },
  {
   "cell_type": "markdown",
   "metadata": {},
   "source": [
    "### Harmonic vs closeness centrality\n",
    "\n",
    "By default, closeness centrality is computed **separately** on each **connected component**, which is why we defined our own function earlier, setting the distance equal to the number of nodes when no path exists between two nodes.\n",
    "This is one advantage of harmonic centrality, which works as is even with disconnected graphs.\n",
    "We illustrate this below, where we compute the 3 measures (harmonic, closeness with default behavior, closeness with our own definition). We report the results for 5 airports:\n",
    "\n",
    "* 3 major airports (LAX, SFO, SAN): all values are high\n",
    "* 2 disconnected airports (MCE, VIS): we see low values except when using the closeness centrality with default behavior, in which case the value is maximal (1). This can be misleading!\n",
    "\n",
    "There is a similar concern when computing **eccentricity** (maximum shortest distance), which is done separately for each connected component. For the California subgraph, all nodes have value 2 or 3, except the to disconnected airports, which have value of 1, as we see below."
   ]
  },
  {
   "cell_type": "code",
   "execution_count": null,
   "metadata": {},
   "outputs": [],
   "source": [
    "## Harmonic vs closeness centralit\n",
    "look_at = [\"LAX\", \"SFO\", \"SAN\", \"MCE\", \"VIS\"]\n",
    "# df.\"closeness_default\" = g_CA.closeness()\n",
    "df_sub = df[in.(df.airport, Ref(look_at)),\n",
    "    [\"airport\", \"harmonic\", \"closeness\", \"eccentricity\"]]\n",
    "df_sub"
   ]
  },
  {
   "cell_type": "markdown",
   "metadata": {},
   "source": [
    "## Looking at coreness\n",
    "\n",
    "We already looked at coreness for the whole airports graph, now we look at the California subgraph, again with mode='all'. Below we show nodes with maximal coreness as red dots, and nodes with small coreness as blue dots."
   ]
  },
  {
   "cell_type": "code",
   "execution_count": null,
   "metadata": {},
   "outputs": [],
   "source": [
    "coreness = core_number(G)\n",
    "mc = minimum(coreness)\n",
    "Mc = maximum(coreness)\n",
    "color = [x == Mc ? \"red\" : x <= mc + 1 ? \"blue\" : \"black\" for x in coreness];"
   ]
  },
  {
   "cell_type": "code",
   "execution_count": null,
   "metadata": {},
   "outputs": [],
   "source": [
    "## plot nodes w.r.t. coreness\n",
    "gplot(G, A_CANZ.lon, -A_CANZ.lat,\n",
    "      NODESIZE=0.03, nodefillc=color,\n",
    "      EDGELINEWIDTH=0.2, edgestrokec=\"lightgray\", arrowlengthfrac=0.05,\n",
    "      linetype=\"curve\")"
   ]
  },
  {
   "cell_type": "markdown",
   "metadata": {},
   "source": [
    "The above uses the geographical layout, so it is not clear what is going on.\n",
    "\n",
    "Let's use a force directed layout to make the difference between high and low core number clearer. \n",
    "\n",
    "The high coreness nodes are clearly seen, and we also observe the small 2-node connected component that was buried in the previous visualization."
   ]
  },
  {
   "cell_type": "code",
   "execution_count": null,
   "metadata": {},
   "outputs": [],
   "source": [
    "## Coreness is more clear here\n",
    "Random.seed!(12)\n",
    "gplot(G, layout=spring_layout,\n",
    "      NODESIZE=0.03, nodefillc=color,\n",
    "      EDGELINEWIDTH=0.2, edgestrokec=\"lightgray\", arrowlengthfrac=0.05,\n",
    "      linetype=\"curve\")"
   ]
  },
  {
   "cell_type": "code",
   "execution_count": null,
   "metadata": {},
   "outputs": [],
   "source": [
    "## vertices with max coreness (13-core)\n",
    "## note that there are less than 14 nodes, this is an interesting remark and\n",
    "## it is because we consider both in and out-going edges by default for directed graph.\n",
    "println(\"max core value:\", Mc, \"\\nairports:\", df.airport[coreness.==Mc])"
   ]
  },
  {
   "cell_type": "markdown",
   "metadata": {},
   "source": [
    "### Looking at harmonic centrality\n",
    "\n",
    "Using the same layout as above (with high coreness nodes in the middle), we display the harmonic centrality scores.\n",
    "We clearly see higher values for central nodes, and small values for the small 2-node component.\n"
   ]
  },
  {
   "cell_type": "code",
   "execution_count": null,
   "metadata": {},
   "outputs": [],
   "source": [
    "## show closeness centralities, same layout\n",
    "Random.seed!(12)\n",
    "gplot(G, layout=spring_layout,\n",
    "      nodelabel=round.(harmonic_centrality(G), digits=2),\n",
    "      nodelabeldist=8, nodelabelangleoffset=π / 4,\n",
    "      NODESIZE=0.01, nodefillc=color,\n",
    "      EDGELINEWIDTH=0.2, edgestrokec=\"lightgray\",\n",
    "      arrowlengthfrac=0.05, linetype=\"curve\")"
   ]
  },
  {
   "cell_type": "markdown",
   "metadata": {},
   "source": [
    "### Comparing coreness with other centrality measures\n",
    "\n",
    "We add coreness to data frame with centrality measures ```df```.\n",
    "We then group the data in 3 categories: high coreness (value of max_core), low (value of min_core+1 or less) or mid-range, and we compute and plot the mean for every other measure.\n",
    "\n",
    "We see that for all centrality measures except closeness centrality, the values are much higher for nodes with high coreness. The pagerank value for 'low' coreness nodes (close to 'mid' ones) is due to the two airports that are not part of the giant component.\n",
    "\n",
    "As expected, nodes with small coreness generally have smaller centrality scores. \n",
    "This is why for example we can often remove the small core nodes (for example, keeping only the 2-core) to reduce\n",
    "the size of large graphs without destroying its main structure.\n"
   ]
  },
  {
   "cell_type": "code",
   "execution_count": null,
   "metadata": {},
   "outputs": [],
   "source": [
    "## group in 3 categories\n",
    "sort!(df, :airport)\n",
    "df.coreness = core_number(G)\n",
    "df.core_grp = categorical([x <= 2 ? \"low\" : x == 13 ? \"high\" : \"mid\" for x in df.coreness])\n",
    "levels!(df.core_grp, [\"low\", \"mid\", \"high\"])\n",
    "df_grp = combine(groupby(df, :core_grp, sort=true),\n",
    "    names(df, Between(:degree, :closeness)) .=> mean,\n",
    "    renamecols=false)"
   ]
  },
  {
   "cell_type": "code",
   "execution_count": null,
   "metadata": {},
   "outputs": [],
   "source": [
    "## grouped barplot\n",
    "bl, bm, bh = Vector.(eachrow(df_grp[:, 2:end]))\n",
    "barWidth = 0.25\n",
    "# Set position of bar on X axis\n",
    "r1 = 1:length(bh)\n",
    "r2 = r1 .+ barWidth\n",
    "r3 = r2 .+ barWidth\n",
    "# Make the plot\n",
    "bar(r1, bh, color=\"black\", width=barWidth, edgecolor=\"white\", label=\"high coreness\")\n",
    "bar(r2, bm, color=\"gray\", width=barWidth, edgecolor=\"white\", label=\"mid coreness\")\n",
    "bar(r3, bl, color=\"lightgray\", width=barWidth, edgecolor=\"white\", label=\"low coreness\")\n",
    "\n",
    "# Add xticks on the middle of the group bars\n",
    "xlabel(\"measure\", fontsize=14)\n",
    "xticks(r2, names(df_grp, Not(1)), fontsize=10)\n",
    "ylabel(\"score\", fontsize=14)\n",
    "# Create legend & Show graphic\n",
    "legend(fontsize=12);"
   ]
  },
  {
   "cell_type": "markdown",
   "metadata": {},
   "source": [
    "## Delta-centrality example\n",
    "\n",
    "This is the simple ''pandemic'' spread model as detailed in the book:\n",
    "\n",
    "*The ''pandemic'' starts at exactly one airport selected uniformly at random from all the airports. Then, the following rules for spreading are applied: (i) in a given airport pandemic lasts only for one round and (ii) in the next round, with probability $\\alpha$, the pandemic spreads independently along the flight routes to the destination airports for all connections starting from this airport. Airports can interact with the pandemic many times, and the process either goes on forever or the pandemic eventually dies out. \n",
    "Our goal is to find the sum over all airports of the expected number of times this airport has the pandemic.*\n",
    "\n",
    "We use $\\alpha$ = 0.1 and plot the (decreasing) delta centrality values in a barplot, using the same 3 colors are with the coreness plot above."
   ]
  },
  {
   "cell_type": "code",
   "execution_count": null,
   "metadata": {},
   "outputs": [],
   "source": [
    "## Delta-centrality with a simple pandemic spread model\n",
    "function spread(A::AbstractMatrix, α=0.1)\n",
    "    One = ones(size(A, 1))\n",
    "    X = I - α * transpose(A)\n",
    "    return transpose(One) * (X \\ One) / size(A, 1)\n",
    "end\n",
    "\n",
    "function spread_delta_centrality(g::SimpleDiGraph, α=0.1)\n",
    "    A = Matrix(adjacency_matrix(g))\n",
    "    dc = Float64[]\n",
    "    spr = spread(A, α)\n",
    "    for i in 1:nv(g)\n",
    "        A′ = copy(A)\n",
    "        A′[i, :] .= 0\n",
    "        A′[:, i] .= 0\n",
    "        push!(dc, (spr - spread(A′, α)) / spr)\n",
    "    end\n",
    "    return dc\n",
    "end"
   ]
  },
  {
   "cell_type": "code",
   "execution_count": null,
   "metadata": {},
   "outputs": [],
   "source": [
    "df.delta = spread_delta_centrality(SimpleDiGraph(G))\n",
    "df2 = sort(df, :delta, rev=true)\n",
    "first(df2, 5)"
   ]
  },
  {
   "cell_type": "code",
   "execution_count": null,
   "metadata": {},
   "outputs": [],
   "source": [
    "heights = df2.delta\n",
    "bars = df2.airport\n",
    "y_pos = axes(bars, 1)\n",
    "bar(y_pos, heights, color=recode(get.(df2.core_grp), \"high\" => \"black\", \"mid\" => \"gray\", \"low\" => \"lightgray\"))\n",
    "# Rotation of the bars names\n",
    "ylabel(\"Delta Centrality\", fontsize=12)\n",
    "xticks(y_pos, bars, rotation=90)\n",
    "yticks();"
   ]
  },
  {
   "cell_type": "markdown",
   "metadata": {},
   "source": [
    "## Group centrality and centralization\n",
    "\n",
    "We go back to the full airports graph, and we ask the following questions:\n",
    "\n",
    "* which states have highest delta centralities with respect to efficiency?\n",
    "* what about centralization for each state subgraph?\n",
    "\n",
    "Computing efficiency involves the computation of shortest path lengths, which will cause a warning if the graph is disconnected.\n"
   ]
  },
  {
   "cell_type": "code",
   "execution_count": null,
   "metadata": {},
   "outputs": [],
   "source": [
    "## group delta centrality\n",
    "function efficiency(g::SimpleDiGraph)\n",
    "    n = nv(g)\n",
    "    s = 0\n",
    "    for i in 1:n\n",
    "        v = gdistances(g, i)\n",
    "        s += sum([1 / x for x in v if 0 < x < n])\n",
    "    end\n",
    "    return s / (n * (n - 1))\n",
    "end"
   ]
  },
  {
   "cell_type": "code",
   "execution_count": null,
   "metadata": {},
   "outputs": [],
   "source": [
    "sg = SimpleDiGraph(g)\n",
    "states = unique(A.state)\n",
    "eff_us = efficiency(sg)\n",
    "dc = Float64[]\n",
    "for s in states\n",
    "    v = findall(==(s), A.state)\n",
    "    csg = copy(sg)\n",
    "    for i in 1:nv(csg), j in v\n",
    "        rem_edge!(csg, i, j)\n",
    "        rem_edge!(csg, j, i)\n",
    "    end\n",
    "    push!(dc, (eff_us - efficiency(csg)) / eff_us)\n",
    "end\n",
    "DC = DataFrame(state=states, delta_centrality=dc)\n",
    "sort!(DC, :delta_centrality, rev=true)\n",
    "first(DC, 3)"
   ]
  },
  {
   "cell_type": "code",
   "execution_count": null,
   "metadata": {},
   "outputs": [],
   "source": [
    "## ... and bottom states\n",
    "last(DC, 3)"
   ]
  },
  {
   "cell_type": "markdown",
   "metadata": {},
   "source": [
    "For group centralization, we use the PageRank measure."
   ]
  },
  {
   "cell_type": "code",
   "execution_count": null,
   "metadata": {},
   "outputs": [],
   "source": [
    "## group centralization (using PageRank) -- by state\n",
    "states = unique(A.state)\n",
    "pr = Float64[]\n",
    "st = String[]\n",
    "for s in states\n",
    "    v = findall(==(s), A.state)\n",
    "    if length(v) > 5 ## look at states with more than 5 airports only\n",
    "        G = induced_subgraph(g, v)[1]\n",
    "        p = pagerank_simple(G)\n",
    "        push!(pr, maximum(p) - mean(p))\n",
    "        push!(st, s)\n",
    "    end\n",
    "end\n",
    "\n",
    "DC = DataFrame(\"State\" => st, \"Pagerank Centralization\" => pr)\n",
    "first(sort!(DC, 2, rev=true), 5)"
   ]
  },
  {
   "cell_type": "markdown",
   "metadata": {},
   "source": [
    "We plot the state with highest PageRank centralization (Michigan).\n",
    "\n",
    "This is a state with one high degree airport (DTW)."
   ]
  },
  {
   "cell_type": "code",
   "execution_count": null,
   "metadata": {},
   "outputs": [],
   "source": [
    "Random.seed!(12)\n",
    "v = findall(==(\"MI\"), A.state)\n",
    "G = induced_subgraph(g, v)[1]\n",
    "NZ = findall(>(0), degree(G))\n",
    "G = induced_subgraph(G, NZ)[1]\n",
    "gplot(G,\n",
    "      NODESIZE=0.03, nodefillc=[x == \"DET\" ? \"red\" : \"black\" for x in A.airport[v]],\n",
    "      EDGELINEWIDTH=0.2, edgestrokec=\"lightgray\", arrowlengthfrac=0.05,\n",
    "      linetype=\"curve\")"
   ]
  },
  {
   "cell_type": "code",
   "execution_count": null,
   "metadata": {},
   "outputs": [],
   "source": [
    "## one big hub airport: DTW (Detroit)\n",
    "degs = degree(G)\n",
    "for (i, v) in enumerate(v[NZ])\n",
    "    println(A.city[v], \" \", A.airport[v], \" has degree \", degs[i])\n",
    "end"
   ]
  },
  {
   "cell_type": "markdown",
   "metadata": {},
   "source": [
    "We plot the state with lowest PageRank centralization (ND).\n",
    "\n",
    "This is a state without high degree (hub) airport."
   ]
  },
  {
   "cell_type": "code",
   "execution_count": null,
   "metadata": {},
   "outputs": [],
   "source": [
    "## lowest ones\n",
    "last(DC, 5)"
   ]
  },
  {
   "cell_type": "code",
   "execution_count": null,
   "metadata": {},
   "outputs": [],
   "source": [
    "Random.seed!(3)\n",
    "v = findall(==(\"ND\"), A.state)\n",
    "G = induced_subgraph(g, v)[1]\n",
    "NZ = findall(>(0), degree(G))\n",
    "G = induced_subgraph(G, NZ)[1]\n",
    "gplot(G,\n",
    "      NODESIZE=0.03, nodefillc=\"black\",\n",
    "      EDGELINEWIDTH=0.2, edgestrokec=\"gray\", arrowlengthfrac=0.05,\n",
    "      linetype=\"curve\")"
   ]
  },
  {
   "cell_type": "code",
   "execution_count": null,
   "metadata": {},
   "outputs": [],
   "source": [
    "## no big hub city here\n",
    "Set(A.city[v])"
   ]
  },
  {
   "cell_type": "markdown",
   "metadata": {},
   "source": [
    "What should we expect for California? There are hub airports, but several ones. "
   ]
  },
  {
   "cell_type": "code",
   "execution_count": null,
   "metadata": {},
   "outputs": [],
   "source": [
    "# what about California\n",
    "DC[DC.State.==\"CA\", :]"
   ]
  },
  {
   "cell_type": "markdown",
   "metadata": {},
   "source": [
    "# Extra material"
   ]
  },
  {
   "cell_type": "markdown",
   "metadata": {},
   "source": [
    "### Figure 3.1 - empirical tests\n",
    "\n",
    "The code below can be used to obtain the equivalent of Figure 3.1 in the book for different values of $n$, the number of nodes. Large $n$ values will generate a plot like the one in the book."
   ]
  },
  {
   "cell_type": "code",
   "execution_count": null,
   "metadata": {},
   "outputs": [],
   "source": [
    "## G(n,p) graph and k-cores - fraction of nodes in k-core vs average degree\n",
    "n = 25000\n",
    "Random.seed!(123)\n",
    "\n",
    "## Generate the graphs and store coreness\n",
    "## Vary average degree (thus, number of edges to generate)\n",
    "avg_deg = 0:0.5:16.0\n",
    "n_edges = [round(Int, n * i / 2) for i in avg_deg]\n",
    "\n",
    "C = []\n",
    "for m in n_edges\n",
    "    g = erdos_renyi(n, m)\n",
    "    C = append!(C, [core_number(g)])\n",
    "end\n",
    "\n",
    "# Plot\n",
    "fig, ax = subplots(1)\n",
    "S = [sum(C[i] .>= 1) / n for i in 1:length(avg_deg)]\n",
    "X = [avg_deg[i] for i in 1:length(avg_deg) if S[i] >= 0]\n",
    "Y = [S[i] for i in 1:length(avg_deg) if S[i] >= 0]\n",
    "ax.plot(X, Y)\n",
    "ax.text(0.2, 0, \"1\")\n",
    "\n",
    "for k in 2:10\n",
    "    S = [sum(C[i] .>= k) / n for i in 1:length(avg_deg)]\n",
    "    X = [avg_deg[i] for i in 1:length(avg_deg) if S[i] > 0]\n",
    "    Y = [S[i] for i in 1:length(avg_deg) if S[i] > 0]\n",
    "    ax.plot(X, Y)\n",
    "    ax.text(minimum(X) + 0.2, minimum(Y), string(k))\n",
    "end\n",
    "\n",
    "ax.set_xlabel(\"average degree\", fontsize=14)\n",
    "ax.set_ylabel(\"fraction of nodes\", fontsize=14)\n",
    "ax.set_title(\"Order of k-cores with \" * string(n) * \" nodes\", fontsize=14);\n"
   ]
  }
 ],
 "metadata": {
  "kernelspec": {
   "display_name": "Julia 1.11.5",
   "language": "julia",
   "name": "julia-1.11"
  },
  "language_info": {
   "file_extension": ".jl",
   "mimetype": "application/julia",
   "name": "julia",
   "version": "1.11.5"
  }
 },
 "nbformat": 4,
 "nbformat_minor": 2
}
