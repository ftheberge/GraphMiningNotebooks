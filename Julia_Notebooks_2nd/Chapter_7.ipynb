{
 "cells": [
  {
   "cell_type": "markdown",
   "metadata": {},
   "source": [
    "# Chapter 7 - Hypergraphs\n",
    "\n",
    "In this notebook, we introduce hypergraphs, a generalization of graphs where we allow for arbitrary sized edges (in practice, we usually consider only edges of size 2 or more). \n",
    "\n",
    "We illustrate a few concepts using hypergraphs including modularity, community detection, simpliciality and transformation into 2-section graphs.\n"
   ]
  },
  {
   "cell_type": "code",
   "execution_count": null,
   "metadata": {},
   "outputs": [],
   "source": [
    "using Combinatorics\n",
    "using CSV, DataFrames\n",
    "using DelimitedFiles\n",
    "using JSON\n",
    "using PythonCall\n",
    "using Random\n",
    "using CondaPkg\n",
    "using StatsBase\n",
    "using Serialization"
   ]
  },
  {
   "cell_type": "code",
   "execution_count": null,
   "metadata": {},
   "outputs": [],
   "source": [
    "CondaPkg.withenv() do\n",
    "  run(`python -m ensurepip`)\n",
    "  run(`python -m pip install fastnode2vec`)\n",
    "end"
   ]
  },
  {
   "cell_type": "code",
   "execution_count": null,
   "metadata": {},
   "outputs": [],
   "source": [
    "warnings = pyimport(\"warnings\")\n",
    "warnings.filterwarnings(\"ignore\")\n",
    "hnx = pyimport(\"hypernetx\")\n",
    "hmod = pyimport(\"hypernetx.algorithms.hypergraph_modularity\")\n",
    "plt = pyimport(\"matplotlib.pyplot\")\n",
    "random = pyimport(\"random\")\n",
    "ig = pyimport(\"igraph\")\n",
    "pyimport(\"sys\").\"path\".append(\"\")\n",
    "spl = pyimport(\"simpliciality\")\n",
    "hl = pyimport(\"h_louvain\")\n",
    "AMI = pyimport(\"sklearn.metrics\").adjusted_mutual_info_score\n",
    "train_test_split = pyimport(\"sklearn.model_selection\").train_test_split\n",
    "RandomForestClassifier = pyimport(\"sklearn.ensemble\").RandomForestClassifier\n",
    "confusion_matrix = pyimport(\"sklearn.metrics\").confusion_matrix\n",
    "umap = pyimport(\"umap\")\n",
    "sns = pyimport(\"seaborn\")\n",
    "xgi = pyimport(\"xgi\")\n",
    "pickle = pyimport(\"pickle\")"
   ]
  },
  {
   "cell_type": "code",
   "execution_count": null,
   "metadata": {},
   "outputs": [],
   "source": [
    "## Set this to the data directory\n",
    "datadir = \"../Datasets/\""
   ]
  },
  {
   "cell_type": "code",
   "execution_count": null,
   "metadata": {},
   "outputs": [],
   "source": [
    "## to compute degree-size correlation\n",
    "function h_deg_size_corr(H)\n",
    "    deg = Dict(pyconvert(String, v) => pyconvert(Int, H.degree(v)) for v in H.nodes)\n",
    "    X = Int[]\n",
    "    Y = Int[]\n",
    "\n",
    "    for e in H.edges\n",
    "        for v in H.edges[e]\n",
    "            push!(X, deg[pyconvert(String, v)])\n",
    "            push!(Y, length(H.edges[e]))\n",
    "        end\n",
    "    end\n",
    "\n",
    "    return (X, Y, cor(X, Y))\n",
    "end"
   ]
  },
  {
   "cell_type": "code",
   "execution_count": null,
   "metadata": {},
   "outputs": [],
   "source": [
    "pyDict(x...) = pydict(Dict(x...))"
   ]
  },
  {
   "cell_type": "code",
   "execution_count": null,
   "metadata": {},
   "outputs": [],
   "source": [
    "## read embedding from disk, in node2vec format\n",
    "function readEmbedding(fn::String=\"_embed\", sort::Bool=true)\n",
    "    df = CSV.File(fn; delim=' ', header=false, skipto=2) |> DataFrame\n",
    "    # Drop any columns that are entirely missing\n",
    "    df = df[:, all.(!ismissing, eachcol(df))]\n",
    "    sort && sort!(df, :Column1)\n",
    "    Y = Matrix(df[:, 2:end])\n",
    "    return Y\n",
    "end"
   ]
  },
  {
   "cell_type": "markdown",
   "metadata": {},
   "source": [
    "# HyperNetX basics with a toy hypergraph\n",
    "\n",
    "We illustrate a few concepts with a toy hypergraph. \n",
    "\n",
    "First, we build the HNX hypergraph from a list of sets (the hyperedges), and we draw the hypergraph as well as its dual (where the role of nodes and hyperedges are swapped).\n"
   ]
  },
  {
   "cell_type": "code",
   "execution_count": null,
   "metadata": {},
   "outputs": [],
   "source": [
    "## build an hypergraph from a vector of hyperedges\n",
    "E = [Set([\"A\", \"B\"]),\n",
    "     Set([\"A\", \"C\"]),\n",
    "     Set([\"A\", \"B\", \"C\"]),\n",
    "     Set([\"A\", \"D\", \"E\", \"F\"]),\n",
    "     Set([\"D\", \"F\"]),\n",
    "     Set([\"E\", \"F\"]),\n",
    "     Set([\"B\"]),\n",
    "     Set([\"G\", \"B\"])]\n",
    "H = hnx.Hypergraph(pyDict(enumerate(E)))\n",
    "hnx.draw(H, edges_kwargs=pyDict(\"edgecolors\" => \"gray\"))\n",
    "plt.gcf()"
   ]
  },
  {
   "cell_type": "code",
   "execution_count": null,
   "metadata": {},
   "outputs": [],
   "source": [
    "## dual hypergraph\n",
    "H_dual = H.dual()\n",
    "hnx.draw(H_dual, edges_kwargs=pyDict(\"edgecolors\" => \"gray\"))\n",
    "plt.gcf()"
   ]
  },
  {
   "cell_type": "code",
   "execution_count": null,
   "metadata": {},
   "outputs": [],
   "source": [
    "## bipartite representation\n",
    "B = ig.Graph.from_networkx(H.bipartite())\n",
    "B.vs[\"label\"] = B.vs[\"_nx_name\"]\n",
    "ly = B.layout_bipartite(types=\"bipartite\")\n",
    "ig.plot(B, bbox=(400, 300), vertex_color=\"white\", layout=ly, vertex_label_size=14, edge_color=\"black\")"
   ]
  },
  {
   "cell_type": "code",
   "execution_count": null,
   "metadata": {},
   "outputs": [],
   "source": [
    "## show the nodes and edges\n",
    "println(\"shape:\", H.shape)\n",
    "println(\"nodes:\", [x for x in H.nodes()])\n",
    "println(\"edges:\", pyconvert.(Int, [x for x in H.edges()]))\n",
    "println(\"node degrees:\", pyconvert(Tuple, [(v, H.degree(v)) for v in H.nodes()]))\n",
    "println(\"edge sizes:\", [H.size(e) for e in H.edges()])"
   ]
  },
  {
   "cell_type": "code",
   "execution_count": null,
   "metadata": {},
   "outputs": [],
   "source": [
    "## incidence dictionary\n",
    "pyconvert(Dict, H.incidence_dict)"
   ]
  },
  {
   "cell_type": "code",
   "execution_count": null,
   "metadata": {},
   "outputs": [],
   "source": [
    "## incidence matrix\n",
    "pyconvert(Matrix, H.incidence_matrix().toarray())"
   ]
  },
  {
   "cell_type": "code",
   "execution_count": null,
   "metadata": {},
   "outputs": [],
   "source": [
    "## 2-section graph\n",
    "G = hmod.two_section(H)\n",
    "ig.plot(G, bbox=(400, 300), vertex_label=G.vs[\"name\"],\n",
    "        vertex_label_size=12, vertex_color=\"lightblue\",\n",
    "        edge_width=G.es[\"weight\"])"
   ]
  },
  {
   "cell_type": "markdown",
   "metadata": {},
   "source": [
    "## s-walks and distance-based measures\n",
    "\n",
    "We illustrate a few concepts with the toy hypergraph defined earlier.\n",
    "\n",
    "Let $H=(V,E)$ a hypergraph, and consider its incidence matrix $B$ as defined in section 7.2. \n",
    "Consider also the dual hypergraph $H^*$, where the roles of nodes are hyperedges are swapped, \n",
    "namely the edges in $H$ are the nodes in $H^*$, \n",
    "and there is as edge two vertices in $H^*$ if the corresponding hyperedges in $H$ have a non-empty intersection.\n",
    "\n",
    "### s-walks and distances\n",
    "\n",
    "We define the concept of $s$-walks on a hypergraph as follows. A $s$-**walk** of length $k$ on $H$ is a sequences of edges $e_{i_0}, e_{i_1}, ..., e_{i_k}$ in $E$ such that \n",
    "all $|e_{i_{j-1}} \\cap e_{i_j}| \\ge s$ for $1 \\le j \\le k$ and all $i_{j-1} \\ne i_j$.\n",
    "\n",
    "The $s$-**distance** $d_s(e_i,e_j)$ between edges $e_i$ and $e_j$ is the length of the smallest $s$-walk between those, if it exists (else the distance is usually considered as infinity, and its inverse is set to zero).\n",
    "\n",
    "A subset $E_s \\subset E$ is an $s$-**connected component** if it is a maximal subset with an $s$-walk between all $e_i, e_j \\in E_s$.\n",
    "The $s$-**diameter** for $E_s$ is the maximal shortest path length between all $e_i, e_j \\in E_s$.\n",
    "\n",
    "Other concepts can also be defined using $s$-walks. For example for distinct $e_i, e_j, e_k \\in E$, if there is a $s$-walk $e_i, e_j, e_k$, we say that they form an $s$-**wedge**, and if there is an $s$ walk $e_i, e_j, e_k, e_i$, we can say those form an $s$-**triangle** and from those, we can define the $s$-**clustering coefficients** as in section 1.11.\n",
    "\n",
    "For **nodes**, all definitions above follow by considering the **dual** hypergraph. For example, a $s$-walk is a sequence of adjacent nodes such that each consecutive node pair in the walk share at least $s$ hyperedges; all other concepts defined above follow directly.\n",
    "\n",
    "#### toy example\n",
    "\n",
    "In the toy example above, with $s=2$, the sequence of edges 1-2-0 is an $s$-path since edges 1 and 2 share nodes A and C, and edges 2 and 0 share nodes A and B.\n",
    "\n",
    "In the dual toy hypergraph, again with $s=2$, the sequence of nodes (edges in the dual) D-F-E is a $s$-path since nodes D and F are both incident to edges 3 and 4, and nodes F and E are both incident to edges 3 and 5. \n",
    "Another $s$-path (with $s=2$) is C-A-B.\n",
    "\n",
    "With $s=1$, this corresponds to a walk on the (unweighted 2-section) graph, while for $s \\ge 2$, this concept only applies to hypergraphs.\n",
    "\n",
    "Below, we compute the distances between every pair of nodes (thus, using the $s$-walks on the dual). An infinite distance between a pair of nodes means that there is no $s$-path joining those.\n",
    "\n",
    "We see the correspondence between the $s=1$ and graph cases; moreover in those cases, we have a single connected component since every pairs of nodes is connected by a path.\n",
    "\n",
    "With $s=2$, we see several disconnected node pairs, so in this case, we have several $s$-connected components. From inspection of the table below, we see that nodes {A,B,C} are connected,\n",
    "nodes {D,E,F} are connected; node G is then an isolated node. We verify this claim below (we also do the same with the edges, i.e. using the $s$-walk on $H$ with $s=2$)                                             "
   ]
  },
  {
   "cell_type": "code",
   "execution_count": null,
   "metadata": {},
   "outputs": [],
   "source": [
    "py_E = [Set([\"A\", \"B\"]),\n",
    "    Set([\"A\", \"C\"]),\n",
    "    Set([\"A\", \"B\", \"C\"]),\n",
    "    Set([\"A\", \"D\", \"E\", \"F\"]),\n",
    "    Set([\"D\", \"F\"]),\n",
    "    Set([\"E\", \"F\"]),\n",
    "    Set([\"B\"]),\n",
    "    Set([\"G\", \"B\"])]\n",
    "py_H = hnx.Hypergraph(Dict(enumerate(py_E)))\n",
    "py_G = hmod.two_section(py_H)"
   ]
  },
  {
   "cell_type": "code",
   "execution_count": null,
   "metadata": {},
   "outputs": [],
   "source": [
    "## distances with s=1 and s=2 and on the 2-section graph\n",
    "Nodes = [\"A\", \"B\", \"C\", \"D\", \"E\", \"F\", \"G\"]\n",
    "L = []\n",
    "for i in 1:length(Nodes)-1\n",
    "    for j in (i+1):length(Nodes)\n",
    "        push!(L, [Nodes[i], Nodes[j], G.distances(Nodes[i], Nodes[j])[0][0],\n",
    "            H.distance(Nodes[i], Nodes[j]), H.distance(Nodes[i], Nodes[j], s=2)])\n",
    "    end\n",
    "end\n",
    "df = DataFrame(permutedims(hcat(L...)), [\"node1\", \"node2\", \"2-section\", \"s=1\", \"s=2\"])\n",
    "df"
   ]
  },
  {
   "cell_type": "code",
   "execution_count": null,
   "metadata": {},
   "outputs": [],
   "source": [
    "## s=2 components\n",
    "Edges = [cc for cc in H.s_connected_components(s=2, return_singletons=true)]\n",
    "Nodes = [cc for cc in H.s_connected_components(s=2, edges=false, return_singletons=true)]\n",
    "println(\"s=2, connected components for the nodes:\", pyconvert(Vector{Vector{String}}, Nodes))\n",
    "println(\"s=2, connected components for the edges:\", pyconvert(Vector{Vector{Int}}, Edges))\n"
   ]
  },
  {
   "cell_type": "markdown",
   "metadata": {},
   "source": [
    "## Line graph\n",
    "\n",
    "Below we illustrate the **line graph** for the toy hypergraph and its dual, with $s=2$.\n",
    "\n",
    "Recall that in a line graph, the nodes are the edges in the original hypergraph, \n",
    "and an edge is draw between those if they share at least $s$ nodes in the original hypergraph.\n",
    "\n",
    "We see the same connected components as listed above.\n"
   ]
  },
  {
   "cell_type": "code",
   "execution_count": null,
   "metadata": {
    "scrolled": false
   },
   "outputs": [],
   "source": [
    "## linegraph\n",
    "LG = ig.Graph.from_networkx(H.get_linegraph(s=2))\n",
    "ig.plot(LG, bbox=(200, 200), vertex_label=LG.vs[\"_nx_name\"], vertex_label_size=9, vertex_color=\"lightgrey\")"
   ]
  },
  {
   "cell_type": "code",
   "execution_count": null,
   "metadata": {},
   "outputs": [],
   "source": [
    "## dual\"s linegraph\n",
    "DLG = ig.Graph.from_networkx(H.dual().get_linegraph(s=2))\n",
    "ig.plot(DLG, bbox=(200, 200), vertex_label=DLG.vs[\"_nx_name\"], vertex_label_size=9, vertex_color=\"lightgrey\")"
   ]
  },
  {
   "cell_type": "markdown",
   "metadata": {},
   "source": [
    "##  Centrality measures\n",
    "\n",
    "For $H=(V,E)$, we define the **$s$-harmonic centrality** for edge $e_i \\in E$ as:\n",
    "$\\frac{1}{|E|-1}\\sum_{e_j \\in E_s; e_i \\ne e_j} \\frac{1}{d_s(e_i,e_j)}$.\n",
    "Recall that for $s$-disconnected edges $e_i, e_j$, we set $\\frac{1}{d_s(e_i,e_j)} = 0$.\n",
    "\n",
    "* n.b.: The HyperNetX implementation uses a different normalization, namely $(|E|-1)(|E|-2)/2$.\n",
    "\n",
    "For nodes, the definition is identical using the dual hypergraph.\n",
    "For our toy example, with $s=2$, nodes {A,B,C} form a connected connected component as we saw earlier, same\n",
    "for nodes {D,E,F}, while node G is an isolated node.\n",
    "\n",
    "Looking at the table of distances we computed earlier, we see that $d_2(A,B)=d_2(A,C)=1$ and $d_2(B,C)$=2,\n",
    "so before normalization, the harmonic centrality for A is 2, and for B and C it is 1.5.\n",
    "Results are comparable for the other connected component, with values of 1.5 for nodes D and E, and 2 for node F.\n",
    "Node G is isolated and thus has zero harmonic centrality.\n",
    "\n",
    "We can also define $s$-**betweenness centrality** as we did for graphs, namely for edge $e_i \\in E$:\n",
    "\n",
    "$\\frac{1}{(|E|-1)(|E|-2)}\\sum_{e_j \\in E-\\{e_i\\}} \\sum_{e_k \\in E-\\{e_i, e_j\\}} \\frac{\\ell(e_j,e_k,e_i)}{\\ell(e_j,e_k)}$\n",
    "\n",
    "where: $\\ell(e_j,e_k)$ is the number of shortest $s$-paths between $e_j$ and $e_k$, \n",
    "and $\\ell(e_j,e_k,e_i)$ is the number of shortest $s$-paths between $e_j$ and $e_k$ that include $e_i$.\n",
    "Again the definition is the same for nodes using the dual hypergraph.\n",
    "\n",
    "For our toy example, with $s=2$, the only nodes that are on shortest $s$-paths between other nodes are nodes A (between B and C)\n",
    "and node F (between D and E), thus the results we see below.\n",
    "\n",
    "Other distance-based centrality measures can be defined for hypergraphs in the same way, using $s$-distances,\n",
    "including the measures we covered in Section 3.3. \n",
    "In the example below, we also show **closeness centrality**; note that by default, the computation is done separately for each $s$-connected component, thus the results below.\n",
    "\n",
    "Computing **eccentricity** (the length of the longest shortest path from a vertex to every other vertex in\n",
    "the s-linegraph) with $s=2$ returns an error since some node are not connected, so we show the results for $s=1$.\n"
   ]
  },
  {
   "cell_type": "code",
   "execution_count": null,
   "metadata": {},
   "outputs": [],
   "source": [
    "## eccentricity - this yields an error with s > 1\n",
    "hnx.algorithms.s_eccentricity(H, edges=false, s=1)"
   ]
  },
  {
   "cell_type": "code",
   "execution_count": null,
   "metadata": {},
   "outputs": [],
   "source": [
    "## centralities for \"s=2\"\n",
    "s = 2\n",
    "\n",
    "hc = hnx.algorithms.s_harmonic_centrality(H, edges=false, s=s, normalized=false)\n",
    "bc = hnx.algorithms.s_betweenness_centrality(H, edges=false, s=s, normalized=false)\n",
    "cc = hnx.algorithms.s_closeness_centrality(H, edges=false, s=s)\n",
    "\n",
    "## normalize w.r.t. definition in the book\n",
    "n = length(H.nodes)\n",
    "data = [[v,\n",
    "    hc[v] / (n - 1),\n",
    "    2 * bc[v] / ((n - 1) * (n - 2)),\n",
    "    cc[v]] for v in H.nodes]\n",
    "\n",
    "D = DataFrame(permutedims(hcat(data...)), [:node, :harmonic, :betweenness, :closeness])\n",
    "sort(D, :harmonic, rev=true)\n"
   ]
  },
  {
   "cell_type": "markdown",
   "metadata": {},
   "source": [
    "## hypergraph modularity (qH) and clustering\n",
    "\n",
    "We compute qH on the toy graph for 4 different partitions, and using different variations for the edge contribution (a.k.a. $\\tau$-modularity).\n",
    "\n",
    "For edges of size $d$ where $c$ is the number of nodes from the part with the most representatives, we consider  variations as follows for edge contribution:\n",
    "\n",
    "* **strict**: edges are considered only if all nodes are from the same part, with unit weight, i.e. $w$ = 1 iff $c == d$ (0 else).\n",
    "* **cubic**: edges are counted only if more that half the nodes are from the same part, with weights proportional to the cube of the number of nodes in the majority, i.e. $w = (c/d)^3$ iff $c>d/2$ (0 else).\n",
    "* **quadratic**: edges are counted only if more that half the nodes are from the same part, with weights proportional to the square of the number of nodes in the majority, i.e. $w = (c/d)^2$ iff $c>d/2$ (0 else).\n",
    "* **linear**: edges are counted only if more that half the nodes are from the same part, with weights proportional to the number of nodes in the majority, i.e. $w = c/d$ iff $c>d/2$ (0 else).\n",
    "* **majority**: edges are counted only if more that half the nodes are from the same part, with unit weights, i.e. $w$ = 1 iff $c>d/2$ (0 else).\n",
    "\n",
    "Some of the above are supplied with the `hmod` module, the **qH2** and **qH3** functions are examples of user-supplied choice.\n",
    "\n",
    "The order above goes from only counting \"pure\" edges as community edges, gradually giving more weight to edges with $c>d/2$, all the way to giving the the same weights.\n"
   ]
  },
  {
   "cell_type": "code",
   "execution_count": null,
   "metadata": {
    "scrolled": false
   },
   "outputs": [],
   "source": [
    "## these will be included in the next version of hmod\n",
    "## square modularity weights\n",
    "function qH2(d, c)\n",
    "    return c > d / 2 ? (c / d)^2 : 0\n",
    "end\n",
    "## cubic modularity weights\n",
    "function qH3(d, c)\n",
    "    return c > d / 2 ? (c / d)^3 : 0\n",
    "end\n",
    "\n",
    "## compute hypergraph modularity (qH) for the following partitions:\n",
    "A1 = [Set([\"A\", \"B\", \"C\", \"G\"]), Set([\"D\", \"E\", \"F\"])]\n",
    "A2 = [Set([\"B\", \"C\"]), Set([\"A\", \"D\", \"E\", \"F\", \"G\"])]\n",
    "A3 = [Set([\"A\", \"B\", \"C\", \"D\", \"E\", \"F\", \"G\"])]\n",
    "A4 = [Set([\"A\"]), Set([\"B\"]), Set([\"C\"]), Set([\"D\"]), Set([\"E\"]), Set([\"F\"]), Set([\"G\"])]\n",
    "\n",
    "## we compute with different choices of functions for the edge contribution\n",
    "for fun in [hmod.strict, qH3, qH2, hmod.linear, hmod.majority]\n",
    "    println(\"qH(A1): \", hmod.modularity(H, A1, fun),\n",
    "        \"  qH(A2): \", hmod.modularity(H, A2, fun),\n",
    "        \"  qH(A3): \", hmod.modularity(H, A3, fun),\n",
    "        \"  qH(A4): \", hmod.modularity(H, A4, fun))\n",
    "end"
   ]
  },
  {
   "cell_type": "markdown",
   "metadata": {},
   "source": [
    "### weighted 2-section graph\n",
    "\n",
    "We already built the 2-section weighted graph **G** for the above toy hypergraph.\n",
    "\n",
    "Here we run Leiden clustering algorithm on this graph, and compare with Kumar\"s hypergraph clustering algorithm.\n",
    "\n",
    "We run each algorithm multiple times to show the difference in performance. In general, hypergraph-based algorithms are much slower than graph-based algorithms.\n"
   ]
  },
  {
   "cell_type": "code",
   "execution_count": null,
   "metadata": {},
   "outputs": [],
   "source": [
    "## 2-section graph\n",
    "G.vs[\"label\"] = G.vs[\"name\"]\n",
    "ig.plot(G, bbox=(0, 0, 250, 250), edge_width=G.es[\"weight\"],\n",
    "        vertex_color=\"gainsboro\", vertex_label_size=10)"
   ]
  },
  {
   "cell_type": "code",
   "execution_count": null,
   "metadata": {},
   "outputs": [],
   "source": [
    "## 2-section clustering with Leiden\n",
    "@time begin\n",
    "    for i in 1:100\n",
    "        G.vs[\"community\"] = G.community_leiden(objective_function=\"modularity\", weights=\"weight\").membership\n",
    "    end\n",
    "end\n",
    "println(\"clusters:\", hmod.dict2part(pyDict(v[\"name\"] => v[\"community\"] for v in G.vs)))\n"
   ]
  },
  {
   "cell_type": "code",
   "execution_count": null,
   "metadata": {},
   "outputs": [],
   "source": [
    "## Kumar clustering\n",
    "cl = nothing\n",
    "@time begin\n",
    "    for i in 1:100\n",
    "        cl = hmod.kumar(H)\n",
    "    end\n",
    "end\n",
    "println(\"clusters:\", cl)"
   ]
  },
  {
   "cell_type": "markdown",
   "metadata": {},
   "source": [
    "## Simplicial ratio\n",
    "\n",
    "We use the same toy graph, but we remove the singleton edge {\"B\"}.\n",
    "\n",
    "First, we see a simplicial ratio slightly above 1, and we also see that the two simplicial pairs between 2-edges and 3-edges are more surprising that the two pairs between 2-edges and 4-edges.\n"
   ]
  },
  {
   "cell_type": "code",
   "execution_count": null,
   "metadata": {
    "scrolled": false
   },
   "outputs": [],
   "source": [
    "## toy example without the singleton edge\n",
    "vertices = pylist([v for v in H.nodes()])\n",
    "edges = pylist(pyset.([Set([\"A\", \"B\"]),\n",
    "    Set([\"A\", \"C\"]),\n",
    "    Set([\"A\", \"B\", \"C\"]),\n",
    "    Set([\"A\", \"D\", \"E\", \"F\"]),\n",
    "    Set([\"D\", \"F\"]),\n",
    "    Set([\"E\", \"F\"]),\n",
    "    Set([\"G\", \"B\"])]))\n",
    "## simplicial ratio\n",
    "random.seed(42)\n",
    "spl.get_simplicial_ratio(vertices, edges, samples=1000)\n"
   ]
  },
  {
   "cell_type": "code",
   "execution_count": null,
   "metadata": {},
   "outputs": [],
   "source": [
    "## simplicial matrix\n",
    "random.seed(42)\n",
    "spl.get_simplicial_matrix(vertices, edges, samples=1000)"
   ]
  },
  {
   "cell_type": "code",
   "execution_count": null,
   "metadata": {},
   "outputs": [],
   "source": [
    "## number of simplicial pairs\n",
    "spl.get_simplicial_pairs(vertices, edges, as_matrix=true)"
   ]
  },
  {
   "cell_type": "markdown",
   "metadata": {},
   "source": [
    "### Other simpliciality measures\n",
    "\n",
    "* no 3+ edge has downward closure, so the fraction is 0\n",
    "* edit simpliciality is 7/16, since 9 edges would need to be added to get downward closures\n",
    "* face edit simpliciality: the two values for maximal edges are 3/4 and 3/11 (keeping the maximal face in the counts) or 2/3 and 2/10 otherwise\n",
    "    "
   ]
  },
  {
   "cell_type": "code",
   "execution_count": null,
   "metadata": {
    "scrolled": false
   },
   "outputs": [],
   "source": [
    "println(\"Simplicial fraction:\", spl.get_simplicial_fraction(vertices, edges))\n",
    "println(\"Edit simpliciality:\", spl.get_edit_simpliciality(vertices, edges))\n",
    "println(\"Face edit simpliciality:\", spl.get_face_edit_simpliciality(vertices, edges, exclude_self=false))\n",
    "println(\"Face edit simpliciality:\", spl.get_face_edit_simpliciality(vertices, edges, exclude_self=true))"
   ]
  },
  {
   "cell_type": "markdown",
   "metadata": {},
   "source": [
    "# h-ABCD Examples\n",
    "\n",
    "Julia code to generate h-ABCD benchmarks ca be found here:\n",
    "https://github.com/bkamins/ABCDHypergraphGenerator.jl\n",
    "\n",
    "The first small h-ABCD hypergraph we use next was generated as follows:\n",
    "\n",
    "`julia --project abcdh.jl -n 100 -d 2.5,3,10 -c 1.5,30,40 -x .2 -q 0,.3,.4,.3 -w :strict -s 123 -o toy_100`\n",
    "\n",
    "It has 100 nodes and 3 well-defined communities. We will use this example mainly for visualization.\n",
    "\n",
    "The second one, which is much more noisy, was generated as follows:\n",
    "\n",
    "`julia --project abcdh.jl -n 300 -d 2.5,5,30 -c 1.5,80,120 -x .6 -q 0,0,.1,.9 -w :strict -s 123 -o toy_300`\n",
    "\n",
    "We will use this example to show that optimizing the appropriate hypergraph modularity function can lead to better clustering in some cases.\n",
    "    "
   ]
  },
  {
   "cell_type": "markdown",
   "metadata": {},
   "source": [
    "## 100-node h-ABCD - visualization"
   ]
  },
  {
   "cell_type": "code",
   "execution_count": null,
   "metadata": {},
   "outputs": [],
   "source": [
    "## read the edges and build the h-ABCD hypergraph H\n",
    "Edges = []\n",
    "for line in eachrow(readdlm(datadir * \"ABCD/toy_100_he.txt\"))\n",
    "   push!(Edges, Set(string.(split(line[1], ','))))\n",
    "end\n",
    "H = hnx.Hypergraph(PyDict(enumerate(Edges)))\n",
    "println(\"distribution of edge sizes:\", countmap([length(x) for x in Edges]))\n"
   ]
  },
  {
   "cell_type": "code",
   "execution_count": null,
   "metadata": {},
   "outputs": [],
   "source": [
    "## read the ground-truth communities and assign node colors accordingly\n",
    "H_comm = Dict(string(k) => v for (k, v) in enumerate(readdlm(datadir * \"ABCD/toy_100_assign.txt\", Int)))\n",
    "cls = [\"white\", \"darkgrey\", \"black\"]\n",
    "node_colors = Dict(zip(string.(collect(H.nodes)), [cls[H_comm[string(i)]] for i in H.nodes]))\n",
    "\n",
    "## build the 2-section graph and plot (with ground-truth community colors)\n",
    "g = hmod.two_section(H)\n",
    "for v in g.vs\n",
    "    name = string(v[\"name\"])\n",
    "    v[\"color\"] = node_colors[name]\n",
    "    v[\"gt\"] = H_comm[name]\n",
    "end\n",
    "\n",
    "random.seed(12345)\n",
    "ly = g.layout_fruchterman_reingold()\n",
    "g.vs[\"ly\"] = [x for x in ly]\n",
    "fig, ax = plt.subplots(figsize=(7, 7))\n",
    "ig.plot(g, target=ax, vertex_size=9, layout=ly, edge_color=\"darkgrey\", edge_width=1)\n",
    "plt.gcf()"
   ]
  },
  {
   "cell_type": "code",
   "execution_count": null,
   "metadata": {
    "scrolled": false
   },
   "outputs": [],
   "source": [
    "## rubber band plot\n",
    "H_ly = pyDict(zip(g.vs[\"name\"], pylist.([[x[0], x[1]] for x in g.vs[\"ly\"]])))\n",
    "fig, ax = plt.subplots(figsize=(7, 7))\n",
    "hnx.draw(H, with_node_labels=false, with_edge_labels=false, node_radius=0.67,\n",
    "    nodes_kwargs=pyDict(\"facecolors\" => pydict(node_colors), \"edgecolors\" => \"black\"),\n",
    "    edges_kwargs=pyDict(\"edgecolors\" => \"darkgrey\"),\n",
    "    pos=H_ly)\n",
    "plt.gcf()"
   ]
  },
  {
   "cell_type": "code",
   "execution_count": null,
   "metadata": {
    "scrolled": false
   },
   "outputs": [],
   "source": [
    "### Plot via convex hull with the XGI package\n",
    "H_nc = pyDict(zip(g.vs[\"name\"], g.vs[\"color\"]))\n",
    "fig, ax = plt.subplots(figsize=(7, 7))\n",
    "XH = xgi.Hypergraph(Edges)\n",
    "xgi.draw(XH, node_fc=H_nc, dyad_color=\"grey\", hull=true, radius=0.15, edge_fc_cmap=\"Greys_r\", alpha=0.2, pos=H_ly, node_size=8, ax=ax, node_labels=false);"
   ]
  },
  {
   "cell_type": "markdown",
   "metadata": {},
   "source": [
    "### Edge composition\n",
    "\n",
    "Recall we call a $d$-edge a **community** edge if $c>d/2$ where $c$ is the number of nodes that belong to the **most represented** community.\n",
    "\n",
    "Below we show the number of edges with all values $d$ and $c$, community edges or not.\n",
    "We see that given the ground-truth communities, most community edges are *pure* in the sense that $c=d$.\n",
    "\n",
    "In real examples, we usually do not know the ground-truth communities, or at least not for every node.\n",
    "We can try some clustering, for example graph clustering on the 2-section graph, or Kumar\"s algorithm on the hypergraph, to get a sense of edge composition.\n",
    "\n",
    "The result is quite similar to the ground-truth.\n"
   ]
  },
  {
   "cell_type": "code",
   "execution_count": null,
   "metadata": {
    "scrolled": false
   },
   "outputs": [],
   "source": [
    "## edge composition - ground truth\n",
    "L = []\n",
    "for e in H.edges\n",
    "    push!(L, (maximum(values(countmap([H_comm[string(i)] for i in H.edges[e]]))), length(H.edges[e])))\n",
    "end\n",
    "X = countmap(L)\n",
    "\n",
    "L = []\n",
    "for x in X\n",
    "    push!(L, [x[1][2], x[1][1], x[1][1] > x[1][2] / 2, x[2]])\n",
    "end\n",
    "D = DataFrame(hcat(L...)', [\"d\", \"c\", \"community edge\", \"frequency (ground truth)\"])\n",
    "D = sort(D, [\"d\", \"c\"])\n",
    "\n",
    "## edge composition - Leiden on 2-section\n",
    "g.vs[\"leiden\"] = g.community_leiden(objective_function=\"modularity\", weights=\"weight\").membership\n",
    "leiden = Dict(zip(g.vs[\"name\"], g.vs[\"leiden\"]))\n",
    "L = []\n",
    "for e in H.edges\n",
    "    push!(L, (maximum(values(countmap([leiden[i] for i in H.edges[e]]))), length(H.edges[e])))\n",
    "end\n",
    "X = countmap(L)\n",
    "L = []\n",
    "for x in X\n",
    "    push!(L, [x[1][2], x[1][1], x[1][1] > x[1][2] / 2, x[2]])\n",
    "end\n",
    "D2 = DataFrame(hcat(L...)', [\"d\", \"c\", \"community edge\", \"frequency (Leiden)\"])\n",
    "D2 = sort(D2, [\"d\", \"c\"])\n",
    "\n",
    "D.\"frequency (Leiden)\" = D2[!, \"frequency (Leiden)\"]\n",
    "D = sort(D, \"frequency (ground truth)\")\n",
    "D"
   ]
  },
  {
   "cell_type": "markdown",
   "metadata": {},
   "source": [
    "### simpliciality\n",
    "\n",
    "We show some measures of simpliciality, namely the number of simplicial pairs, the simpliciality matrix and the simplicial ratio measure.\n",
    "\n",
    "The simplicial ratio value is around 1.3 (recall it is based on sampling), which indicates that this hypergraph does not exhibit high simpliciality.\n"
   ]
  },
  {
   "cell_type": "code",
   "execution_count": null,
   "metadata": {
    "scrolled": false
   },
   "outputs": [],
   "source": [
    "E = [Set(H.edges[e]) for e in H.edges]\n",
    "V = collect(Set([x for y in E for x in y]))\n",
    "spl.get_simplicial_pairs(V, E, as_matrix=true)"
   ]
  },
  {
   "cell_type": "code",
   "execution_count": null,
   "metadata": {
    "scrolled": true
   },
   "outputs": [],
   "source": [
    "py_V = pylist(V)\n",
    "py_E = pylist(pyset.(E))\n",
    "spl.get_simplicial_matrix(py_V, py_E), samples=1000)"
   ]
  },
  {
   "cell_type": "code",
   "execution_count": null,
   "metadata": {},
   "outputs": [],
   "source": [
    "spl.get_simplicial_ratio(py_V, py_E, samples=1000)"
   ]
  },
  {
   "cell_type": "code",
   "execution_count": null,
   "metadata": {
    "scrolled": true
   },
   "outputs": [],
   "source": [
    "## other measures of simpliciality\n",
    "println(\"Simplicial fraction:\", spl.get_simplicial_fraction(V, E))\n",
    "println(\"Edit simpliciality:\", spl.get_edit_simpliciality(V, E))\n",
    "println(\"Face edit simpliciality:\", spl.get_face_edit_simpliciality(V, E, exclude_self=true))\n"
   ]
  },
  {
   "cell_type": "markdown",
   "metadata": {},
   "source": [
    "# 300-node noisy h-ABCD\n",
    "\n",
    "This is a noisier hypergraph with $\\xi=0.6$, edges mostly of size 4 and some edges of size 3.\n",
    "\n",
    "In the experiment below, we run each of the following algorithms 30 times and compare AMI with the ground-truth communities.\n",
    "* Leiden on 2-section (weighted) graph\n",
    "* Kumar\"s algorithm\n",
    "* h-Louvain\n",
    "\n",
    "We observe that Kumar\"s algorithm, which does take the hypergraph structure into account, slightly improves on the results with 2-section clustering, \n",
    "while h-Louvain improves it further, albeit with slower run time.\n"
   ]
  },
  {
   "cell_type": "code",
   "execution_count": null,
   "metadata": {},
   "outputs": [],
   "source": [
    "## read the edges and build the h-ABCD hypergraph H\n",
    "edgelist = datadir * \"ABCD/toy_300_he.txt\"\n",
    "Edges = []\n",
    "for line in eachrow(readdlm(edgelist))\n",
    "    push!(Edges, Set(string.(split(line[1], ','))))\n",
    "end\n",
    "H = hnx.Hypergraph(pyDict([i - 1 => e for (i, e) in enumerate(Edges)]))\n",
    "\n",
    "## read the ground-truth communities and assign node colors accordingly\n",
    "H_comm = Dict(string(k) => v for (k, v) in enumerate(readdlm(datadir * \"ABCD/toy_300_assign.txt\")))\n",
    "\n",
    "## build the 2-section graph\n",
    "g = hmod.two_section(H)\n",
    "for v in g.vs\n",
    "    v[\"gt\"] = H_comm[string(v[\"name\"])]\n",
    "end"
   ]
  },
  {
   "cell_type": "code",
   "execution_count": null,
   "metadata": {},
   "outputs": [],
   "source": [
    "## reduce the number of repeats (REP) for a faster run (we used REP=30 for the book)\n",
    "REP = 15\n",
    "L = []\n",
    "random.seed(321)\n",
    "\n",
    "for s in 1:REP\n",
    "    g.vs[\"leiden\"] = g.community_leiden(objective_function=\"modularity\", weights=\"weight\").membership\n",
    "    ami_g = AMI(g.vs[\"gt\"], g.vs[\"leiden\"])\n",
    "    H_kumar = hmod.kumar(H)\n",
    "    H_kumar_dict = hmod.part2dict(H_kumar)\n",
    "    ami_k = AMI([H_comm[string(v)] for v in H.nodes], [H_kumar_dict[string(v)] for v in H.nodes])\n",
    "    push!(L, [ami_g, ami_k])\n",
    "end\n",
    "D = DataFrame(pyconvert.(Float64, hcat(L...))', [\"2-section\", \"Kumar\"])\n",
    "println(\"mean values:\")\n",
    "println(Dict(zip(names(D), mean.(eachcol(D)))))"
   ]
  },
  {
   "cell_type": "markdown",
   "metadata": {},
   "source": [
    "### Running h-Louvain with Bayesian Optimization\n",
    "\n",
    "This is slower as for each repetition, several attempts are made to find a good set of parameters using Bayesian optimization.\n",
    "Results are saved and can be retieved for plotting. To re-run the experiment, uncomment the second cell below."
   ]
  },
  {
   "cell_type": "raw",
   "metadata": {},
   "source": [
    "REP = 30\n",
    "L = []\n",
    "for rep in 1:REP\n",
    "    println(\"Rep\",rep)\n",
    "    CondaPkg.withenv() do\n",
    "      run(`python run_hlouvain.py $(edgelist) $(rep)`)\n",
    "    end\n",
    "    dct = JSON.parsefile(\"hlouvain_results.json\")\n",
    "    ami = AMI([H_comm[string(v)] for v in H.nodes], [dct[string(v)] for v in H.nodes])\n",
    "    push!(L, ami)\n",
    "end\n",
    "L = pyconvert(Vector{Float64},L)\n",
    "serialize(datadir*\"ABCD/toy_300_h-Louvain_jl.ser\",L)"
   ]
  },
  {
   "cell_type": "code",
   "execution_count": null,
   "metadata": {},
   "outputs": [],
   "source": [
    "L = deserialize(datadir * \"ABCD/toy_300_h-Louvain_jl.ser\")\n",
    "D.\"h-Louvain\" = L[1:15]\n",
    "plt.figure(figsize=(6, 5))\n",
    "sns.boxplot(Matrix(D), width=0.5, color=\"darkgray\", linewidth=1.2)\n",
    "plt.xticks([0, 1, 2], names(D))\n",
    "plt.ylabel(\"AMI\", fontsize=14)\n",
    "plt.gcf()"
   ]
  },
  {
   "cell_type": "code",
   "execution_count": null,
   "metadata": {},
   "outputs": [],
   "source": [
    "## no simplicial pair in this case\n",
    "E = pylist(pyset.([Set(H.edges[e]) for e in H.edges]))\n",
    "V = pylist(collect(Set([x for y in E for x in y])))\n",
    "spl.get_simplicial_pairs(V, E, as_matrix=true)"
   ]
  },
  {
   "cell_type": "code",
   "execution_count": null,
   "metadata": {
    "scrolled": true
   },
   "outputs": [],
   "source": [
    "## other measures\n",
    "println(\"Simplicial fraction:\", spl.get_simplicial_fraction(V, E))\n",
    "println(\"Edit simpliciality:\", spl.get_edit_simpliciality(V, E))\n",
    "println(\"Face edit simpliciality:\", spl.get_face_edit_simpliciality(V, E, exclude_self=true))"
   ]
  },
  {
   "cell_type": "markdown",
   "metadata": {},
   "source": [
    "## Embeddings\n",
    "\n",
    "We fit two embeddings to the h-ABCD graph, namely:\n",
    "* 2-section node2vec\n",
    "* bipartite node2vec (where we ignore the edge embeddings)\n",
    "\n",
    "We fit a classifier where we train on 50% of the points, and test on the rest,\n",
    "after reducing to 16-dim via UMAP.\n",
    "\n",
    "We verify if keeping the hypergraph structure helps, as we do with the bipartite representation.\n"
   ]
  },
  {
   "cell_type": "code",
   "execution_count": null,
   "metadata": {},
   "outputs": [],
   "source": [
    "## 2-section\n",
    "open(\"_edgelist\", \"w\") do file\n",
    "  for e in g.to_tuple_list()\n",
    "    write(file, \"$(e[0]) $(e[1])\\n\")\n",
    "  end\n",
    "end\n",
    "CondaPkg.withenv() do\n",
    "  run(`python n2v_to_file.py _edgelist 32 1 1 1`)\n",
    "end\n",
    "X_twosec = readEmbedding(\"_embed\")\n",
    "\n",
    "## 2-section - 2-d visualization\n",
    "U = umap.UMAP().fit_transform(X_twosec)\n",
    "df = DataFrame(pyconvert(Matrix{Float64}, U), [\"X\", \"Y\"])\n",
    "plt.figure(figsize=(6, 6))\n",
    "plt.scatter(df.X, df.Y, c=g.vs[\"gt\"], s=25)\n",
    "plt.gcf()"
   ]
  },
  {
   "cell_type": "code",
   "execution_count": null,
   "metadata": {},
   "outputs": [],
   "source": [
    "## bipartite (edges are in first positions; we ignore the edges)\n",
    "G = ig.Graph.from_networkx(H.bipartite())\n",
    "open(\"_edgelist\", \"w\") do file\n",
    "  for e in G.to_tuple_list()\n",
    "    write(file, \"$(e[0]) $(e[1])\\n\")\n",
    "  end\n",
    "end\n",
    "CondaPkg.withenv() do\n",
    "  run(`python n2v_to_file.py _edgelist 32 1 1 1`)\n",
    "end\n",
    "n_edges = length([e for e in H.edges()])\n",
    "X_bip = readEmbedding(\"_embed\")[n_edges+1:end, :]\n",
    "\n",
    "## bipartite 2-d viz\n",
    "U = umap.UMAP().fit_transform(X_bip)\n",
    "df = DataFrame(pyconvert(Matrix{Float64}, U), [\"X\", \"Y\"])\n",
    "plt.figure(figsize=(6, 6))\n",
    "plt.scatter(df.X, df.Y, c=g.vs[\"gt\"], s=25);\n",
    "plt.gcf()"
   ]
  },
  {
   "cell_type": "markdown",
   "metadata": {},
   "source": [
    "## fit a classifier\n",
    "\n",
    "We train on half the data chosen at random, which we repeat several times.\n",
    "\n"
   ]
  },
  {
   "cell_type": "code",
   "execution_count": null,
   "metadata": {},
   "outputs": [],
   "source": [
    "## classifier - with 2-section and bipartite embeddings\n",
    "acc = []\n",
    "acc_b = []\n",
    "y = label = g.vs[\"gt\"]\n",
    "\n",
    "for seed in 0:10:50 ## we used 30 repeats in textbook which can take a few minutes\n",
    "\n",
    "    ## 2-section\n",
    "    X = umap.UMAP(n_components=16, n_jobs=1, random_state=seed).fit_transform(X_twosec)\n",
    "    X_train, X_test, y_train, y_test = train_test_split(X, y, test_size=0.5, random_state=seed)\n",
    "    model = RandomForestClassifier(n_estimators=100, bootstrap=true, max_features=\"sqrt\", random_state=seed)\n",
    "    model.fit(X_train, y_train)\n",
    "    y_pred = model.predict(X_test)\n",
    "    cm = confusion_matrix(y_test, y_pred)\n",
    "    push!(acc, sum(cm.diagonal()) / sum(sum(cm)))\n",
    "\n",
    "    ## bipartite - same seed\n",
    "    X = umap.UMAP(n_components=16, n_jobs=1, random_state=seed).fit_transform(X_bip)\n",
    "    X_train, X_test, y_train, y_test = train_test_split(X, y, test_size=0.5, random_state=seed)\n",
    "    model = RandomForestClassifier(n_estimators=100, bootstrap=true, max_features=\"sqrt\", random_state=seed)\n",
    "    model.fit(X_train, y_train)\n",
    "    y_pred = model.predict(X_test)\n",
    "    cm = confusion_matrix(y_test, y_pred)\n",
    "    # print(cm)\n",
    "    push!(acc_b, sum(cm.diagonal()) / sum(sum(cm)))\n",
    "end\n",
    "println(mean(acc), \" \", mean(acc_b))"
   ]
  },
  {
   "cell_type": "code",
   "execution_count": null,
   "metadata": {
    "scrolled": false
   },
   "outputs": [],
   "source": [
    "## compare the results - we see slightly better results with the bipartite representation\n",
    "plt.figure(figsize=(6, 5))\n",
    "sns.boxplot([acc acc_b], width=0.5, color=\"darkgray\", linewidth=1.2);\n",
    "plt.xticks([0, 1], [\"2-section\", \"bipartite\"])\n",
    "plt.grid()\n",
    "plt.ylabel(\"Accuracy\", fontsize=14)\n",
    "plt.gcf()"
   ]
  },
  {
   "cell_type": "markdown",
   "metadata": {},
   "source": [
    "# Game of Thrones scenes hypergraph\n",
    "\n",
    "The original data can be found here: https://github.com/jeffreylancaster/game-of-thrones.\n",
    "\n",
    "A pre-processed version is provided, where we consider a hypergraph from the game of thrones scenes with he following elements:\n",
    "\n",
    "* **Nodes** are named characters in the series\n",
    "* **Hyperedges** are groups of character appearing in the same scene(s)\n",
    "* **Hyperedge weights** are total scene(s) duration in seconds involving each group of characters\n",
    "\n",
    "We kept hyperedges with at least 2 characters and we discarded characters with degree below 5.\n",
    "\n",
    "We saved the following:\n",
    "\n",
    "* *Edges*: list of sets where the nodes are 0-based integers represented as strings: \"0\", \"1\", ... \"n-1\"\n",
    "* *Names*: dictionary; mapping of nodes to character names\n",
    "* *Weights*: list; hyperedge weights (in same order as Edges)\n"
   ]
  },
  {
   "cell_type": "code",
   "execution_count": null,
   "metadata": {},
   "outputs": [],
   "source": [
    "## read the data\n",
    "open(datadir * \"GoT/GoT.pkl\", \"r\") do f\n",
    "    global got_pkl = pickle.load(f)\n",
    "end\n",
    "got_edges, got_names, got_weights = got_pkl"
   ]
  },
  {
   "cell_type": "markdown",
   "metadata": {},
   "source": [
    "## Build the weighted hypergraph \n",
    "\n",
    "Use the above to build the weighted hypergraph (GoT)."
   ]
  },
  {
   "cell_type": "code",
   "execution_count": null,
   "metadata": {},
   "outputs": [],
   "source": [
    "## Nodes are represented as strings from \"0\" to \"n-1\"\n",
    "GoT = hnx.Hypergraph(pyDict([(k - 1, v) for (k, v) in enumerate(got_edges)]))"
   ]
  },
  {
   "cell_type": "code",
   "execution_count": null,
   "metadata": {},
   "outputs": [],
   "source": [
    "## add full names of characters and compute node strength (a.k.a. weighted degree)\n",
    "I, _node, _edge = GoT.incidence_matrix(index=true)\n",
    "S = pyconvert(Matrix, I.toarray()) * pyconvert(Vector{Int}, [got_weights[pyconvert(Int, i)] for i in _edge])\n",
    "Strength = pyDict(i => j for (i, j) in zip(_node, S))\n",
    "for v in GoT.nodes\n",
    "    GoT.nodes[v].name = got_names[v]\n",
    "    GoT.nodes[v].strength = Strength[v]\n",
    "end\n",
    "for e in GoT.edges\n",
    "    GoT.edges[e].weight = got_weights[e]\n",
    "end"
   ]
  },
  {
   "cell_type": "markdown",
   "metadata": {},
   "source": [
    "## EDA on the GoT hypergraph\n",
    "\n",
    "Simple exploratory data analysis (EDA) on this hypergraph. "
   ]
  },
  {
   "cell_type": "code",
   "execution_count": null,
   "metadata": {},
   "outputs": [],
   "source": [
    "## edge sizes (number of characters per scene)\n",
    "plt.figure(figsize=(6, 4))\n",
    "plt.hist([GoT.size(e) for e in GoT.edges], bins=25, color=\"grey\")\n",
    "plt.xlabel(\"Edge size\", fontsize=14)\n",
    "\n",
    "## max edge size\n",
    "println(\"max edge size:\", maximum([GoT.size(e) for e in GoT.edges]))\n",
    "println(\"median edge size:\", median(pyconvert.(Int, [GoT.size(e) for e in GoT.edges])))\n",
    "plt.gcf()"
   ]
  },
  {
   "cell_type": "code",
   "execution_count": null,
   "metadata": {},
   "outputs": [],
   "source": [
    "## edge weights (total scene durations for each group of characters appearing together)\n",
    "plt.figure(figsize=(6, 4))\n",
    "plt.hist([got_weights], bins=25, color=\"grey\")\n",
    "plt.xlabel(\"Edge weight\", fontsize=14);\n",
    "\n",
    "## max/median edge weight\n",
    "println(\"max edge weight:\", maximum(got_weights))\n",
    "println(\"median edge weight:\", median(pyconvert(Vector{Int}, got_weights)))\n",
    "plt.gcf()"
   ]
  },
  {
   "cell_type": "code",
   "execution_count": null,
   "metadata": {
    "scrolled": false
   },
   "outputs": [],
   "source": [
    "## node degrees\n",
    "plt.figure(figsize=(6, 4))\n",
    "plt.hist(hnx.degree_dist(GoT), bins=20, color=\"grey\")\n",
    "plt.xlabel(\"Node degree\", fontsize=14);\n",
    "\n",
    "## max degree\n",
    "println(\"max node degree:\", maximum(hnx.degree_dist(GoT)))\n",
    "println(\"median node degree:\", median(pyconvert(Vector{Int}, hnx.degree_dist(GoT))))\n",
    "plt.gcf()"
   ]
  },
  {
   "cell_type": "code",
   "execution_count": null,
   "metadata": {
    "scrolled": false
   },
   "outputs": [],
   "source": [
    "## node strength (total scene appearance)\n",
    "plt.figure(figsize=(6, 4))\n",
    "plt.hist([GoT.nodes[n].strength for n in GoT.nodes], bins=20, color=\"grey\")\n",
    "plt.xlabel(\"Node strength\", fontsize=14);\n",
    "\n",
    "## max strength\n",
    "println(\"max node strength:\", maximum([GoT.nodes[n].strength for n in GoT.nodes]))\n",
    "println(\"median node strength:\", median(pyconvert(Vector{Int}, [GoT.nodes[n].strength for n in GoT.nodes])))\n",
    "plt.gcf()"
   ]
  },
  {
   "cell_type": "code",
   "execution_count": null,
   "metadata": {},
   "outputs": [],
   "source": [
    "## build a dataframe with node characteristics\n",
    "df = DataFrame([\n",
    "        pyconvert.(String, [GoT.nodes[v].name for v in GoT.nodes()]),\n",
    "        pyconvert.(Int, [GoT.degree(v) for v in GoT.nodes()]),\n",
    "        pyconvert.(Int, [GoT.nodes[v].strength for v in GoT.nodes()]),\n",
    "    ],\n",
    "    [\"name\", \"degree\", \"strength\"])\n",
    "first(sort(df, \"strength\", rev=true), 12)\n"
   ]
  },
  {
   "cell_type": "markdown",
   "metadata": {},
   "source": [
    "###  Compute s-centrality and betweenness\n",
    "\n",
    "We consider $s=1$ and $s=2$ below."
   ]
  },
  {
   "cell_type": "code",
   "execution_count": null,
   "metadata": {
    "scrolled": false
   },
   "outputs": [],
   "source": [
    "## with s=1\n",
    "bet = hnx.s_betweenness_centrality(GoT, edges=false)\n",
    "har = hnx.s_harmonic_centrality(GoT, edges=false, normalized=false)\n",
    "df.\"betweenness(s=1)\" = pyconvert.(Float64, [bet[v] for v in GoT.nodes()])\n",
    "n = GoT.shape[0]\n",
    "df.\"harmonic(s=1)\" = pyconvert.(Float64, [har[v] / (n - 1) for v in GoT.nodes()])\n",
    "\n",
    "## with s=2\n",
    "bet = hnx.s_betweenness_centrality(GoT, edges=false, s=2)\n",
    "har = hnx.s_harmonic_centrality(GoT, edges=false, normalized=false, s=2)\n",
    "df.\"betweenness(s=2)\" = pyconvert.(Float64, [bet[v] for v in GoT.nodes()])\n",
    "df.\"harmonic(s=2)\" = pyconvert.(Float64, [har[v] / (n - 1) for v in GoT.nodes()])\n",
    "\n",
    "#print(df.sort_values(by=[\"strength\"],ascending=false).head(10)[[\"name\",\"degree\",\"strength\",\"betweenness(s=1)\",\"harmonic(s=1)\"]].to_latex(index=false, float_format=\"{:0.5f}\".format))\n",
    "first(sort(df, \"strength\", rev=true), 10)"
   ]
  },
  {
   "cell_type": "markdown",
   "metadata": {},
   "source": [
    "## Build 2-section graph and compute a few centrality measures\n",
    "\n",
    "We saw several centrality measures for graphs in chapter 3. \n",
    "\n",
    "Below, we build the 2-section graph for GoT and compute a few of those. \n",
    "\n",
    "**n.b.: Unlike in the first edition of the book, we now ignore edge weights to compare with the hypergraph s-measures.**\n"
   ]
  },
  {
   "cell_type": "code",
   "execution_count": null,
   "metadata": {
    "scrolled": true
   },
   "outputs": [],
   "source": [
    "## build 2-section\n",
    "G = hmod.two_section(GoT)\n",
    "\n",
    "## betweenness\n",
    "n = G.vcount()\n",
    "b = G.betweenness(directed=false)\n",
    "G.vs[\"bet\"] = [2 * x / ((n - 1) * (n - 2)) for x in b]\n",
    "for v in G.vs\n",
    "    GoT.nodes[v[\"name\"]].bet = v[\"bet\"]\n",
    "end\n",
    "df.\"betweenness\" = pyconvert.(Float64, [GoT.nodes[v].bet for v in GoT.nodes()])\n",
    "\n",
    "## harmonic\n",
    "G.vs[\"hc\"] = G.harmonic_centrality(normalized=true)\n",
    "for v in G.vs\n",
    "    GoT.nodes[v[\"name\"]].hc = v[\"hc\"]\n",
    "end\n",
    "df.\"harmonic\" = pyconvert.(Float64, [GoT.nodes[v].hc for v in GoT.nodes()])\n",
    "\n",
    "## order w.r.t. harmonic\n",
    "first(sort(df, \"harmonic\", rev=true), 5)\n"
   ]
  },
  {
   "cell_type": "code",
   "execution_count": null,
   "metadata": {
    "scrolled": true
   },
   "outputs": [],
   "source": [
    "## high correlation between centrality measures\n",
    "corr = cor(Matrix(df[:, 4:end]))\n",
    "println(names(df)[4:end])\n",
    "corr"
   ]
  },
  {
   "cell_type": "markdown",
   "metadata": {},
   "source": [
    "## Hypergraph modularity and clustering\n",
    "\n",
    "We use $\\tau=3$ for the hypergraph ($\\tau$) modularity weights below.\n"
   ]
  },
  {
   "cell_type": "code",
   "execution_count": null,
   "metadata": {},
   "outputs": [],
   "source": [
    "##### visualize the 2-section graph\n",
    "println(\"nodes:\", G.vcount(), \" edges:\", G.ecount())\n",
    "G.vs[\"size\"] = 14\n",
    "G.vs[\"color\"] = \"lightgrey\"\n",
    "G.vs[\"label\"] = [parse(Int, pyconvert(String, x)) for x in G.vs[\"name\"]] ## use int(name) as label\n",
    "G.vs[\"character\"] = [GoT.nodes[n].name for n in G.vs[\"name\"]]\n",
    "G.vs[\"label_size\"] = 6\n",
    "random.seed(42)\n",
    "ly_fr = G.layout_fruchterman_reingold()\n",
    "ig.plot(G, layout=ly_fr, bbox=(0, 0, 600, 400), edge_color=\"lightgrey\")"
   ]
  },
  {
   "cell_type": "code",
   "execution_count": null,
   "metadata": {},
   "outputs": [],
   "source": [
    "## we see a well-separated small clique; it is the Braavosi theater troup\n",
    "println([GoT.nodes[e].name for e in string.(166:172)])"
   ]
  },
  {
   "cell_type": "markdown",
   "metadata": {},
   "source": [
    "### random clustering\n"
   ]
  },
  {
   "cell_type": "code",
   "execution_count": null,
   "metadata": {
    "scrolled": false
   },
   "outputs": [],
   "source": [
    "## Compute modularity (with qH3 function) on several random partition with K parts for a range of K\"s\n",
    "## This should be close to 0 and can be negative.\n",
    "h = []\n",
    "for K in 2:2:21\n",
    "    for rep in [1] ## 10 for the textbook\n",
    "        V = collect(GoT.nodes)\n",
    "        Random.seed!(K * rep)\n",
    "        p = sample(0:K-1, length(V))\n",
    "        RandPart = hmod.dict2part(pyDict(V[i] => p[i] for i in 1:length(V)))\n",
    "        ## drop empty sets if any\n",
    "        RandPart = [x for x in RandPart if length(x) > 0]\n",
    "        ## compute qH\n",
    "        push!(h, hmod.modularity(GoT, RandPart, qH3))\n",
    "    end\n",
    "end\n",
    "println(\"range for qH:\", minimum(h), \" to \", maximum(h))\n"
   ]
  },
  {
   "cell_type": "code",
   "execution_count": null,
   "metadata": {},
   "outputs": [],
   "source": [
    "plt.figure(figsize=(5, 4))\n",
    "sns.boxplot(h, showfliers=false, width=0.5)\n",
    "plt.gcf()"
   ]
  },
  {
   "cell_type": "markdown",
   "metadata": {},
   "source": [
    "### 2-section graph clustering"
   ]
  },
  {
   "cell_type": "code",
   "execution_count": null,
   "metadata": {},
   "outputs": [],
   "source": [
    "## Cluster the 2-section graph (with Leiden) and compute qH\n",
    "## We now see qH >> 0\n",
    "qH_best = -1\n",
    "for i in 1:100\n",
    "    G.vs[\"_leiden\"] = G.community_leiden(objective_function=\"modularity\", weights=\"weight\", resolution=1.0).membership\n",
    "    ML = hmod.dict2part(pyDict(v[\"name\"] => v[\"_leiden\"] for v in G.vs))\n",
    "    qH = pyconvert(Float64, hmod.modularity(GoT, ML, qH3))\n",
    "    if qH > qH_best\n",
    "        qH_best = qH\n",
    "        G.vs[\"leiden\"] = G.vs[\"_leiden\"]\n",
    "    end\n",
    "end\n",
    "println(\"qH:\", qH_best)\n",
    "for v in G.vs\n",
    "    GoT.nodes[v[\"name\"]].leiden = v[\"leiden\"]\n",
    "end\n",
    "df.\"leiden_cluster\" = [GoT.nodes[v].leiden for v in GoT.nodes()];\n"
   ]
  },
  {
   "cell_type": "code",
   "execution_count": null,
   "metadata": {
    "scrolled": false
   },
   "outputs": [],
   "source": [
    "## plot 2-section w.r.t. the resulting clusters\n",
    "cl = G.vs[\"leiden\"]\n",
    "\n",
    "## pick greyscale or color plot:\n",
    "pal = ig.GradientPalette(\"white\", \"black\", maximum(cl) + 1)\n",
    "pal = ig.ClusterColoringPalette(maximum(cl) + 1)\n",
    "G.vs[\"color\"] = [pal[x] for x in cl]\n",
    "\n",
    "## show labels or not\n",
    "G.vs[\"label_size\"] = 0\n",
    "\n",
    "ig.plot(G, layout=ly_fr, bbox=(0, 0, 600, 400), edge_color=\"gainsboro\", vertex_size=8)"
   ]
  },
  {
   "cell_type": "markdown",
   "metadata": {},
   "source": [
    "### edge composition after clustering\n",
    "\n",
    "We see that the most frequent edges are small \"pure\" edges, but there ar also several edges with all but one node from the same community.\n",
    "\n",
    "This suggests an intermediate value for $\\tau$, such as $\\tau$=2 or 3, for the exponent in the modularity.\n"
   ]
  },
  {
   "cell_type": "code",
   "execution_count": null,
   "metadata": {},
   "outputs": [],
   "source": [
    "comm_dict = pyDict(zip(G.vs[\"name\"], G.vs[\"leiden\"]))\n",
    "L = []\n",
    "for e in GoT.edges\n",
    "    push!(L, collect(values(countmap([comm_dict[i] for i in GoT.edges[e]]))))\n",
    "end\n",
    "X = countmap(L)\n",
    "L = []\n",
    "for x in X\n",
    "    push!(L, [length(x[1]), sum(x[1]), x[1][1], x[2], x[1][1] > sum(x[1]) / 2])\n",
    "end\n",
    "df_cd = DataFrame(hcat(L...)', [\"n_comm\", \"d\", \"c\", \"frequency\", \"community edge\"],)\n",
    "sort!(df_cd, \"frequency\", rev=true)\n",
    "df_cd.cum_freq = cumsum(df_cd.frequency) / pyconvert(Int, GoT.shape[1])\n",
    "first(df_cd, 10)\n"
   ]
  },
  {
   "cell_type": "markdown",
   "metadata": {},
   "source": [
    "### Kumar\"s algorithm"
   ]
  },
  {
   "cell_type": "code",
   "execution_count": null,
   "metadata": {},
   "outputs": [],
   "source": [
    "Ku = hmod.kumar(GoT, verbose=false)\n",
    "println(\"qH:\", hmod.modularity(GoT, Ku, qH3))\n",
    "dct = hmod.part2dict(Ku)\n",
    "G.vs[\"kumar\"] = [dct[i] for i in G.vs[\"name\"]]\n",
    "df.\"kumar\" = [dct[v] for v in G.vs[\"name\"]]\n",
    "println(\"AMI vs 2-section partitions:\", AMI(G.vs[\"leiden\"], G.vs[\"kumar\"]))"
   ]
  },
  {
   "cell_type": "markdown",
   "metadata": {},
   "source": [
    "### Looking at one of the lead characters"
   ]
  },
  {
   "cell_type": "code",
   "execution_count": null,
   "metadata": {
    "scrolled": false
   },
   "outputs": [],
   "source": [
    "## ex: high strength nodes in same cluster with Daenerys Targaryen\n",
    "df.leiden_cluster = pyconvert.(Int, df.leiden_cluster)\n",
    "dt = df[df.name.==\"Daenerys Targaryen\", \"leiden_cluster\"][1]\n",
    "first(sort(df[df.\"leiden_cluster\".==dt, :], \"strength\", rev=true), 9)"
   ]
  },
  {
   "cell_type": "markdown",
   "metadata": {},
   "source": [
    "## Compute the simplicial ratio and other simpliciality measures\n",
    "\n",
    "We see a simpliciality ratio well above 1, suggesting more simplicial pairs than would happen at random.\n",
    "\n",
    "For the other measures, the simplicial fraction (0.07) and more so the edit simpliciality (7e-5) are small,\n",
    "which is to be expected as there are several large edges in this dataset.\n",
    "The face edit sompliciality is a bit higher at 0.26.\n"
   ]
  },
  {
   "cell_type": "code",
   "execution_count": null,
   "metadata": {
    "scrolled": false
   },
   "outputs": [],
   "source": [
    "## compute the simplicial ratio measure\n",
    "E = pylist(pyset.([Set(GoT.edges[e]) for e in GoT.edges]))\n",
    "V = pylist(Set([x for y in E for x in y]))\n",
    "\n",
    "## build list of edges incident to each node\n",
    "edge_dict = spl.get_edge_sets(V, E)\n",
    "\n",
    "## mapping between node index and character name\n",
    "node_dict = pyDict(zip([GoT.nodes[v].name for v in GoT.nodes], collect(GoT.nodes)))\n",
    "\n",
    "## simplicial ratio\n",
    "spl.get_simplicial_ratio(V, E, samples=100)"
   ]
  },
  {
   "cell_type": "code",
   "execution_count": null,
   "metadata": {},
   "outputs": [],
   "source": [
    "println(\"Simplicial fraction:\", spl.get_simplicial_fraction(V, E))\n",
    "println(\"Edit simpliciality:\", spl.get_edit_simpliciality(V, E))\n",
    "println(\"Face edit simpliciality:\", spl.get_face_edit_simpliciality(V, E, exclude_self=true))"
   ]
  },
  {
   "cell_type": "markdown",
   "metadata": {},
   "source": [
    "### Compute the individual simpliciality ratio for each GoT character\n",
    "\n",
    "We look at the ego-nets for some nodes high/low simpliciality"
   ]
  },
  {
   "cell_type": "code",
   "execution_count": null,
   "metadata": {
    "scrolled": false
   },
   "outputs": [],
   "source": [
    "## Compute the individual simpliciality ratio for each character and rank\n",
    "sm = []\n",
    "random.seed(123)\n",
    "for name in df.name\n",
    "    E = edge_dict[node_dict[name]]\n",
    "    V = pylist(pyset([x for y in E for x in y]))\n",
    "    push!(sm, spl.get_simplicial_ratio(V, E, samples=100))\n",
    "end\n",
    "df.\"simpliciality\" = sm\n",
    "sort(df, \"simpliciality\", rev=true)\n"
   ]
  },
  {
   "cell_type": "code",
   "execution_count": null,
   "metadata": {},
   "outputs": [],
   "source": [
    "## pick high/low simpliciality nodes with low degree for viz below\n",
    "hs = \"Bowen Marsh\"\n",
    "ls = \"Ros\""
   ]
  },
  {
   "cell_type": "code",
   "execution_count": null,
   "metadata": {
    "scrolled": false
   },
   "outputs": [],
   "source": [
    "## high simpliciality\n",
    "edges_kwargs = pyDict(\"edgecolors\" => \"grey\")\n",
    "SE = pylist([e for e in edge_dict[node_dict[hs]]])\n",
    "HG = hnx.Hypergraph(SE)\n",
    "nc = pylist(fill(\"grey\", length(collect(HG.nodes))))\n",
    "idx = findall(pyconvert(Vector{Bool}, collect(HG.nodes) .== node_dict[hs]))[1]\n",
    "nc[idx] = \"black\"\n",
    "nr = pyDict(zip(HG.nodes, ones(Int, length(collect(HG.nodes)))))\n",
    "nr[node_dict[hs]] = 2\n",
    "nodes_kwargs = pyDict(\"facecolors\" => nc)\n",
    "print(\"looking at node:\", hs)\n",
    "plt.subplots(figsize=(7, 7))\n",
    "hnx.draw(HG, edges_kwargs=edges_kwargs, nodes_kwargs=nodes_kwargs, node_radius=nr,\n",
    "    with_edge_labels=false, with_node_labels=false)\n",
    "plt.gcf()"
   ]
  },
  {
   "cell_type": "code",
   "execution_count": null,
   "metadata": {
    "scrolled": false
   },
   "outputs": [],
   "source": [
    "## convex hull view\n",
    "XH = xgi.Hypergraph(pylist([pylist(HG.edges[e]) for e in HG.edges]))\n",
    "xgi.draw(XH, node_fc=\"black\", hull=true, node_size=pylist([nr[i] for i in XH.nodes]))\n",
    "plt.gcf()"
   ]
  },
  {
   "cell_type": "code",
   "execution_count": null,
   "metadata": {},
   "outputs": [],
   "source": [
    "## low simpliciality\n",
    "edges_kwargs = pyDict(\"edgecolors\" => \"grey\")\n",
    "SE = pylist([e for e in edge_dict[node_dict[ls]]])\n",
    "HG = hnx.Hypergraph(SE)\n",
    "nc = pylist(fill(\"grey\", length(collect(HG.nodes))))\n",
    "idx = findall(pyconvert(Vector{Bool}, collect(HG.nodes) .== node_dict[ls]))[1]\n",
    "nc[idx] = \"black\"\n",
    "nr = pyDict(zip(HG.nodes, ones(Int, length(collect(HG.nodes)))))\n",
    "nr[node_dict[ls]] = 2\n",
    "nodes_kwargs = pyDict(\"facecolors\" => nc)\n",
    "print(\"looking at node:\", ls)\n",
    "plt.subplots(figsize=(7, 7))\n",
    "hnx.draw(HG, edges_kwargs=edges_kwargs, nodes_kwargs=nodes_kwargs, node_radius=nr,\n",
    "    with_edge_labels=false, with_node_labels=false)\n",
    "plt.gcf()"
   ]
  },
  {
   "cell_type": "code",
   "execution_count": null,
   "metadata": {
    "scrolled": false
   },
   "outputs": [],
   "source": [
    "##convex hull view\n",
    "XH = xgi.Hypergraph(pylist([pylist(HG.edges[e]) for e in HG.edges]))\n",
    "xgi.draw(XH, node_fc=\"black\", hull=true, node_size=pylist([nr[i] for i in XH.nodes]))\n",
    "plt.gcf()"
   ]
  },
  {
   "cell_type": "code",
   "execution_count": null,
   "metadata": {
    "scrolled": false
   },
   "outputs": [],
   "source": [
    "## 3-d view per edge size\n",
    "_, ax = plt.subplots(figsize=(10, 10), subplot_kw=pyDict(\"projection\" => \"3d\"))\n",
    "xgi.draw_multilayer(XH, ax=ax, node_fc=\"black\", hull=true, node_size=pylist([nr[i] for i in XH.nodes]), sep=1, h_angle=25)\n",
    "plt.show()"
   ]
  },
  {
   "cell_type": "markdown",
   "metadata": {},
   "source": [
    "##  degree - size correlation\n",
    "\n",
    "We see positive, but very small correlation in this case.\n"
   ]
  },
  {
   "cell_type": "code",
   "execution_count": null,
   "metadata": {},
   "outputs": [],
   "source": [
    "_x, _y, corr = h_deg_size_corr(GoT)\n",
    "println(\"correlation:\", corr)\n",
    "_df = DataFrame(degree=_x, edge_size=_y)\n",
    "plt.figure(figsize=(5, 4))\n",
    "sns.boxplot(x=Matrix(_df)[:, 2], y=Matrix(_df)[:, 1], showfliers=false, width=0.5, color=\"lightblue\")\n",
    "plt.ylabel(\"degree\")\n",
    "plt.xlabel(\"edge size\")\n",
    "plt.gcf()"
   ]
  },
  {
   "cell_type": "code",
   "execution_count": null,
   "metadata": {
    "scrolled": false
   },
   "outputs": [],
   "source": [
    "## grouping node sizes in 3 tiers: up to 8, 9-16 and 17+\n",
    "_df.\"edge size range\" = [(x - 1) ÷ 8 for x in _df.\"edge_size\"]\n",
    "plt.figure(figsize=(5, 4))\n",
    "sns.boxplot(x=_df.var\"edge size range\", y=_df.degree, showfliers=false, width=0.5, color=\"lightblue\")\n",
    "plt.xticks([0, 1, 2], [\"2-8\", \"9-16\", \"17-24\"]);\n",
    "plt.gcf()"
   ]
  },
  {
   "cell_type": "markdown",
   "metadata": {},
   "source": [
    "### Rich club coefficients - via sampling for computing the denominator\n",
    "\n",
    "* first, compute number of edges with all nodes having degree >= k for each k: $\\phi(k)$\n"
   ]
  },
  {
   "cell_type": "code",
   "execution_count": null,
   "metadata": {},
   "outputs": [],
   "source": [
    "## degrees in GoT graph\n",
    "threshold = quantile(pyconvert.(Int, [GoT.degree(v) for v in GoT.nodes]), 0.95)\n",
    "d = sort(collect(Set([GoT.degree(v) for v in GoT.nodes if pyconvert(Int, GoT.degree(v)) < threshold])))\n",
    "L = []\n",
    "for e in GoT.edges\n",
    "    push!(L, minimum([GoT.degree(v) for v in GoT.edges[e]]))\n",
    "end\n",
    "## compute phi\"s\n",
    "phi = []\n",
    "L = pyconvert.(Int, L)\n",
    "for k in pyconvert.(Int, d)\n",
    "    push!(phi, sum(L .>= k))\n",
    "end"
   ]
  },
  {
   "cell_type": "markdown",
   "metadata": {},
   "source": [
    "* now generate random bipartites graphs and compute all $\\hat{\\phi}_k$.\n"
   ]
  },
  {
   "cell_type": "code",
   "execution_count": null,
   "metadata": {},
   "outputs": [],
   "source": [
    "## number of repeats\n",
    "REP = 100\n",
    "\n",
    "## repeat each node w.r.t. its degree\n",
    "V = []\n",
    "for v in GoT.nodes\n",
    "    V = [V; fill(pyconvert(String, v), pyconvert(Int, GoT.degree(v)))]\n",
    "end\n",
    "\n",
    "## edge sizes\n",
    "S = [length(GoT.edges[e]) for e in GoT.edges()]\n",
    "\n",
    "## initialize\n",
    "random.seed(321)\n",
    "phi_hat = zeros(length(phi))\n",
    "\n",
    "for rep in 1:REP\n",
    "    ## randomize\n",
    "    V = shuffle(V)\n",
    "    ## generate the edges\n",
    "    ctr = 0\n",
    "    E = []\n",
    "    for s in S\n",
    "        push!(E, collect(V[ctr+1:(ctr+s)]))\n",
    "        ctr += s\n",
    "    end\n",
    "    ## min degree seen for each edge\n",
    "    L = []\n",
    "    for e in E\n",
    "        push!(L, minimum([GoT.degree(v) for v in e]))\n",
    "    end\n",
    "    L = pyconvert.(Int, L)\n",
    "    ## compute one instance of phi_hat and add to the sum\n",
    "    ph = []\n",
    "    for k in pyconvert.(Int, d)\n",
    "        push!(ph, sum(L .>= k))\n",
    "    end\n",
    "    phi_hat = phi_hat + ph\n",
    "end\n",
    "\n",
    "## average the final phi_hat vector\n",
    "phi_hat = phi_hat ./ REP;\n"
   ]
  },
  {
   "cell_type": "code",
   "execution_count": null,
   "metadata": {
    "scrolled": false
   },
   "outputs": [],
   "source": [
    "## no strong rich-club phenomenon here\n",
    "plt.figure(figsize=(6, 6))\n",
    "rc = [a / b for (a, b) in zip(phi, phi_hat)]\n",
    "plt.semilogx(d, rc, \".\", c=\"black\")\n",
    "plt.xlabel(\"degree\", fontsize=12)\n",
    "plt.ylabel(\"rich club coefficient\")\n",
    "plt.gcf()"
   ]
  },
  {
   "cell_type": "markdown",
   "metadata": {},
   "source": [
    "## (k,t)-hypercoreness\n",
    "\n",
    "Maximal generalized subhypergraph where nodes have degree $k$ or more, and each edge contains at least proportion t of its original nodes.\n",
    "\n",
    "We compute the size of this maximal hypercore for values of $5 \\le k \\le 50$ and $.6 \\le t \\le 1$.\n"
   ]
  },
  {
   "cell_type": "code",
   "execution_count": null,
   "metadata": {
    "scrolled": false
   },
   "outputs": [],
   "source": [
    "## From paper - faster\n",
    "function hypercore(HG, k, t=1, verbatim=false)\n",
    "    E = [Set(pyconvert(Vector{String}, HG.edges[i])) for i in 0:length(HG.edges)-1]\n",
    "    D = [max(2, t * length(e)) for e in E]\n",
    "    V = Set(pyconvert.(String, [v for v in HG.nodes()]))\n",
    "    deg = countmap(pyconvert.(String, [v for e in E for v in e]))\n",
    "    if verbatim\n",
    "        println(length(V))\n",
    "    end\n",
    "    R = Set([v for v in V if deg[v] < k])\n",
    "    while !isempty(R)\n",
    "        Rp = Set()\n",
    "        for i in 1:length(E)\n",
    "            e = E[i]\n",
    "            if length(e) > 0\n",
    "                if length(intersect(R, e)) > 0\n",
    "                    E[i] = setdiff(E[i], R)\n",
    "                    deg = countmap(pyconvert.(String, [v for e in E for v in e]))\n",
    "                    if length(E[i]) < D[i]\n",
    "                        a = Set([v for v in E[i] if deg[v] == k])\n",
    "                        Rp = union(Rp, a)\n",
    "                        E[i] = Set()\n",
    "                    end\n",
    "                end\n",
    "            end\n",
    "        end\n",
    "        V = setdiff(V, R)\n",
    "        R = Rp\n",
    "        if verbatim\n",
    "            println(length(V))\n",
    "        end\n",
    "    end\n",
    "    return V\n",
    "end"
   ]
  },
  {
   "cell_type": "code",
   "execution_count": null,
   "metadata": {},
   "outputs": [],
   "source": [
    "# T = [.6,.7,.8,.9,1] ## un-comment to try several values for t\n",
    "T = [0.9]\n",
    "## compute for range of values for k and t and store\n",
    "L = []\n",
    "for k in 5:51\n",
    "    for t in T\n",
    "        push!(L, [k, t, length(hypercore(GoT, k, t))])\n",
    "    end\n",
    "end\n",
    "D = DataFrame(hcat(L...)', [\"k\", \"t\", \"Size\"])"
   ]
  },
  {
   "cell_type": "code",
   "execution_count": null,
   "metadata": {
    "scrolled": false
   },
   "outputs": [],
   "source": [
    "## plot the resulting values\n",
    "plt.figure(figsize=(6, 6))\n",
    "for t in T\n",
    "    plt.plot(D[D.t.==t, :].k, D[D.t.==t, :].Size, \".-\", label=t)\n",
    "end\n",
    "plt.xlabel(\"value of k\", fontsize=14)\n",
    "plt.ylabel(\"(k,t)-hypercore size\", fontsize=14)\n",
    "plt.legend(title=\"value of t\", fontsize=12)\n",
    "plt.gcf()"
   ]
  },
  {
   "cell_type": "markdown",
   "metadata": {},
   "source": [
    "### looking at a specific (k,t)-hypercore\n",
    "\n",
    "$k=18$ and $t=0.9$"
   ]
  },
  {
   "cell_type": "code",
   "execution_count": null,
   "metadata": {
    "scrolled": false
   },
   "outputs": [],
   "source": [
    "## map to 2-section and visualize\n",
    "V = hypercore(GoT, 18, 0.9)\n",
    "E = [e for e in GoT.edges if length(intersect(V, Set(pyconvert(Vector{String}, GoT.edges[e])))) / length(GoT.edges[e]) >= 0.9]\n",
    "H = GoT.restrict_to_edges(E)\n",
    "H = H.restrict_to_nodes(V) ## ADDED\n",
    "G = hmod.two_section(H)\n",
    "G.vs[\"size\"] = 0\n",
    "G.vs[\"color\"] = \"white\"\n",
    "G.vs[\"label\"] = pylist([GoT.nodes[n].name for n in G.vs[\"name\"]])\n",
    "G.vs[\"label_size\"] = 12\n",
    "random.seed(321)\n",
    "G.vs[\"layout\"] = G.layout_fruchterman_reingold()\n",
    "ig.plot(G, layout=G.vs[\"layout\"], bbox=(500, 500), margin=50, edge_color=\"lightgrey\")"
   ]
  },
  {
   "cell_type": "code",
   "execution_count": null,
   "metadata": {},
   "outputs": [],
   "source": [
    "## same hypergraph, different view with XGI\n",
    "pos = pyDict(zip(G.vs[\"label\"], [[v[0], -v[1]] for v in G.vs[\"layout\"]]))\n",
    "E = []\n",
    "for e in H.edges\n",
    "    push!(E, [got_names[x] for x in H.edges[e]])\n",
    "end\n",
    "XH = xgi.Hypergraph(pylist(E))\n",
    "fig, ax = plt.subplots(figsize=(10, 10))\n",
    "xgi.draw(XH, pos=pos, dyad_color=\"grey\", hull=true, radius=0.25, edge_fc_cmap=\"Greys_r\", alpha=0.005, node_size=0, ax=ax, node_labels=true);\n",
    "plt.gcf()"
   ]
  },
  {
   "cell_type": "markdown",
   "metadata": {},
   "source": [
    "# Contact hypergraphs\n",
    "\n",
    "We consider two datasets where hyperedges are built when individuals come into close physical contact over some time ingtervals. The datasets are available from the XGI package directly, see: https://xgi.readthedocs.io/en/stable/xgi-data.html.\n",
    "For both datasets, we keep a single instance for every edge. \n",
    "The data is in directory ```../Datasets/Contacts```.\n",
    "Some questions at the end of Chapter 7 refer to those datasets.\n",
    "\n",
    "### Primary school dataset\n",
    "\n",
    "* 12,704 hyperedges of size 2 to 5 built from 242 nodes.\n",
    "* the nodes are children belonging to one of 10 classes, and the teachers \n",
    "* file ```hyperedges-contact-primary.txt``` contains the edges (1 per line, csv), the nodes are 1-based\n",
    "* file ```labels-contact-primary.txt``` contains the node labels, 1 to 11 (in numerical order of the nodes)\n",
    "\n",
    "References in: https://zenodo.org/records/10155810\n",
    "\n",
    "\n",
    "### High school dataset\n",
    "\n",
    "* 7,818 hyperedges of size 2 to 5 built from 327 nodes.\n",
    "* the nodes are students belonging to one of 9 classes\n",
    "* file ```hyperedges-contact-highschool.txt``` contains the edges (1 per line, csv), the nodes are 1-based\n",
    "* file ```labels-contact-highschool.txt``` contains the node labels, 1 to 9 (in numerical order of the nodes)\n",
    "\n",
    "References in: https://zenodo.org/records/10155802\n"
   ]
  },
  {
   "cell_type": "code",
   "execution_count": null,
   "metadata": {},
   "outputs": [],
   "source": [
    "## read the edges and ground-truth communities and build hypergraph H and 2-section graph G\n",
    "\n",
    "## pick one of the two datasets\n",
    "#dataset = \"primary\"\n",
    "dataset = \"highschool\"\n",
    "\n",
    "## read edge list, build H\n",
    "Lines = readdlm(datadir * \"Contacts/hyperedges-contact-\" * dataset * \".txt\")\n",
    "E = []\n",
    "for line in eachrow(Lines)\n",
    "    push!(E, Set(string.(split(line[1], ','))))\n",
    "end\n",
    "H = hnx.Hypergraph(pyDict([i - 1 => e for (i, e) in enumerate(E)]))\n",
    "println(\"number of nodes:\", length(H.nodes), \"  number of edges:\", length(H.edges))\n",
    "\n",
    "## build 2-section graph\n",
    "G = hmod.two_section(H)\n",
    "\n",
    "## read ground-truth communities and store in a dictionary\n",
    "fn = datadir * \"Contacts/labels-contact-\" * dataset * \".txt\"\n",
    "gt = readdlm(fn)\n",
    "Communities = pyDict(string(k) => v for (k, v) in enumerate(gt))\n",
    "\n",
    "## plot the 2-section graph\n",
    "pal = ig.RainbowPalette(n=maximum(gt) + 1)\n",
    "G.vs[\"color\"] = [pal[Communities[v[\"name\"]]] for v in G.vs]\n",
    "ig.plot(G, bbox=(400, 400), vertex_size=5, edge_color=\"lightgrey\")"
   ]
  },
  {
   "cell_type": "markdown",
   "metadata": {},
   "source": [
    "# Motifs example \n",
    "\n",
    "Using HNX and XGI draw function to get patterns from **Figure 7.1** in the book and count motifs reported in **Table 7.2**.\n",
    "\n",
    "Given:\n",
    "* E2: number of edges of size 2\n",
    "* G(E2): graph built only with E2\n",
    "* E3: edges of size 3\n",
    "\n",
    "Compute:\n",
    "* H1: number of subgraphs of 4-nodes in G(E2) with 5 edges + 6 times the number of 4-cliques in G(E2)\n",
    "* H3: count pairs of edges in E3 with intersection of size 2\n",
    "* H2: for each (i,j,k) in E3, count common neighbours in G(E2) for (i,j), (i,k) and (j,k) \n",
    "\n",
    "Random hypergraphs:\n",
    "* probability for 2-edges: p2 = c/(n-1)\n",
    "* probability for 3-edges to maintain expected 2-section graph degree:  p3 = (8-c)/((n-1)*(n-2)) \n",
    "* probability for 3-edges to maintain expected H-degree: p3 = (8-c)/((n-1)*(n/2-1))\n"
   ]
  },
  {
   "cell_type": "code",
   "execution_count": null,
   "metadata": {},
   "outputs": [],
   "source": [
    "CondaPkg.add_pip(\"networkx\")"
   ]
  },
  {
   "cell_type": "code",
   "execution_count": null,
   "metadata": {},
   "outputs": [],
   "source": [
    "nx = pyimport(\"networkx\")"
   ]
  },
  {
   "cell_type": "code",
   "execution_count": null,
   "metadata": {},
   "outputs": [],
   "source": [
    "## H1 pattern\n",
    "ly = pyDict(\"A\" => (0, 1), \"B\" => (1, 1), \"C\" => (0, 0), \"D\" => (1, 0))\n",
    "E = [Set([\"A\"]), Set([\"B\"]), Set([\"C\"]), Set([\"D\"])]\n",
    "HG = hnx.Hypergraph(pyDict(enumerate(E)))\n",
    "g = nx.Graph()\n",
    "g.add_edge(\"B\", \"A\")\n",
    "g.add_edge(\"C\", \"A\")\n",
    "g.add_edge(\"B\", \"C\")\n",
    "g.add_edge(\"B\", \"D\")\n",
    "g.add_edge(\"C\", \"D\")\n",
    "plt.figure(figsize=(3, 3))\n",
    "hnx.draw(HG, pos=ly, with_edge_labels=false, with_node_labels=false,\n",
    "        edges_kwargs=pyDict(\"linewidths\" => 0, \"edgecolors\" => \"grey\"),\n",
    "        node_radius=3.0, with_additional_edges=g\n",
    ")\n",
    "plt.gcf()"
   ]
  },
  {
   "cell_type": "code",
   "execution_count": null,
   "metadata": {},
   "outputs": [],
   "source": [
    "## H2 patterns\n",
    "E = [Set([\"A\", \"B\", \"C\"]), Set([\"D\"])]\n",
    "HG = hnx.Hypergraph(pyDict(enumerate(E)))\n",
    "g = nx.Graph()\n",
    "g.add_edge(\"B\", \"D\")\n",
    "g.add_edge(\"C\", \"D\")\n",
    "plt.figure(figsize=(3, 3))\n",
    "hnx.draw(HG, pos=ly, with_edge_labels=false, with_node_labels=false,\n",
    "        edges_kwargs=pyDict(\"linewidths\" => pylist([1.5, 0]), \"edgecolors\" => \"grey\"),\n",
    "        node_radius=3.0, with_additional_edges=g\n",
    ")\n",
    "plt.gcf()"
   ]
  },
  {
   "cell_type": "code",
   "execution_count": null,
   "metadata": {},
   "outputs": [],
   "source": [
    "## H3 pattern\n",
    "E = [Set([\"A\", \"B\", \"C\"]), Set([\"B\", \"C\", \"D\"])]\n",
    "HG = hnx.Hypergraph(pyDict(enumerate(E)))\n",
    "plt.figure(figsize=(3, 3))\n",
    "hnx.draw(HG, pos=ly, with_edge_labels=false, with_node_labels=false,\n",
    "        edges_kwargs=pyDict(\"linewidths\" => 1.5, \"edgecolors\" => \"grey\"),\n",
    "        node_radius=3.0\n",
    ")\n",
    "plt.gcf()"
   ]
  },
  {
   "cell_type": "code",
   "execution_count": null,
   "metadata": {},
   "outputs": [],
   "source": [
    "## This takes a while to run -- see some results in next cell\n",
    "choice = \"2-section\"\n",
    "Random.seed!(123)\n",
    "\n",
    "n = 500\n",
    "V = string.(1:n)\n",
    "\n",
    "L = []\n",
    "REP = 16\n",
    "\n",
    "for c in 0:8\n",
    "    p2 = c / (n - 1)\n",
    "    if choice == \"2-section\"\n",
    "        p3 = (8 - c) / ((n - 1) * (n - 2))    ## to maintain expected 2-section graph degree\n",
    "    else\n",
    "        p3 = (8 - c) / ((n - 1) * (n / 2 - 1))  ## to maintain expected H-degree\n",
    "    end\n",
    "    println(\"running c = \", c)\n",
    "    for rep in 1:REP\n",
    "        E2 = []\n",
    "        E3 = []\n",
    "\n",
    "        ## generate 2-edges\n",
    "        r = rand(Int(n * (n - 1) / 2))\n",
    "        v = combinations(V, 2)\n",
    "        for (i, j) in enumerate(v)\n",
    "            if r[i] < p2\n",
    "                push!(E2, j)\n",
    "            end\n",
    "        end\n",
    "        ## generate 3-edges\n",
    "        r = rand(Int(n * (n - 1) * (n - 2) / 6))\n",
    "        v = combinations(V, 3)\n",
    "        for (i, j) in enumerate(v)\n",
    "            if r[i] < p3\n",
    "                push!(E3, j)\n",
    "            end\n",
    "        end\n",
    "\n",
    "        dg = 2 * length(E2) + 3 * length(E3)\n",
    "        HG = hnx.Hypergraph(pyDict(enumerate([E2; E3])))\n",
    "        g = hmod.two_section(HG)\n",
    "        sd = g.ecount()\n",
    "\n",
    "        ## count motifs in graph G with 2-edges only\n",
    "        G = ig.Graph.TupleList(E2)\n",
    "        M = G.motifs_randesu(size=4)\n",
    "        H1 = M[9] + 6 * M[10] ## exactly as H1 + 6 times 4-clique\n",
    "\n",
    "        ## H2: for each 3-edge, for each pair within, count common neighbor(s) in G\n",
    "        H2 = 0\n",
    "        for e in E3\n",
    "            if length(intersect(Set(pyconvert(Vector{String}, G.vs[\"name\"])), Set(e))) == 3\n",
    "                s1 = Set(G.neighbors(G.vs.find(name=e[1])))\n",
    "                s2 = Set(G.neighbors(G.vs.find(name=e[2])))\n",
    "                s3 = Set(G.neighbors(G.vs.find(name=e[3])))\n",
    "                H2 += length(intersect(s1, s2)) + length(intersect(s1, s3)) + length(intersect(s3, s2))\n",
    "            end\n",
    "        end\n",
    "        ## H3: count pairs of 3-edges with intersection of size 2\n",
    "        H3 = 0\n",
    "        e = [Set(i) for i in E3]\n",
    "        l = length(e)\n",
    "        for i in 1:l\n",
    "            for j in i+1:l\n",
    "                if length(intersect(e[i], e[j])) == 2\n",
    "                    H3 += 1\n",
    "                end\n",
    "            end\n",
    "        end\n",
    "        push!(L, [c, H1, H2, H3, dg / n, 2 * sd / n])\n",
    "    end\n",
    "end\n",
    "D = DataFrame(pyconvert.(Float64, hcat(L...))', [\"c\", \"H1\", \"H2\", \"H3\", \"H deg\", \"2-sec deg\"])\n",
    "combine(groupby(D, \"c\"), Not(:c) .=> mean)"
   ]
  }
 ],
 "metadata": {
  "kernelspec": {
   "display_name": "Julia 1.11.5",
   "language": "julia",
   "name": "julia-1.11"
  },
  "language_info": {
   "file_extension": ".jl",
   "mimetype": "application/julia",
   "name": "julia",
   "version": "1.11.5"
  }
 },
 "nbformat": 4,
 "nbformat_minor": 4
}
