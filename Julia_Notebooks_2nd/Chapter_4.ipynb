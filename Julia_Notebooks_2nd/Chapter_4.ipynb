{
 "cells": [
  {
   "cell_type": "markdown",
   "metadata": {},
   "source": [
    "# Chapter 4 - Degree Correlations\n",
    "\n",
    "We explore various notions of degree correlation (**assortativity, disassortativity**) and related measures.\n",
    "\n",
    "As with the previous notebooks, make sure to set the data directory properly in the next cell"
   ]
  },
  {
   "cell_type": "code",
   "execution_count": null,
   "metadata": {},
   "outputs": [],
   "source": [
    "datadir = \"../Datasets/\""
   ]
  },
  {
   "cell_type": "code",
   "execution_count": null,
   "metadata": {},
   "outputs": [],
   "source": [
    "using Graphs\n",
    "using DataFrames\n",
    "using CSV\n",
    "using Statistics\n",
    "using PyCall\n",
    "using PyPlot\n",
    "using Chain\n",
    "using StatsBase\n",
    "using GraphPlot\n",
    "using Random"
   ]
  },
  {
   "cell_type": "markdown",
   "metadata": {},
   "source": [
    "## Some useful functions\n",
    "\n",
    "* **deg_corr**: compute $k_{nn}(l)$ for all degrees $l$, as defined in section 4.3 of the book (undirected)\n",
    "* **deg_corr_directed**: compute $k_{nn}^{mode1,mode2}(l)$ for all degrees $l$, as defined in section 4.5 of the book; mode1 and mode2 can be 'indegree', or 'outdegree'\n",
    "* **deg_corr_neutral**: computes degree correlations for a neutral graph with the same degree distribution as the input graph\n",
    "* **corr_exp**: compute the correlation exponent via linear regression (taking logs) as in section 4.3 of the book\n",
    "* **rich_club**: compute the rich club coefficient (see section 4.3 of the book) for a given degree $l$\n",
    "* **assortativity_directed**: allows for all mix of 'indegree' and 'outdegree'\n"
   ]
  },
  {
   "cell_type": "code",
   "execution_count": null,
   "metadata": {},
   "outputs": [],
   "source": [
    "# undirected\n",
    "function deg_corr(G::Graph)\n",
    "    deg = degree(G)\n",
    "    deg_set = Set(deg)\n",
    "    idx = Dict(d => i for (i, d) in enumerate(deg_set))\n",
    "    idx_inv = Dict(i => d for (d, i) in idx)\n",
    "\n",
    "    L = [Int[] for _ in 1:length(idx)]\n",
    "\n",
    "    for v in vertices(G)\n",
    "        d_v = deg[v]\n",
    "        neighbors_list = neighbors(G, v)\n",
    "        neighbor_degrees = deg[neighbors_list]\n",
    "        push!(L[idx[d_v]], neighbor_degrees...)\n",
    "    end\n",
    "\n",
    "    return Dict(idx_inv[i] => mean(L[i]) for i in 1:length(L))\n",
    "end"
   ]
  },
  {
   "cell_type": "code",
   "execution_count": null,
   "metadata": {},
   "outputs": [],
   "source": [
    "deg_corr_df(G::SimpleGraph) =\n",
    "    @chain edges(G) begin\n",
    "        DataFrame\n",
    "        append!(_, select(_, :dst => :src, :src => :dst)) # add edge in reverse\n",
    "        transform(:src => ByRow(x -> degree(G, x)) => :src_deg,\n",
    "            :dst => ByRow(x -> degree(G, x)) => :dst_deg)\n",
    "        groupby(:src_deg, sort=true)\n",
    "        combine(:dst_deg => mean)\n",
    "    end"
   ]
  },
  {
   "cell_type": "code",
   "execution_count": null,
   "metadata": {},
   "outputs": [],
   "source": [
    "## k_nn^{mode1,mode2}(l) : average mode2-degree of mode1-neighbours of nodes with mode1-degree = l\n",
    "# normally mode1 and mode2 should be: degree, indegree or outdegree\n",
    "deg_corr_directed(G, mode1::Function, mode2::Function) =\n",
    "    @chain edges(G) begin\n",
    "        DataFrame\n",
    "        transform(:src => ByRow(x -> mode1(G, x)) => :src_deg,\n",
    "            :dst => ByRow(x -> mode2(G, x)) => :dst_deg)\n",
    "        groupby(:src_deg, sort=true)\n",
    "        combine(:dst_deg => mean)\n",
    "    end"
   ]
  },
  {
   "cell_type": "code",
   "execution_count": null,
   "metadata": {},
   "outputs": [],
   "source": [
    "## degree correlation for neutral graphs: <k^2>/<k>\n",
    "function deg_corr_neutral(G, mode::Function=degree)\n",
    "    x = mode(G)\n",
    "    return mean(x .^ 2) / mean(x)\n",
    "end"
   ]
  },
  {
   "cell_type": "code",
   "execution_count": null,
   "metadata": {},
   "outputs": [],
   "source": [
    "## Correlation exponent via linear regression (taking logs)\n",
    "function corr_exp(G)\n",
    "    ## compute knn's\n",
    "    knn = deg_corr_df(G)\n",
    "    # Fit the regression\n",
    "    x = log.(knn.src_deg)\n",
    "    y = log.(knn.dst_deg_mean)\n",
    "    return ([ones(length(x)) x]\\y)[2]\n",
    "end"
   ]
  },
  {
   "cell_type": "code",
   "execution_count": null,
   "metadata": {},
   "outputs": [],
   "source": [
    "function corr_exp_directed(G,mode1::Symbol,mode2::Symbol)\n",
    "    m1 = mode1 == :in  ? indegree  : outdegree\n",
    "    m2 = mode2 == :in  ? indegree  : outdegree\n",
    "    ## compute knn's\n",
    "    knn = deg_corr_directed(G,m1,m2)\n",
    "    knn = knn[(knn.src_deg .!=0 .&& knn.dst_deg_mean .!=0),:]\n",
    "    # Fit the regression\n",
    "    x = log.(knn.src_deg)\n",
    "    y = log.(knn.dst_deg_mean)\n",
    "    return ([ones(length(x)) x]\\y)[2]\n",
    "end"
   ]
  },
  {
   "cell_type": "code",
   "execution_count": null,
   "metadata": {},
   "outputs": [],
   "source": [
    "function rich_club(g, l=1)\n",
    "    l_max = maximum(degree(g))\n",
    "    c = countmap(degree(g))\n",
    "    n = nv(g)\n",
    "    moment = sum(k * ck / n for (k, ck) in pairs(c))^2\n",
    "    S = [k * ck / n for (k, ck) in pairs(c) if k >= l]\n",
    "    phi_hat = sum(x * y for x in S, y in S) * ne(g) / moment\n",
    "    G = induced_subgraph(g, findall(>=(l), degree(g)))[1]\n",
    "    phi = ne(G)\n",
    "    return phi / phi_hat\n",
    "end"
   ]
  },
  {
   "cell_type": "code",
   "execution_count": null,
   "metadata": {},
   "outputs": [],
   "source": [
    "assortativity(G) =\n",
    "    @chain edges(G) begin\n",
    "        DataFrame\n",
    "        append!(_, select(_, :dst => :src, :src => :dst)) # add edge in reverse\n",
    "        transform(:src => ByRow(x -> degree(G, x)) => :src_deg,\n",
    "            :dst => ByRow(x -> degree(G, x)) => :dst_deg)\n",
    "        cov(_.src_deg, _.dst_deg, corrected=false) /\n",
    "        (std(_.src_deg, corrected=false) * std(_.dst_deg, corrected=false))\n",
    "    end"
   ]
  },
  {
   "cell_type": "code",
   "execution_count": null,
   "metadata": {},
   "outputs": [],
   "source": [
    "function assortativity_directed(G, mode1::Symbol, mode2::Symbol)\n",
    "    d1 = mode1 == :in ? indegree(G) : outdegree(G)\n",
    "    d2 = mode2 == :in ? indegree(G) : outdegree(G)\n",
    "\n",
    "    D = [(d1[src(e)], d2[dst(e)]) for e in edges(G)]\n",
    "\n",
    "    d1_vals = first.(D)\n",
    "    d2_vals = last.(D)\n",
    "\n",
    "    avg1 = mean(d1_vals)\n",
    "    avg2 = mean(d2_vals)\n",
    "\n",
    "    S1 = sum((x - avg1) * (y - avg2) for (x, y) in D)\n",
    "    S2 = sqrt(sum((x - avg1)^2 for x in d1_vals))\n",
    "    S3 = sqrt(sum((y - avg2)^2 for y in d2_vals))\n",
    "\n",
    "    return S1 / (S2 * S3)\n",
    "end"
   ]
  },
  {
   "cell_type": "code",
   "execution_count": null,
   "metadata": {},
   "outputs": [],
   "source": [
    "function cm_simple(ds)\n",
    "    @assert iseven(sum(ds))\n",
    "    stubs = reduce(vcat, fill(i, ds[i]) for i in 1:length(ds))\n",
    "    shuffle!(stubs)\n",
    "    local_edges = Set{Tuple{Int,Int}}()\n",
    "    recycle = Tuple{Int,Int}[]\n",
    "    for i in 1:2:length(stubs)\n",
    "        e = minmax(stubs[i], stubs[i+1])\n",
    "        if (e[1] == e[2]) || (e in local_edges)\n",
    "            push!(recycle, e)\n",
    "        else\n",
    "            push!(local_edges, e)\n",
    "        end\n",
    "    end\n",
    "\n",
    "    # resolve self-loops and duplicates\n",
    "    last_recycle = length(recycle)\n",
    "    recycle_counter = last_recycle\n",
    "    while !isempty(recycle)\n",
    "        recycle_counter -= 1\n",
    "        if recycle_counter < 0\n",
    "            if length(recycle) < last_recycle\n",
    "                last_recycle = length(recycle)\n",
    "                recycle_counter = last_recycle\n",
    "            else\n",
    "                break\n",
    "            end\n",
    "        end\n",
    "        p1 = popfirst!(recycle)\n",
    "        from_recycle = 2 * length(recycle) / length(stubs)\n",
    "        success = false\n",
    "        for _ in 1:2:length(stubs)\n",
    "            p2 = if rand() < from_recycle\n",
    "                used_recycle = true\n",
    "                recycle_idx = rand(axes(recycle, 1))\n",
    "                recycle[recycle_idx]\n",
    "            else\n",
    "                used_recycle = false\n",
    "                rand(local_edges)\n",
    "            end\n",
    "            if rand() < 0.5\n",
    "                newp1 = minmax(p1[1], p2[1])\n",
    "                newp2 = minmax(p1[2], p2[2])\n",
    "            else\n",
    "                newp1 = minmax(p1[1], p2[2])\n",
    "                newp2 = minmax(p1[2], p2[1])\n",
    "            end\n",
    "            if newp1 == newp2\n",
    "                good_choice = false\n",
    "            elseif (newp1[1] == newp1[2]) || (newp1 in local_edges)\n",
    "                good_choice = false\n",
    "            elseif (newp2[1] == newp2[2]) || (newp2 in local_edges)\n",
    "                good_choice = false\n",
    "            else\n",
    "                good_choice = true\n",
    "            end\n",
    "            if good_choice\n",
    "                if used_recycle\n",
    "                    recycle[recycle_idx], recycle[end] = recycle[end], recycle[recycle_idx]\n",
    "                    pop!(recycle)\n",
    "                else\n",
    "                    pop!(local_edges, p2)\n",
    "                end\n",
    "                success = true\n",
    "                push!(local_edges, newp1)\n",
    "                push!(local_edges, newp2)\n",
    "                break\n",
    "            end\n",
    "        end\n",
    "        success || push!(recycle, p1)\n",
    "    end\n",
    "    g = SimpleGraph(length(ds))\n",
    "    for e in local_edges\n",
    "        add_edge!(g, e...)\n",
    "    end\n",
    "    return g\n",
    "end"
   ]
  },
  {
   "cell_type": "markdown",
   "metadata": {},
   "source": [
    "# Assortativity in geometric and uniform random graphs\n",
    "## Figures 4.1 - 4.3 in the book\n",
    "\n",
    "We consider two families of (undirected) random graphs we saw in Chapter 2, namely:\n",
    "* random geometric graphs (we consider a torus by default) $RGG(n,r)$ where $n$ is the number of nodes, and $r$ the radius.\n",
    "* Uniform or Erdos-Renyi graphs\n",
    "\n",
    "With $n=1,000$, we consider a range of values for the radius $r$ for the RGGs, and for each $r$, we generate a uniform random graph with the same number of edges as the RGG.\n",
    "\n",
    "We then plot the degree assortativity for the two random graph families as a function of the average degree.\n"
   ]
  },
  {
   "cell_type": "code",
   "execution_count": null,
   "metadata": {},
   "outputs": [],
   "source": [
    "n = 1000\n",
    "torus = :open\n",
    "\n",
    "Random.seed!(123)\n",
    "L = []\n",
    "for radius in 0.025:0.025:0.501\n",
    "    g_RGG, _, _ = euclidean_graph(n, 2, seed=123, cutoff=radius, bc=torus)\n",
    "    m = ne(g_RGG)\n",
    "    g_ER = erdos_renyi(n, m)\n",
    "    push!(L, [assortativity(g_RGG), assortativity(g_ER), mean(degree(g_RGG))])\n",
    "end\n",
    "df_rg = DataFrame(hcat(L...)', [\"RGG\", \"Uniform\", \"avg_degree\"])\n",
    "first(df_rg, 5)"
   ]
  },
  {
   "cell_type": "code",
   "execution_count": null,
   "metadata": {},
   "outputs": [],
   "source": [
    "## plot degree assortativity vs average degree\n",
    "plot(df_rg.avg_degree, df_rg.RGG, \".-\", label=\"RGG\", color=:gray)\n",
    "plot(df_rg.avg_degree, df_rg.Uniform, \".-\", label=\"Uniform\", color=:lightgray)\n",
    "legend()\n",
    "xlabel(\"average degree\", fontsize=14)\n",
    "ylabel(\"assortativity\", fontsize=14);"
   ]
  },
  {
   "cell_type": "markdown",
   "metadata": {},
   "source": [
    "From the above, we see high assortativity for the RGG graphs when the average degree is not a significant fraction of the number of nodes, which correspond to small radius in the model. For the uniform random graphs, assortativity is close to zero everywhere.\n",
    "\n",
    "We can illustrate this by plotting $k_{nn}(l)$ for all degrees $l$,\n",
    "We show the results for RGG and the corresponding uniform random graph (same number of edges) for two cases:\n",
    "* $r=0.1$, which shows clear correlation for RGG\n",
    "* $r=0.5$, where the correlation is not so clear for RGG (all nodes have high degree!)"
   ]
  },
  {
   "cell_type": "code",
   "execution_count": null,
   "metadata": {
    "scrolled": false
   },
   "outputs": [],
   "source": [
    "## radius = 0.1\n",
    "Random.seed!(123)\n",
    "n = 1000\n",
    "g_RGG = euclidean_graph(n, 2, seed=123, cutoff=0.1, bc=:open)[1]\n",
    "m = ne(g_RGG)\n",
    "g_ER = erdos_renyi(n, m)\n",
    "println(\"average degree \", mean(degree(g_RGG)))\n",
    "\n",
    "## plot for RGG\n",
    "knn = deg_corr(g_RGG)\n",
    "x = collect(keys(knn))\n",
    "y = collect(values(knn))\n",
    "r = deg_corr_neutral(g_RGG)\n",
    "figure(figsize=(10, 4))\n",
    "subplot(121)\n",
    "scatter(x, y, c=:black)\n",
    "hlines(y=r, xmin=minimum(x), xmax=maximum(x), linestyles=\":\", color=:lightgray)\n",
    "xlabel(raw\"degree ($\\ell$)\", fontsize=12)\n",
    "ylabel(raw\"$k_{nn}(\\ell)$\", fontsize=12)\n",
    "title(\"RGG with radius 0.1\")\n",
    "\n",
    "## plot for ER\n",
    "knn = deg_corr(g_ER)\n",
    "x = collect(keys(knn))\n",
    "y = collect(values(knn))\n",
    "r = deg_corr_neutral(g_ER)\n",
    "subplot(122)\n",
    "scatter(x, y, c=:black)\n",
    "hlines(y=r, xmin=minimum(x), xmax=maximum(x), linestyles=\":\", color=:lightgray)\n",
    "xlabel(raw\"degree ($\\ell$)\", fontsize=12)\n",
    "title(\"Uniform RG with same average degree\");"
   ]
  },
  {
   "cell_type": "code",
   "execution_count": null,
   "metadata": {},
   "outputs": [],
   "source": [
    "## radius = 0.5\n",
    "Random.seed!(123)\n",
    "n = 1000\n",
    "g_RGG = euclidean_graph(n, 2, seed=123, cutoff=0.5, bc=:open)[1]\n",
    "m = ne(g_RGG)\n",
    "g_ER = erdos_renyi(n, m)\n",
    "println(\"average degree \", mean(degree(g_RGG)))\n",
    "\n",
    "## plot for RGG\n",
    "knn = deg_corr(g_RGG)\n",
    "x = collect(keys(knn))\n",
    "y = collect(values(knn))\n",
    "r = deg_corr_neutral(g_RGG)\n",
    "figure(figsize=(10, 4))\n",
    "subplot(121)\n",
    "scatter(x, y, c=:black)\n",
    "hlines(y=r, xmin=minimum(x), xmax=maximum(x), linestyles=\":\", color=:lightgray)\n",
    "xlabel(raw\"degree ($\\ell$)\", fontsize=12)\n",
    "ylabel(raw\"$k_{nn}(\\ell)$\", fontsize=12)\n",
    "title(\"RGG with radius 0.5\")\n",
    "\n",
    "## plot for ER\n",
    "knn = deg_corr(g_ER)\n",
    "x = collect(keys(knn))\n",
    "y = collect(values(knn))\n",
    "r = deg_corr_neutral(g_ER)\n",
    "subplot(122)\n",
    "scatter(x, y, c=:black)\n",
    "hlines(y=r, xmin=minimum(x), xmax=maximum(x), linestyles=\":\", color=:lightgray)\n",
    "xlabel(raw\"degree ($\\ell$)\", fontsize=12)\n",
    "title(\"Uniform RG with same average degree\");"
   ]
  },
  {
   "cell_type": "markdown",
   "metadata": {},
   "source": [
    "# Spatial Preferential Attachment (SPA) Graphs\n",
    "## Figures 4.4, 4.6 and Table 4.5 in the book\n",
    "\n",
    "RGG do not have power law degree distribution. We consider another model that does - SPA.\n",
    "\n",
    "We consider the SPA model generating directed graphs. In the experiment below, we generate all graphs\n",
    "on a 2-dim unit square but we use **torus** distance. However for plotting, we drop the edges that *wrap around* the unit square, to get a nicer display.\n",
    "\n",
    "We generate **directed** graphs as detailed in the book, namely:\n",
    "* start with single node at time $t=1$ randomly placed on the square\n",
    "* at time $t>1$, generate a new node $v_t$ randomly placed on the square and for each node $u$ already in the graph:\n",
    " * if $v_t$ is in the **sphere of influence** of node $u$, add a directed edge $v_t \\rightarrow u$ with probability $p$\n",
    " \n",
    "A node's sphere of influence is parametrized by the node's in-degree at time $t$, and two other parameters $A_1$ and $A_2$, as described in the book.\n",
    "\n",
    "The in-degree distribution follows a power law with exponent $1+1/(p \\cdot A_1)$\n",
    "\n",
    "The expected average out-degree is $(p \\cdot A_2)/(1-p \\cdot A_1)$ (asymptotically)\n"
   ]
  },
  {
   "cell_type": "code",
   "execution_count": null,
   "metadata": {},
   "outputs": [],
   "source": [
    "function torusDist(U, V)\n",
    "    dx = abs(V[1] - U[1])\n",
    "    dy = abs(V[2] - U[2])\n",
    "    dx = (dx > 0.5) ? 1 - dx : dx\n",
    "    dy = (dy > 0.5) ? 1 - dy : dy\n",
    "    return sqrt(dx * dx + dy * dy)\n",
    "end\n",
    "\n",
    "function squareDist(U, V)\n",
    "    dx = abs(V[1] - U[1])\n",
    "    dy = abs(V[2] - U[2])\n",
    "    return sqrt(dx * dx + dy * dy)\n",
    "end\n",
    "\n",
    "# build a SPA graph given the parameters described above\n",
    "function buildSPA(n::Int, p::Float64, A1::Int, A2::Int, seed::Int=12345)\n",
    "    ## random points\n",
    "    rng = MersenneTwister(seed)\n",
    "    X = rand(rng, n, 2)\n",
    "\n",
    "    ## initialize new graph\n",
    "    t = 0\n",
    "    r = zeros(n)\n",
    "    G = DiGraph(n)\n",
    "\n",
    "    ## add vertices\n",
    "    for v in 1:n\n",
    "        for i in 1:v\n",
    "            if torusDist(X[v, :], X[i, :]) < r[i]\n",
    "                if rand() < p\n",
    "                    add_edge!(G, v, i)\n",
    "                end\n",
    "            end\n",
    "        end\n",
    "        t += 1\n",
    "        r = [sqrt(min(1, (A1 * d + A2) / t) / pi) for d in indegree(G)]\n",
    "    end\n",
    "    return G, X\n",
    "end"
   ]
  },
  {
   "cell_type": "markdown",
   "metadata": {},
   "source": [
    "### Generate a SPA graph - build with the torus distance\n",
    "\n",
    "Lower the number of edges $n$ for a quicker run.\n"
   ]
  },
  {
   "cell_type": "code",
   "execution_count": null,
   "metadata": {},
   "outputs": [],
   "source": [
    "#Generate a SPA graph - build with the torus distance\n",
    "n = 1000\n",
    "p = 0.667\n",
    "A1 = 1\n",
    "A2 = 3\n",
    "seed = 1234\n",
    "\n",
    "G_spa, X = buildSPA(n, p, A1, A2, seed)\n",
    "print(\"number of edges: \", ne(G_spa))"
   ]
  },
  {
   "cell_type": "markdown",
   "metadata": {},
   "source": [
    "### Plot the above graph - ignore edges that \"wrap around\" for nicer visualization"
   ]
  },
  {
   "cell_type": "code",
   "execution_count": null,
   "metadata": {},
   "outputs": [],
   "source": [
    "E = Edge[]\n",
    "for e in edges(G_spa)\n",
    "    a = X[e.src, :]\n",
    "    b = X[e.dst, :]\n",
    "    if torusDist(a, b) == squareDist(a, b)\n",
    "        push!(E, e)\n",
    "    end\n",
    "end\n",
    "\n",
    "## plot with those edges only\n",
    "G_sq, _ = induced_subgraph(G_spa, E)\n",
    "gplot(G_sq, X[:, 1], X[:, 2],\n",
    "    nodefillc=\"black\",\n",
    "    arrowlengthfrac=0.01,\n",
    "    plot_size=(20cm, 20cm))"
   ]
  },
  {
   "cell_type": "markdown",
   "metadata": {},
   "source": [
    "### Statistics for the SPA graph above\n",
    "\n",
    "We compute the following:\n",
    "* directed assortativity for the 4 different types $(a,b)$ where $a,b \\in \\{'in','out'\\}$ corresponding respectively to the source and target node of each directed edge\n",
    "* the corresponding correlation exponents\n",
    "* undirected assortativity\n",
    "* average and expected average out degree\n",
    "\n",
    "We implemented our own function for directed assortativity."
   ]
  },
  {
   "cell_type": "code",
   "execution_count": null,
   "metadata": {},
   "outputs": [],
   "source": [
    "## statistics for the SPA graph\n",
    "for m1 in [:in, :out]\n",
    "    for m2 in [:in, :out]\n",
    "        println(\n",
    "            \"Directed assortativity of type (\",\n",
    "            m1,\n",
    "            \",\",\n",
    "            m2,\n",
    "            \"): \",\n",
    "            assortativity_directed(G_spa, m1, m2),\n",
    "        )\n",
    "        println(\n",
    "            \"Directed correlation exponent of type (\",\n",
    "            m1,\n",
    "            \",\",\n",
    "            m2,\n",
    "            \"): \",\n",
    "            corr_exp_directed(G_spa, m1, m2),\n",
    "        )\n",
    "    end\n",
    "end\n",
    "println(\"Undirected assortativity: \", assortativity(G_spa))\n",
    "println(\"Average out degree: \", mean(outdegree(G_spa)))\n",
    "println(\"expected average out degree:\", p * A2 / (1 - p * A1))"
   ]
  },
  {
   "cell_type": "markdown",
   "metadata": {},
   "source": [
    "### Fitted vs expected power law exponent (in degrees)\n",
    "\n",
    "We use the same function we saw in Chapter 2.\n"
   ]
  },
  {
   "cell_type": "code",
   "execution_count": null,
   "metadata": {},
   "outputs": [],
   "source": [
    "#Fitted vs expected power law exponent (in degrees)\n",
    "d = indegree(G_spa)\n",
    "powerlaw = pyimport(\"powerlaw\");\n",
    "X = powerlaw.Fit(d, verbose=false)\n",
    "println(\"Value of gamma: \", X.power_law.alpha)\n",
    "println(\"Expected power law exponent:\", 1 + 1 / (p * A1))"
   ]
  },
  {
   "cell_type": "markdown",
   "metadata": {},
   "source": [
    "### Degree correlation function(s)\n",
    "\n",
    "Set ```mode1``` and ```mode2``` to 'indegree' or 'outdegree' to generate the various plots."
   ]
  },
  {
   "cell_type": "code",
   "execution_count": null,
   "metadata": {},
   "outputs": [],
   "source": [
    "## degree correlation\n",
    "mode1 = outdegree\n",
    "mode2 = indegree\n",
    "knn = deg_corr_directed(G_spa, mode1, mode2)\n",
    "scatter(knn.src_deg, knn.dst_deg_mean, c=\"black\");\n",
    "xlabel(L\"degree ($\\ell$)\", fontsize=12)\n",
    "ylabel(L\"$k_{nn}(\\ell)$\", fontsize=12);"
   ]
  },
  {
   "cell_type": "markdown",
   "metadata": {},
   "source": [
    "# Xulvi-Brunet and Sokolov (XBS) algorithm\n",
    "## Figures 4.7 and 4.8 in the book\n",
    "\n",
    "We show a smaller scale example here as compared to the book. (smaller value for $n$ and less repeats).\n",
    "\n",
    "* Fig. 4.7: degree correlation function for various assortativity values, using XBS algorithm\n",
    "* Fig. 4.8: order of the giant component vs expected average degree\n"
   ]
  },
  {
   "cell_type": "code",
   "execution_count": null,
   "metadata": {},
   "outputs": [],
   "source": [
    "## Naive Xulvi-Brunet and Sokolov algorithm\n",
    "\n",
    "function XBS(n, λ, q, assortative, seed)\n",
    "    p = λ / n\n",
    "    Random.seed!(seed)\n",
    "    g = erdos_renyi(n, p)\n",
    "    q == 0 && return g\n",
    "    e = [(x.src, x.dst) for x in edges(g)]\n",
    "    touched = falses(length(e))\n",
    "    count_touched = 0\n",
    "    while count_touched < length(e)\n",
    "        i, j = rand(axes(e, 1)), rand(axes(e, 1))\n",
    "        if i != j\n",
    "            vs = [e[i]..., e[j]...]\n",
    "            if allunique(vs)\n",
    "                if rand() < q\n",
    "                    sort!(vs, by=x -> degree(g, x))\n",
    "                    if !assortative\n",
    "                        vs[2], vs[4] = vs[4], vs[2]\n",
    "                    end\n",
    "                else\n",
    "                    shuffle!(vs)\n",
    "                end\n",
    "                a1, a2, b1, b2 = vs\n",
    "                if ((a1, a2) == e[i] || (a1, a2) == e[j])\n",
    "                    count_touched += !touched[i] + !touched[j]\n",
    "                    touched[i] = true\n",
    "                    touched[j] = true\n",
    "                else\n",
    "                    if !has_edge(g, a1, a2) && !has_edge(g, b1, b2)\n",
    "                        @assert rem_edge!(g, e[i]...)\n",
    "                        @assert rem_edge!(g, e[j]...)\n",
    "                        e[i] = (a1, a2)\n",
    "                        e[j] = (b1, b2)\n",
    "                        add_edge!(g, a1, a2)\n",
    "                        add_edge!(g, b1, b2)\n",
    "                        count_touched += !touched[i] + !touched[j]\n",
    "                        touched[i] = true\n",
    "                        touched[j] = true\n",
    "                    end\n",
    "                end\n",
    "            end\n",
    "        end\n",
    "    end\n",
    "    @assert all(touched)\n",
    "    return g\n",
    "end"
   ]
  },
  {
   "cell_type": "code",
   "execution_count": null,
   "metadata": {},
   "outputs": [],
   "source": [
    "## Fig 4.2 with N nodes and averaging Rep results\n",
    "N = 2^9 ## we use 2^16 and Rep=64 in book\n",
    "Rep = 8\n",
    "seeds = rand(UInt64, Rep)\n",
    "\n",
    "df = DataFrame()\n",
    "for seed in seeds\n",
    "    for (q, a) in ((0.0, true), (1 / 3, true), (2 / 3, true), (1 / 3, false), (2 / 3, false))\n",
    "        for d in 0.25:0.25:3\n",
    "            g = XBS(2^9, d, q, a, seed)\n",
    "            c = maximum(length, connected_components(g)) / nv(g)\n",
    "            push!(df, (seed=seed, q=q, a=a, d=d, component=c))\n",
    "        end\n",
    "    end\n",
    "end\n",
    "\n",
    "@chain df begin\n",
    "    groupby([:q, :a, :d])\n",
    "    combine(:component => mean => :component)\n",
    "    groupby([:q, :a])\n",
    "    foreach((c, s, sdf) -> plot(sdf.d, sdf.component, color=c, linestyle=s),\n",
    "        [\"black\", \"gray\", \"black\", \"gray\", \"black\"],\n",
    "        [\"-\", \"-\", \":\", \"--\", \"--\"], _[[3, 2, 1, 4, 5]])\n",
    "end\n",
    "ylim([0.0, 1.0])\n",
    "xlim([0.0, 3.0])\n",
    "xlabel(\"average degree\")\n",
    "ylabel(\"fraction of nodes\")\n",
    "legend([\"assortative, q=2/3\", \"assortative, q=1/3\", \"q=0\",\n",
    "    \"dissortative, q=1/3\", \"dissortative, q=2/3\"]);"
   ]
  },
  {
   "cell_type": "code",
   "execution_count": null,
   "metadata": {},
   "outputs": [],
   "source": [
    "## Fig 4.1\n",
    "\n",
    "Random.seed!(1234)\n",
    "seeds = rand(UInt64, Rep)\n",
    "df = DataFrame()\n",
    "for seed in seeds\n",
    "    for (q, a) in ((0.0, true), (1 / 3, true), (2 / 3, true), (1 / 3, false), (2 / 3, false))\n",
    "        g = XBS(2^9, 4, q, a, seed)\n",
    "        g = induced_subgraph(g, findall(>(0), degree(g)))[1]\n",
    "        ds, knns = eachcol(deg_corr_df(g))\n",
    "        append!(df, DataFrame(seed=seed, q=q, a=a, ds=ds, knns=knns))\n",
    "    end\n",
    "end\n",
    "\n",
    "@chain df begin\n",
    "    groupby([:q, :a, :ds])\n",
    "    combine(:knns => mean => :knns)\n",
    "    sort(:ds)\n",
    "    groupby([:q, :a])\n",
    "    foreach((c, s, sdf) -> plot(sdf.ds, sdf.knns, color=c, linestyle=s),\n",
    "        [\"black\", \"gray\", \"black\", \"gray\", \"black\"],\n",
    "        [\"-\", \"-\", \":\", \"--\", \"--\"], _[[3, 2, 1, 4, 5]])\n",
    "end\n",
    "xlabel(\"degree (\\$\\\\ell\\$)\")\n",
    "ylabel(\"\\$k_{nn} (\\\\ell)\\$\")\n",
    "xticks(1:2:17)\n",
    "xlim([0.0, 10.0])\n",
    "ylim([3, 8.0])\n",
    "legend([\"assortative, q=2/3\", \"assortative, q=1/3\", \"q=0\",\n",
    "        \"dissortative, q=1/3\", \"dissortative, q=2/3\"],\n",
    "    loc=\"upper center\", ncol=2);\n"
   ]
  },
  {
   "cell_type": "markdown",
   "metadata": {},
   "source": [
    "# US Airports Graph\n",
    "\n",
    "We use the same dataset as in previous chapter: a directed, weighted graph where edge weights are passenger volumes between airports. The weights are not used in this notebook, as we only consider node degrees (in, out and total degrees).\n"
   ]
  },
  {
   "cell_type": "code",
   "execution_count": null,
   "metadata": {},
   "outputs": [],
   "source": [
    "## read edges and build weighted directed graph\n",
    "D = CSV.read(datadir * \"Airports/connections.csv\", DataFrame)\n",
    "\n",
    "id2name = sort!(unique(union(D.orig_airport, D.dest_airport)))\n",
    "name2id = Dict(id2name .=> axes(id2name, 1))\n",
    "g = SimpleDiGraph(length(id2name))\n",
    "for row in eachrow(D)\n",
    "    from = name2id[row.orig_airport]\n",
    "    to = name2id[row.dest_airport]\n",
    "    from == to || add_edge!(g, from, to)\n",
    "end\n",
    "g"
   ]
  },
  {
   "cell_type": "markdown",
   "metadata": {},
   "source": [
    "## Directed Degree Correlation Functions (4 cases)\n",
    "\n",
    "Plot $k_{nn}^{mode1,mode2}(l)$ for all degrees $l$, where mode1 and mode2 are either 'indegree' or 'outdegree'.\n",
    "As detailed in section 4.5, this is the average mode2-degree of mode1-neighbours of nodes with mode1-degree = $l$.\n",
    "Dashed lines are for neutral graphs.\n",
    "\n",
    "While not identical, we see that the four plots are very similar, showing a slightly negative correlation except for the nodes of small degree. This similarity is not surprising as in this directed graph the edges very often come in pairs: when there are flights from A to B, there are very often flights from B to A.\n"
   ]
  },
  {
   "cell_type": "code",
   "execution_count": null,
   "metadata": {},
   "outputs": [],
   "source": [
    "knn = deg_corr_directed(g, indegree, indegree)\n",
    "r = deg_corr_neutral(g, indegree)\n",
    "scatter(eachcol(knn)..., c=\"black\")\n",
    "hlines(y=r, xmin=minimum(knn.src_deg), xmax=maximum(knn.src_deg), linestyles=\":\")\n",
    "ylabel(raw\"$k_{nn}(\\ell)$\", fontsize=12);"
   ]
  },
  {
   "cell_type": "code",
   "execution_count": null,
   "metadata": {},
   "outputs": [],
   "source": [
    "knn = deg_corr_directed(g, indegree, outdegree)\n",
    "r = deg_corr_neutral(g, outdegree)\n",
    "scatter(eachcol(knn)..., c=\"black\")\n",
    "hlines(y=r, xmin=minimum(knn.src_deg), xmax=maximum(knn.src_deg), linestyles=\":\")\n",
    "ylabel(raw\"$k_{nn}(\\ell)$\", fontsize=12);"
   ]
  },
  {
   "cell_type": "code",
   "execution_count": null,
   "metadata": {},
   "outputs": [],
   "source": [
    "knn = deg_corr_directed(g, outdegree, indegree)\n",
    "r = deg_corr_neutral(g, indegree)\n",
    "scatter(eachcol(knn)..., c=\"black\")\n",
    "hlines(y=r, xmin=minimum(knn.src_deg), xmax=maximum(knn.src_deg), linestyles=\":\")\n",
    "ylabel(raw\"$k_{nn}(\\ell)$\", fontsize=12);"
   ]
  },
  {
   "cell_type": "code",
   "execution_count": null,
   "metadata": {},
   "outputs": [],
   "source": [
    "knn = deg_corr_directed(g, outdegree, outdegree)\n",
    "r = deg_corr_neutral(g, outdegree)\n",
    "scatter(eachcol(knn)..., c=\"black\")\n",
    "hlines(y=r, xmin=minimum(knn.src_deg), xmax=maximum(knn.src_deg), linestyles=\":\")\n",
    "ylabel(raw\"$k_{nn}(\\ell)$\", fontsize=12);"
   ]
  },
  {
   "cell_type": "markdown",
   "metadata": {},
   "source": [
    "##  Airport graph -- undirected\n",
    "\n",
    "We now consider an **undirected** version of the airport graph.  Degree correlation is quite similar to the previous plots. We plot both using linear and log scale.\n"
   ]
  },
  {
   "cell_type": "code",
   "execution_count": null,
   "metadata": {},
   "outputs": [],
   "source": [
    "## Undirected graph\n",
    "g = SimpleGraph(g)"
   ]
  },
  {
   "cell_type": "code",
   "execution_count": null,
   "metadata": {},
   "outputs": [],
   "source": [
    "knn = deg_corr_df(g)\n",
    "r = deg_corr_neutral(g, degree)\n",
    "scatter(eachcol(knn)..., c=\"black\")\n",
    "hlines(y=r, xmin=minimum(knn.src_deg), xmax=maximum(knn.src_deg), linestyles=\":\")\n",
    "xlabel(\"degree l\", fontsize=12)\n",
    "ylabel(raw\"$k_{nn}(\\ell)$\", fontsize=12);"
   ]
  },
  {
   "cell_type": "code",
   "execution_count": null,
   "metadata": {},
   "outputs": [],
   "source": [
    "## log scale plot\n",
    "loglog(eachcol(knn)..., \"o\", c=\"black\")\n",
    "hlines(y=r, xmin=minimum(knn.src_deg), xmax=maximum(knn.src_deg), linestyles=\":\")\n",
    "ylim((52, 120))\n",
    "xlabel(\"degree l\", fontsize=12)\n",
    "ylabel(raw\"$k_{nn}(\\ell)$\", fontsize=12);"
   ]
  },
  {
   "cell_type": "markdown",
   "metadata": {},
   "source": [
    "# State by state assortativity and correlation exponent\n",
    "\n",
    "We consider each state in the airport graph for which there are more than 5 vertices that have within-state edges.\n",
    "We compute the following quantities defined in section 4.3 of the book:\n",
    "\n",
    "* the degree correlation coefficient, or degree assortativity ($r$)\n",
    "* the correlation exponent ($\\mu$) estimated via regression\n"
   ]
  },
  {
   "cell_type": "code",
   "execution_count": null,
   "metadata": {},
   "outputs": [],
   "source": [
    "A = CSV.read(datadir * \"Airports/airports_loc.csv\", DataFrame)\n",
    "A.id = [name2id[a] for a in A.airport]\n",
    "@assert A.id == axes(A, 1)\n",
    "@assert A.airport == id2name\n",
    "first(A, 5)"
   ]
  },
  {
   "cell_type": "code",
   "execution_count": null,
   "metadata": {},
   "outputs": [],
   "source": [
    "## for each state compute degree assortativity (r)\n",
    "## note that we drop airports w/o in-state edge\n",
    "## also estimate correlation exponent (mu) via regression (taking the logs)\n",
    "## Show assortativity and mu for states with 5+ vertices\n",
    "P = DataFrame(state=String[], nodes=Int[], edges=Int[], assortativity=Float64[], mu=Float64[])\n",
    "for s in unique(A.state)\n",
    "    hva = findall(==(s), A.state)\n",
    "    G = induced_subgraph(g, hva)[1]\n",
    "    G = induced_subgraph(G, findall(>(0), degree(G)))[1]\n",
    "    if nv(G) > 5\n",
    "        mu = corr_exp(G)\n",
    "        push!(P, [s, nv(G), ne(G), assortativity(G), mu])\n",
    "    end\n",
    "end\n",
    "sort!(P, :assortativity)\n",
    "first(P, 5)"
   ]
  },
  {
   "cell_type": "code",
   "execution_count": null,
   "metadata": {},
   "outputs": [],
   "source": [
    "## show bottom states w.r.t. 'r' (highest assortativity)\n",
    "last(P, 5)"
   ]
  },
  {
   "cell_type": "markdown",
   "metadata": {},
   "source": [
    "### Correlation between $r$ and $\\mu$\n",
    "\n",
    "Some states are quite small (very few nodes and edges), but we still see good correlation between those quantities."
   ]
  },
  {
   "cell_type": "code",
   "execution_count": null,
   "metadata": {},
   "outputs": [],
   "source": [
    "plot(P.assortativity, P.mu, \"o\", color=\"black\")\n",
    "xlabel(\"degree correlation coefficient (r)\", fontsize=12)\n",
    "ylabel(\"correlation exponent (mu)\", fontsize=12)\n",
    "println(\"Person correlation: \", cor(P.assortativity, P.mu))\n",
    "ident = [-1.0, 1.0]\n",
    "plot(ident, ident, \":\", c=\"gray\");"
   ]
  },
  {
   "cell_type": "markdown",
   "metadata": {},
   "source": [
    "## Looking at a few states with high/low assortativity"
   ]
  },
  {
   "cell_type": "markdown",
   "metadata": {},
   "source": [
    "## Two extreme cases\n",
    "\n",
    "Below we show two small state subgraphs with $r=-1$ (Nebraska - NE) and $r=1$ (Arkansas - AR).\n",
    "The AR graph consists of two cliques, so each node has the same degree as its neighbour. On the other hand, in the NE graph every node of degree 1 has a neighbour of degree 2, and nodes of degree 2 have 2 neighbours of degree 1. \n"
   ]
  },
  {
   "cell_type": "code",
   "execution_count": null,
   "metadata": {},
   "outputs": [],
   "source": [
    "## state with r = -1 (NE)\n",
    "hva = findall(A.state .== \"NE\")\n",
    "G_D = induced_subgraph(g, hva)[1]\n",
    "G_D = induced_subgraph(G_D, findall(>(0), degree(G_D)))[1]\n",
    "println(\"r = \", assortativity(G_D))\n",
    "Random.seed!(4)\n",
    "gplot(G_D,\n",
    "      NODESIZE=0.03, nodefillc=\"black\",\n",
    "      EDGELINEWIDTH=0.2, edgestrokec=\"gray\")"
   ]
  },
  {
   "cell_type": "code",
   "execution_count": null,
   "metadata": {},
   "outputs": [],
   "source": [
    "## state with r = +1 (AR)\n",
    "hva = findall(A.state .== \"AR\")\n",
    "G_D = induced_subgraph(g, hva)[1]\n",
    "G_D = induced_subgraph(G_D, findall(>(0), degree(G_D)))[1]\n",
    "println(\"r = \", assortativity(G_D))\n",
    "Random.seed!(4)\n",
    "gplot(G_D,\n",
    "      NODESIZE=0.03, nodefillc=\"black\",\n",
    "      EDGELINEWIDTH=0.2, edgestrokec=\"gray\")"
   ]
  },
  {
   "cell_type": "markdown",
   "metadata": {},
   "source": [
    "## Positive assortativity: ND+SD\n",
    "\n",
    "We merge the graphs from North and South Dakota; the resulting graph has positive assortativity value $r$ = 0.243. \n",
    "We notice the presence of a dense region (interconnected high degree nodes) and some tendrils with low degree nodes. \n"
   ]
  },
  {
   "cell_type": "code",
   "execution_count": null,
   "metadata": {},
   "outputs": [],
   "source": [
    "hva = findall(in([\"SD\", \"ND\"]), A.state)\n",
    "G_D = induced_subgraph(g, hva)[1]\n",
    "G_D = induced_subgraph(G_D, findall(>(0), degree(G_D)))[1]\n",
    "println(\"r = \", assortativity(G_D))\n",
    "Random.seed!(4)\n",
    "gplot(G_D,\n",
    "      NODESIZE=0.03, nodefillc=\"black\",\n",
    "      EDGELINEWIDTH=0.2, edgestrokec=\"gray\")"
   ]
  },
  {
   "cell_type": "markdown",
   "metadata": {},
   "source": [
    "Below we compare $r$ and $\\mu$ for a random models with the same degree distribution as in the North+South Dakota graph ```g_D```. We use the configuration model from Viger and Latapy; we also report the proportion of nodes above the structural cutoff given the degree distribution.\n",
    "\n",
    "The resulting values are quite different than for the real graph."
   ]
  },
  {
   "cell_type": "code",
   "execution_count": null,
   "metadata": {},
   "outputs": [],
   "source": [
    "## compare r and mu vs random models for the Dakotas: G = SD+ND\n",
    "## here we use the configuration model\n",
    "## we also report the proportion of nodes above the structural cutoff\n",
    "## given the degree distribution.\n",
    "r = Float64[]\n",
    "mu = Float64[]\n",
    "for i in 1:1000\n",
    "    cm = cm_simple(degree(G_D))\n",
    "    push!(r, assortativity(cm))\n",
    "    push!(mu, corr_exp(cm))\n",
    "end\n",
    "## structural cutoff\n",
    "sc = sqrt(2 * ne(G_D))\n",
    "p = count(>(sc), degree(G_D)) / nv(G_D)\n",
    "println(\"r = \", assortativity(G_D), \"\\nmu = \", corr_exp(G_D), \"\\nP(edges above structural cutoff) = \", p)\n",
    "boxplot([r, mu], labels=[\"assortativity (r)\", \"correlation exponent (mu)\"], widths=0.7, sym=\"\");"
   ]
  },
  {
   "cell_type": "markdown",
   "metadata": {},
   "source": [
    "Another way to see this is to plot the degree correlation functions for the real graphs and for one of the generated configuration model graphs, which we show below."
   ]
  },
  {
   "cell_type": "code",
   "execution_count": null,
   "metadata": {},
   "outputs": [],
   "source": [
    "## degree correlation function for the Dakotas graph\n",
    "knn = deg_corr_df(G_D)\n",
    "r = deg_corr_neutral(G_D, degree)\n",
    "scatter(eachcol(knn)..., c=\"black\")\n",
    "hlines(y=r, xmin=minimum(knn.src_deg), xmax=maximum(knn.src_deg), linestyles=\":\")\n",
    "xlabel(\"degree (k)\", fontsize=12)\n",
    "ylabel(raw\"$k_{nn}(\\ell)$\", fontsize=12);"
   ]
  },
  {
   "cell_type": "code",
   "execution_count": null,
   "metadata": {},
   "outputs": [],
   "source": [
    "## degree correlation function for a configuration model random graph used above\n",
    "## quite different!\n",
    "cms = cm_simple(degree(G_D))\n",
    "knn = deg_corr_df(cms)\n",
    "r = deg_corr_neutral(cms, degree)\n",
    "scatter(eachcol(knn)..., c=\"black\")\n",
    "hlines(y=r, xmin=minimum(knn.src_deg), xmax=maximum(knn.src_deg), linestyles=\":\")\n",
    "xlabel(\"degree (k)\", fontsize=12)\n",
    "ylabel(raw\"$k_{nn}(\\ell)$\", fontsize=12);"
   ]
  },
  {
   "cell_type": "markdown",
   "metadata": {},
   "source": [
    "## Negative assortativity: MO\n",
    "\n",
    "\n",
    "The subgraph for MO (Missouri) has negative assortativity value r = -0.547. We see that in this graph the low degree nodes mostly connect to the large degree hub nodes.\n"
   ]
  },
  {
   "cell_type": "code",
   "execution_count": null,
   "metadata": {},
   "outputs": [],
   "source": [
    "hva = findall(==(\"MO\"), A.state)\n",
    "G_D = induced_subgraph(g, hva)[1]\n",
    "G_D = induced_subgraph(G_D, findall(>(0), degree(G_D)))[1]\n",
    "println(\"r = \", assortativity(G_D))\n",
    "Random.seed!(4)\n",
    "gplot(G_D,\n",
    "      NODESIZE=0.03, nodefillc=\"black\",\n",
    "      EDGELINEWIDTH=0.2, edgestrokec=\"gray\")"
   ]
  },
  {
   "cell_type": "markdown",
   "metadata": {},
   "source": [
    "Below we compare $r$ and $\\mu$ for a random models with the same degree distribution as in the Missouri graph ```g_D```. We use the configuration model from Viger and Latapy; we also report the proportion of nodes above the structural cutoff given the degree distribution.\n",
    "\n",
    "The values are similar to the ones for the real graph. Therefore, in that case, the resulting values for $r$ and $\\mu$ can mostly be explained by the degree distribution: hubs are forced to be adjacent to small degree nodes. \n"
   ]
  },
  {
   "cell_type": "code",
   "execution_count": null,
   "metadata": {
    "scrolled": false
   },
   "outputs": [],
   "source": [
    "## r and mu vs random configuration model for MO graph\n",
    "## compare r and mu vs random models for the Dakotas: G = SD+ND\n",
    "## here we use the configuration model\n",
    "## we also report the proportion of nodes above the structural cutoff\n",
    "## given the degree distribution.\n",
    "r = Float64[]\n",
    "mu = Float64[]\n",
    "for i in 1:1000\n",
    "    cms = cm_simple(degree(G_D))\n",
    "    push!(r, assortativity(cms))\n",
    "    push!(mu, corr_exp(cms))\n",
    "end\n",
    "## structural cutoff\n",
    "sc = sqrt(2 * ne(G_D))\n",
    "p = count(>(sc), degree(G_D)) / nv(G_D)\n",
    "println(\"r = \", assortativity(G_D), \"\\nmu = \", corr_exp(G_D), \"\\nP(edges above structural cutoff) = \", p)\n",
    "boxplot([r, mu], labels=[\"assortativity (r)\", \"correlation exponent (mu)\"], widths=0.7, sym=\"\");"
   ]
  },
  {
   "cell_type": "markdown",
   "metadata": {},
   "source": [
    "Another way to see this is to plot the degree correlation functions for the real graphs and for one of the generated configuration model graphs, which we show below."
   ]
  },
  {
   "cell_type": "code",
   "execution_count": null,
   "metadata": {},
   "outputs": [],
   "source": [
    "## degree correlation function for MO graph\n",
    "knn = deg_corr_df(G_D)\n",
    "r = deg_corr_neutral(G_D, degree)\n",
    "scatter(eachcol(knn)..., c=\"black\")\n",
    "hlines(y=r, xmin=minimum(knn.src_deg), xmax=maximum(knn.src_deg), linestyles=\":\")\n",
    "xlabel(\"degree (k)\", fontsize=12)\n",
    "ylabel(raw\"$k_{nn}(\\ell)$\", fontsize=12);"
   ]
  },
  {
   "cell_type": "code",
   "execution_count": null,
   "metadata": {},
   "outputs": [],
   "source": [
    "## degree correlation function for a configuration random graph\n",
    "## quite similar!\n",
    "cms = cm_simple(degree(G_D))\n",
    "knn = deg_corr_df(cms)\n",
    "r = deg_corr_neutral(cms, degree)\n",
    "scatter(eachcol(knn)..., c=\"black\")\n",
    "hlines(y=r, xmin=minimum(knn.src_deg), xmax=maximum(knn.src_deg), linestyles=\":\")\n",
    "xlabel(\"degree (k)\", fontsize=12)\n",
    "ylabel(raw\"$k_{nn}(\\ell)$\", fontsize=12);"
   ]
  },
  {
   "cell_type": "markdown",
   "metadata": {},
   "source": [
    "## Back to Overall US Airport graph \n",
    "\n",
    "We go back to the full (undirected) US airport graph in order to illustrate two concepts:\n",
    "\n",
    "* the friendship \"paradox\" \n",
    "* the rich club phenomenon, if any\n",
    "\n",
    "For each node, we compare its degree with the average degree of its neighbours. We draw a line with unit slope to highlight the fact that the region above that line is much denser. This is due to the fact that there are many low degree nodes (smaller airports) which mostly tend to connect to hub airports, which explains the presence of this “paradox.”\n",
    "\n",
    "Next we compute the rich-club ratio $\\rho(l)$ for all values of $l$. We see that the curve starts at 1, increases slightly before decreasing gradually. We conclude that there is no indication of a rich-club phenomenon here.\n"
   ]
  },
  {
   "cell_type": "code",
   "execution_count": null,
   "metadata": {},
   "outputs": [],
   "source": [
    "## plot degree vs avg neighbour degree\n",
    "## friendship 'paradox' US Airport graph (overall)\n",
    "deg = degree(g)\n",
    "nad = [mean(degree(g, neighbors(g, v))) for v in 1:nv(g)]\n",
    "scatter(deg, nad, c=\"black\", marker=\".\")\n",
    "xlim((0, 200))\n",
    "ylim((0, 200))\n",
    "xlabel(\"node degree\", fontsize=14)\n",
    "ylabel(\"average neighbour degree\", fontsize=14);\n",
    "plot([0, 200], [0, 200], \"--\", c=\"gray\")\n",
    "print(\"r = \", assortativity(g));"
   ]
  },
  {
   "cell_type": "code",
   "execution_count": null,
   "metadata": {},
   "outputs": [],
   "source": [
    "## looking for rich club -- not here!\n",
    "d = unique(degree(g))\n",
    "rc = rich_club.(Ref(g), d)\n",
    "semilogx(d, rc, \".\", c=\"black\")\n",
    "xlabel(\"degree l\", fontsize=12)\n",
    "ylabel(\"rich club coefficient rho(l)\");"
   ]
  },
  {
   "cell_type": "markdown",
   "metadata": {},
   "source": [
    "## Assortativity: Europe Electric Grid Network\n",
    "\n",
    "This is a graph we saw before. \n",
    "Recall that the degree distribution is quite uniform (no high degree node, for example).\n",
    "\n",
    "We notice a small, but positive assortativity $r$, which we also see on the degree correlation function plot.\n",
    "From the average neighbour degree plot, the friendship paradox is not obvious here, mainly due to the absence of high degree \"hub\" nodes.\n"
   ]
  },
  {
   "cell_type": "code",
   "execution_count": null,
   "metadata": {},
   "outputs": [],
   "source": [
    "## Europe Electric Grid\n",
    "edge_list = split.(readlines(datadir * \"GridEurope/gridkit_europe-highvoltage.edges\"))\n",
    "vertex_ids = unique(reduce(vcat, edge_list))\n",
    "vertex_map = Dict(vertex_ids .=> 1:length(vertex_ids))\n",
    "grid = SimpleGraph(length(vertex_ids))\n",
    "foreach(((from, to),) -> add_edge!(grid, vertex_map[from], vertex_map[to]), edge_list)"
   ]
  },
  {
   "cell_type": "code",
   "execution_count": null,
   "metadata": {},
   "outputs": [],
   "source": [
    "## plot degree vs avg neighbour degree\n",
    "\n",
    "deg = degree(grid)\n",
    "nad = [mean(degree(grid, neighbors(grid, v))) for v in 1:nv(grid)]\n",
    "scatter(deg, nad, c=\"black\", marker=\".\")\n",
    "xlim((0, 18))\n",
    "ylim((0, 18))\n",
    "xlabel(\"node degree\", fontsize=14)\n",
    "ylabel(\"average neighbour degree\", fontsize=14);\n",
    "plot([0, 18], [0, 18], \"--\", c=\"gray\")\n",
    "print(\"r = \", assortativity(grid));"
   ]
  },
  {
   "cell_type": "code",
   "execution_count": null,
   "metadata": {},
   "outputs": [],
   "source": [
    "## Degree correlation function\n",
    "\n",
    "knn = deg_corr_df(grid)\n",
    "r = deg_corr_neutral(grid, degree)\n",
    "scatter(eachcol(knn)..., c=\"black\")\n",
    "hlines(y=r, xmin=minimum(knn.src_deg), xmax=maximum(knn.src_deg), linestyles=\":\")\n",
    "xlabel(\"degree (k)\", fontsize=12)\n",
    "ylabel(raw\"$k_{nn}(\\ell)$\", fontsize=12);"
   ]
  },
  {
   "cell_type": "markdown",
   "metadata": {},
   "source": [
    "## Assortativity: GitHub Developers Graph\n",
    "\n",
    "This is another graph we saw before. \n",
    "\n",
    "Here, we observe negative assortativity, which is common for social networks, and we also strongly observe the friendship paradox phenomenon.\n",
    "\n",
    "Despite the presence of high degree nodes, there is no evidence of the rich club phenomenon in this graph."
   ]
  },
  {
   "cell_type": "code",
   "execution_count": null,
   "metadata": {},
   "outputs": [],
   "source": [
    "## GitHub Developers (undirected)\n",
    "D = CSV.read(datadir * \"GitHubDevelopers/musae_git_edges.csv\", DataFrame) .+ 1\n",
    "max_node_id = max(maximum(D.id_1), maximum(D.id_2))\n",
    "git = SimpleGraph(max_node_id)\n",
    "foreach(row -> add_edge!(git, row...), eachrow(D))"
   ]
  },
  {
   "cell_type": "code",
   "execution_count": null,
   "metadata": {},
   "outputs": [],
   "source": [
    "## plot degree vs avg neighbour degree\n",
    "## zoom in on nodes with degree < LIM\n",
    "LIM = 1000\n",
    "deg = degree(git)\n",
    "nad = [mean(degree(git, neighbors(git, v))) for v in 1:nv(git)]\n",
    "scatter(deg, nad, c=\"black\", marker=\".\")\n",
    "xlim((0, LIM))\n",
    "ylim((0, LIM))\n",
    "xlabel(\"node degree\", fontsize=14)\n",
    "ylabel(\"average neighbour degree\", fontsize=14);\n",
    "plot([0, LIM], [0, LIM], \"--\", c=\"gray\")\n",
    "print(\"r = \", assortativity(git));"
   ]
  },
  {
   "cell_type": "code",
   "execution_count": null,
   "metadata": {},
   "outputs": [],
   "source": [
    "## degree correlation function\n",
    "knn = deg_corr_df(git)\n",
    "r = deg_corr_neutral(git, degree)\n",
    "xlim((0, LIM))\n",
    "scatter(eachcol(knn)..., c=\"black\")\n",
    "hlines(y=r, xmin=minimum(knn.src_deg), xmax=maximum(knn.src_deg), linestyles=\":\")\n",
    "xlabel(\"degree (k)\", fontsize=12)\n",
    "ylabel(raw\"$k_{nn}(\\ell)$\", fontsize=12);"
   ]
  },
  {
   "cell_type": "code",
   "execution_count": null,
   "metadata": {},
   "outputs": [],
   "source": [
    "## still no rich club group here\n",
    "d = unique(degree(git))\n",
    "rc = rich_club.(Ref(git), d)\n",
    "semilogx(d, rc, \".\", c=\"black\")\n",
    "xlabel(\"degree l\", fontsize=12)\n",
    "ylabel(\"rich club coefficient rho(l)\");"
   ]
  },
  {
   "cell_type": "markdown",
   "metadata": {},
   "source": [
    "## Showing a Rich Club phenomenon: the Actors graph\n",
    "\n",
    "This data set is part of the accompanying material of the book \"Complex Networks: Principles, Methods and Applications\", V. Latora, V. Nicosia, G. Russo, Cambridge University Press (2017).\n",
    "\n",
    "It has 248,243 nodes (actors) and 8,302,734 edges (actors co-appearing in at least 1 movie).\n",
    "\n",
    "We use this data to illustrate the presence of a \"rich club\", which may be explained by the fact that famous actors tend to play in many movies (high degree) and with other famous actors (rich-club phenomenon).\n",
    "\n",
    "To speed up the computation, we sample 100 distinct node degrees appearing in the graph for which we compute and plot the rich club coefficient. This can still take a few minutes to complete.\n"
   ]
  },
  {
   "cell_type": "code",
   "execution_count": null,
   "metadata": {},
   "outputs": [],
   "source": [
    "D = CSV.read(datadir * \"Actors/movie_actors.net\", header=[:id_1, :id_2], DataFrame) .+ 1\n",
    "max_node_id = max(maximum(D.id_1), maximum(D.id_2))\n",
    "g = SimpleGraph(max_node_id)\n",
    "foreach(row -> add_edge!(g, row...), eachrow(D))\n",
    "g = induced_subgraph(g, findall(>(0), degree(g)))[1]\n",
    "\n",
    "d = sample(unique(degree(g)), 100, replace=false)\n",
    "\n",
    "rc = rich_club.(Ref(g), d)\n",
    "semilogx(d, rc, \".\", c=\"black\")\n",
    "xlabel(\"degree l\", fontsize=12)\n",
    "ylabel(\"rich club coefficient rho(l)\");"
   ]
  }
 ],
 "metadata": {
  "kernelspec": {
   "display_name": "Julia 1.11.5",
   "language": "julia",
   "name": "julia-1.11"
  },
  "language_info": {
   "file_extension": ".jl",
   "mimetype": "application/julia",
   "name": "julia",
   "version": "1.11.5"
  }
 },
 "nbformat": 4,
 "nbformat_minor": 2
}
