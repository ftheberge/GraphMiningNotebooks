{
 "cells": [
  {
   "cell_type": "markdown",
   "metadata": {},
   "source": [
    "# Chapter 1 - Graph Theory"
   ]
  },
  {
   "cell_type": "markdown",
   "metadata": {},
   "source": [
    "## Requirements\n",
    "\n",
    "- check environment preparation instructions in `Julia_Notebooks_2nd/README.md` file\n",
    "- set the directory containing source data files in next cell"
   ]
  },
  {
   "cell_type": "code",
   "execution_count": null,
   "metadata": {},
   "outputs": [],
   "source": [
    "## path to datasets\n",
    "datadir = \"../Datasets/\""
   ]
  },
  {
   "cell_type": "code",
   "execution_count": null,
   "metadata": {},
   "outputs": [],
   "source": [
    "using CSV\n",
    "using DataFrames\n",
    "using DelimitedFiles\n",
    "using Graphs\n",
    "using GLMakie, GraphMakie\n",
    "using NetworkLayout\n",
    "using Statistics\n",
    "using PyPlot\n",
    "using StatsBase\n",
    "using GLM"
   ]
  },
  {
   "cell_type": "markdown",
   "metadata": {},
   "source": [
    "## Summary\n",
    "In this notebook, we look at **simple graph statistics** such as:\n",
    "- degree distribution\n",
    "- clustering coefficient\n",
    "- shortest path length distribution\n",
    "\n",
    "We illustrate the fact that even with such simple measures, we can see big difference between different types of graphs, thus the importance of **EDA**, exploratory data analysis, as a first step in data mining. \n",
    "\n",
    "In this notebook we consider two graphs:\n",
    "\n",
    "- a social-type graph, links between **GitHub developers**\n",
    "- a transportation-type network, namely a **power grid**\n",
    "\n",
    "Throughout, we use the terms **vertex** and **node** interchangably. "
   ]
  },
  {
   "cell_type": "markdown",
   "metadata": {},
   "source": [
    "## GitHub Developers (undirected)\n",
    "\n",
    "### Description\n",
    "\n",
    "A large undirected social network of GitHub developers which was collected from the public API in June 2019. Nodes are developers who have starred at least 10 repositories and edges are mutual follower relationships between them. The vertex features are extracted based on the location, repositories starred, employer and e-mail address. \n",
    "\n",
    "The graph has two types of nodes: \n",
    "- web developer\n",
    "- machine learning developer\n",
    "\n",
    "Below, we construct this graph (with `Graphs.jl` package); later we will look at subgraphs respectively for web or machine learning (ml) developers. The graph is stored in object `GitHubGraph`\n"
   ]
  },
  {
   "cell_type": "code",
   "execution_count": null,
   "metadata": {},
   "outputs": [],
   "source": [
    "## read the GitHub edge list into a graph\n",
    "D = CSV.read(datadir * \"GitHubDevelopers/musae_git_edges.csv\", DataFrame) .+ 1\n",
    "max_node_id = max(maximum(D.id_1), maximum(D.id_2))\n",
    "GitHubGraph = SimpleGraph(max_node_id)\n",
    "foreach(row -> add_edge!(GitHubGraph, row...), eachrow(D))"
   ]
  },
  {
   "cell_type": "markdown",
   "metadata": {},
   "source": [
    "### Node attributes\n",
    "\n",
    "Each node has three attributes:\n",
    "* it's index (as used in the edge list)\n",
    "* the username\n",
    "* a binary flag indicating ml or web developer (1 = ml)\n"
   ]
  },
  {
   "cell_type": "code",
   "execution_count": null,
   "metadata": {},
   "outputs": [],
   "source": [
    "## read node attributes\n",
    "GitHub_attr = CSV.read(datadir * \"GitHubDevelopers/musae_git_target.csv\", DataFrame)\n",
    "GitHub_attr.id .+= 1\n",
    "#Checking if attributes are sorted by id and if number of attributes match number of nodes\n",
    "@assert issorted(GitHub_attr.id) && extrema(GitHub_attr.id) == (1, nv(GitHubGraph))\n",
    "first(GitHub_attr, 3)"
   ]
  },
  {
   "cell_type": "code",
   "execution_count": null,
   "metadata": {},
   "outputs": [],
   "source": [
    "## 2 class of nodes, 0: web developer (grey), 1: ml developer (black)\n",
    "gh_target = GitHub_attr.ml_target\n",
    "gh_color = ifelse.(gh_target .== 0, \"grey\", \"black\")\n",
    "gh_lbl = ifelse.(gh_target .== 0, \"web\", \"ml\");"
   ]
  },
  {
   "cell_type": "markdown",
   "metadata": {},
   "source": [
    "### GitHub subgraphs\n",
    "We build the two subgraphs below: ```subgraph_ml``` for the machine learning (**ml**) developers and ```subgraph_web``` for the **web** developers."
   ]
  },
  {
   "cell_type": "code",
   "execution_count": null,
   "metadata": {},
   "outputs": [],
   "source": [
    "## build the subgraphs\n",
    "subgraph_ml = induced_subgraph(GitHubGraph, findall(==(\"ml\"), gh_lbl))[1]\n",
    "subgraph_web = induced_subgraph(GitHubGraph, findall(==(\"web\"), gh_lbl))[1]\n",
    "\n",
    "## there are 9739 ml developers and 27961 web developers\n",
    "@show nv(GitHubGraph), nv(subgraph_ml), nv(subgraph_web);"
   ]
  },
  {
   "cell_type": "markdown",
   "metadata": {},
   "source": [
    "Note that some ml developers are connected only to web developers and vice-versa.\n",
    "\n",
    "Therefore, some nodes will end up with no connection (degree 0) in the subgraphs."
   ]
  },
  {
   "cell_type": "code",
   "execution_count": null,
   "metadata": {},
   "outputs": [],
   "source": [
    "count_ml = sum([all(gh_target[neighbors(GitHubGraph, ml_v)] .== 0) for ml_v in findall(==(1), gh_target)])\n",
    "count_web = sum([all(gh_target[neighbors(GitHubGraph, web_v)] .== 1) for web_v in findall(==(0), gh_target)])\n",
    "\n",
    "print(\"$count_ml ml developers connected only to web developers\\n\",\n",
    "      \"$count_web web developers connected only to ml developers\")"
   ]
  },
  {
   "cell_type": "code",
   "execution_count": null,
   "metadata": {},
   "outputs": [],
   "source": [
    "## this should correpond to the number of degree 0 nodes in the subgraphs,\n",
    "## as there are no degree 0 nodes in the original graph.\n",
    "println(\"nodes of degree zero in overall graph=> $(sum(x -> x==0, degree(GitHubGraph)))\")\n",
    "println(\"nodes of degree zero in ml subgraph=> $(sum(x -> x==0, degree(subgraph_ml)))\")\n",
    "println(\"nodes of degree zero in web subgraph=> $(sum(x -> x==0, degree(subgraph_web)))\")"
   ]
  },
  {
   "cell_type": "markdown",
   "metadata": {},
   "source": [
    "## Europe Electric Grid\n",
    "\n",
    "A network of high voltage grid in Europe. The vertices are stations and the edges are the lines connecting them.\n",
    "More details can be found at: https://zenodo.org/record/47317#.Xt6nzy3MxTY.\n",
    "\n",
    "The graph is stored in object ```Grid```.\n",
    "\n",
    "The edges have directionality, but for this notebook, we consider an undirected version of this graph.\n",
    "\n",
    "Nodes have different attributes, including longitude and latitude; we will use those to force a graph layout for plotting according to the geographical location. There are several types of nodes: 'joint', 'merge', 'plant', 'station', 'sub_station', 'substation'."
   ]
  },
  {
   "cell_type": "markdown",
   "metadata": {},
   "source": [
    "### Node attributes"
   ]
  },
  {
   "cell_type": "code",
   "execution_count": null,
   "metadata": {},
   "outputs": [],
   "source": [
    "Grid_attr = CSV.read(datadir * \"GridEurope/gridkit_europe-highvoltage.vertices\", DataFrame);\n",
    "n = length(Grid_attr.v_id)\n",
    "vertex_map = Dict(Grid_attr.v_id .=> 1:n)\n",
    "Grid_attr.id = [vertex_map[e] for e in Grid_attr.v_id]\n",
    "sort!(Grid_attr, :id)\n",
    "## save longitude, latitude and node type in separate vectors\n",
    "gr_longitude = Grid_attr.lon\n",
    "gr_latitude = Grid_attr.lat\n",
    "gr_type = Grid_attr.typ;"
   ]
  },
  {
   "cell_type": "markdown",
   "metadata": {},
   "source": [
    "### Graph creation from edgelist"
   ]
  },
  {
   "cell_type": "code",
   "execution_count": null,
   "metadata": {},
   "outputs": [],
   "source": [
    "edge_list = readdlm(datadir * \"GridEurope/gridkit_europe-highvoltage.edges\", Int)\n",
    "Grid = SimpleGraph(n)\n",
    "for (from, to) in eachrow(edge_list)\n",
    "    add_edge!(Grid, vertex_map[from], vertex_map[to])\n",
    "end\n",
    "println(\"number of nodes: $(nv(Grid))\")\n",
    "println(\"number of edges: $(ne(Grid))\")"
   ]
  },
  {
   "cell_type": "code",
   "execution_count": null,
   "metadata": {},
   "outputs": [],
   "source": [
    "# EDA - min/max latitude and longitude and node types\n",
    "println(\"Node types and counts: \", [\"$k=$v \" for (k, v) in countmap(gr_type)]...)\n",
    "println(\"Latitude range: $(minimum(gr_latitude)) to $(maximum(gr_latitude))\")\n",
    "println(\"Longitude range: $(minimum(gr_longitude)) to $(maximum(gr_longitude))\")"
   ]
  },
  {
   "cell_type": "code",
   "execution_count": null,
   "metadata": {},
   "outputs": [],
   "source": [
    "colors = Dict(\"joint\" => :pink,\n",
    "    \"substation\" => :lightblue,\n",
    "    \"merge\" => :brown,\n",
    "    \"station\" => :blue,\n",
    "    \"sub_station\" => :lightblue,\n",
    "    \"plant\" => :black)\n",
    "colors_vec = [colors[t] for t in gr_type];\n",
    "graphplot(Grid;\n",
    "    layout=_ -> zip(gr_longitude, gr_latitude),\n",
    "    node_color=colors_vec,\n",
    "    node_size=5,\n",
    "    node_strokewidth=1)"
   ]
  },
  {
   "cell_type": "markdown",
   "metadata": {},
   "source": [
    "## Features for 4 graphs\n",
    "\n",
    "Below, we compute several basic features for the 4 graphs we have:\n",
    "- ```GitHubGraph``` (ml+web)\n",
    "- ```subgraph_ml``` (GitHub ml developers subgraph)\n",
    "- ```subgraph_web``` (GitHub web developers subgraph)\n",
    "- ```Grid``` (Europe power grid)\n",
    "\n",
    "Please refer to the book for details of those features.\n",
    "Note that running the cell below can take a few minutes.\n"
   ]
  },
  {
   "cell_type": "code",
   "execution_count": null,
   "metadata": {},
   "outputs": [],
   "source": [
    "function igraph_diameter(G)\n",
    "    ccs = connected_components(G)\n",
    "    ccg = [induced_subgraph(G, cc)[1] for cc in ccs]\n",
    "    maximum(maximum(maximum(gdistances(g, i)) for i in vertices(g)) for g in ccg)\n",
    "end"
   ]
  },
  {
   "cell_type": "code",
   "execution_count": null,
   "metadata": {},
   "outputs": [],
   "source": [
    "## compute and store basic stats in a table\n",
    "function baseStats(G)\n",
    "    deg = degree(G)\n",
    "    cc = connected_components(G)\n",
    "    return Any[nv(G), ne(G),\n",
    "        minimum(deg), mean(deg), median(deg), quantile(deg, 0.99), maximum(deg),\n",
    "        length(cc), maximum(length, cc), count(==(0), deg),\n",
    "        global_clustering_coefficient(G),\n",
    "        mean(local_clustering_coefficient(G)[degree(G).>1])]\n",
    "end\n",
    "\n",
    "df = DataFrame(statistic=[\"nodes\", \"edges\", \"d_min\", \"d_mean\", \"d_median\", \"d_quant_99\", \"d_max\",\n",
    "        \"components\", \"largest\", \"isolates\", \"C_glob\", \"C_loc\"],\n",
    "    GitHub=baseStats(GitHubGraph), GitHub_ml=baseStats(subgraph_ml), GitHub_web=baseStats(subgraph_web), Grid=baseStats(Grid))\n",
    "\n",
    "## this can take a few minutes\n",
    "gh_diam = igraph_diameter(GitHubGraph)\n",
    "gh_ml_diam = igraph_diameter(subgraph_ml)\n",
    "gh_web_diam = igraph_diameter(subgraph_web)\n",
    "gr_diam = igraph_diameter(Grid)\n",
    "push!(df, (\"diameter\", gh_diam, gh_ml_diam, gh_web_diam, gr_diam))\n",
    "\n",
    "df"
   ]
  },
  {
   "cell_type": "markdown",
   "metadata": {},
   "source": [
    "### Analysis of the results\n",
    "\n",
    "What do we see in the table above?\n",
    "\n",
    "First, look at the **degree distribution**; the GitHub graphs have a wide range of values, including some very high degree nodes, while the Grid graph has degree in range 0 to 16 only.\n",
    "\n",
    "The **diameter** (maximum shortest path length) is also quite different; it is common for social networks to have relatively small diameter. On the other hand, a multi-country power grid has large diameter.\n",
    "\n",
    "Looking at **components**, the GitHub graph is connected (single component), but the two subgraphs are not, and there are even nodes with null degree as we already saw. The Grid graph has several components, but most nodes fall is what we call the \"giant component\".\n",
    "\n",
    "Finally, we see some differences between the local and global **clustering coefficients** for the GitHub graphs; why is this so? what happens with very high degree nodes? See the plot below ..."
   ]
  },
  {
   "cell_type": "code",
   "execution_count": null,
   "metadata": {},
   "outputs": [],
   "source": [
    "X = [x for x in degree(subgraph_ml) if x > 1]\n",
    "Y = local_clustering_coefficient(subgraph_ml)[degree(subgraph_ml).>1]\n",
    "PyPlot.plot(X, Y, \".\")\n",
    "title(\"GitHub (ml) subgraph\", fontsize=16)\n",
    "xlabel(\"degree\", fontsize=14)\n",
    "ylabel(\"local clustering coefficient\", fontsize=14);\n"
   ]
  },
  {
   "cell_type": "markdown",
   "metadata": {},
   "source": [
    "## Visualize part of the Grid network\n",
    "For the Grid graph, we select a range of lat/lon that correspond to the Iberic peninsula.\n"
   ]
  },
  {
   "cell_type": "code",
   "execution_count": null,
   "metadata": {},
   "outputs": [],
   "source": [
    "gr_spain, spain_ids = induced_subgraph(Grid, findall(@. (36 < gr_latitude < 44) & (-10 < gr_longitude < 4)))\n",
    "println(\"showing $(nv(gr_spain)) nodes and $(ne(gr_spain)) edges\")\n",
    "graphplot(gr_spain, layout=_ -> zip(gr_longitude[spain_ids], gr_latitude[spain_ids]),\n",
    "    node_color=colors_vec[spain_ids],\n",
    "    node_strokewidth=1)"
   ]
  },
  {
   "cell_type": "markdown",
   "metadata": {},
   "source": [
    "## Visualize part of the GitHub (ml) graph\n",
    "\n",
    "There is no lat/lon here; in the code below, we take the giant component for the GitHub ml subgraph,\n",
    "and arbitrary cut w.r.t. the computed layout to display a portion of the subgraph.\n",
    "\n",
    "This is for illustration only; note that this is quite different from the Grid graph, with clumps (dense areas) and less regular edge distribution."
   ]
  },
  {
   "cell_type": "code",
   "execution_count": null,
   "metadata": {},
   "outputs": [],
   "source": [
    "function giant_component(g)\n",
    "    c = connected_components(g)\n",
    "    _, i = findmax(length.(c))\n",
    "    g[c[i]]\n",
    "end"
   ]
  },
  {
   "cell_type": "code",
   "execution_count": null,
   "metadata": {},
   "outputs": [],
   "source": [
    "giant_ml = giant_component(subgraph_ml)"
   ]
  },
  {
   "cell_type": "code",
   "execution_count": null,
   "metadata": {},
   "outputs": [],
   "source": [
    "# you can use other layouts if you want to experiment\n",
    "locs = NetworkLayout.spring(giant_ml, iterations=10);\n",
    "locs_x = getindex.(locs, 1)\n",
    "locs_y = getindex.(locs, 2)"
   ]
  },
  {
   "cell_type": "code",
   "execution_count": null,
   "metadata": {},
   "outputs": [],
   "source": [
    "# we cut the positions\n",
    "xmin, xmax = quantile(locs_x, [0.4, 0.6])\n",
    "ymin, ymax = quantile(locs_y, [0.4, 0.6]);\n",
    "ml_zoom, ml_zoom_ids = induced_subgraph(giant_ml, findall(@. (xmin < locs_x < xmax) & (ymin < locs_y < ymax)))\n",
    "println(\"showing $(nv(ml_zoom)) nodes and $(ne(ml_zoom)) edges\")\n",
    "graphplot(giant_component(ml_zoom),\n",
    "    node_strokewidth=1,\n",
    "    edge_color=:grey)"
   ]
  },
  {
   "cell_type": "markdown",
   "metadata": {},
   "source": [
    "## Compare degree distributions\n",
    "\n",
    "Degree distribution is one of the fundamental properties of networks. Below, we plot the empirical cumulative distribution functions (cdf) of the degree distribution for the GitHub and Grid graphs. \n",
    "\n",
    "As we noted before, for the GitHub graph, most nodes have low degree, but a few have very high degree, up to almost 10,000. This is not at all the case with the Grid graph where almost all nodes having degree less than 10, and the maximum degree observed is only 16."
   ]
  },
  {
   "cell_type": "code",
   "execution_count": null,
   "metadata": {},
   "outputs": [],
   "source": [
    "## degree distribution - GitHub graph\n",
    "deg = degree(GitHubGraph)\n",
    "e = ecdf(deg)\n",
    "x = range(extrema(e)..., step=1)\n",
    "y = e.(x)\n",
    "## plot on log scale for x-axis\n",
    "semilogx(x, y, \"-\", color=\"black\", label=\"GitHub\")\n",
    "xlabel(\"degree\", fontsize=14)\n",
    "ylabel(\"empirical cdf\", fontsize=14)\n",
    "title(\"GitHub graph (ml and web developers)\");"
   ]
  },
  {
   "cell_type": "code",
   "execution_count": null,
   "metadata": {},
   "outputs": [],
   "source": [
    "## degree distribution - Grid graph\n",
    "## we see much lower degrees in ths case\n",
    "deg = degree(Grid)\n",
    "e = ecdf(deg)\n",
    "x = range(extrema(e)..., step=1)\n",
    "y = e.(x)\n",
    "semilogx(x, y, \"-\", color=\"black\", label=\"Grid\")\n",
    "xlabel(\"degree\", fontsize=14)\n",
    "ylabel(\"empirical cdf\", fontsize=14)\n",
    "title(\"Power Grid Network\");"
   ]
  },
  {
   "cell_type": "markdown",
   "metadata": {},
   "source": [
    "## Shortest paths distribution\n",
    "\n",
    "In the plots below, we consider 100 randomly chosen nodes, and compute the length of the shortest path to reach every other node. We then plot histograms for those values. \n",
    "\n",
    "Once again we see much different distributions: for the GitHub graph, most paths are quite short, with common values in the range from 2 to 6.\n",
    "For the Grid graph however, the paths are generally longer, and over a much wider range."
   ]
  },
  {
   "cell_type": "code",
   "execution_count": null,
   "metadata": {},
   "outputs": [],
   "source": [
    "## shortest paths length from a given node, GitHub graph\n",
    "cc_gh = connected_components(GitHubGraph)\n",
    "giant_gh, _ = induced_subgraph(GitHubGraph, cc_gh[argmax(length.(cc_gh))])\n",
    "V = sample(1:nv(giant_gh), 100, replace=false)\n",
    "sp = DataFrame(len=reduce(vcat, gdistances.(Ref(giant_gh), V)))\n",
    "histdata = combine(groupby(sp, :len, sort=true), nrow => :count)[2:end, :]\n",
    "\n",
    "fig, ax = subplots()\n",
    "ax.bar(histdata.len, histdata.count, color=\"darkgrey\")\n",
    "ax.set_yscale(\"log\")\n",
    "ax.set_xlabel(\"path length\", fontsize=14)\n",
    "ax.set_ylabel(\"number of paths (log scale)\", fontsize=14)\n",
    "title(\"GitHub graph (ml and web developers)\");"
   ]
  },
  {
   "cell_type": "code",
   "execution_count": null,
   "metadata": {},
   "outputs": [],
   "source": [
    "## min path length from that node to other nodes, Grid network\n",
    "cc_gr = connected_components(Grid)\n",
    "giant_gr, _ = induced_subgraph(Grid, cc_gr[argmax(length.(cc_gr))])\n",
    "V = sample(1:nv(giant_gr), 100, replace=false)\n",
    "V = 1:100\n",
    "sp = DataFrame(len=reduce(vcat, gdistances.(Ref(giant_gr), V)))\n",
    "histdata = combine(groupby(sp, :len, sort=true), nrow => :count)[2:end, :]\n",
    "\n",
    "fig, ax = subplots()\n",
    "ax.bar(histdata.len, histdata.count, color=\"darkgrey\")\n",
    "ax.set_xlabel(\"path length\", fontsize=14)\n",
    "ax.set_ylabel(\"number of paths\", fontsize=14)\n",
    "title(\"Power Grid Network\");"
   ]
  },
  {
   "cell_type": "markdown",
   "metadata": {},
   "source": [
    "## Local clustering coefficient\n",
    "\n",
    "Below, we compare the average local clustering coefficients as a function\n",
    "of the node degrees for the GitHub graph. We consider degrees from 10 to 1000.\n",
    "\n",
    "Looking at a log-log plot, we see a power law relation between those quantities; \n",
    "we also compute the regression line for comparison.\n"
   ]
  },
  {
   "cell_type": "code",
   "execution_count": null,
   "metadata": {},
   "outputs": [],
   "source": [
    "## build dataframe with degrees and local clustering coefficients\n",
    "## and compute mean values w.r.t. degree.\n",
    "## GitHub graph\n",
    "mindeg = 10\n",
    "maxdeg = 1000\n",
    "\n",
    "D = DataFrame(CC=local_clustering_coefficient(GitHubGraph, 1:nv(GitHubGraph)), d=degree(GitHubGraph))\n",
    "D_mean = combine(groupby(D, :d, sort=true), :CC => mean => :CC)\n",
    "filter!(:d => x -> 10 <= x <= 1000, D_mean)\n",
    "transform!(D_mean, :d => ByRow(log) => :x, :CC => ByRow(log) => :y)\n",
    "model = lm(@formula(y ~ x), D_mean)"
   ]
  },
  {
   "cell_type": "code",
   "execution_count": null,
   "metadata": {},
   "outputs": [],
   "source": [
    "## plot on log-log scale\n",
    "b, a = coef(model)\n",
    "loglog(D_mean.d, D_mean.CC, \".-\", color=\"grey\")\n",
    "PyPlot.plot([mindeg, maxdeg], [exp(b) * mindeg^a, exp(b) * maxdeg^a], color=\"black\")\n",
    "xlabel(\"log(degree)\", fontsize=14)\n",
    "ylabel(\"log(mean local clust. coef.)\", fontsize=14);\n",
    "title(\"GitHub graph (ml and web developers)\");"
   ]
  }
 ],
 "metadata": {
  "kernelspec": {
   "display_name": "Julia 1.11.5",
   "language": "julia",
   "name": "julia-1.11"
  },
  "language_info": {
   "file_extension": ".jl",
   "mimetype": "application/julia",
   "name": "julia",
   "version": "1.11.5"
  }
 },
 "nbformat": 4,
 "nbformat_minor": 4
}
