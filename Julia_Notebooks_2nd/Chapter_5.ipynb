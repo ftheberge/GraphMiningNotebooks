{
 "cells": [
  {
   "cell_type": "markdown",
   "id": "2e8bdcbe",
   "metadata": {},
   "source": [
    "# Chapter 5 - Community Detection\n",
    "\n",
    "In this notebook, we explore several algorithms to find communities in graphs.\n",
    "\n",
    "In some cells, we use the ABCD benchmark to generate synthetic graphs with communities installed from https://github.com/bkamins/ABCDGraphGenerator.jl"
   ]
  },
  {
   "cell_type": "code",
   "execution_count": null,
   "id": "a5abe04c",
   "metadata": {},
   "outputs": [],
   "source": [
    "datadir = \"../Datasets/\""
   ]
  },
  {
   "cell_type": "code",
   "execution_count": null,
   "id": "c2bd64be",
   "metadata": {},
   "outputs": [],
   "source": [
    "using ABCDGraphGenerator\n",
    "using CSV, DataFrames\n",
    "using DelimitedFiles\n",
    "using Graphs\n",
    "using GraphMakie, GLMakie\n",
    "using NetworkLayout\n",
    "using PyPlot\n",
    "using PyCall\n",
    "using Random\n",
    "using Serialization\n",
    "using StatsBase\n",
    "using StatsPlots"
   ]
  },
  {
   "cell_type": "code",
   "execution_count": null,
   "id": "a5c414b1",
   "metadata": {},
   "outputs": [],
   "source": [
    "run(`$(PyCall.python) -m pip install python-igraph pycairo scikit-learn partition-igraph`)"
   ]
  },
  {
   "cell_type": "code",
   "execution_count": null,
   "id": "513a67cf",
   "metadata": {},
   "outputs": [],
   "source": [
    "ig = pyimport(\"igraph\")\n",
    "ig_part = pyimport(\"partition_igraph\")\n",
    "random = pyimport(\"random\")\n",
    "np = pyimport(\"numpy\")"
   ]
  },
  {
   "cell_type": "code",
   "execution_count": null,
   "id": "3dc984a0",
   "metadata": {},
   "outputs": [],
   "source": [
    "AMI = pyimport(\"sklearn.metrics\").adjusted_mutual_info_score\n",
    "roc_curve = pyimport(\"sklearn.metrics\").roc_curve\n",
    "roc_auc_score = pyimport(\"sklearn.metrics\").roc_auc_score"
   ]
  },
  {
   "cell_type": "markdown",
   "id": "22c21e20",
   "metadata": {},
   "source": [
    "# Zachary (karate) graph\n",
    "\n",
    "This is a small graph with 34 nodes and two ground-truth communities.\n",
    "Modularity-based algorithms will typically find 4 or 5 communities.\n",
    "In the next cells, we look at this small graph from several different angles.\n"
   ]
  },
  {
   "cell_type": "code",
   "execution_count": null,
   "id": "00197fc3",
   "metadata": {},
   "outputs": [],
   "source": [
    "g_karate = smallgraph(:karate)\n",
    "karate_comms = [1, 1, 1, 1, 1, 1, 1, 1, 2, 2, 1, 1, 1, 1, 2, 2, 1, 1, 2, 1, 2, 1, 2, 2, 2, 2, 2, 2, 2, 2, 2, 2, 2, 2];"
   ]
  },
  {
   "cell_type": "code",
   "execution_count": null,
   "id": "7a37c8d0",
   "metadata": {},
   "outputs": [],
   "source": [
    "## plot graph without axes and background grid\n",
    "function clean_graphplot(G::AbstractGraph; kwargs...)\n",
    "    f, ax, p = graphplot(G; kwargs...)\n",
    "    hidedecorations!(ax)\n",
    "    hidespines!(ax)\n",
    "    return f\n",
    "end"
   ]
  },
  {
   "cell_type": "code",
   "execution_count": null,
   "id": "0d92ed59",
   "metadata": {},
   "outputs": [],
   "source": [
    "clean_graphplot(g_karate,\n",
    "    layout=Stress(),\n",
    "    node_size=25,\n",
    "    ilabels=repr.(1:nv(g_karate)),\n",
    "    node_color=[:white, :lightgray][karate_comms],\n",
    "    edge_color=:grey)"
   ]
  },
  {
   "cell_type": "markdown",
   "id": "7cfaa195",
   "metadata": {},
   "source": [
    "## Node Roles\n",
    " \n",
    "We compute $z(v)$ (normalized within module degree) and $p(v)$ (participation coefficients) as defined in section 5.2 of the book for the Zachary graph `g_zac`. \n",
    "\n",
    "We identify 3 types of nodes, as described in the book.\n",
    "\n",
    "* provincial hubs\n",
    "* peripheral nodes (non-hubs)\n",
    "* ultra peripheral nodes (non-hubs)"
   ]
  },
  {
   "cell_type": "code",
   "execution_count": null,
   "id": "2893c17f",
   "metadata": {},
   "outputs": [],
   "source": [
    "## normalized within-module degree (z(v))\n",
    "function nwmd(G::SimpleGraph, A::Vector{Int})\n",
    "    # within module degrees\n",
    "    deg_in = [sum([A[v] == A[i] for i in neighbors(G, v)]) for v in 1:nv(G)]\n",
    "    deg_in_mean = [mean([deg_in[i] for i in 1:nv(G) if A[i] == j]) for j in Set(A)]\n",
    "    deg_in_std = [std([deg_in[i] for i in 1:nv(G) if A[i] == j]) for j in Set(A)]\n",
    "    return [(deg_in[v] - deg_in_mean[A[v]]) / deg_in_std[A[v]] for v in 1:nv(G)]\n",
    "end\n",
    "\n",
    "## participation coefficient\n",
    "function pc(G::SimpleGraph, A::Vector{Int})\n",
    "    deg = degree(G)\n",
    "    coef = Float64[]\n",
    "    for v in 1:nv(G)\n",
    "        nbhs_comm_count = values(countmap(A[neighbors(G, v)]))\n",
    "        push!(coef, 1 - sum(x -> (x / deg[v])^2, nbhs_comm_count))\n",
    "    end\n",
    "    return coef\n",
    "end"
   ]
  },
  {
   "cell_type": "code",
   "execution_count": null,
   "id": "809eedc1",
   "metadata": {},
   "outputs": [],
   "source": [
    "## compute z (normalized within-module degree) and p (participation coefficient)\n",
    "karate_z = nwmd(g_karate, karate_comms)\n",
    "karate_p = pc(g_karate, karate_comms);"
   ]
  },
  {
   "cell_type": "markdown",
   "id": "6148741e",
   "metadata": {},
   "source": [
    "### Looking at $z(v)$ and $p(v)$\n",
    "\n",
    "Below, we plot the Zachary graph with respect to $z(v)$ where $z(v) > 2.5$ are **hubs**, which we show as **white square** nodes.\n",
    "\n",
    "The largest values are for node 0 (instructor), node 33 (president) and node 32.\n",
    "Nodes 0 and 33 are the key nodes for the division of the group into factions.\n",
    "\n",
    "The **ultra-peripherial** nodes are shown with darker color."
   ]
  },
  {
   "cell_type": "code",
   "execution_count": null,
   "id": "514c6ebe",
   "metadata": {},
   "outputs": [],
   "source": [
    "karate_color = Symbol[]\n",
    "karate_marker = fill(:circle, nv(g_karate))\n",
    "for v in vertices(g_karate)\n",
    "    if karate_z[v] < 2.5\n",
    "        ## peripheral\n",
    "        karate_p[v] < 0.62 && karate_p[v] >= 0.05 && push!(karate_color, :white)\n",
    "        ## ultra-peripheral\n",
    "        karate_p[v] < 0.05 && push!(karate_color, :lightgray)\n",
    "    end\n",
    "    ## hubs (all provincial here)\n",
    "    if karate_z[v] >= 2.5 && karate_p[v] < 0.3\n",
    "        push!(karate_color, :white)\n",
    "        karate_marker[v] = :rect\n",
    "    end\n",
    "end"
   ]
  },
  {
   "cell_type": "code",
   "execution_count": null,
   "id": "3a27868a",
   "metadata": {},
   "outputs": [],
   "source": [
    "clean_graphplot(g_karate,\n",
    "    layout=Stress(),\n",
    "    node_size=25,\n",
    "    node_marker=karate_marker,\n",
    "    ilabels=repr.(1:nv(g_karate)),\n",
    "    node_color=karate_color,\n",
    "    edge_color=:lightgrey\n",
    ")"
   ]
  },
  {
   "cell_type": "markdown",
   "id": "37683897",
   "metadata": {},
   "source": [
    "### Figure 5.3(b)\n",
    "\n",
    "The code below is to generate Figure 5.3(b) in the book, again comparing node roles in the Zachary graph.\n"
   ]
  },
  {
   "cell_type": "code",
   "execution_count": null,
   "id": "22362e63",
   "metadata": {},
   "outputs": [],
   "source": [
    "## Figure 5.3(b) -- comparing the roles\n",
    "fig, ax = subplots(figsize=(12, 9))\n",
    "ax.scatter(karate_p, karate_z, marker=\"o\", s=75, color=\"k\")\n",
    "\n",
    "PyPlot.plot([0, 0.5], [2.5, 2.5], color=\"k\", linestyle=\"-\", linewidth=2)\n",
    "PyPlot.plot([0.05, 0.05], [-0.5, 2.4], color=\"k\", linestyle=\"-\", linewidth=2)\n",
    "\n",
    "ax.annotate(\"node 1\", (karate_p[1], karate_z[1] - 0.05), xytext=(karate_p[1] + 0.01, karate_z[1] - 0.3),\n",
    "    fontsize=14,\n",
    "    arrowprops=Dict(\"arrowstyle\" => \"-\", \"connectionstyle\" => \"angle3,angleA=0,angleB=-90\"))\n",
    "\n",
    "ax.annotate(\"node 34\", (karate_p[34], karate_z[34] - 0.05), xytext=(karate_p[34] - 0.07, karate_z[34] - 0.3),\n",
    "    fontsize=14,\n",
    "    arrowprops=Dict(\"arrowstyle\" => \"-\", \"connectionstyle\" => \"angle3,angleA=0,angleB=-90\"))\n",
    "\n",
    "ax.annotate(\"node 33\", (karate_p[33] - 0.005, karate_z[33]), xytext=(karate_p[33] - 0.07, karate_z[33]),\n",
    "    fontsize=14,\n",
    "    arrowprops=Dict(\"arrowstyle\" => \"-\", \"connectionstyle\" => \"angle3,angleA=0,angleB=-90\"))\n",
    "\n",
    "ax.annotate(\"node 2\", (karate_p[2], karate_z[2] - 0.05), xytext=(karate_p[2] - 0.07, karate_z[2] - 0.3),\n",
    "    fontsize=14,\n",
    "    arrowprops=Dict(\"arrowstyle\" => \"-\", \"connectionstyle\" => \"angle3,angleA=0,angleB=-90\"))\n",
    "\n",
    "ax.annotate(\"node 4\", (karate_p[4], karate_z[4] - 0.05), xytext=(karate_p[4] + 0.07, karate_z[4] - 0.3),\n",
    "    fontsize=14,\n",
    "    arrowprops=Dict(\"arrowstyle\" => \"-\", \"connectionstyle\" => \"angle3,angleA=0,angleB=-90\"))\n",
    "\n",
    "ax.annotate(\"node 3\", (karate_p[3], karate_z[3] - 0.05), xytext=(karate_p[3] - 0.07, karate_z[3] - 0.3),\n",
    "    fontsize=14,\n",
    "    arrowprops=Dict(\"arrowstyle\" => \"-\", \"connectionstyle\" => \"angle3,angleA=0,angleB=-90\"))\n",
    "\n",
    "ax.annotate(\"provincial hubs\", (0.3, 3), fontsize=18)\n",
    "ax.annotate(\"peripheral non-hubs\", (0.3, 1.8), fontsize=18)\n",
    "ax.annotate(\"ultra peripheral non-hubs\", (0.025, 0.0), xytext=(0.1, 0), fontsize=18,\n",
    "    arrowprops=Dict(\"arrowstyle\" => \"->\", \"connectionstyle\" => \"angle3,angleA=0,angleB=-90\"))\n",
    "\n",
    "xlabel(\"participation coefficient (p(v))\", fontsize=16)\n",
    "ylabel(\"normalized within module degree (z(v))\", fontsize=16);"
   ]
  },
  {
   "cell_type": "markdown",
   "id": "1f6a616e",
   "metadata": {},
   "source": [
    "### Looking at a few other community-based features\n",
    "\n",
    "We already saw the *normalized within-module degree* $z(v)$ and *participation coefficient* $p(v)$.\n",
    "\n",
    "Recall that a high value for $z(v)$ is indicative of a hub. \n",
    "\n",
    "For $p(v)$, a value close to zero indicates homogeneity of communities amongst $v$'s neighbours, while a high value indicates heterogeneity.\n",
    "\n",
    "Below we compute the *community distribution distance* (cdd) and the *community association strength* (cas)."
   ]
  },
  {
   "cell_type": "code",
   "execution_count": null,
   "id": "e995f495",
   "metadata": {},
   "outputs": [],
   "source": [
    "# community distribution distance\n",
    "function cdd(G::Graph, A::Vector{Int})\n",
    "    deg = degree(G)\n",
    "    Vol = sum(deg)\n",
    "    max_comm = maximum(A)\n",
    "    Vol_A = zeros(Float64, max_comm + 1)\n",
    "\n",
    "    for i in 1:nv(G)\n",
    "        Vol_A[A[i]+1] += deg[i]\n",
    "    end\n",
    "    Vol_A ./= Vol\n",
    "\n",
    "    cdd_values = []\n",
    "    for i in 1:nv(G)\n",
    "        deg_A = zeros(Float64, max_comm + 1)\n",
    "        for v in neighbors(G, i)\n",
    "            deg_A[A[v]+1] += 1\n",
    "        end\n",
    "        push!(cdd_values, sqrt(sum((deg_A ./ deg[i] .- Vol_A) .^ 2)))\n",
    "    end\n",
    "    return cdd_values\n",
    "end\n",
    "\n",
    "# community association strength\n",
    "function cas(G::Graph, A::Vector{Int})\n",
    "    deg = degree(G)\n",
    "    deg_int = [sum(A[i] == A[j] for i in neighbors(G, j)) for j in 1:nv(G)]\n",
    "    Vol = sum(deg)\n",
    "    max_comm = maximum(A)\n",
    "    Vol_A = zeros(Float64, max_comm + 1)\n",
    "\n",
    "    for i in 1:nv(G)\n",
    "        Vol_A[A[i]+1] += deg[i]\n",
    "    end\n",
    "\n",
    "    return [deg_int[i] / deg[i] - (Vol_A[A[i]+1] - deg[i]) / Vol for i in 1:nv(G)]\n",
    "end"
   ]
  },
  {
   "cell_type": "code",
   "execution_count": null,
   "id": "e58adb3a",
   "metadata": {},
   "outputs": [],
   "source": [
    "karate_cdd = cdd(g_karate, karate_comms)\n",
    "karate_cas = cas(g_karate, karate_comms);"
   ]
  },
  {
   "cell_type": "markdown",
   "id": "becbe122",
   "metadata": {},
   "source": [
    "Below we show the nodes with low *cas* values with white color. We see that those correspond to nodes that are at the boundary between communities.\n",
    "\n",
    "We also compute the Pearson correlation coefficient between the community-based measures we computed.\n"
   ]
  },
  {
   "cell_type": "code",
   "execution_count": null,
   "id": "0b392fd5",
   "metadata": {},
   "outputs": [],
   "source": [
    "## value with lowest 'cas' are shown in white\n",
    "th = quantile(karate_cas, 0.15)\n",
    "karate_plot = clean_graphplot(g_karate,\n",
    "    layout=Stress(),\n",
    "    node_size=25,\n",
    "    node_marker=karate_marker,\n",
    "    ilabels=repr.(1:nv(g_karate)),\n",
    "    node_color=[:white, :lightgrey][Int.(karate_cas .> th).+1],\n",
    "    edge_color=:lightgrey\n",
    ")"
   ]
  },
  {
   "cell_type": "code",
   "execution_count": null,
   "id": "9564d735",
   "metadata": {},
   "outputs": [],
   "source": [
    "## correlation between various community-based measures\n",
    "cor(Float64.([karate_z karate_p karate_cdd karate_cas]))"
   ]
  },
  {
   "cell_type": "markdown",
   "id": "0238988c",
   "metadata": {},
   "source": [
    "## Strong and weak communities\n",
    "\n",
    "Communities can be defined as strong or weak as per (5.1) and (5.2) in the book.\n",
    "\n",
    "For the Zachary graph, we verify if nodes within communities satisfy the strong criterion, then we verify if the two communities satisfy the weak definition.\n",
    "\n",
    "For the strong definition (internal degree larger than external degree for each node), only two nodes do not qualify: nodes 3 and 10.\n",
    "\n",
    "For the weak definition (total community internal degree > total community external degree), both communities satisfy this criterion.\n"
   ]
  },
  {
   "cell_type": "code",
   "execution_count": null,
   "id": "17a51b5d",
   "metadata": {},
   "outputs": [],
   "source": [
    "## strong criterion\n",
    "for i in vertices(g_karate)\n",
    "    c = karate_comms[i]\n",
    "    n = [karate_comms[v] == c for v in neighbors(g_karate, i)]\n",
    "    if sum(n) <= length(n) - sum(n)\n",
    "        println(\"node $(i) has internal degree $(sum(n)) external degree $(length(n)-sum(n))\")\n",
    "    end\n",
    "end"
   ]
  },
  {
   "cell_type": "code",
   "execution_count": null,
   "id": "32338d2e",
   "metadata": {},
   "outputs": [],
   "source": [
    "## weak criterion\n",
    "I = [0, 0]\n",
    "E = [0, 0]\n",
    "for i in vertices(g_karate)\n",
    "    c = karate_comms[i]\n",
    "    n = [karate_comms[v] == c for v in neighbors(g_karate, i)]\n",
    "    I[c] += sum(n)\n",
    "    E[c] += length(n) - sum(n)\n",
    "end\n",
    "println(\"community 1 internal degree $(I[1]) external degree $(E[1])\")\n",
    "println(\"community 2 internal degree $(I[2]) external degree $(E[2])\")\n"
   ]
  },
  {
   "cell_type": "markdown",
   "id": "e4569378",
   "metadata": {},
   "source": [
    "## Hierarchical clustering and dendrogram\n",
    "\n",
    "Girvan-Newman algorithm is described in section 5.5 of the book. We apply it to the Zachary graph and show the results of this divisive algorithm as a dendrogram.\n"
   ]
  },
  {
   "cell_type": "code",
   "execution_count": null,
   "id": "bfcaabe5",
   "metadata": {},
   "outputs": [],
   "source": [
    "## Girvan-Newman algorithm\n",
    "ig_karate = ig.Graph.Famous(\"zachary\")\n",
    "gn = ig_karate.community_edge_betweenness()\n",
    "fig, ax = subplots(figsize=(6, 6));\n",
    "ig.plot(gn, target=ax);"
   ]
  },
  {
   "cell_type": "markdown",
   "id": "e0b44dbf",
   "metadata": {},
   "source": [
    "This is an example of a hierarchical clustering. In the next plot, we compute modularity for each possible cut of the dendrogram.\n",
    "\n",
    "We see that we get strong modularity with 2 clusters, but maximal value is obtained with 5.\n"
   ]
  },
  {
   "cell_type": "code",
   "execution_count": null,
   "id": "bdc6243b",
   "metadata": {},
   "outputs": [],
   "source": [
    "## compute modularity at each possible cut and plot\n",
    "q = [ig_karate.modularity(gn.as_clustering(n=i)) for i in vertices(g_karate)]\n",
    "PyPlot.plot(1:nv(g_karate), q, \"o-\", color=:gray)\n",
    "xlabel(\"number of clusters\", fontsize=14)\n",
    "ylabel(\"modularity\", fontsize=14);"
   ]
  },
  {
   "cell_type": "markdown",
   "id": "932f5921",
   "metadata": {},
   "source": [
    "How are the nodes partitioned if we pick only 2 communities? How does this compare to the underlying ground truth?\n",
    "\n",
    "From the plot below, we see that only 1 node is misclassified (node 3 was \"white\" in the plot with ground-truth communities)\n",
    "\n",
    "The modularity of this partition, $q = 0.35996$. \n",
    "\n",
    "We also compare the partition with ground truth via AMI (adjusted mutual information), as defined in section 5.3 of the book; we got a high value AMI = 0.83276 showing  strong concordance. \n"
   ]
  },
  {
   "cell_type": "code",
   "execution_count": null,
   "id": "63bd4a85",
   "metadata": {},
   "outputs": [],
   "source": [
    "## show result with 2 clusters\n",
    "gn_2n = gn.as_clustering(n=2).membership\n",
    "println(\"AMI: $(AMI(karate_comms, gn_2n))\")  ## adjusted mutual information\n",
    "println(\"q: $(ig_karate.modularity(gn_2n))\") ## modularity\n",
    "clean_graphplot(g_karate,\n",
    "    layout=Stress(),\n",
    "    node_size=25,\n",
    "    node_marker=karate_marker,\n",
    "    ilabels=1:nv(g_karate),\n",
    "    node_color=[:white, :lightgrey][gn_2n.+1],\n",
    "    edge_color=:lightgrey\n",
    ")"
   ]
  },
  {
   "cell_type": "markdown",
   "id": "868c8001",
   "metadata": {},
   "source": [
    "Below we show the same plot as above, but we label the nodes with respect to the 5 communities found by modularity-based algorithms. \n",
    "\n",
    "We color the nodes with respect to the two ground-truth communities.\n",
    "\n",
    "We indeed see that in that case, we get higher modularity, but weaker AMI value.\n",
    "\n",
    "Other than breaking up each community in two, we see that node 3 is mis-labelled (as already noticed), and node 10 is isolated in its own community (community #5). \n",
    "\n",
    "Recall that those were the only two nodes **not** having **strong connectivity** with respect to the ground truth communities.\n"
   ]
  },
  {
   "cell_type": "code",
   "execution_count": null,
   "id": "a3239234",
   "metadata": {},
   "outputs": [],
   "source": [
    "## show result with optimal modularity (5 clusters)\n",
    "gn_5n = gn.as_clustering(n=5).membership\n",
    "println(\"AMI: $(AMI(karate_comms, gn_5n))\")\n",
    "println(\"q: $(ig_karate.modularity(gn_5n))\")\n",
    "clean_graphplot(g_karate,\n",
    "    layout=Stress(),\n",
    "    node_size=25,\n",
    "    node_marker=karate_marker,\n",
    "    ilabels=gn_5n .+ 1,\n",
    "    node_color=[:white, :lightgrey][karate_comms],\n",
    "    edge_color=:lightgrey\n",
    ")"
   ]
  },
  {
   "cell_type": "markdown",
   "id": "b4954552",
   "metadata": {},
   "source": [
    "# ABCD graph with 100 nodes\n",
    "\n",
    "Next we look at a slightly larger graph generated with the ABCD benchmark model, which is described in section 5.3 of the book. This graph has 3 communities. \n",
    "Using hierarchical clustering, we compare modularity and AMI for each possible cut.\n",
    "\n",
    "The ABCD parameters used to generate this graph are (see the content of `abcd_config.toml`): \n",
    "* $\\gamma=3$\n",
    "* degree range [5,15]\n",
    "* $\\tau=2$\n",
    "* community size range [25,50]\n",
    "* $\\xi=.2$."
   ]
  },
  {
   "cell_type": "code",
   "execution_count": null,
   "id": "7bf7980c",
   "metadata": {},
   "outputs": [],
   "source": [
    "run(`julia --project abcd.jl abcd_config.toml`)"
   ]
  },
  {
   "cell_type": "code",
   "execution_count": null,
   "id": "9edc1255",
   "metadata": {},
   "outputs": [],
   "source": [
    "n = 100\n",
    "g_abcd = SimpleGraph(n)\n",
    "edgelist = collect(eachrow(readdlm(\"edge.dat\", '\\t', Int)))\n",
    "for row in edgelist\n",
    "    add_edge!(g_abcd, row...)\n",
    "end\n",
    "abcd_comms = readdlm(\"com.dat\", '\\t', Int)[:, 2];"
   ]
  },
  {
   "cell_type": "code",
   "execution_count": null,
   "id": "60583e6e",
   "metadata": {},
   "outputs": [],
   "source": [
    "clean_graphplot(g_abcd,\n",
    "    layout=Stress(),\n",
    "    node_color=[:white, :gray, :black][abcd_comms],\n",
    "    node_strokewidth=1,\n",
    "    edge_color=:lightgray)"
   ]
  },
  {
   "cell_type": "markdown",
   "id": "31145d90",
   "metadata": {},
   "source": [
    "### Girvan-Newman algorithm\n",
    "\n",
    "We plot the modularity and AMI for each cut from the GN algorithm.\n",
    "\n",
    "In this case, both modularity and AMI are maximized with 3 communities.\n"
   ]
  },
  {
   "cell_type": "code",
   "execution_count": null,
   "id": "8cbaa75f",
   "metadata": {},
   "outputs": [],
   "source": [
    "ig_abcd = ig.Graph()\n",
    "ig_abcd.add_vertices(n)\n",
    "ig_abcd.add_edges([(src - 1, dst - 1) for (src, dst) in edgelist])"
   ]
  },
  {
   "cell_type": "code",
   "execution_count": null,
   "id": "74e118ae",
   "metadata": {},
   "outputs": [],
   "source": [
    "q = Float64[]\n",
    "a = Float64[]\n",
    "gn = ig_abcd.community_edge_betweenness()\n",
    "for i in 1:n\n",
    "    clustering = gn.as_clustering(n=i)\n",
    "    push!(q, ig_abcd.modularity(clustering))\n",
    "    push!(a, AMI(abcd_comms, clustering.membership))\n",
    "end\n",
    "PyPlot.plot(1:n, q, \".-\", color=\"black\", label=\"modularity\")\n",
    "PyPlot.plot(1:n, a, \".-\", color=\"grey\", label=\"AMI\")\n",
    "xlabel(\"number of clusters\", fontsize=14)\n",
    "ylabel(\"modularity or AMI\", fontsize=14)\n",
    "legend();"
   ]
  },
  {
   "cell_type": "markdown",
   "id": "ba81418a",
   "metadata": {},
   "source": [
    "We see that with 3 communities, $q=0.494$ and AMI=1, so perfect recovery."
   ]
  },
  {
   "cell_type": "code",
   "execution_count": null,
   "id": "616c9cc3",
   "metadata": {},
   "outputs": [],
   "source": [
    "first(DataFrame(n_comm=1:n, q=q, AMI=a), 5)"
   ]
  },
  {
   "cell_type": "markdown",
   "id": "8caa5fac",
   "metadata": {},
   "source": [
    "What would we get with 4 clusters, for which AMI = 0.94 is also quite high?\n",
    "We see below that we have a few nodes splitted from one community."
   ]
  },
  {
   "cell_type": "code",
   "execution_count": null,
   "id": "5b537bdc",
   "metadata": {},
   "outputs": [],
   "source": [
    "## 4 communities\n",
    "g_abcd_4n = gn.as_clustering(n=4).membership .+ 1\n",
    "small_comm = findmin(countmap(g_abcd_4n))[1] ## smallest community\n",
    "edges_color = fill(:lightgray, ne(g_abcd))\n",
    "for (i, e) in enumerate(edges(g_abcd))\n",
    "    if g_abcd_4n[src(e)] == small_comm && g_abcd_4n[dst(e)] == small_comm\n",
    "        edges_color[i] = :black\n",
    "    end\n",
    "end\n",
    "clean_graphplot(g_abcd,\n",
    "    layout=Stress(),\n",
    "    node_size=ifelse.(g_abcd_4n .== small_comm, 15, 10),\n",
    "    node_color=[:white, :gray, :black, :lightgray][g_abcd_4n],\n",
    "    node_strokewidth=1,\n",
    "    edge_color=edges_color)"
   ]
  },
  {
   "cell_type": "markdown",
   "id": "aa19fb49",
   "metadata": {},
   "source": [
    "# Anomaly detection"
   ]
  },
  {
   "cell_type": "markdown",
   "id": "4a138619",
   "metadata": {},
   "source": [
    "### ABCD graph with outliers\n",
    "\n",
    "Similar to the 100-node ABCD graph, but this time, 10 nodes are \"outliers\" (marked as community 0)\n"
   ]
  },
  {
   "cell_type": "code",
   "execution_count": null,
   "id": "5dcc380c",
   "metadata": {},
   "outputs": [],
   "source": [
    "run(`julia --project abcd.jl abcd_outliers_config.toml`)"
   ]
  },
  {
   "cell_type": "code",
   "execution_count": null,
   "id": "0680bee0",
   "metadata": {},
   "outputs": [],
   "source": [
    "n = 100\n",
    "g_abcd_o = SimpleGraph(n)\n",
    "edgelist = collect(eachrow(readdlm(\"edge_outliers.dat\", '\\t', Int)))\n",
    "for row in edgelist\n",
    "    add_edge!(g_abcd_o, row...)\n",
    "end\n",
    "abcd_comms_o = readdlm(\"com_outliers.dat\", '\\t', Int)[:, 2]"
   ]
  },
  {
   "cell_type": "code",
   "execution_count": null,
   "id": "8b4d0066",
   "metadata": {},
   "outputs": [],
   "source": [
    "clean_graphplot(g_abcd_o,\n",
    "    layout=Spring(),\n",
    "    node_color=[:white, :gray, :black, :lightgray][abcd_comms_o],\n",
    "    node_strokewidth=1,\n",
    "    edge_color=:lightgray)"
   ]
  },
  {
   "cell_type": "code",
   "execution_count": null,
   "id": "1c711679",
   "metadata": {},
   "outputs": [],
   "source": [
    "## community-based features for outlier and other nodes\n",
    "df = DataFrame(community=abcd_comms_o,\n",
    "    cdd=cdd(g_abcd_o, abcd_comms_o),\n",
    "    cas=cas(g_abcd_o, abcd_comms_o),\n",
    "    pc=pc(g_abcd_o, abcd_comms_o))\n",
    "dfg = combine(groupby(df, :community), Not(:community) .=>\n",
    "    [x -> quantile(x, 0.25) x -> quantile(x, 0.75)] .=> [x -> x * \"_Q1\" x -> x * \"_Q3\"])\n",
    "select(dfg, \"community\", sort(names(dfg)[2:end])...)"
   ]
  },
  {
   "cell_type": "code",
   "execution_count": null,
   "id": "328d7a65",
   "metadata": {},
   "outputs": [],
   "source": [
    "## plot - node size proportional to participation coefficient\n",
    "clean_graphplot(g_abcd_o,\n",
    "    layout=Spring(),\n",
    "    node_size=[8 + 1.2 / x for x in df.cas],\n",
    "    node_color=[:white, :gray, :black, :lightgray][abcd_comms_o],\n",
    "    node_strokewidth=1,\n",
    "    edge_color=:lightgray)"
   ]
  },
  {
   "cell_type": "markdown",
   "id": "9507e13c",
   "metadata": {},
   "source": [
    "## American College Football Graph\n",
    "\n",
    "This is a nice, small graph for illustrating anomaly detection methods.\n",
    "\n",
    "[Ref]: \"Community structure in social and biological networks\", M. Girvan and M. E. J. Newman PNAS June 11, 2002 99 (12) 7821-7826; https://doi.org/10.1073/pnas.122653799\n",
    "with corrections to the labels as described in: https://arxiv.org/pdf/1009.0638\n",
    "\n",
    "The graph has 115 nodes, 613 edges and after the corrections, there are  12 communities corresponding to Football Conferences.\n",
    "\n",
    "One of these communities (labelled as '5') is in fact a group of **independent** teamswhich we use as surrogate for **outlier** nodes."
   ]
  },
  {
   "cell_type": "code",
   "execution_count": null,
   "id": "6c833b08",
   "metadata": {},
   "outputs": [],
   "source": [
    "fbl_comms = vec(readdlm(datadir * \"Football/football.community\", Int))\n",
    "fbl_n = length(fbl_comms)\n",
    "g_fbl = SimpleGraph(fbl_n)\n",
    "fbl_edgelist = collect(eachrow(readdlm(datadir * \"Football/football.edgelist\", Int)))\n",
    "for row in fbl_edgelist\n",
    "    add_edge!(g_fbl, row .+ 1...)\n",
    "end"
   ]
  },
  {
   "cell_type": "code",
   "execution_count": null,
   "id": "e8eefc99",
   "metadata": {
    "scrolled": false
   },
   "outputs": [],
   "source": [
    "## plot the College Football Graph\n",
    "## show communities in different colors\n",
    "## show known anomalies as triangles\n",
    "clean_graphplot(g_fbl,\n",
    "    node_strokewidth=1,\n",
    "    node_size=12,\n",
    "    node_color=fbl_comms .+ 1,\n",
    "    node_attr=(colormap=:lightrainbow,),\n",
    "    node_marker=ifelse.(fbl_comms .== 5, :utriangle, :circle),\n",
    "    edge_color=:lightgray)"
   ]
  },
  {
   "cell_type": "code",
   "execution_count": null,
   "id": "6215328f",
   "metadata": {},
   "outputs": [],
   "source": [
    "## greyscale version (for the book)\n",
    "clean_graphplot(g_fbl,\n",
    "    node_strokewidth=1,\n",
    "    node_size=12,\n",
    "    node_color=fbl_comms .+ 1,\n",
    "    node_attr=(colormap=:Greys,),\n",
    "    node_marker=ifelse.(fbl_comms .== 5, :utriangle, :circle),\n",
    "    edge_color=:lightgray)"
   ]
  },
  {
   "cell_type": "markdown",
   "id": "b96d0a05",
   "metadata": {},
   "source": [
    "### Anomaly detection\n",
    "\n",
    "We apply some of the community-based measures we defined earlier to find the *anomalous* nodes, namely looking at:\n",
    "\n",
    "* the participation coefficient (pc) - high values are indicative of anomalous nodes\n",
    "* the community association strength (cas) - low values are indicative of anomalous nodes\n",
    "* the community distribution distance (cdd)- low values are indicative of anomalous nodes\n",
    "\n",
    "The rationale is that an *anomalous* node will be difficult to place in a single cluster.\n",
    "In the plot below, we show the distribution of those scores amongst the anomalous and non-anomalous nodes respecvively.\n",
    "For the communities, we use the results from the ECG algorithm rather than using the ground-truth communities.\n",
    "\n",
    "We also show the ROC curves for each measure and compute the AUC (area under the ROC curve), \n",
    "A ROC curve is a plot of the true positive rate (TPR) against the false positive rate (FPR) at each threshold value.\n",
    "The area unde rthe ROC curve, the AUC, can be interpreted as the probability that a randomly chosen positive case has a higher \n",
    "score than a randomly chosen negative case.\n"
   ]
  },
  {
   "cell_type": "code",
   "execution_count": null,
   "id": "5d152052",
   "metadata": {},
   "outputs": [],
   "source": [
    "ig_fbl = ig.Graph()\n",
    "ig_fbl.add_vertices(fbl_n)\n",
    "ig_fbl.add_edges(fbl_edgelist)"
   ]
  },
  {
   "cell_type": "code",
   "execution_count": null,
   "id": "b3554706",
   "metadata": {},
   "outputs": [],
   "source": [
    "cfg_comm = ig_fbl.community_ecg(final=\"leiden\").membership\n",
    "anomaly = Int.(fbl_comms .== 5)\n",
    "ROC_cdd = roc_curve(anomaly, 1 .- cdd(g_fbl, cfg_comm))\n",
    "ROC_cas = roc_curve(anomaly, 1 .- cas(g_fbl, cfg_comm))\n",
    "ROC_pc = roc_curve(anomaly, pc(g_fbl, cfg_comm))\n",
    "AUC_cdd = roc_auc_score(anomaly, 1 .- cdd(g_fbl, cfg_comm))\n",
    "AUC_cas = roc_auc_score(anomaly, 1 .- cas(g_fbl, cfg_comm))\n",
    "AUC_pc = roc_auc_score(anomaly, pc(g_fbl, cfg_comm))\n",
    "\n",
    "PyPlot.plot(ROC_pc[1], ROC_pc[2], label=\"pc,  AUC=$(round(AUC_pc,digits=3))\")\n",
    "PyPlot.plot(ROC_cdd[1], ROC_cdd[2], label=\"cdd, AUC=$(round(AUC_cdd,digits=3))\")\n",
    "PyPlot.plot(ROC_cas[1], ROC_cas[2], label=\"cas, AUC=$(round(AUC_cas,digits=3))\")\n",
    "legend()\n",
    "xlabel(\"False positive rate (FPR)\", fontsize=14)\n",
    "ylabel(\"True positive rate (TPR)\", fontsize=14);"
   ]
  },
  {
   "cell_type": "code",
   "execution_count": null,
   "id": "6cecf5a6",
   "metadata": {},
   "outputs": [],
   "source": [
    "## build dataframe with community-based features\n",
    "fbl_df = DataFrame(\n",
    "    measure=[fill(\"pc\", fbl_n); fill(\"cas\", fbl_n); fill(\"cdd\", fbl_n)],\n",
    "    value=[pc(g_fbl, cfg_comm); cas(g_fbl, cfg_comm); cdd(g_fbl, cfg_comm)],\n",
    "    anomaly=ifelse.(repeat(anomaly, 3) .== 1, \"anomaly\", \"non-anomaly\")\n",
    ")\n",
    "\n",
    "## boxplots\n",
    "groupedboxplot(\n",
    "    fbl_df.measure,\n",
    "    fbl_df.value,\n",
    "    group=fbl_df.anomaly,\n",
    "    bar_width=0.7,\n",
    "    xlabel=\"Measure\",\n",
    "    ylabel=\"Value\")"
   ]
  },
  {
   "cell_type": "markdown",
   "id": "1e9e682c",
   "metadata": {},
   "source": [
    "# ABCD with varying $\\xi$ - Illustration\n",
    "\n",
    "The cell below is for illustration purpose only, to show some small ABCD graphs with different $\\xi$ (noise) parameters.\n",
    "\n",
    "* notice the density of edges between communities as $\\xi$ increases.\n"
   ]
  },
  {
   "cell_type": "code",
   "execution_count": null,
   "id": "1c30126d",
   "metadata": {},
   "outputs": [],
   "source": [
    "## ABCD with varying community strength (xi)\n",
    "n = 100\n",
    "\n",
    "## degrees\n",
    "gamma = 2.5\n",
    "delta = 5\n",
    "Delta = 15\n",
    "\n",
    "## communities\n",
    "beta = 1.5\n",
    "s = 25\n",
    "S = 50\n",
    "\n",
    "XIs = [0.05, 0.15, 0.33, 0.5]\n",
    "g_abcds_xi = []\n",
    "for xi in XIs\n",
    "    Random.seed!(42)\n",
    "    degs = ABCDGraphGenerator.sample_degrees(gamma, delta, Delta, n, 1000)\n",
    "    coms = ABCDGraphGenerator.sample_communities(beta, s, S, n, 1000)\n",
    "    p = ABCDGraphGenerator.ABCDParams(degs, coms, nothing, xi, false, false, false)\n",
    "    edges, clusters = ABCDGraphGenerator.gen_graph(p)\n",
    "    g = SimpleGraph(n)\n",
    "    for row in edges\n",
    "        add_edge!(g, row...)\n",
    "    end\n",
    "    push!(g_abcds_xi, (g, clusters))\n",
    "end"
   ]
  },
  {
   "cell_type": "code",
   "execution_count": null,
   "id": "cafa979a",
   "metadata": {},
   "outputs": [],
   "source": [
    "fig = Makie.Figure(size=(800, 600))\n",
    "for i in 1:length(XIs)\n",
    "    ax, plt = graphplot(\n",
    "        fig[i <= 2 ? 1 : 2, in(i, [1, 3]) ? 1 : 2],\n",
    "        g_abcds_xi[i][1],\n",
    "        node_strokewidth=1,\n",
    "        node_size=12,\n",
    "        node_color=g_abcds_xi[i][2],\n",
    "        node_attr=(colormap=:Greys,),\n",
    "        edge_color=:lightgray\n",
    "    )\n",
    "    hidedecorations!(ax)\n",
    "    hidespines!(ax)\n",
    "    ax.title = \"ξ = $(XIs[i]) \"\n",
    "end\n",
    "fig"
   ]
  },
  {
   "cell_type": "markdown",
   "id": "ff9c4a2b",
   "metadata": {},
   "source": [
    "# ABCD with varying $\\xi$ -- Experiments\n",
    "\n",
    "Here we show a typical way to compare graph clustering algorithms using benchmark graphs. \n",
    "We pick some model, here ABCD, and we vary the noise parameter $\\xi$. \n",
    "With ABCD, the larger $\\xi$ is, the closer we are to a random Chung-Lu or configuration model graph (i.e. where only the degree distribution matters). For $\\xi=0$, we get pure communities (all edges are internal).\n",
    "\n",
    "For each choice of $\\xi$, we generate 30 graphs, apply several different clustering algorithms,\n",
    "and compute AMI (adjusted mutual information) for each algorithm, comparing with ground-truth communities.\n",
    "\n",
    "The code below is commented out as it can take a while to run; saved results are included in the Data directory. To re-run from scratch, uncomment the cell below.\n",
    "\n",
    "Parameters for the ABCD benchmark graphs are:\n",
    "\n",
    "* $n=1,000$\n",
    "* $\\gamma=2.5$\n",
    "* $\\tau=1.5$\n",
    "* degree range [10,50]\n",
    "* community size range [50,100]\n",
    "* $0.3 \\le \\xi \\le 0.8$\n"
   ]
  },
  {
   "cell_type": "markdown",
   "id": "08e8ee61",
   "metadata": {},
   "source": [
    "We plot the results below. \n",
    "We see good results with Leiden and Infomap, and slightly better results with ECG.\n",
    "Label propagation is a fast algortihm, but it does collapse with moderate to high level of noise.\n",
    "\n",
    "From the standard deviation plot, we see high variability around the value(s) for $\\xi$ where the different\n",
    "algorithms start to collapse. We see that this happen later and at a smaller scale with EGC, which is known to have good stability.\n",
    "\n",
    "ECG and Leiden are often good choices for *unweighted* graphs while for *weighted* graphs, Leiden is usually a good option.\n",
    "\n",
    "Such studies are useful to compare algorithms; using benchmarks, we can directly control parameters such as the noise level.\n",
    "\n",
    "Uncomment the cell below to re-run all the experiments (can take 4-5 minutes), otherwise we load the results in the next cell.\n"
   ]
  },
  {
   "cell_type": "code",
   "execution_count": null,
   "id": "432e15d7",
   "metadata": {},
   "outputs": [],
   "source": [
    "# ## common ABCD graph parameters\n",
    "\n",
    "# n = 1000\n",
    "\n",
    "# ## degrees\n",
    "# gamma = 2.5\n",
    "# delta = 10\n",
    "# Delta = 50\n",
    "\n",
    "# ## communities\n",
    "# beta = 1.5\n",
    "# s = 50\n",
    "# S = 100\n",
    "\n",
    "# ## generate the graphs and run various clustering algorithms\n",
    "# Random.seed!(42)\n",
    "# REP = 30\n",
    "# L = Vector{Float64}[]\n",
    "# for xi in .3:.02:.801\n",
    "#     println(xi)\n",
    "#     for rep in 1:REP\n",
    "#         v = [xi, AMI(G.community_leiden(objective_function=\"modularity\").membership, clusters),\n",
    "#              AMI(G.community_ecg(ens_size=16, final=\"leiden\").membership, clusters),\n",
    "#              AMI(G.community_infomap().membership, clusters),\n",
    "#              AMI(G.community_label_propagation().membership, clusters)\n",
    "#             ]\n",
    "#         push!(L,v)\n",
    "#     end\n",
    "# end\n",
    "# df = DataFrame(hcat(L...)',[\"xi\",\"leiden\",\"ecg\",\"infomap\",\"lp\"])\n",
    "\n",
    "# serialize(datadir*\"ABCD/abcd_python_study_jl.ser\", df)\n"
   ]
  },
  {
   "cell_type": "code",
   "execution_count": null,
   "id": "41763707",
   "metadata": {},
   "outputs": [],
   "source": [
    "## load data generated with the code from above cell\n",
    "df = deserialize(datadir * \"ABCD/abcd_python_study_jl.ser\");"
   ]
  },
  {
   "cell_type": "code",
   "execution_count": null,
   "id": "11fb4c8b",
   "metadata": {},
   "outputs": [],
   "source": [
    "## mean\n",
    "D = combine(groupby(df, \"xi\"), Not(:xi) .=> mean)\n",
    "PyPlot.plot(D.xi, D.ecg_mean, \"-\", label=\"ECG\", color=:black)\n",
    "PyPlot.plot(D.xi, D.leiden_mean, \"--\", label=\"Leiden\", color=:black)\n",
    "PyPlot.plot(D.xi, D.infomap_mean, \"-.\", label=\"Infomap\", color=:black)\n",
    "PyPlot.plot(D.xi, D.lp_mean, \":\", label=\"Label Prop.\", color=:black)\n",
    "xlabel(\"ABCD noise (ξ)\", fontsize=14)\n",
    "ylabel(\"AMI\", fontsize=14)\n",
    "legend();"
   ]
  },
  {
   "cell_type": "code",
   "execution_count": null,
   "id": "4b4240ca",
   "metadata": {},
   "outputs": [],
   "source": [
    "## Standard deviation\n",
    "D = combine(groupby(df, \"xi\"), Not(:xi) .=> std)\n",
    "PyPlot.plot(D.xi, D.ecg_std, \"-\", label=\"ECG\", color=:black)\n",
    "PyPlot.plot(D.xi, D.leiden_std, \"--\", label=\"Leiden\", color=:black)\n",
    "PyPlot.plot(D.xi, D.infomap_std, \"-.\", label=\"Infomap\", color=:black)\n",
    "PyPlot.plot(D.xi, D.lp_std, \":\", label=\"Label Prop.\", color=:black)\n",
    "xlabel(\"ABCD noise (ξ)\", fontsize=14)\n",
    "ylabel(\"Standard Deviation (AMI)\", fontsize=14)\n",
    "legend();"
   ]
  },
  {
   "cell_type": "markdown",
   "id": "f3b4b1f9",
   "metadata": {},
   "source": [
    "## Compare stability \n",
    "\n",
    "This study is similar to the previous one, but this time we run each algorithm **twice** on each graph, and we compare the similarity for each such pair of partitions, instead of comparing with the ground truth.\n",
    "\n",
    "Thus we look at the **stability** of the algorithms. \n",
    "\n",
    "Note that an algorithm can be stable, but still be bad (ex: always cluster all nodes in a single community).\n",
    "\n",
    "The code below can take a while to run; a pickle file with results is included in the Data directory. To re-run from scratch, uncomment the cell below.\n"
   ]
  },
  {
   "cell_type": "code",
   "execution_count": null,
   "id": "42aeeea8",
   "metadata": {},
   "outputs": [],
   "source": [
    "## same graph - mean AMI between successive runs\n",
    "## takes about 10 min to run with REP = 30\n",
    "Random.seed!(42)\n",
    "L = Vector{Float64}[]\n",
    "REP = 30\n",
    "for xi in 0.3:0.02:0.801\n",
    "    println(xi)\n",
    "    for rep in 1:REP\n",
    "        V = [xi]\n",
    "        degs = ABCDGraphGenerator.sample_degrees(gamma, delta, Delta, n, 1000)\n",
    "        coms = ABCDGraphGenerator.sample_communities(beta, s, S, n, 1000)\n",
    "        p = ABCDGraphGenerator.ABCDParams(degs, coms, nothing, xi, false, false, false)\n",
    "        edges, clusters = ABCDGraphGenerator.gen_graph(p)\n",
    "\n",
    "        G = ig.Graph()\n",
    "        G.add_vertices(n)\n",
    "        G.add_edges([(src - 1, dst - 1) for (src, dst) in edges])\n",
    "        idx = shuffle(0:G.vcount()-1)\n",
    "        idx_range = 1:length(idx)\n",
    "        ## same graph - permute vertices\n",
    "        Gp = ig.Graph.Erdos_Renyi(n=G.vcount(), p=0)\n",
    "        for e in G.es()\n",
    "            Gp.add_edge(idx[e.source+1], idx[e.target+1])\n",
    "        end\n",
    "        x = Gp.community_leiden(objective_function=\"modularity\").membership\n",
    "        push!(V, AMI(G.community_leiden(objective_function=\"modularity\").membership, [x[idx[i]+1] for i in idx_range]))\n",
    "\n",
    "        x = Gp.community_ecg(ens_size=16, final=\"leiden\").membership\n",
    "        push!(V, AMI(G.community_ecg(ens_size=16, final=\"leiden\").membership, [x[idx[i]+1] for i in idx_range]))\n",
    "\n",
    "        x = Gp.community_infomap().membership\n",
    "        push!(V, AMI(G.community_infomap().membership, [x[idx[i]+1] for i in idx_range]))\n",
    "\n",
    "        x = Gp.community_label_propagation().membership\n",
    "        push!(V, AMI(G.community_label_propagation().membership, [x[idx[i]+1] for i in idx_range]))\n",
    "\n",
    "        push!(L, V)\n",
    "    end\n",
    "end\n",
    "df = DataFrame(hcat(L...)', [\"xi\", \"leiden\", \"ecg\", \"infomap\", \"lp\"])\n",
    "\n",
    "# save results\n",
    "serialize(datadir * \"ABCD/abcd_python_study_stability_jl.ser\", df)"
   ]
  },
  {
   "cell_type": "markdown",
   "id": "1cff87c2",
   "metadata": {},
   "source": [
    "We plot the results below. The behaviour of algorithms can be clustered in two groups:\n",
    "\n",
    "* For Leiden and ECG, stability is excellent and degrades gradually for high noise level.\n",
    "* For Infomap and Label Propagation, stability is also good until the noise value where the results start to degrade, as we saw in the previous study. We see near perfect stability for very high noise values; those are values where the results were very bad in the previous study; this typically happens when the algorithm can't get any good clustering and returns some trivial partition, such as putting all nodes together in the same community, thus a stable but bad result.\n"
   ]
  },
  {
   "cell_type": "code",
   "execution_count": null,
   "id": "3ef7bc78",
   "metadata": {},
   "outputs": [],
   "source": [
    "## load results\n",
    "df = deserialize(datadir * \"ABCD/abcd_python_study_stability_jl.ser\");"
   ]
  },
  {
   "cell_type": "code",
   "execution_count": null,
   "id": "5eb098ab",
   "metadata": {},
   "outputs": [],
   "source": [
    "D = combine(groupby(df, \"xi\"), Not(:xi) .=> mean)\n",
    "PyPlot.plot(D.xi, D.ecg_mean, \"-\", label=\"ECG\", color=:black)\n",
    "PyPlot.plot(D.xi, D.leiden_mean, \"--\", label=\"Leiden\", color=:black)\n",
    "PyPlot.plot(D.xi, D.infomap_mean, \"-.\", label=\"Infomap\", color=:black)\n",
    "PyPlot.plot(D.xi, D.lp_mean, \":\", label=\"Label Prop.\", color=:black)\n",
    "xlabel(\"ABCD noise (ξ)\", fontsize=14)\n",
    "ylabel(\"AMI between successive runs\", fontsize=14)\n",
    "legend();"
   ]
  },
  {
   "cell_type": "markdown",
   "id": "4f46a1d7",
   "metadata": {},
   "source": [
    "### Other clustering algorithms\n",
    "\n",
    "Below, we show several other clustering algorithms available in igraph and how to run them.\n"
   ]
  },
  {
   "cell_type": "code",
   "execution_count": null,
   "id": "d69139d2",
   "metadata": {},
   "outputs": [],
   "source": [
    "seed = 123\n",
    "Random.seed!(seed)\n",
    "\n",
    "## generate ABCD graph\n",
    "n = 1000\n",
    "xi = 0.5\n",
    "## degrees\n",
    "gamma = 2.5\n",
    "delta = 10\n",
    "Delta = 50\n",
    "## communities\n",
    "beta = 1.5\n",
    "s = 50\n",
    "S = 100\n",
    "degs = ABCDGraphGenerator.sample_degrees(gamma, delta, Delta, n, 1000)\n",
    "coms = ABCDGraphGenerator.sample_communities(beta, s, S, n, 1000)\n",
    "p = ABCDGraphGenerator.ABCDParams(degs, coms, nothing, xi, false, false, false)\n",
    "abcd_edges, clusters = ABCDGraphGenerator.gen_graph(p)\n",
    "\n",
    "G = ig.Graph()\n",
    "G.add_vertices(n)\n",
    "G.add_edges([(src - 1, dst - 1) for (src, dst) in abcd_edges])\n",
    "println(\"Number of ground-truth communities: $(maximum(clusters))\")\n",
    "\n",
    "## Run several algorithms\n",
    "\n",
    "## CNM\n",
    "partition = G.community_fastgreedy().as_clustering().membership\n",
    "println(\"CNM: Number of communities: $(maximum(partition)+1) AMI: $(AMI(clusters,partition))\")\n",
    "## Louvain\n",
    "partition = G.community_multilevel().membership\n",
    "println(\"Louvain: Number of communities: $(maximum(partition)+1) AMI: $(AMI(clusters,partition))\")\n",
    "## Leiden\n",
    "partition = G.community_leiden(objective_function=\"modularity\").membership\n",
    "println(\"Leiden: Number of communities: $(maximum(partition)+1) AMI: $(AMI(clusters,partition))\")\n",
    "## ECG\n",
    "partition = G.community_ecg().membership\n",
    "println(\"ECG: Number of communities: $(maximum(partition)+1) AMI: $(AMI(clusters,partition))\")\n",
    "## Infomap\n",
    "partition = G.community_infomap().membership\n",
    "println(\"Infomap: Number of communities: $(maximum(partition)+1) AMI: $(AMI(clusters,partition))\")\n",
    "## LP\n",
    "partition = G.community_label_propagation().membership\n",
    "println(\"Label propagation: Number of communities: $(maximum(partition)+1) AMI: $(AMI(clusters,partition))\")\n",
    "## LE\n",
    "partition = G.community_leading_eigenvector().membership\n",
    "println(\"Leading eigenvector: Number of communities: $(maximum(partition)+1) AMI: $(AMI(clusters,partition))\")\n"
   ]
  },
  {
   "cell_type": "markdown",
   "id": "6717bdd8",
   "metadata": {},
   "source": [
    "# Modularity, resolution limit and rings of cliques\n",
    "\n",
    "We illustrate issues with modularity with the famous ring of cliques examples.\n",
    "\n",
    "For example below, we have a ring of 3-cliques connected by a single (inter-clique) edge."
   ]
  },
  {
   "cell_type": "code",
   "execution_count": null,
   "id": "0f40a5ac",
   "metadata": {},
   "outputs": [],
   "source": [
    "n = 3\n",
    "s = 3\n",
    "for i in 0:n-1\n",
    "    for j in s*i:s*(i+1)\n",
    "        for k in j+1:s*(i+1)-1\n",
    "            println(\"i\", i, \"j\", j, \"k\", k)\n",
    "        end\n",
    "    end\n",
    "end"
   ]
  },
  {
   "cell_type": "code",
   "execution_count": null,
   "id": "467d9fb5",
   "metadata": {},
   "outputs": [],
   "source": [
    "## build a RoC with n cliques of size s\n",
    "function ringOfCliques(n::Int, s::Int)\n",
    "    roc = ig.Graph.Erdos_Renyi(n=n * s, p=0)\n",
    "    ## cliques\n",
    "    for i in 0:n-1\n",
    "        for j in s*i:s*(i+1)\n",
    "            for k in j+1:s*(i+1)-1\n",
    "                roc.add_edge(j, k)\n",
    "            end\n",
    "        end\n",
    "    end\n",
    "    ## ring\n",
    "    for i in 0:n-1\n",
    "        if i > 0\n",
    "            roc.add_edge(s * i - 1, s * i)\n",
    "        else\n",
    "            roc.add_edge(n * s - 1, 0)\n",
    "        end\n",
    "    end\n",
    "    return roc\n",
    "end\n",
    "\n",
    "## Ex: 10 3-cliques\n",
    "roc = ringOfCliques(10, 3)\n",
    "fig, ax = subplots(figsize=(4, 4))\n",
    "ig.plot(roc, target=ax,\n",
    "    vertex_size=8,\n",
    "    vertex_color=\"dimgray\",\n",
    "    edge_color=\"lightgray\",\n",
    "    edge_width=1);"
   ]
  },
  {
   "cell_type": "markdown",
   "id": "541ac1c7",
   "metadata": {},
   "source": [
    "We compare the number of cliques (the natural parts in a partition) with the actual number of communities found via modularity based algorithms Leiden and ECG.\n",
    "\n",
    "With Leiden as is (i.e. resolution parameter 1.0), we see a smaller number of communities than the number of cliques; \n",
    "this is a known problem with modularity: merging cliques in the same community often lead to higher modularity.\n",
    "\n",
    "One way to alleviate this issue is to increase the **resolution parameter**; with resolution parameter 5 instead of the default value of 1, we see that we can recover \n",
    "the cliques in most cases. \n",
    "\n",
    "A concensus algorithm like ECG can help a lot in such cases; below we see that all the cliques are correctly recovered.\n"
   ]
  },
  {
   "cell_type": "code",
   "execution_count": null,
   "id": "e21e8b95",
   "metadata": {},
   "outputs": [],
   "source": [
    "## Compare number of cliques and number of clusters found\n",
    "L = []\n",
    "s = 3\n",
    "for n in 3:3:50\n",
    "    roc = ringOfCliques(n, s)\n",
    "    le = maximum(roc.community_leiden(objective_function=\"modularity\").membership) + 1\n",
    "    ler = maximum(roc.community_leiden(objective_function=\"modularity\", resolution=5.0).membership) + 1\n",
    "    ec = maximum(roc.community_ecg().membership) + 1\n",
    "    push!(L, [n, ler, le, ec])\n",
    "end\n",
    "D = DataFrame(hcat(L...)', [\"n\", \"Leiden_res\", \"Leiden\", \"ECG\"])\n",
    "PyPlot.figure(figsize=(8, 6))\n",
    "PyPlot.plot(D.n, D.Leiden, \":o\", color=:black, label=\"Leiden (default)\")\n",
    "PyPlot.plot(D.n, D.Leiden_res, \"--o\", color=:black, label=\"Leiden (res.=5)\")\n",
    "PyPlot.plot(D.n, D.ECG, \"-o\", color=:black, label=\"ECG\")\n",
    "xlabel(\"number of $(s)-cliques\", fontsize=14)\n",
    "ylabel(\"number of clusters found\", fontsize=14)\n",
    "legend(fontsize=14);"
   ]
  },
  {
   "cell_type": "markdown",
   "id": "9d4a8fe9",
   "metadata": {},
   "source": [
    "Let us look at a specific example: 10 cliques of size 3. Below we plot the communities found with Leiden; we clearly see that several **pairs** of communities are grouped into clusters."
   ]
  },
  {
   "cell_type": "code",
   "execution_count": null,
   "id": "c70cffaa",
   "metadata": {},
   "outputs": [],
   "source": [
    "## Leiden communities with 10 3-cliques\n",
    "roc = ringOfCliques(10, 3)\n",
    "roc_comms = roc.community_leiden(objective_function=\"modularity\").membership\n",
    "fig, ax = subplots(figsize=(4, 4))\n",
    "ig.plot(roc, target=ax,\n",
    "    vertex_size=8,\n",
    "    vertex_color=[\"white\", \"gray\", \"dimgray\"][mod.(roc_comms, 3).+1],\n",
    "    edge_color=\"lightgray\",\n",
    "    edge_width=1);"
   ]
  },
  {
   "cell_type": "markdown",
   "id": "8d249815",
   "metadata": {},
   "source": [
    "Why is ECG solving this problem? It is due to the first step, where we run an ensemble of level-1 Louvain and assign new weights to edges based on the proportion of times those edges are internal to a community.\n",
    "\n",
    "We see below that there are exactly 30 edges with maximal edge weight of 1 (edges within cliques) and 10 edges with default minimal weight of 0.05 (edges between cliques). \n",
    "\n",
    "With those new weights, the last clustering in ECG can easily recover the cliques as communities.\n"
   ]
  },
  {
   "cell_type": "code",
   "execution_count": null,
   "id": "3f8bec90",
   "metadata": {},
   "outputs": [],
   "source": [
    "## ECG weights in this case: all 30 clique edges have max score\n",
    "countmap(roc.community_ecg().W)"
   ]
  },
  {
   "cell_type": "markdown",
   "id": "9a806471",
   "metadata": {},
   "source": [
    "# Ego nets and more\n",
    "\n",
    "Suppose we want to look at the node that are *near* some seed node $v$. \n",
    "\n",
    "One common way to do this is to look at its ego-net, i.e. the subgraph consisting of node $v$ and all other nodes that can be reached from $v$ in $k$ hops or less, where $k$ is small, typically 1 or 2. \n",
    "\n",
    "Such subgraphs can become large quickly as we increase $k$. In the cells below, we look at ego-nets and compare with another approach to extract subgraph(s) around $v$ via clustering.\n",
    "\n",
    "We consider the **airport** graph we already saw several times. We consider a simple, undirected version (no loops, directions or edge weights).\n",
    "\n",
    "We compare ego-nets (1 and 2-hops subgraphs from a given node) with clusters obtained via graph clustering for some vertex $v$ (airport 'MQT') which has degree 11 (you can try other vertices)."
   ]
  },
  {
   "cell_type": "code",
   "execution_count": null,
   "id": "482eb2a3",
   "metadata": {
    "scrolled": true
   },
   "outputs": [],
   "source": [
    "## read edges and build simple undirected graph\n",
    "D = CSV.read(datadir * \"Airports/connections.csv\", DataFrame)\n",
    "all_airports = unique([D.orig_airport D.dest_airport])\n",
    "n = length(all_airports)\n",
    "node_map = Dict(zip(all_airports, 1:n))\n",
    "g = SimpleGraph(n)\n",
    "for row in eachrow(D)\n",
    "    src = node_map[row.orig_airport]\n",
    "    tgt = node_map[row.dest_airport]\n",
    "    if src != tgt\n",
    "        add_edge!(g, src, tgt)\n",
    "    end\n",
    "end\n",
    "\n",
    "## read vertex attributes\n",
    "A = CSV.read(datadir * \"Airports/airports_loc.csv\", DataFrame)\n",
    "\n",
    "## pick a vertex v ('MQT' airport)\n",
    "v = node_map[\"MQT\"]\n",
    "println(\"vertex degree: $(degree(g)[v])\")\n",
    "A[A.airport.==\"MQT\", :]"
   ]
  },
  {
   "cell_type": "code",
   "execution_count": null,
   "id": "39c7c846",
   "metadata": {},
   "outputs": [],
   "source": [
    "## show its ego-net for k=1 (vertex v shown in black)\n",
    "sg = egonet(g, v, 1)\n",
    "println(\"$(nv(sg)) nodes\")\n",
    "clean_graphplot(sg,\n",
    "    node_strokewidth=1,\n",
    "    node_size=12,\n",
    "    node_color=[[:black]; fill(:gray, nv(sg) - 1)],\n",
    "    edge_color=:lightgray\n",
    ")"
   ]
  },
  {
   "cell_type": "code",
   "execution_count": null,
   "id": "ebbcb2c2",
   "metadata": {},
   "outputs": [],
   "source": [
    "## show its 2-hops ego-net ... this is already quite large!\n",
    "sg = egonet(g, v, 2)\n",
    "rem_vertex!.(Ref(sg), findall(<(2), core_number(sg)))\n",
    "println(\"$(nv(sg)) nodes\")\n",
    "clean_graphplot(sg,\n",
    "    node_strokewidth=1,\n",
    "    node_size=12,\n",
    "    node_color=[[:black]; fill(:gray, nv(sg) - 1)],\n",
    "    edge_color=:lightgray\n",
    ")"
   ]
  },
  {
   "cell_type": "code",
   "execution_count": null,
   "id": "2003104c",
   "metadata": {},
   "outputs": [],
   "source": [
    "## apply clustering and show the cluster containing the selected vertex\n",
    "## recall that we ignore edge weights\n",
    "g = ig.Graph.TupleList(Tuple.(eachrow(D)), directed=true)\n",
    "g = g.as_undirected()\n",
    "g = g.simplify()\n",
    "\n",
    "random.seed(12345)\n",
    "np.random.seed(12345)\n",
    "ec = g.community_ecg(ens_size=32)\n",
    "set!(g.es, \"W\", ec.W)\n",
    "m = ec.membership[g.vs.find(\"MQT\").index+1]\n",
    "sg = g.subgraph(findall(ec.membership .== m) .- 1)\n",
    "## display the 2-core\n",
    "sg.delete_vertices(findall(sg.coreness() .< 2) .- 1)\n",
    "println(\"$(sg.vcount()) nodes\")\n",
    "ecg_colors = fill(\"gray\", sg.vcount())\n",
    "ecg_colors[sg.vs.find(\"MQT\").index+1] = \"black\"\n",
    "set!(sg.vs, \"color\", ecg_colors)\n",
    "fig, ax = subplots(figsize=(4, 4))\n",
    "ig.plot(sg, target=ax,\n",
    "    vertex_size=8,\n",
    "    edge_color=\"lightgray\",\n",
    "    edge_width=1);"
   ]
  },
  {
   "cell_type": "markdown",
   "id": "65cb7415",
   "metadata": {},
   "source": [
    "We see above that looking at the cluster with $v$ is smaller than the 2-hops ego-net, and several nodes are tightly connected.\n",
    "\n",
    "Below we go further and look at the ECG edge weights, which we can use to prune the graph above, so we can look at the nodes most tightly connected to node $v$.\n",
    "\n",
    "You can adjust the threshold below to get different zoomings.\n"
   ]
  },
  {
   "cell_type": "code",
   "execution_count": null,
   "id": "63fc7b66",
   "metadata": {},
   "outputs": [],
   "source": [
    "## filter edges w.r.t. ECG votes (weights)\n",
    "thresh = 0.85\n",
    "\n",
    "tmp = sg.subgraph_edges([e for e in sg.es if get(e, \"W\") > thresh])\n",
    "n = tmp.vs.find(\"MQT\").index + 1\n",
    "comps = tmp.connected_components().membership\n",
    "cl = comps[n]\n",
    "ssg = tmp.subgraph(findall(comps .== cl) .- 1)\n",
    "ssg.delete_vertices(findall(ssg.coreness() .< 2) .- 1)\n",
    "println(\"$(ssg.vcount()) nodes\")\n",
    "fig, ax = subplots(figsize=(4, 4))\n",
    "ig.plot(ssg, target=ax,\n",
    "    vertex_size=8,\n",
    "    edge_color=\"lightgray\",\n",
    "    edge_width=1);"
   ]
  },
  {
   "cell_type": "markdown",
   "id": "ef62bc2b",
   "metadata": {},
   "source": [
    "Most nodes in this subgraph are from the same state as node $v$ (MI) or nearby state (WI)."
   ]
  },
  {
   "cell_type": "code",
   "execution_count": null,
   "id": "88e27483",
   "metadata": {},
   "outputs": [],
   "source": [
    "## states in the above subgraph\n",
    "name_state_map = Dict(zip(A.airport, A.state))\n",
    "countmap([name_state_map[e] for e in get(ssg.vs, \"name\")])"
   ]
  },
  {
   "cell_type": "markdown",
   "id": "4babba83",
   "metadata": {},
   "source": [
    "## Measures to compare partitions - Figure 5.13\n",
    "\n",
    "* We illustrate the importance of using proper adjusted measures when comparing partitions; this is why we use AMI (adjusted mutual information) or ARI (adjusted Rand index) in our experiments\n",
    "* We generate some ABCD graph and compare ground truth with **random** partitions of different sizes\n",
    "* Scores for random partitions should be close to 0 regardless of the number of parts"
   ]
  },
  {
   "cell_type": "code",
   "execution_count": null,
   "id": "12ad3bf6",
   "metadata": {},
   "outputs": [],
   "source": [
    "## ABCD example\n",
    "n = 1000\n",
    "xi = 0.1\n",
    "\n",
    "## degrees\n",
    "gamma = 2.5\n",
    "delta = 5\n",
    "Delta = 50\n",
    "\n",
    "## communities\n",
    "beta = 1.5\n",
    "s = 75\n",
    "S = 150\n",
    "\n",
    "Random.seed!(42)\n",
    "degs = ABCDGraphGenerator.sample_degrees(gamma, delta, Delta, n, 1000)\n",
    "coms = ABCDGraphGenerator.sample_communities(beta, s, S, n, 1000)\n",
    "p = ABCDGraphGenerator.ABCDParams(degs, coms, nothing, xi, false, false, false)\n",
    "abcd_edges, clusters = ABCDGraphGenerator.gen_graph(p)\n",
    "println(\"number of communities: $(maximum(clusters))\")"
   ]
  },
  {
   "cell_type": "code",
   "execution_count": null,
   "id": "fef88354",
   "metadata": {},
   "outputs": [],
   "source": [
    "## generate random clusterings and compute various measures w.r.t. ground truth\n",
    "## this can take a few minutes to run\n",
    "MI = pyimport(\"sklearn.metrics\").mutual_info_score\n",
    "RI = pyimport(\"sklearn.metrics\").rand_score\n",
    "ARI = pyimport(\"sklearn.metrics\").adjusted_rand_score\n",
    "NMI = pyimport(\"sklearn.metrics\").normalized_mutual_info_score\n",
    "\n",
    "REP = 10 ## we used 100 for the textbook\n",
    "\n",
    "L = Vector{Float64}[]\n",
    "gt = clusters\n",
    "n = G.vcount()\n",
    "tc = Dict(idx - 1 => part for (idx, part) in enumerate(gt))\n",
    "ar = 2:21\n",
    "for s in ar\n",
    "    for i in 1:REP\n",
    "        r = sample(1:s, n)\n",
    "        rd = Dict(idx - 1 => part for (idx, part) in enumerate(r))\n",
    "        push!(L, [s, MI(gt, r), NMI(gt, r), AMI(gt, r), RI(gt, r), ARI(gt, r), G.gam(tc, rd, \"rand\", false), G.gam(tc, rd)])\n",
    "    end\n",
    "end\n",
    "df = DataFrame(hcat(L...)', [\"size\", \"MI\", \"NMI\", \"AMI\", \"RI\", \"ARI\", \"GRI\", \"AGRI\"])\n",
    "df_avg = combine(groupby(df, \"size\"), Not(:size) .=> mean)"
   ]
  },
  {
   "cell_type": "markdown",
   "id": "b46d4a21",
   "metadata": {},
   "source": [
    "Below we show results for 3 measures:\n",
    "* Mutual information (MI), which has strong bias w.r.t. number of clusters\n",
    "* Normalized MI (NMI) is better\n",
    "* AMI is best, no bias w.r.t. number of clusters."
   ]
  },
  {
   "cell_type": "code",
   "execution_count": null,
   "id": "67a2a688",
   "metadata": {},
   "outputs": [],
   "source": [
    "## Mutual information (MI), normalized MI (NMI) and adjusted MI (AMI)\n",
    "PyPlot.plot(ar, df_avg.MI_mean, \":\", color=\"black\", label=\"MI\")\n",
    "PyPlot.plot(ar, df_avg.NMI_mean, \"--\", color=\"black\", label=\"NMI\")\n",
    "PyPlot.plot(ar, df_avg.AMI_mean, \"-\", color=\"black\", label=\"AMI\")\n",
    "xlabel(\"number of random clusters\", fontsize=14)\n",
    "legend();"
   ]
  },
  {
   "cell_type": "markdown",
   "id": "aaa9c29b",
   "metadata": {},
   "source": [
    "Same below for Rand index (RI) and adjusted version. \n",
    "\n",
    "GRI (graph RI) and AGRI (adjusted GRI) are variations of RI specifically for graph data."
   ]
  },
  {
   "cell_type": "code",
   "execution_count": null,
   "id": "ff981ef3",
   "metadata": {},
   "outputs": [],
   "source": [
    "## RAND index (RI) and adjusted (ARI)\n",
    "## Also: Graph-aware RAND index (GRI) and adjusted version (AGRI)\n",
    "## those measures are included in \"partition-igraph\"\n",
    "## input are partitions of type \"igraph.clustering.VertexClustering\"or a dictionaries of node:community.\n",
    "PyPlot.plot(ar, df_avg.RI_mean, \":\", color=\"black\", label=\"RI\")\n",
    "PyPlot.plot(ar, df_avg.GRI_mean, \"--\", color=\"black\", label=\"GRI\")\n",
    "PyPlot.plot(ar, df_avg.ARI_mean, \"-\", color=\"black\", label=\"ARI/AGRI\")\n",
    "PyPlot.plot(ar, df_avg.AGRI_mean, \"-\", color=\"black\")\n",
    "xlabel(\"number of random clusters\", fontsize=14)\n",
    "legend();"
   ]
  }
 ],
 "metadata": {
  "kernelspec": {
   "display_name": "Julia 1.11.5",
   "language": "julia",
   "name": "julia-1.11"
  },
  "language_info": {
   "file_extension": ".jl",
   "mimetype": "application/julia",
   "name": "julia",
   "version": "1.11.5"
  }
 },
 "nbformat": 4,
 "nbformat_minor": 5
}
