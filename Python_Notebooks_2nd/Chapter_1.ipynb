{
 "cells": [
  {
   "cell_type": "markdown",
   "metadata": {},
   "source": [
    "# Chapter 1 - Graph Theory"
   ]
  },
  {
   "cell_type": "markdown",
   "metadata": {},
   "source": [
    "## Requirements\n",
    "\n",
    "This notebook was tested on Linux and MacOS, using a conda environment.\n",
    "\n",
    "Details to build the conda environment can be found here: https://github.com/ftheberge/GraphMiningNotebooks\n",
    "\n",
    "In case users would find some issues with the notebook, we ask to open an issue in the GitHub repository.\n",
    "\n",
    "For the data, make sure you have the correct directory in second next cell."
   ]
  },
  {
   "cell_type": "code",
   "execution_count": null,
   "metadata": {},
   "outputs": [],
   "source": [
    "## required packages for this Chapter\n",
    "import igraph as ig\n",
    "import numpy as np\n",
    "import pandas as pd\n",
    "import matplotlib.pyplot as plt\n",
    "from sklearn.linear_model import LinearRegression\n",
    "from collections import Counter\n",
    "from statsmodels.distributions.empirical_distribution import ECDF as ecdf\n",
    "import random\n"
   ]
  },
  {
   "cell_type": "code",
   "execution_count": null,
   "metadata": {},
   "outputs": [],
   "source": [
    "## setting the path to the datasets\n",
    "datadir = \"../Datasets/\"\n"
   ]
  },
  {
   "cell_type": "markdown",
   "metadata": {},
   "source": [
    "## Summary\n",
    "\n",
    "In this notebook, we look at **simple graph statistics** such as:\n",
    "- degree distribution\n",
    "- clustering coefficient\n",
    "- shortest path length distribution\n",
    "\n",
    "We illustrate the fact that even with such simple measures, we can see big difference between different types of graphs, thus the importance of **EDA**, exploratory data analysis, as a first step in data mining. \n",
    "\n",
    "In this notebook we consider two graphs:\n",
    "\n",
    "- a social-type graph, links between **GitHub developers**, and\n",
    "- a transportation-type network, namely a **power grid**.\n",
    "\n",
    "Throughout, we use the terms **vertex** (used in ```igraph```) and **node** interchangably. \n"
   ]
  },
  {
   "cell_type": "markdown",
   "metadata": {},
   "source": [
    "## GitHub Developers Graph\n",
    "\n",
    "#### Description\n",
    "\n",
    "A large undirected social network of GitHub developers which was collected from the public API in June 2019. Nodes are developers who have starred at least 10 repositories and edges are mutual follower relationships between them. The vertex features are extracted based on the location, repositories starred, employer and e-mail address. \n",
    "\n",
    "The graph has two types of nodes: \n",
    "- web developer \n",
    "- machine learning developer \n",
    "\n",
    "Below, we construct this graph (with igraph); later we will look at subgraphs respectively for web or machine learning (ml) developers.\n",
    "\n",
    "The graph is stored in object ```GitHubGraph```; look at the code below to see how we can also store attributes for edges and vertices in igraph objects.\n",
    "\n",
    "There are several ways to read the edges; here we used a function from the ```pandas``` package.\n"
   ]
  },
  {
   "cell_type": "code",
   "execution_count": null,
   "metadata": {},
   "outputs": [],
   "source": [
    "## read the GitHub edge list as tuples and build undirected graph\n",
    "## each node index is stored in vertex attribute \"id\"\n",
    "df = pd.read_csv(datadir + \"GitHubDevelopers/musae_git_edges.csv\")\n",
    "GitHubGraph = ig.Graph.TupleList(\n",
    "    [tuple(x) for x in df.values], directed=False, vertex_name_attr=\"id\"\n",
    ")\n"
   ]
  },
  {
   "cell_type": "markdown",
   "metadata": {},
   "source": [
    "### Node attributes\n",
    "\n",
    "Each node has three attributes:\n",
    "* it's index (as used in the edge list)\n",
    "* the username\n",
    "* a binary flag indicating ml or web developer (1 = ml)\n"
   ]
  },
  {
   "cell_type": "code",
   "execution_count": null,
   "metadata": {},
   "outputs": [],
   "source": [
    "## read node attributes\n",
    "GitHub_attr = pd.read_csv(datadir + \"GitHubDevelopers/musae_git_target.csv\")\n",
    "GitHub_attr.head()\n"
   ]
  },
  {
   "cell_type": "code",
   "execution_count": null,
   "metadata": {},
   "outputs": [],
   "source": [
    "## build attribute dictionaries\n",
    "Names = dict(zip(GitHub_attr.id, GitHub_attr.name))\n",
    "ML = dict(zip(GitHub_attr.id, GitHub_attr.ml_target))\n"
   ]
  },
  {
   "cell_type": "code",
   "execution_count": null,
   "metadata": {},
   "outputs": [],
   "source": [
    "## add name attributes to graph\n",
    "GitHubGraph.vs[\"name\"] = [Names[i] for i in GitHubGraph.vs[\"id\"]]\n",
    "\n",
    "## add a class: 'ml' or 'web' depending on attribute 'ml_label'\n",
    "labels = [\"web\", \"ml\"]\n",
    "GitHubGraph.vs[\"class\"] = [labels[ML[i]] for i in GitHubGraph.vs[\"id\"]]\n",
    "GitHubGraph.vs[0]\n"
   ]
  },
  {
   "cell_type": "markdown",
   "metadata": {},
   "source": [
    "### GitHub subgraphs\n",
    "\n",
    "We build the two subgraphs below: ```subgraph_ml``` for the machine learning (**ml**) developers and ```subgraph_web``` for the **web** developers."
   ]
  },
  {
   "cell_type": "code",
   "execution_count": null,
   "metadata": {},
   "outputs": [],
   "source": [
    "## build the subgraphs\n",
    "subgraph_ml = GitHubGraph.subgraph([v for v in GitHubGraph.vs() if v[\"class\"] == \"ml\"])\n",
    "subgraph_web = GitHubGraph.subgraph([v for v in GitHubGraph.vs() if v[\"class\"] == \"web\"])\n",
    "\n",
    "## there are 9739 ml developers and 27961 web developers\n",
    "print(\n",
    "    \"GitHub nodes:\",\n",
    "    GitHubGraph.vcount(),\n",
    "    \"\\nml developers:\",\n",
    "    subgraph_ml.vcount(),\n",
    "    \"\\nweb developers:\",\n",
    "    subgraph_web.vcount(),\n",
    ")\n"
   ]
  },
  {
   "cell_type": "markdown",
   "metadata": {},
   "source": [
    "Note that some ml developers are connected only to web developers and vice-versa. \n",
    "\n",
    "Therefore, some nodes will end up with no connection (degree 0) in the subgraphs.\n"
   ]
  },
  {
   "cell_type": "code",
   "execution_count": null,
   "metadata": {},
   "outputs": [],
   "source": [
    "## github graph: count 'ml' nodes with edges to 'web' nodes, and vice-versa\n",
    "count_ml = count_web = 0\n",
    "for v in GitHubGraph.vs():\n",
    "    if v[\"class\"] == \"ml\":\n",
    "        ## looking at all neighbors as a 'set' for this test:\n",
    "        if set([GitHubGraph.vs[i][\"class\"] for i in GitHubGraph.neighbors(v)]) == {\"web\"}:\n",
    "            count_ml += 1\n",
    "    else:\n",
    "        if set([GitHubGraph.vs[i][\"class\"] for i in GitHubGraph.neighbors(v)]) == {\"ml\"}:\n",
    "            count_web += 1\n",
    "print(\n",
    "    count_ml,\n",
    "    \"ml developers connected only to web developers\\n\",\n",
    "    count_web,\n",
    "    \"web developers connected only to ml developers\",\n",
    ")\n"
   ]
  },
  {
   "cell_type": "code",
   "execution_count": null,
   "metadata": {},
   "outputs": [],
   "source": [
    "## this should correpond to the number of degree 0 nodes in the subgraphs,\n",
    "## as there are no degree 0 nodes in the original graph.\n",
    "print(\n",
    "    \"nodes of degree zero in overall graph:\",\n",
    "    sum([d == 0 for d in GitHubGraph.degree()]),\n",
    ")\n",
    "print(\"nodes of degree zero in ml subgraph:\", \n",
    "      sum([i == 0 for i in subgraph_ml.degree()]))\n",
    "print(\n",
    "    \"nodes of degree zero in web subgraph:\",\n",
    "    sum([i == 0 for i in subgraph_web.degree()]),\n",
    ")\n"
   ]
  },
  {
   "cell_type": "markdown",
   "metadata": {},
   "source": [
    "## Europe Electric Grid\n",
    "\n",
    "A network of high voltage grid in Europe. The vertices are stations and the edges are the lines connecting them.\n",
    "More details can be found at: https://zenodo.org/record/47317#.Xt6nzy3MxTY.\n",
    "\n",
    "The graph is stored in object ```Grid```.\n",
    "\n",
    "The edges have directionality, but for this notebook, we consider an undirected version of this graph, and after reading the edges, we ''simplify'' the graph to remove multiedges.\n",
    "\n",
    "Nodes have different attributes, including longitude and latitude; we will use those to force a graph layout for plotting according to the geographical location.\n",
    "\n",
    "There are several types of nodes: 'joint', 'merge', 'plant', 'station', 'sub_station', 'substation'.\n",
    "\n",
    "We show a different way to read in edges and build a graph using ```Read_Ncol```."
   ]
  },
  {
   "cell_type": "code",
   "execution_count": null,
   "metadata": {},
   "outputs": [],
   "source": [
    "## read edge list for the grid network and build undirected simple graph\n",
    "## by default, node ids are saved in the 'name' attribute as string\n",
    "Grid = ig.Graph.Read_Ncol(datadir + \"GridEurope/gridkit_europe-highvoltage.edges\", directed=False)\n",
    "Grid = Grid.simplify()\n",
    "print('number of nodes:',Grid.vcount())\n"
   ]
  },
  {
   "cell_type": "markdown",
   "metadata": {},
   "source": [
    "### Node attributes"
   ]
  },
  {
   "cell_type": "code",
   "execution_count": null,
   "metadata": {
    "scrolled": true
   },
   "outputs": [],
   "source": [
    "## read the nodes and their attributes\n",
    "## notice there are more nodes here ... so there are isolates\n",
    "Grid_attr = pd.read_csv(datadir + \"GridEurope/gridkit_europe-highvoltage.vertices\")\n",
    "print('number of nodes:',Grid_attr.shape[0])\n",
    "Grid_attr.head()\n"
   ]
  },
  {
   "cell_type": "code",
   "execution_count": null,
   "metadata": {
    "scrolled": true
   },
   "outputs": [],
   "source": [
    "## add the isolated nodes to the graph\n",
    "isolates = set(Grid_attr.v_id).difference(set([int(x) for x in Grid.vs['name']]))\n",
    "Grid.add_vertices([str(x) for x in isolates])\n",
    "print('number of nodes:',Grid.vcount())\n"
   ]
  },
  {
   "cell_type": "code",
   "execution_count": null,
   "metadata": {},
   "outputs": [],
   "source": [
    "## build attribute dictionaries\n",
    "Longitude = dict(zip(Grid_attr.v_id, Grid_attr.lon))\n",
    "Latitude = dict(zip(Grid_attr.v_id, Grid_attr.lat))\n",
    "Type = dict(zip(Grid_attr.v_id, Grid_attr.typ))\n"
   ]
  },
  {
   "cell_type": "code",
   "execution_count": null,
   "metadata": {},
   "outputs": [],
   "source": [
    "## map names to integers for easier referencing\n",
    "Grid.vs[\"id\"] = [int(x) for x in Grid.vs[\"name\"]]\n",
    "\n",
    "## save longitude, latitude and node type in the graph\n",
    "Grid.vs[\"longitude\"] = [Longitude[i] for i in Grid.vs[\"id\"]]\n",
    "Grid.vs[\"latitude\"] = [Latitude[i] for i in Grid.vs[\"id\"]]\n",
    "Grid.vs[\"type\"] = [Type[i] for i in Grid.vs[\"id\"]]\n"
   ]
  },
  {
   "cell_type": "code",
   "execution_count": null,
   "metadata": {},
   "outputs": [],
   "source": [
    "## EDA - min/max latitude and longitude and node types\n",
    "print(\"Node types and counts:\")\n",
    "print(Counter(Grid.vs[\"type\"]).most_common())\n",
    "\n",
    "print(\"\\nLatitude range:\", min(Grid.vs[\"latitude\"]), \"to\", max(Grid.vs[\"latitude\"]))\n",
    "print(\"\\nLongitude range:\", min(Grid.vs[\"longitude\"]), \"to\", max(Grid.vs[\"longitude\"]))\n"
   ]
  },
  {
   "cell_type": "code",
   "execution_count": null,
   "metadata": {},
   "outputs": [],
   "source": [
    "## ploting the grid - colors w.r.t. node types\n",
    "## we use negative latitude due to location of the origin in the layout.\n",
    "Grid.vs[\"size\"] = 4\n",
    "cls = {\n",
    "    \"joint\": \"pink\",\n",
    "    \"substation\": \"lightblue\",\n",
    "    \"merge\": \"brown\",\n",
    "    \"station\": \"blue\",\n",
    "    \"sub_station\": \"lightblue\",\n",
    "    \"plant\": \"black\",\n",
    "}\n",
    "Grid.vs[\"color\"] = [cls[x] for x in Grid.vs[\"type\"]]\n",
    "Grid.es[\"color\"] = \"grey\"\n",
    "Grid.layout = [(v[\"longitude\"], -v[\"latitude\"]) for v in Grid.vs]\n",
    "ig.plot(Grid, layout=Grid.layout, bbox=(0, 0, 600, 450))\n"
   ]
  },
  {
   "cell_type": "markdown",
   "metadata": {},
   "source": [
    "# Graph Features\n",
    "\n",
    "Below, we compute several basic features for the 4 graphs we have:\n",
    "- ```GitHubGraph``` (ml+web)\n",
    "- ```subgraph_ml``` (GitHub ml developers subgraph)\n",
    "- ```subgraph_web``` (GitHub web developers subgraph)\n",
    "- ```Grid``` (Europe power grid)\n",
    "\n",
    "Please refer to the book for details of those features.\n",
    "\n",
    "```mode='nan'``` refers to the fact that nodes with less than 2 neighbours are left out when computing clustering coefficients.\n",
    "\n",
    "Note that running the cell below can take a few minutes.\n"
   ]
  },
  {
   "cell_type": "code",
   "execution_count": null,
   "metadata": {},
   "outputs": [],
   "source": [
    "## compute and store basic statistics in a dataframe\n",
    "def baseStats(G):\n",
    "    deg = G.degree()\n",
    "    return [\n",
    "        G.vcount(),\n",
    "        G.ecount(),\n",
    "        np.min(deg),\n",
    "        np.mean(deg),\n",
    "        np.median(deg),\n",
    "        np.quantile(deg, 0.99),\n",
    "        np.max(deg),\n",
    "        G.diameter(),\n",
    "        np.max(G.connected_components().membership) + 1,\n",
    "        G.connected_components().giant().vcount(),\n",
    "        sum([x == 0 for x in deg]),\n",
    "        G.transitivity_undirected(mode=\"nan\"),\n",
    "        G.transitivity_avglocal_undirected(mode=\"nan\"),\n",
    "    ]\n"
   ]
  },
  {
   "cell_type": "code",
   "execution_count": null,
   "metadata": {
    "scrolled": true
   },
   "outputs": [],
   "source": [
    "%%time\n",
    "## compute stats for the 4 graphs - this can take a few minutes\n",
    "S = []\n",
    "S.append([\"GitHub\"] + baseStats(GitHubGraph))\n",
    "S.append([\"GitHub (ml)\"] + baseStats(subgraph_ml))\n",
    "S.append([\"GitHub (web)\"] + baseStats(subgraph_web))\n",
    "S.append([\"Grid\"] + baseStats(Grid))\n"
   ]
  },
  {
   "cell_type": "code",
   "execution_count": null,
   "metadata": {},
   "outputs": [],
   "source": [
    "## store in a dataframe\n",
    "df = pd.DataFrame(\n",
    "    S,\n",
    "    columns=[\n",
    "        \"network\",\n",
    "        \"# nodes\",\n",
    "        \"# edges\",\n",
    "        r\"$\\delta$\",\n",
    "        r\"$\\langle k\\rangle$\",\n",
    "        r\"median degree\",\n",
    "        r\"$d_{quant_{99}}$\",\n",
    "        r\"$\\Delta$\",\n",
    "        \"diameter\",\n",
    "        \"# components\",\n",
    "        \"largest component\",\n",
    "        \"# isolates\",\n",
    "        r\"$C_{glob}$\",\n",
    "        r\"$C_{loc}$\",\n",
    "    ],\n",
    ").transpose()\n",
    "df\n"
   ]
  },
  {
   "cell_type": "markdown",
   "metadata": {},
   "source": [
    "### Analysis of the results\n",
    "\n",
    "What do we see in the table above?\n",
    "\n",
    "First, look at the **degree distribution**; the GitHub graphs have a wide range of values, including some very high degree nodes, while the Grid graph has degree in range 0 to 16 only.\n",
    "\n",
    "The **diameter** (maximum shortest path length) is also quite different; it is common for social networks to have relatively small diameter. On the other hand, a multi-country power grid has large diameter.\n",
    "\n",
    "Looking at **components**, the GitHub graph is connected (single component), but the two subgraphs are not, and there are even nodes with null degree as we already saw. The Grid graph has several components, but most nodes fall is what we call the \"giant component\".\n",
    "\n",
    "Finally, we see some differences between the local and global **clustering coefficients** for the GitHub graphs; why is this so? what happens with very high degree nodes? See the plot below ...\n"
   ]
  },
  {
   "cell_type": "code",
   "execution_count": null,
   "metadata": {},
   "outputs": [],
   "source": [
    "X = [x for x in subgraph_ml.degree() if x > 1]\n",
    "Y = [x for x in subgraph_ml.transitivity_local_undirected() if not np.isnan(x)]\n",
    "plt.plot(X, Y, \".\", color=\"grey\")\n",
    "plt.title(\"GitHub (ml) subgraph\", fontsize=16)\n",
    "plt.xlabel(\"degree\", fontsize=14)\n",
    "plt.ylabel(\"local clustering coefficient\", fontsize=14)\n",
    "plt.show()\n"
   ]
  },
  {
   "cell_type": "markdown",
   "metadata": {},
   "source": [
    "## Visualize part of the Grid network\n",
    "\n",
    "For the Grid graph, we select a range of lat/lon that correspond to the Iberic peninsula.\n",
    "\n"
   ]
  },
  {
   "cell_type": "code",
   "execution_count": null,
   "metadata": {},
   "outputs": [],
   "source": [
    "## subgraph of Grid -- Iberic Peninsula\n",
    "V = [\n",
    "    v\n",
    "    for v in Grid.vs()\n",
    "    if v[\"latitude\"] > 36 and v[\"latitude\"] < 44 and v[\"longitude\"] > -10 and v[\"longitude\"] < 4\n",
    "]\n",
    "Grid_IP = Grid.subgraph(V)\n",
    "layout = [(v[\"longitude\"], -v[\"latitude\"]) for v in Grid_IP.vs]\n",
    "print(\"showing\", Grid_IP.vcount(), \"nodes and\", Grid_IP.ecount(), \"edges\")\n",
    "ig.plot(Grid_IP, layout=layout, bbox=(0, 0, 300, 250), vertex_color=\"black\", vertex_size=3)\n",
    "# ig.plot(Grid_IP, 'grid_sg.eps', layout=layout, bbox=(0,0,300,250), vertex_color='black', vertex_size=3);\n"
   ]
  },
  {
   "cell_type": "markdown",
   "metadata": {},
   "source": [
    "## Visualize part of the GitHub (ml) graph\n",
    "\n",
    "There is no lat/lon here; in the code below, we take the giant component for the GitHub ml subgraph,\n",
    "and arbitrary cut w.r.t. the computed layout to display a portion of the subgraph.\n",
    "\n",
    "This is for illustration only; note that this is quite different from the Grid graph, with clumps (dense areas) and less regular edge distribution.\n"
   ]
  },
  {
   "cell_type": "code",
   "execution_count": null,
   "metadata": {},
   "outputs": [],
   "source": [
    "## plot subgraph for github(ml)\n",
    "random.seed(123)\n",
    "sg = subgraph_ml.connected_components().giant()\n",
    "ly = sg.layout_auto()\n",
    "sg.vs[\"x\"] = [x[0] for x in ly]\n",
    "sg.vs[\"y\"] = [x[1] for x in ly]\n",
    "\n",
    "##\n",
    "z = 1\n",
    "V = []\n",
    "while len(V) < 800:\n",
    "    V = [v for v in sg.vs() if v[\"x\"] < z and v[\"x\"] > -z and v[\"y\"] < z and v[\"y\"] > -z]\n",
    "    z += 1\n",
    "sg = sg.subgraph(V).connected_components().giant()\n",
    "print(\"showing\", sg.vcount(), \"nodes and\", sg.ecount(), \"edges\")\n",
    "ig.plot(sg, bbox=(0, 0, 300, 250), vertex_size=3, edge_color='grey', vertex_color='black')\n",
    "# ig.plot(sg, 'github_ml_sg.eps', bbox=(0,0,300,250), vertex_size=3);\n"
   ]
  },
  {
   "cell_type": "markdown",
   "metadata": {},
   "source": [
    "## Degree distributions\n",
    "\n",
    "Degree distribution is one of the fundamental properties of networks. Below, we plot the empirical cumulative distribution functions (cdf) of the degree distribution for the GitHib and Grid graphs. \n",
    "\n",
    "As we noted before, for the GitHub graph, most nodes have low degree, but a few have very high degree, up to almost 10,000. This is not at all the case with the Grid graph where almost all nodes having degree less than 10, and the maximum degree observed is only 16.\n"
   ]
  },
  {
   "cell_type": "code",
   "execution_count": null,
   "metadata": {},
   "outputs": [],
   "source": [
    "## degree distribution - GitHub graph\n",
    "deg = GitHubGraph.degree()\n",
    "e = ecdf(deg)  ## empirical cdf\n",
    "x = np.arange(1, max(deg), 1)\n",
    "y = [e(i) for i in x]\n",
    "\n",
    "## plot on log scale for x-axis\n",
    "plt.semilogx(x, y, \"-\", color=\"black\", label=\"GitHub\")\n",
    "plt.xlabel(\"degree\", fontsize=14)\n",
    "plt.ylabel(\"empirical cdf\", fontsize=14)\n",
    "plt.title(\"GitHub graph (ml and web developers)\")\n",
    "#plt.savefig('ecdf_gh.eps')\n",
    "plt.show()\n"
   ]
  },
  {
   "cell_type": "code",
   "execution_count": null,
   "metadata": {},
   "outputs": [],
   "source": [
    "## degree distribution - Grid graph\n",
    "## we see much lower degrees in ths case\n",
    "deg = Grid.degree()\n",
    "e = ecdf(deg)\n",
    "x = np.arange(1, 30, 1)\n",
    "y = [e(i) for i in x]\n",
    "\n",
    "## plot on linear scale for x-axis\n",
    "plt.semilogx(x, y, \"-\", color=\"black\", label=\"Grid\")\n",
    "plt.xlabel(\"degree\", fontsize=14)\n",
    "plt.ylabel(\"empirical cdf\", fontsize=14)\n",
    "plt.title(\"Power Grid Network\")\n",
    "# plt.savefig('ecdf_gr.eps')\n",
    "plt.show()\n"
   ]
  },
  {
   "cell_type": "markdown",
   "metadata": {},
   "source": [
    "## Shortest paths distribution\n",
    "\n",
    "In the plots below, we consider 100 randomly chosen nodes, and compute the length of the shortest path to reach every other node. We then plot histograms for those values. \n",
    "\n",
    "Once again we see much different distributions: for the GitHub graph, most paths are quite short, with common values in the range from 2 to 6.\n",
    "For the Grid graph however, the paths are generally longer, and over a much wider range.\n"
   ]
  },
  {
   "cell_type": "code",
   "execution_count": null,
   "metadata": {},
   "outputs": [],
   "source": [
    "## shortest paths length from a given node, GitHub graph\n",
    "sg = (\n",
    "    GitHubGraph.connected_components().giant()\n",
    ")  ## giant component, so every pair of nodes are connected\n",
    "np.random.seed(12345)\n",
    "V = np.random.choice(sg.vcount(), size=100, replace=False)  ## sample of vertices\n",
    "sp = [x for y in sg.distances(source=V) for x in y if x > 0]  ## drop 0-distances (distance to self)\n",
    "c = Counter(sp)\n",
    "s = sorted(c.items())\n",
    "\n",
    "## barplot\n",
    "fig, ax = plt.subplots()\n",
    "b = ax.bar([x[0] for x in s], [x[1] for x in s], color=\"darkgrey\")\n",
    "ax.set_yscale(\"log\")\n",
    "ax.set_xlabel(\"path length\", fontsize=14)\n",
    "ax.set_ylabel(\"number of paths (log scale)\", fontsize=14)\n",
    "plt.title(\"GitHub graph (ml and web developers)\")\n",
    "# plt.savefig('pathlen_github.eps')\n",
    "plt.show()\n"
   ]
  },
  {
   "cell_type": "code",
   "execution_count": null,
   "metadata": {},
   "outputs": [],
   "source": [
    "## min path length from that node to other nodes, Grid network\n",
    "sg = Grid.connected_components().giant()  ## giant component, so every pair of nodes are connected\n",
    "np.random.seed(12345)\n",
    "V = np.random.choice(sg.vcount(), size=100, replace=False)  ## sample\n",
    "sp = [x for y in sg.distances(source=V) for x in y if x > 0]  ## drop 0-distances (distance to self)\n",
    "c = Counter(sp)\n",
    "s = sorted(c.items())\n",
    "\n",
    "## barplot\n",
    "fig, ax = plt.subplots()\n",
    "b = ax.bar([x[0] for x in s], [x[1] for x in s], color=\"darkgrey\", width=1)\n",
    "ax.set_xlabel(\"path length\", fontsize=14)\n",
    "ax.set_ylabel(\"number of paths\", fontsize=14)\n",
    "plt.title(\"Power Grid Network\")\n",
    "# plt.savefig('pathlen_grid.eps')\n",
    "plt.show()\n"
   ]
  },
  {
   "cell_type": "markdown",
   "metadata": {},
   "source": [
    "## Local clustering coefficient\n",
    "\n",
    "Below, we compare the average local clustering coefficients as a function\n",
    "of the node degrees for the GitHub graph. We consider degrees from 10 to 1000.\n",
    "\n",
    "Looking at a log-log plot, we see a power law relation between those quantities; \n",
    "we also compute the regression line for comparison.\n"
   ]
  },
  {
   "cell_type": "code",
   "execution_count": null,
   "metadata": {},
   "outputs": [],
   "source": [
    "## GitHub graph: build dataframe with degrees and local clustering coefficients\n",
    "## and compute mean values w.r.t. degree.\n",
    "df = pd.DataFrame(\n",
    "    np.array(\n",
    "        [GitHubGraph.transitivity_local_undirected(mode=\"zero\"), GitHubGraph.degree()]\n",
    "    ).transpose(),\n",
    "    columns=[\"ClustCoef\", \"degree\"],\n",
    ")\n",
    "## keep row where degree is in range [10,1000]\n",
    "mindeg = 10\n",
    "maxdeg = 1000\n",
    "df = df[(df.degree >= mindeg) & (df.degree <= maxdeg)]\n",
    "df = df.groupby(by=\"degree\").mean()\n",
    "df.head()\n"
   ]
  },
  {
   "cell_type": "code",
   "execution_count": null,
   "metadata": {},
   "outputs": [],
   "source": [
    "## fit a regression (log-log scale) and plot\n",
    "X = [np.log(i) for i in df.index]  ## degrees\n",
    "Y = [np.log(i) for i in df.ClustCoef]\n",
    "regressor = LinearRegression()\n",
    "regressor.fit(np.array(X).reshape(-1, 1), Y)\n",
    "\n",
    "## plot on log-log scale\n",
    "b = regressor.intercept_\n",
    "a = regressor.coef_[0]\n",
    "print(\"power law exponent:\", a)\n",
    "plt.loglog(df.index, df.ClustCoef, \".-\", color=\"grey\")\n",
    "## since log Y = a log X + b, Y = e^b X^a, we plot:\n",
    "plt.plot([mindeg, maxdeg], [np.exp(b) * mindeg**a, np.exp(b) * maxdeg**a], color=\"black\")\n",
    "plt.xlabel(\"log (degree)\", fontsize=14)\n",
    "plt.ylabel(\"log (mean local clust. coef.)\", fontsize=14)\n",
    "plt.title(\"GitHub graph (ml and web developers)\")\n",
    "# plt.savefig('localCC.eps')\n",
    "plt.show()\n"
   ]
  }
 ],
 "metadata": {
  "kernelspec": {
   "display_name": "complexnetworks",
   "language": "python",
   "name": "complexnetworks"
  },
  "language_info": {
   "codemirror_mode": {
    "name": "ipython",
    "version": 3
   },
   "file_extension": ".py",
   "mimetype": "text/x-python",
   "name": "python",
   "nbconvert_exporter": "python",
   "pygments_lexer": "ipython3",
   "version": "3.12.11"
  }
 },
 "nbformat": 4,
 "nbformat_minor": 4
}
