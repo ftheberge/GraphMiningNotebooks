{
 "cells": [
  {
   "cell_type": "markdown",
   "id": "04d76892-12bc-4ed6-9708-ac73d20fb2b6",
   "metadata": {},
   "source": [
    "# New requirement\n",
    "\n",
    "Install the NEExT package and dependencies as follows:\n",
    "\n",
    "```\n",
    "pip install --no-deps pydantic pydantic_core typing_inspection annotated_types imbalanced_learn neext\n",
    "```"
   ]
  },
  {
   "cell_type": "code",
   "execution_count": null,
   "id": "f3a3bf20",
   "metadata": {},
   "outputs": [],
   "source": [
    "import warnings\n",
    "warnings.filterwarnings(\"ignore\")\n",
    "import numpy as np\n",
    "import time\n",
    "import pandas as pd\n",
    "import umap\n",
    "from NEExT import NEExT\n",
    "import igraph as ig\n",
    "import matplotlib.pyplot as plt\n",
    "from sklearn.model_selection import train_test_split\n",
    "from sklearn.ensemble import RandomForestClassifier as rfc \n",
    "import sklearn.metrics as metrics\n",
    "from sklearn.cluster import KMeans\n",
    "import seaborn as sns\n",
    "from collections import Counter \n"
   ]
  },
  {
   "cell_type": "code",
   "execution_count": null,
   "id": "a46dca09",
   "metadata": {},
   "outputs": [],
   "source": [
    "#datapath = '/Users/francois/Book/GraphMiningNotebooks/Datasets/NCI/'\n",
    "datapath = '../Datasets/NCI/'"
   ]
  },
  {
   "cell_type": "code",
   "execution_count": null,
   "id": "42c95d7c",
   "metadata": {},
   "outputs": [],
   "source": [
    "## nci1 or nci109\n",
    "dataset = 'nci1'\n",
    "\n",
    "## csv data files\n",
    "edges = datapath+dataset+'_edges.csv'\n",
    "node_graph_mapping = datapath+dataset+'_graph_indicator.csv'\n",
    "graph_labels = datapath+dataset+'_graph_labels.csv'\n",
    "node_labels = datapath+dataset+'_node_labels.csv'\n",
    "\n",
    "# Initialize NEExT and set logging level\n",
    "nxt = NEExT(log_level=\"ERROR\")\n",
    "\n",
    "# Load data with node reindexing and largest component filtering\n",
    "# Load as networkx for now\n",
    "print(\"\\nLoading data...\")\n",
    "graph_collection = nxt.read_from_csv(\n",
    "    edges_path=edges,\n",
    "    node_graph_mapping_path=node_graph_mapping,\n",
    "    graph_label_path=graph_labels,\n",
    "    node_features_path=node_labels,\n",
    "    reindex_nodes=True,\n",
    "    filter_largest_component=True,\n",
    "    graph_type=\"networkx\",\n",
    "    node_sample_rate=1.0\n",
    ")\n"
   ]
  },
  {
   "cell_type": "markdown",
   "id": "87e0350a",
   "metadata": {},
   "source": [
    "# EDA"
   ]
  },
  {
   "cell_type": "code",
   "execution_count": null,
   "id": "16a1ec45",
   "metadata": {},
   "outputs": [],
   "source": [
    "## number of graphs\n",
    "n_graphs = graph_collection.describe()['num_graphs']\n",
    "n_graphs"
   ]
  },
  {
   "cell_type": "code",
   "execution_count": null,
   "id": "17905ee7",
   "metadata": {},
   "outputs": [],
   "source": [
    "## graph labels\n",
    "g_labels = graph_collection.get_labels()['label']\n",
    "\n",
    "## number of vertices and edges\n",
    "g = ig.Graph()\n",
    "for i in range(n_graphs):\n",
    "    g[i] = ig.Graph.from_networkx(graph_collection.graphs[i].G, vertex_attr_hashable='name').simplify()\n",
    "    g[i].vs['label'] = [int(l) for l in g[i].vs['node_label']] ## map node labels to integers\n",
    "vc = [g[i].vcount() for i in range(n_graphs)]\n",
    "ec = [g[i].ecount() for i in range(n_graphs)]\n"
   ]
  },
  {
   "cell_type": "code",
   "execution_count": null,
   "id": "48df7840",
   "metadata": {},
   "outputs": [],
   "source": [
    "## Plot number of nodes/edges for graphs with label 0 and 1 resp.\n",
    "a = [vc[i] for i in range(len(vc)) if g_labels[i]==0]\n",
    "b = [vc[i] for i in range(len(vc)) if g_labels[i]==1]\n",
    "c = [ec[i] for i in range(len(ec)) if g_labels[i]==0]\n",
    "d = [ec[i] for i in range(len(ec)) if g_labels[i]==1]\n",
    "\n",
    "plt.subplots(1,2,figsize=(9,4))\n",
    "plt.subplot(121)\n",
    "plt.boxplot([a,b],labels=['0','1'],widths=.6, \n",
    "            flierprops = dict(marker='.', markerfacecolor='black', markersize=3,linestyle='none'),\n",
    "            medianprops = dict(linestyle='-', linewidth=1.5, color='black'))\n",
    "plt.ylabel('Count per graph',fontsize=14);\n",
    "plt.xlabel('Label',fontsize=14)\n",
    "plt.grid()\n",
    "plt.title('Number of nodes',fontsize=14);\n",
    "\n",
    "plt.subplot(122)\n",
    "plt.boxplot([c,d],labels=['0','1'],widths=.6, \n",
    "            flierprops = dict(marker='.', markerfacecolor='black', markersize=3,linestyle='none'),\n",
    "            medianprops = dict(linestyle='-', linewidth=1.5, color='black'))\n",
    "#plt.ylabel('Count per graph',fontsize=11)\n",
    "plt.xlabel('Label',fontsize=14);\n",
    "plt.grid()\n",
    "plt.title('Number of edges',fontsize=14);\n",
    "#plt.savefig('nci_counts.eps');\n"
   ]
  },
  {
   "cell_type": "code",
   "execution_count": null,
   "id": "a09fe6a5",
   "metadata": {},
   "outputs": [],
   "source": [
    "## example of a graph with label 0\n",
    "id = 799\n",
    "print('graph label:',g_labels[id])\n",
    "ig.plot(g[id], bbox=(0,0,300,300), vertex_size=10, vertex_color='grey', \n",
    "        vertex_label=g[id].vs['node_label'],vertex_label_size=0)\n",
    "#ig.plot(sg,target='nci_0.eps',bbox=(0,0,300,300))\n"
   ]
  },
  {
   "cell_type": "code",
   "execution_count": null,
   "id": "1f1bcfd3",
   "metadata": {},
   "outputs": [],
   "source": [
    "## example of a graph with label 1 \n",
    "id = 2299\n",
    "print('label:',g_labels[id])\n",
    "ig.plot(g[id], bbox=(0,0,300,300), vertex_size=10, vertex_color='grey', \n",
    "        vertex_label=g[id].vs['node_label'],vertex_label_size=0)\n",
    "#ig.plot(sg,target='nci_1.eps',bbox=(0,0,300,300))\n"
   ]
  },
  {
   "cell_type": "markdown",
   "id": "6f0f7769-a919-4bac-8d60-37a0cf0db2c0",
   "metadata": {},
   "source": [
    "## overall graph features\n"
   ]
  },
  {
   "cell_type": "code",
   "execution_count": null,
   "id": "12e04237",
   "metadata": {},
   "outputs": [],
   "source": [
    "RS = 321\n",
    "np.random.seed(RS)\n"
   ]
  },
  {
   "cell_type": "code",
   "execution_count": null,
   "id": "597aec0b",
   "metadata": {},
   "outputs": [],
   "source": [
    "### Build graph-based features for each compound (graph)\n",
    "def degrees(sg,md):\n",
    "    ctr = Counter(sg.degree())\n",
    "    return [ctr[i]/sg.vcount() for i in range(1,md+1)]\n",
    "def core(sg,mc):\n",
    "    ctr = Counter(sg.coreness())\n",
    "    return [ctr[i] for i in range(1,mc+1)]\n",
    "\n",
    "## Compute features for each graph\n",
    "L = []\n",
    "md = np.max([np.max(g[i].degree()) for i in range(n_graphs)])\n",
    "mc = np.max([np.max(g[i].coreness()) for i in range(n_graphs)])\n",
    "\n",
    "for i in range(n_graphs):\n",
    "    sg = g[i]\n",
    "    ## node and edge counts, density\n",
    "    x = [sg.vcount(),sg.ecount(),sg.ecount()/sg.vcount()]\n",
    "    ## assortativity\n",
    "    a = sg.assortativity_degree()\n",
    "    if np.isnan(a):\n",
    "        a=0\n",
    "    x.extend([a])\n",
    "    ## degree distribution\n",
    "    x.extend(degrees(sg,md))\n",
    "    ## coreness distribution\n",
    "    x.extend([i/sg.vcount() for i in core(sg,mc)])\n",
    "    L.append(x)"
   ]
  },
  {
   "cell_type": "code",
   "execution_count": null,
   "id": "dc858059",
   "metadata": {},
   "outputs": [],
   "source": [
    "## store all features in a dataframe\n",
    "col = ['nodes','edges','density','assort']\n",
    "col.extend(['deg'+str(i) for i in np.arange(1,md+1)])\n",
    "col.extend(['core'+str(i) for i in np.arange(1,mc+1)])\n",
    "#col.extend(['label'+str(i+1) for i in np.arange(ml)])\n",
    "OGF = pd.DataFrame(L,columns=col)\n",
    "OGF.head()"
   ]
  },
  {
   "cell_type": "code",
   "execution_count": null,
   "id": "a69ff722-804b-4592-b5aa-c853dfbf85c7",
   "metadata": {},
   "outputs": [],
   "source": [
    "## overall graph features only\n",
    "X_train, X_test, y_train, y_test = train_test_split(OGF, g_labels, test_size=0.2, random_state=RS)\n",
    "## random forest classifier -- accuracy\n",
    "rfc_mdl = rfc(n_estimators=100, criterion='entropy', random_state=RS)\n",
    "rfc_mdl.fit(X_train,y_train)\n",
    "y_pred = rfc_mdl.predict(X_test)\n",
    "print(\"Accuracy:\",metrics.accuracy_score(y_test, y_pred))\n",
    "\n",
    "## ROC curve\n",
    "y_probs = rfc_mdl.predict_proba(X_test)[:, 1]\n",
    "fpr, tpr, _ = metrics.roc_curve(y_test,  y_probs)\n",
    "auc = metrics.roc_auc_score(y_test, y_probs)\n",
    "plt.plot(fpr,tpr,label=\"ROC, auc=\"+str('%.3f' % auc),color='black')\n",
    "plt.plot([0,1],[0,1],'--',label='Random',color='black')\n",
    "plt.legend(loc=4,fontsize=14)\n",
    "plt.xlabel('False Positive Rate',fontsize=14)\n",
    "plt.ylabel('True Positive Rate',fontsize=14);\n",
    "#plt.savefig('nci_64d_roc.eps');\n"
   ]
  },
  {
   "cell_type": "markdown",
   "id": "7600b130-4e2a-457d-a663-a4212c16f81b",
   "metadata": {},
   "source": [
    "## graph2vec features\n"
   ]
  },
  {
   "cell_type": "code",
   "execution_count": null,
   "id": "977a0d60-4e1a-46b2-8065-b0def94a153b",
   "metadata": {},
   "outputs": [],
   "source": [
    "g2v = datapath+dataset+'_g2v.csv'\n",
    "G2VF = pd.read_csv(g2v, header=None)\n",
    "G2VF = np.array(G2VF.drop(columns=[0]))"
   ]
  },
  {
   "cell_type": "code",
   "execution_count": null,
   "id": "7daf264c-68ca-4e84-a0d7-c065f42be3e8",
   "metadata": {},
   "outputs": [],
   "source": [
    "X_train, X_test, y_train, y_test = train_test_split(G2VF, g_labels, test_size=0.2, random_state=RS)\n",
    "## random forest classifier -- accuracy\n",
    "rfc_mdl = rfc(n_estimators=100, criterion='entropy', random_state=RS)\n",
    "rfc_mdl.fit(X_train,y_train)\n",
    "y_pred = rfc_mdl.predict(X_test)\n",
    "print(\"Accuracy:\",metrics.accuracy_score(y_test, y_pred))\n",
    "\n",
    "## ROC curve\n",
    "y_probs = rfc_mdl.predict_proba(X_test)[:, 1]\n",
    "fpr, tpr, _ = metrics.roc_curve(y_test,  y_probs)\n",
    "auc = metrics.roc_auc_score(y_test, y_probs)\n",
    "plt.plot(fpr,tpr,label=\"ROC, AUC=\"+str('%.3f' % auc),color='black')\n",
    "plt.plot([0,1],[0,1],'--',label='Random',color='black')\n",
    "plt.legend(loc=4,fontsize=14)\n",
    "plt.xlabel('False Positive Rate',fontsize=14)\n",
    "plt.ylabel('True Positive Rate',fontsize=14);\n",
    "#plt.savefig('nci_64d_roc.eps');"
   ]
  },
  {
   "cell_type": "markdown",
   "id": "4e64dd15",
   "metadata": {},
   "source": [
    "## NEExT: embedding using node-level features\n"
   ]
  },
  {
   "cell_type": "code",
   "execution_count": null,
   "id": "bce78465",
   "metadata": {
    "scrolled": true
   },
   "outputs": [],
   "source": [
    "%%time\n",
    "nxt.set_log_level(\"ERROR\")\n",
    "\n",
    "# Compute node features\n",
    "features = nxt.compute_node_features(\n",
    "    graph_collection=graph_collection,\n",
    "    feature_list=[\"page_rank\",\"degree_centrality\",\"closeness_centrality\",\"betweenness_centrality\",\"eigenvector_centrality\",\n",
    "                  \"clustering_coefficient\",\"local_efficiency\",\"lsme\",\"load_centrality\",\"basic_expansion\"],\n",
    "    feature_vector_length=5,\n",
    "    show_progress=True\n",
    ")\n",
    "\n",
    "features.normalize()\n",
    "features.features_df.head()"
   ]
  },
  {
   "cell_type": "code",
   "execution_count": null,
   "id": "510fb090",
   "metadata": {},
   "outputs": [],
   "source": [
    "%%time\n",
    "# Compute graph embeddings\n",
    "embeddings = nxt.compute_graph_embeddings(\n",
    "    graph_collection=graph_collection,\n",
    "    features=features,\n",
    "    embedding_algorithm=\"approx_wasserstein\",\n",
    "    #embedding_dimension=16,\n",
    "    embedding_dimension=len(features.feature_columns),\n",
    "    random_state=RS\n",
    ")\n"
   ]
  },
  {
   "cell_type": "code",
   "execution_count": null,
   "id": "d418acc3",
   "metadata": {},
   "outputs": [],
   "source": [
    "## Classification with RFC: node feature based embeddings only\n",
    "NEF = embeddings.embeddings_df\n",
    "NEF = np.array(NEF.drop(columns=['graph_id']))\n",
    "X_train, X_test, y_train, y_test = train_test_split(NEF, g_labels, test_size=0.2, random_state=RS)\n",
    "## random forest classifier -- accuracy\n",
    "rfc_mdl = rfc(n_estimators=100, criterion='entropy', random_state=RS)\n",
    "rfc_mdl.fit(X_train,y_train)\n",
    "y_pred = rfc_mdl.predict(X_test)\n",
    "print(\"Accuracy:\",metrics.accuracy_score(y_test, y_pred))\n",
    "\n",
    "## ROC curve\n",
    "y_probs = rfc_mdl.predict_proba(X_test)[:, 1]\n",
    "fpr, tpr, _ = metrics.roc_curve(y_test,  y_probs)\n",
    "auc = metrics.roc_auc_score(y_test, y_probs)\n",
    "plt.plot(fpr,tpr,label=\"ROC, AUC=\"+str('%.3f' % auc),color='black')\n",
    "plt.plot([0,1],[0,1],'--',label='Random',color='black')\n",
    "plt.legend(loc=4,fontsize=14)\n",
    "plt.xlabel('False Positive Rate',fontsize=14)\n",
    "plt.ylabel('True Positive Rate',fontsize=14);\n",
    "#plt.savefig('nci_64d_roc.eps');\n"
   ]
  },
  {
   "cell_type": "markdown",
   "id": "5870617b-739f-4254-8c5f-688351341854",
   "metadata": {},
   "source": [
    "# using all features"
   ]
  },
  {
   "cell_type": "code",
   "execution_count": null,
   "id": "748379a6",
   "metadata": {},
   "outputs": [],
   "source": [
    "AF = np.concatenate((NEF,G2VF,OGF), axis=1)\n",
    "AF.shape\n"
   ]
  },
  {
   "cell_type": "code",
   "execution_count": null,
   "id": "93c79d4b-cafd-49e0-8c45-b5736e4bec32",
   "metadata": {},
   "outputs": [],
   "source": [
    "# Use UMAP to reduce the embeddings to 2D for visualization\n",
    "print(\"\\nReducing embeddings to 2D using UMAP...\")\n",
    "\n",
    "# Create and fit UMAP model\n",
    "umap_model = umap.UMAP(n_neighbors=15, \n",
    "                      min_dist=0.1, \n",
    "                      n_components=2, \n",
    "                      random_state=42,\n",
    "                      n_jobs=1)\n",
    "embedding_2d = umap_model.fit_transform(AF)\n",
    "\n",
    "# Create a DataFrame with the 2D embeddings and labels\n",
    "viz_df = pd.DataFrame({\n",
    "    'UMAP1': embedding_2d[:, 0],\n",
    "    'UMAP2': embedding_2d[:, 1],\n",
    "    #'graph_id': embeddings.embeddings_df['graph_id']\n",
    "})\n",
    "\n",
    "# Add class labels from graph collection\n",
    "#graph_labels_dict = {g.graph_id: g.graph_label for g in graph_collection.graphs}\n",
    "#viz_df['label'] = viz_df['graph_id'].map(graph_labels_dict)\n",
    "viz_df['label'] = g_labels"
   ]
  },
  {
   "cell_type": "code",
   "execution_count": null,
   "id": "a4577ddf",
   "metadata": {},
   "outputs": [],
   "source": [
    "plt.scatter(viz_df.UMAP1, viz_df.UMAP2, c=viz_df.label, s=5, cmap='Set1');\n"
   ]
  },
  {
   "cell_type": "code",
   "execution_count": null,
   "id": "8661663d",
   "metadata": {},
   "outputs": [],
   "source": [
    "# Use UMAP to reduce the embeddings to 2D for visualization\n",
    "print(\"\\nReducing embeddings to 2D using UMAP...\")\n",
    "# Extract embeddings as numpy array for UMAP\n",
    "embedding_data = embeddings.embeddings_df[embeddings.embedding_columns].values\n",
    "\n",
    "# Create and fit UMAP model\n",
    "umap_model = umap.UMAP(n_neighbors=15, \n",
    "                      min_dist=0.1, \n",
    "                      n_components=2, \n",
    "                      random_state=42,\n",
    "                      n_jobs=1)\n",
    "embedding_2d = umap_model.fit_transform(embedding_data)\n",
    "\n",
    "# Create a DataFrame with the 2D embeddings and labels\n",
    "viz_df = pd.DataFrame({\n",
    "    'UMAP1': embedding_2d[:, 0],\n",
    "    'UMAP2': embedding_2d[:, 1],\n",
    "    'graph_id': embeddings.embeddings_df['graph_id']\n",
    "})\n",
    "\n",
    "# Add class labels from graph collection\n",
    "graph_labels_dict = {g.graph_id: g.graph_label for g in graph_collection.graphs}\n",
    "viz_df['label'] = viz_df['graph_id'].map(graph_labels_dict)\n"
   ]
  },
  {
   "cell_type": "code",
   "execution_count": null,
   "id": "e6b2c6bc",
   "metadata": {},
   "outputs": [],
   "source": [
    "## three sets\n",
    "X_train, X_test, y_train, y_test = train_test_split(AF, g_labels, test_size=0.2, random_state=RS)\n",
    "## random forest classifier -- accuracy\n",
    "rfc_mdl = rfc(n_estimators=100, criterion='entropy', random_state=RS)\n",
    "rfc_mdl.fit(X_train,y_train)\n",
    "y_pred = rfc_mdl.predict(X_test)\n",
    "print(\"Accuracy:\",metrics.accuracy_score(y_test, y_pred))\n",
    "\n",
    "## ROC curve\n",
    "y_probs = rfc_mdl.predict_proba(X_test)[:, 1]\n",
    "fpr, tpr, _ = metrics.roc_curve(y_test,  y_probs)\n",
    "auc = metrics.roc_auc_score(y_test, y_probs)\n",
    "plt.plot(fpr,tpr,label=\"ROC, auc=\"+str('%.3f' % auc),color='black')\n",
    "plt.plot([0,1],[0,1],'--',label='Random',color='black')\n",
    "plt.legend(loc=4,fontsize=14)\n",
    "plt.xlabel('False Positive Rate',fontsize=14)\n",
    "plt.ylabel('True Positive Rate',fontsize=14);\n",
    "#plt.savefig('nci_64d_roc.eps');"
   ]
  },
  {
   "cell_type": "raw",
   "id": "ae807fee-b79e-4d30-8d61-5876dd02f86d",
   "metadata": {},
   "source": [
    "## Summary ##\n",
    "\n",
    "        acc     roc\n",
    "NEExT 0.797   0.874\n",
    "g2v   0.769   0.852\n",
    "graph 0.725   0.785\n",
    "ALL   0.826   0.904\n"
   ]
  },
  {
   "cell_type": "code",
   "execution_count": null,
   "id": "eb6b9cb2",
   "metadata": {},
   "outputs": [],
   "source": [
    "## bootstrap confidence interval for the AUC\n",
    "def bootstrap(y_test,y_probs,n_boot=1000):\n",
    "    y_pred = np.array(y_probs)\n",
    "    y_true = np.array(y_test)\n",
    "    scores = []\n",
    "    rng = np.random.RandomState(RS)\n",
    "    for i in range(n_boot):\n",
    "        indices = rng.randint(0, len(y_pred), len(y_pred))\n",
    "        sc = metrics.roc_auc_score(y_true[indices], y_pred[indices])\n",
    "        scores.append(sc)\n",
    "    sorted_scores = np.array(scores)\n",
    "    sorted_scores.sort()\n",
    "    conf_lo = sorted_scores[int(0.05 * len(sorted_scores))]\n",
    "    conf_up = sorted_scores[int(0.95 * len(sorted_scores))]\n",
    "    return (conf_lo, conf_up)\n",
    "bootstrap(y_test,y_probs)"
   ]
  },
  {
   "cell_type": "markdown",
   "id": "7722b79e-4ded-4b30-8f8b-8af55bfa6e01",
   "metadata": {},
   "source": [
    "## top features"
   ]
  },
  {
   "cell_type": "code",
   "execution_count": null,
   "id": "d1c6adde",
   "metadata": {},
   "outputs": [],
   "source": [
    "## 50 from NEExT feature-based embedding\n",
    "## 64 from g2v embedding\n",
    "## 11 graph features\n",
    "top_features = np.argsort(rfc_mdl.feature_importances_)[::-1]\n",
    "f = ['emb_'+str(i) for i in np.arange(0,50)] + ['g2v_'+str(i) for i in np.arange(0,64)] + list(OGF.columns)\n",
    "n_top = 60\n",
    "print('top',n_top,'features:')\n",
    "print('feature-based embedding:',len([f[i] for i in top_features[:n_top] if i<50]))\n",
    "print('graph2vec:',len([f[i] for i in top_features[:n_top] if i>=50 and i<114]))\n",
    "print('graph features:',[f[i] for i in top_features[:n_top] if i>=114])\n"
   ]
  },
  {
   "cell_type": "code",
   "execution_count": null,
   "id": "b8588b8b",
   "metadata": {},
   "outputs": [],
   "source": [
    "n_top = 10\n",
    "AF_norm = (AF - AF.mean(axis=0)) / (AF.std(axis=0))\n",
    "\n",
    "data = {\n",
    "    'feature' : np.concatenate([np.repeat(str(t+1),n_graphs) for t in top_features[:n_top]]),\n",
    "    'value' : np.concatenate([np.array(AF_norm[:,t]) for t in top_features[:n_top]]),\n",
    "    'label' : list(g_labels)*n_top\n",
    "}\n",
    "_df = pd.DataFrame(data)\n",
    "sns.boxplot(x='feature', y='value', data=_df, hue='label', palette='grey', showfliers=False, width=.5, gap=.1);\n",
    "plt.xlabel('top features', fontsize=14)\n",
    "plt.ylabel('normalized value', fontsize=14)\n",
    "plt.grid(axis='y')\n",
    "plt.xticks(np.arange(n_top), [str(i+1) for i in range(n_top)]);"
   ]
  },
  {
   "cell_type": "markdown",
   "id": "5b181f2f",
   "metadata": {},
   "source": [
    "# Unsupervised\n",
    "\n",
    "We perform simple k-means clustering (fixing k to 10) and explore the content of the different clusters.\n",
    "\n",
    "We plot the proportion of graphs with label == 1 vs the size of the cluster.\n",
    "\n",
    "We see several small clusters with a large proportion of graphs with label == 1.\n",
    "\n"
   ]
  },
  {
   "cell_type": "code",
   "execution_count": null,
   "id": "2984a986",
   "metadata": {},
   "outputs": [],
   "source": [
    "NCL = 10 ## number of clusters\n",
    "RS = 123\n",
    "cl = KMeans(n_clusters=NCL, n_init=10, random_state=RS).fit(AF_norm).labels_\n",
    "K = pd.DataFrame(np.array([g_labels,cl,np.repeat(1,len(g_labels))]).transpose(),columns=['label=1','cluster','total'])\n",
    "C = K.groupby(by='cluster').sum()\n",
    "C['ratio'] = C['label=1']/C['total']\n",
    "plt.figure(figsize=(6,4))\n",
    "plt.plot(C['total'],C['ratio'],'o',color='black')\n",
    "plt.xlabel('cluster size', fontsize=14)\n",
    "plt.ylabel('proportion with label 1', fontsize=14);\n",
    "#plt.savefig('kmeans_1.eps');\n"
   ]
  },
  {
   "cell_type": "code",
   "execution_count": null,
   "id": "e1176c87",
   "metadata": {},
   "outputs": [],
   "source": [
    "## same data in a table\n",
    "_df = C.sort_values(by='ratio',ascending=False).round(decimals=3)\n",
    "_df\n"
   ]
  },
  {
   "cell_type": "code",
   "execution_count": null,
   "id": "2a72a542-5524-4c74-b7ba-186af8d290b5",
   "metadata": {},
   "outputs": [],
   "source": [
    "OGF['cluster'] = cl\n",
    "_df = OGF.groupby(by='cluster').mean()\n",
    "_df['sizes'] = C['total']\n",
    "_df['ratio'] = 1-C['ratio']\n",
    "\n",
    "plt.scatter(_df.edges, _df.deg3, s=_df.sizes, c=_df.ratio, cmap='grey', vmin=0, vmax=1)\n",
    "plt.grid()\n",
    "plt.vlines(OGF.edges.mean(), .225,.400,linestyles='--',color='grey')\n",
    "plt.hlines(OGF.deg3.mean(), 10, 100,linestyles='--',color='grey')\n",
    "plt.xlabel('number of edges')\n",
    "plt.ylabel('proportion of degree-3 nodes');\n"
   ]
  },
  {
   "cell_type": "code",
   "execution_count": null,
   "id": "94a44b1b-28f3-403a-8a9e-0ad8cd1724fe",
   "metadata": {},
   "outputs": [],
   "source": [
    "_df = OGF.groupby(by='cluster').mean()\n",
    "_df = _df[['edges','assort','deg3','core2']]\n",
    "_df"
   ]
  },
  {
   "cell_type": "code",
   "execution_count": null,
   "id": "36612c70-03bc-4f18-9ff8-1e2a77efd7ba",
   "metadata": {},
   "outputs": [],
   "source": [
    "_df['size'] = C['total']\n",
    "_df['label=1'] = C['ratio']\n",
    "_df.sort_values(by='size')"
   ]
  },
  {
   "cell_type": "code",
   "execution_count": null,
   "id": "6a2c4796-f882-4c00-999a-ad6338eb299e",
   "metadata": {},
   "outputs": [],
   "source": [
    "OGF.mean()[['edges','assort','deg3','core2']]"
   ]
  }
 ],
 "metadata": {
  "kernelspec": {
   "display_name": "complexnetworks",
   "language": "python",
   "name": "complexnetworks"
  },
  "language_info": {
   "codemirror_mode": {
    "name": "ipython",
    "version": 3
   },
   "file_extension": ".py",
   "mimetype": "text/x-python",
   "name": "python",
   "nbconvert_exporter": "python",
   "pygments_lexer": "ipython3",
   "version": "3.11.13"
  }
 },
 "nbformat": 4,
 "nbformat_minor": 5
}
