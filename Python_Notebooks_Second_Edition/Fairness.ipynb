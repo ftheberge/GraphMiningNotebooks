{
 "cells": [
  {
   "cell_type": "code",
   "execution_count": 1,
   "metadata": {
    "slideshow": {
     "slide_type": "slide"
    }
   },
   "outputs": [],
   "source": [
    "import igraph as ig\n",
    "import numpy as np\n",
    "import pandas as pd\n",
    "import matplotlib.pyplot as plt\n",
    "%matplotlib inline\n",
    "from sklearn.linear_model import LinearRegression\n",
    "from collections import Counter\n",
    "import os\n",
    "import umap\n",
    "import pickle\n",
    "import partition_igraph\n",
    "import subprocess\n",
    "from sklearn.metrics import adjusted_mutual_info_score as AMI\n",
    "import random \n",
    "import seaborn as sns\n",
    "from sklearn.metrics import roc_auc_score, roc_curve\n",
    "from abcd_graph import ABCDGraph, ABCDParams\n",
    "\n",
    "## we use those for the book, but you can change to other colors\n",
    "cls_edges = 'gainsboro'\n",
    "cls = ['white','gray','dimgray','black']\n"
   ]
  },
  {
   "cell_type": "code",
   "execution_count": 22,
   "metadata": {},
   "outputs": [
    {
     "name": "stdout",
     "output_type": "stream",
     "text": [
      "0.06511810345935758\n"
     ]
    }
   ],
   "source": [
    "## ABCD \n",
    "n = 10000\n",
    "\n",
    "## degrees\n",
    "gamma = 2.5\n",
    "delta = 5\n",
    "Delta = 50\n",
    "zeta = np.log(Delta) / np.log(n)\n",
    "\n",
    "## communities\n",
    "beta = 1.5\n",
    "s = 100\n",
    "S = 8000\n",
    "tau = np.log(S) / np.log(n)\n",
    "\n",
    "xi = .65\n",
    "\n",
    "np.random.seed(321)\n",
    "random.seed(321)\n",
    "\n",
    "G = ig.Graph()\n",
    "\n",
    "params = ABCDParams(vcount=n, gamma=gamma, min_degree=delta, max_degree=Delta, beta=beta, min_community_size=s, max_community_size=S, xi=xi)\n",
    "g = ABCDGraph(params).build()\n",
    "G = g.exporter.to_igraph()\n",
    "comms = G.vs['ground_truth_community'] \n",
    "\n",
    "print(AMI(G.community_ecg(ens_size=16, final='leiden').membership, G.vs['ground_truth_community']))\n"
   ]
  },
  {
   "cell_type": "code",
   "execution_count": 23,
   "metadata": {},
   "outputs": [
    {
     "name": "stdout",
     "output_type": "stream",
     "text": [
      "accuracy on the test set: 0.7087613293051359\n"
     ]
    }
   ],
   "source": [
    "import sknetwork as skn\n",
    "from sknetwork.classification import get_accuracy_score\n",
    "\n",
    "## classification\n",
    "labels = np.array(G.vs['ground_truth_community'], dtype='int')\n",
    "G_A = G.get_adjacency_sparse()\n",
    "nc = np.max(G.vs['ground_truth_community'])+1\n",
    "\n",
    "np.random.seed(123)\n",
    "train_mask = np.random.random(size=len(labels)) < 0.5 ## mask nodes for training\n",
    "labels[train_mask] = -1 ## the negative labels are ignored in the training\n",
    "\n",
    "# GNN classifier with a single hidden layer\n",
    "hidden_dim = 2*nc\n",
    "n_labels = nc ## ground-truth communities \n",
    "gnn = skn.gnn.GNNClassifier(dims=[hidden_dim, n_labels],\n",
    "                    layer_types='Conv',\n",
    "                    activations='ReLu',\n",
    "                    verbose=False)\n",
    "\n",
    "## for features, we simply use the adjacency matrix\n",
    "features = G_A\n",
    "\n",
    "## fit the GCN\n",
    "Pred = gnn.fit_predict(G_A, features, labels=labels, n_epochs=50, random_state=42)\n",
    "\n",
    "## apply to test set and compute accuracy\n",
    "acc = get_accuracy_score(np.array(G.vs['ground_truth_community'])[train_mask], Pred[train_mask])\n",
    "print('accuracy on the test set:', acc)\n"
   ]
  },
  {
   "cell_type": "code",
   "execution_count": 24,
   "metadata": {},
   "outputs": [
    {
     "data": {
      "text/plain": [
       "1446"
      ]
     },
     "execution_count": 24,
     "metadata": {},
     "output_type": "execute_result"
    }
   ],
   "source": [
    "## misclassified vs degree and cluster size\n",
    "misclass = [i for i in np.where(train_mask)[0] if (Pred[i] != G.vs['ground_truth_community'][i]) ]\n",
    "correct = [i for i in np.where(train_mask)[0] if (Pred[i] == G.vs['ground_truth_community'][i]) ]\n",
    "len(misclass)\n"
   ]
  },
  {
   "cell_type": "code",
   "execution_count": 25,
   "metadata": {},
   "outputs": [
    {
     "data": {
      "image/png": "[encoded data removed]",
      "text/plain": [
       "<Figure size 640x480 with 1 Axes>"
      ]
     },
     "metadata": {},
     "output_type": "display_data"
    }
   ],
   "source": [
    "df = pd.DataFrame()\n",
    "df['misclassified'] = [Pred[i] != G.vs['ground_truth_community'][i] for i in np.where(train_mask)[0]]\n",
    "df['degree'] = G.degree(np.where(train_mask)[0])\n",
    "sns.boxplot(df, x='misclassified', y='degree', showfliers=False, hue='misclassified', width=.7)\n",
    "plt.show()\n"
   ]
  },
  {
   "cell_type": "code",
   "execution_count": 26,
   "metadata": {},
   "outputs": [
    {
     "data": {
      "text/plain": [
       "Counter({0: 3772,\n",
       "         1: 1493,\n",
       "         2: 580,\n",
       "         3: 551,\n",
       "         4: 487,\n",
       "         5: 446,\n",
       "         6: 366,\n",
       "         7: 311,\n",
       "         8: 303,\n",
       "         9: 261,\n",
       "         10: 178,\n",
       "         11: 151,\n",
       "         12: 150,\n",
       "         13: 136,\n",
       "         14: 131,\n",
       "         15: 125,\n",
       "         16: 124,\n",
       "         17: 119,\n",
       "         18: 107,\n",
       "         19: 106,\n",
       "         20: 103})"
      ]
     },
     "execution_count": 26,
     "metadata": {},
     "output_type": "execute_result"
    }
   ],
   "source": [
    "comm_sizes = Counter(G.vs['ground_truth_community'])\n",
    "G.vs['comm_size'] = [comm_sizes[i] for i in G.vs['ground_truth_community']]\n",
    "comm_sizes"
   ]
  },
  {
   "cell_type": "code",
   "execution_count": 27,
   "metadata": {},
   "outputs": [
    {
     "data": {
      "image/png": "[encoded data removed]",
      "text/plain": [
       "<Figure size 640x480 with 1 Axes>"
      ]
     },
     "metadata": {},
     "output_type": "display_data"
    }
   ],
   "source": [
    "df['comm_size'] = [G.vs['comm_size'][i] for i in np.where(train_mask)[0]]\n",
    "sns.boxplot(df, x='misclassified', y='comm_size', showfliers=False, hue='misclassified', width=.7)\n",
    "plt.show()\n"
   ]
  },
  {
   "cell_type": "code",
   "execution_count": 37,
   "metadata": {},
   "outputs": [
    {
     "data": {
      "text/html": [
       "<div>\n",
       "<style scoped>\n",
       "    .dataframe tbody tr th:only-of-type {\n",
       "        vertical-align: middle;\n",
       "    }\n",
       "\n",
       "    .dataframe tbody tr th {\n",
       "        vertical-align: top;\n",
       "    }\n",
       "\n",
       "    .dataframe thead th {\n",
       "        text-align: right;\n",
       "    }\n",
       "</style>\n",
       "<table border=\"1\" class=\"dataframe\">\n",
       "  <thead>\n",
       "    <tr style=\"text-align: right;\">\n",
       "      <th></th>\n",
       "      <th>misclassified</th>\n",
       "      <th>degree</th>\n",
       "      <th>comm_size</th>\n",
       "      <th>pred_comm_size</th>\n",
       "    </tr>\n",
       "  </thead>\n",
       "  <tbody>\n",
       "    <tr>\n",
       "      <th>0</th>\n",
       "      <td>False</td>\n",
       "      <td>7</td>\n",
       "      <td>3772</td>\n",
       "      <td>3772</td>\n",
       "    </tr>\n",
       "    <tr>\n",
       "      <th>1</th>\n",
       "      <td>False</td>\n",
       "      <td>21</td>\n",
       "      <td>3772</td>\n",
       "      <td>3772</td>\n",
       "    </tr>\n",
       "    <tr>\n",
       "      <th>2</th>\n",
       "      <td>False</td>\n",
       "      <td>11</td>\n",
       "      <td>3772</td>\n",
       "      <td>3772</td>\n",
       "    </tr>\n",
       "    <tr>\n",
       "      <th>3</th>\n",
       "      <td>False</td>\n",
       "      <td>39</td>\n",
       "      <td>3772</td>\n",
       "      <td>3772</td>\n",
       "    </tr>\n",
       "    <tr>\n",
       "      <th>4</th>\n",
       "      <td>False</td>\n",
       "      <td>7</td>\n",
       "      <td>3772</td>\n",
       "      <td>3772</td>\n",
       "    </tr>\n",
       "    <tr>\n",
       "      <th>...</th>\n",
       "      <td>...</td>\n",
       "      <td>...</td>\n",
       "      <td>...</td>\n",
       "      <td>...</td>\n",
       "    </tr>\n",
       "    <tr>\n",
       "      <th>4960</th>\n",
       "      <td>True</td>\n",
       "      <td>7</td>\n",
       "      <td>103</td>\n",
       "      <td>487</td>\n",
       "    </tr>\n",
       "    <tr>\n",
       "      <th>4961</th>\n",
       "      <td>False</td>\n",
       "      <td>6</td>\n",
       "      <td>103</td>\n",
       "      <td>103</td>\n",
       "    </tr>\n",
       "    <tr>\n",
       "      <th>4962</th>\n",
       "      <td>True</td>\n",
       "      <td>6</td>\n",
       "      <td>103</td>\n",
       "      <td>3772</td>\n",
       "    </tr>\n",
       "    <tr>\n",
       "      <th>4963</th>\n",
       "      <td>True</td>\n",
       "      <td>5</td>\n",
       "      <td>103</td>\n",
       "      <td>3772</td>\n",
       "    </tr>\n",
       "    <tr>\n",
       "      <th>4964</th>\n",
       "      <td>True</td>\n",
       "      <td>7</td>\n",
       "      <td>103</td>\n",
       "      <td>1493</td>\n",
       "    </tr>\n",
       "  </tbody>\n",
       "</table>\n",
       "<p>4965 rows × 4 columns</p>\n",
       "</div>"
      ],
      "text/plain": [
       "      misclassified  degree  comm_size  pred_comm_size\n",
       "0             False       7       3772            3772\n",
       "1             False      21       3772            3772\n",
       "2             False      11       3772            3772\n",
       "3             False      39       3772            3772\n",
       "4             False       7       3772            3772\n",
       "...             ...     ...        ...             ...\n",
       "4960           True       7        103             487\n",
       "4961          False       6        103             103\n",
       "4962           True       6        103            3772\n",
       "4963           True       5        103            3772\n",
       "4964           True       7        103            1493\n",
       "\n",
       "[4965 rows x 4 columns]"
      ]
     },
     "execution_count": 37,
     "metadata": {},
     "output_type": "execute_result"
    }
   ],
   "source": [
    "df['pred_comm_size'] = [comm_sizes[Pred[i]] for i in np.where(train_mask)[0]]\n",
    "df"
   ]
  },
  {
   "cell_type": "code",
   "execution_count": 38,
   "metadata": {},
   "outputs": [
    {
     "data": {
      "text/html": [
       "<div>\n",
       "<style scoped>\n",
       "    .dataframe tbody tr th:only-of-type {\n",
       "        vertical-align: middle;\n",
       "    }\n",
       "\n",
       "    .dataframe tbody tr th {\n",
       "        vertical-align: top;\n",
       "    }\n",
       "\n",
       "    .dataframe thead th {\n",
       "        text-align: right;\n",
       "    }\n",
       "</style>\n",
       "<table border=\"1\" class=\"dataframe\">\n",
       "  <thead>\n",
       "    <tr style=\"text-align: right;\">\n",
       "      <th></th>\n",
       "      <th>degree</th>\n",
       "      <th>comm_size</th>\n",
       "      <th>pred_comm_size</th>\n",
       "    </tr>\n",
       "    <tr>\n",
       "      <th>misclassified</th>\n",
       "      <th></th>\n",
       "      <th></th>\n",
       "      <th></th>\n",
       "    </tr>\n",
       "  </thead>\n",
       "  <tbody>\n",
       "    <tr>\n",
       "      <th>False</th>\n",
       "      <td>10.866155</td>\n",
       "      <td>2088.058539</td>\n",
       "      <td>2088.058539</td>\n",
       "    </tr>\n",
       "    <tr>\n",
       "      <th>True</th>\n",
       "      <td>7.515214</td>\n",
       "      <td>1158.734440</td>\n",
       "      <td>2251.646611</td>\n",
       "    </tr>\n",
       "  </tbody>\n",
       "</table>\n",
       "</div>"
      ],
      "text/plain": [
       "                  degree    comm_size  pred_comm_size\n",
       "misclassified                                        \n",
       "False          10.866155  2088.058539     2088.058539\n",
       "True            7.515214  1158.734440     2251.646611"
      ]
     },
     "execution_count": 38,
     "metadata": {},
     "output_type": "execute_result"
    }
   ],
   "source": [
    "df.groupby(by='misclassified').mean()"
   ]
  },
  {
   "cell_type": "code",
   "execution_count": 44,
   "metadata": {},
   "outputs": [
    {
     "data": {
      "text/plain": [
       "Counter({True: 995, False: 451})"
      ]
     },
     "execution_count": 44,
     "metadata": {},
     "output_type": "execute_result"
    }
   ],
   "source": [
    "Counter(df[df.misclassified==True]['comm_size'] < df[df.misclassified==True]['pred_comm_size'])"
   ]
  },
  {
   "cell_type": "code",
   "execution_count": 56,
   "metadata": {},
   "outputs": [
    {
     "data": {
      "text/plain": [
       "Counter({3772: 17, 1493: 5, 487: 3, 119: 2, 580: 1, 303: 1, 446: 1})"
      ]
     },
     "execution_count": 56,
     "metadata": {},
     "output_type": "execute_result"
    }
   ],
   "source": [
    "Counter(df[ (df.comm_size==103) & (df.misclassified==True) ]['pred_comm_size'])"
   ]
  }
 ],
 "metadata": {
  "kernelspec": {
   "display_name": "complexnetworks",
   "language": "python",
   "name": "complexnetworks"
  },
  "language_info": {
   "codemirror_mode": {
    "name": "ipython",
    "version": 3
   },
   "file_extension": ".py",
   "mimetype": "text/x-python",
   "name": "python",
   "nbconvert_exporter": "python",
   "pygments_lexer": "ipython3",
   "version": "3.12.11"
  }
 },
 "nbformat": 4,
 "nbformat_minor": 4
}
