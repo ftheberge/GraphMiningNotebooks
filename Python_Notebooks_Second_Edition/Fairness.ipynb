{
 "cells": [
  {
   "cell_type": "markdown",
   "metadata": {},
   "source": [
    "# Fairness in complex network analysis\n",
    "\n",
    "(FT) Some concepts I see from the references:\n",
    "\n",
    "* robustness (discussed in our Chapter 10)\n",
    "* accuracy (discussed in many places in our book)\n",
    "* explainability\n",
    "* fairness&equity\n",
    "* sensitivity&stability (example in chapter 5 of our book, for clustering)\n",
    "* reliability\n",
    "* privacy preserving\n",
    "\n",
    "Not sure about simple experiments for explainability, fairness&equity, reliability and privacy preserving, but we can at least explain those concepts.\n",
    "The example in Tina’s talk relates to sensitivity&stability. Some possible simple experiment:\n",
    "\n",
    "* pick a ‘good’ embedding algorithm and apply to some ABCD graph as is, and then with some increasing proportion of edges removed (say 5%, 10%, 15% … we need to try); compare the embeddings with:\n",
    " * change in kNN for each node\n",
    " * some follow-up task like k-means clustering\n",
    "* re-do the above for a ‘less good’ algorithm ; less stable?\n",
    "\n",
    "Fairness experiments ideas:\n",
    "* group fairness: discrimination, minority/majority (race, gender) ; surrogate could be clusters\n",
    "* individual fairness: for example, compare node’s output with its kNNs in a classification task\n",
    "* degree-based fairness: high/low degree nodes may be treated differently in some algorithms\n",
    "\n",
    "---\n",
    "\n",
    "(BK) If I understand correctly the sub-chapter should be:\n",
    "1. definition of fairness measures\n",
    "2. discussion that we cannot ensure all fairness measures at the same time (and that one has to decide what kind of fairness one wants)\n",
    "3. discussion of \"protected features\" (like: sex, race)\n",
    "4. Maybe discussion if \"degree\" (or other graph features) should be considered as a \"protected feature\"\n",
    "5. discussion of node classification/regression and edge prediction/classification/regression context\n",
    "6. some examples (like what Francois did - where fairness is defined as equality of prediction quality vs. a protected feature)\n",
    "\n",
    "The question is if it is not too much (alternatively we could concentrate on an example on a single fairness measure vs a single protected feature as an example and in the conclusion add references that there are other options).\n",
    "\n",
    "---\n",
    "\n",
    "Add node features, predict feature (eg. credit score) ; bias w.r.t. community size w.r.t. quality of prediction?\n",
    "Add other features such as degree, etc.\n",
    "\n",
    "PP: use ABCD-oo cookie model as features to be predicted ;\n",
    "\n"
   ]
  },
  {
   "cell_type": "code",
   "execution_count": 1,
   "metadata": {
    "slideshow": {
     "slide_type": "slide"
    }
   },
   "outputs": [],
   "source": [
    "import igraph as ig\n",
    "import numpy as np\n",
    "import pandas as pd\n",
    "import matplotlib.pyplot as plt\n",
    "%matplotlib inline\n",
    "from sklearn.linear_model import LinearRegression\n",
    "from collections import Counter\n",
    "import os\n",
    "import umap\n",
    "import pickle\n",
    "import partition_igraph\n",
    "import subprocess\n",
    "from sklearn.metrics import adjusted_mutual_info_score as AMI\n",
    "import random \n",
    "import seaborn as sns\n",
    "from sklearn.metrics import roc_auc_score, roc_curve\n",
    "from abcd_graph import ABCDGraph, ABCDParams\n",
    "import sknetwork as skn\n",
    "from sknetwork.classification import get_accuracy_score\n",
    "\n",
    "\n",
    "## we use those for the book, but you can change to other colors\n",
    "cls_edges = 'gainsboro'\n",
    "cls = ['white','gray','dimgray','black']\n"
   ]
  },
  {
   "cell_type": "code",
   "execution_count": 2,
   "metadata": {},
   "outputs": [],
   "source": [
    "def build_ABCD(n=10000, gamma=2.5, delta=5, Delta=50, beta=1.5, s=100, S=8000, xi=0.65, seed=321):\n",
    "    zeta = np.log(Delta) / np.log(n)\n",
    "    tau = np.log(S) / np.log(n)\n",
    "    np.random.seed(seed)\n",
    "    random.seed(seed)\n",
    "    params = ABCDParams(vcount=n, gamma=gamma, min_degree=delta, max_degree=Delta, beta=beta, min_community_size=s, max_community_size=S, xi=xi)\n",
    "    g = ABCDGraph(params).build()\n",
    "    G = g.exporter.to_igraph()\n",
    "    return G\n"
   ]
  },
  {
   "cell_type": "code",
   "execution_count": 3,
   "metadata": {},
   "outputs": [],
   "source": [
    "def apply_GNN(G, test_prop = 0.5, seed=12, verbose=True):\n",
    "    labels = np.array(G.vs['ground_truth_community'], dtype='int')\n",
    "    G_A = G.get_adjacency_sparse()\n",
    "    nc = np.max(G.vs['ground_truth_community'])+1    \n",
    "    np.random.seed(seed)\n",
    "    train_mask = np.random.random(size=len(labels)) < 0.5 ## mask nodes for training\n",
    "    labels[train_mask] = -1 ## the negative labels are ignored in the training\n",
    "    \n",
    "    # GNN classifier with a single hidden layer\n",
    "    hidden_dim = 2*nc\n",
    "    n_labels = nc ## ground-truth communities \n",
    "    gnn = skn.gnn.GNNClassifier(dims=[hidden_dim, n_labels],\n",
    "                        layer_types='Conv',\n",
    "                        activations='ReLu',\n",
    "                        verbose=False)\n",
    "    \n",
    "    ## for features, we simply use the adjacency matrix\n",
    "    features = G_A\n",
    "    \n",
    "    ## fit the GCN\n",
    "    Pred = gnn.fit_predict(G_A, features, labels=labels, n_epochs=50, random_state=42)\n",
    "    \n",
    "    if verbose:\n",
    "        ## apply to test set and compute accuracy\n",
    "        acc = get_accuracy_score(np.array(G.vs['ground_truth_community'])[train_mask], Pred[train_mask])\n",
    "        print('accuracy on the test set:', acc)\n",
    "\n",
    "    return Pred, train_mask\n"
   ]
  },
  {
   "cell_type": "markdown",
   "metadata": {},
   "source": [
    "## Degree fairness\n",
    "\n",
    "From the survey, there is a description of group fairness (gender, race ...), individual fairness and interestingly, degree fairness.\n",
    "\n",
    "A very simple experiment we could show is to classify ABCD nodes with a GNN, and look at the degree of misclassified nodes\n",
    "in the test set vs the other nodes. \n",
    "\n",
    "One expects more misclassified low degree nodes.\n"
   ]
  },
  {
   "cell_type": "code",
   "execution_count": 4,
   "metadata": {},
   "outputs": [
    {
     "name": "stdout",
     "output_type": "stream",
     "text": [
      "0.320020277481615\n"
     ]
    }
   ],
   "source": [
    "G = build_ABCD(n=10000, gamma=2.5, delta=5, Delta=100, beta=1.5, s=100, S=1000, xi=0.65, seed=321)\n",
    "comms = G.vs['ground_truth_community'] \n",
    "print(AMI(G.community_ecg(ens_size=16, final='leiden').membership, G.vs['ground_truth_community']))\n"
   ]
  },
  {
   "cell_type": "code",
   "execution_count": 5,
   "metadata": {},
   "outputs": [
    {
     "name": "stdout",
     "output_type": "stream",
     "text": [
      "accuracy on the test set: 0.7313935075217736\n"
     ]
    }
   ],
   "source": [
    "## classification\n",
    "Pred, train_mask = apply_GNN(G)\n"
   ]
  },
  {
   "cell_type": "code",
   "execution_count": 6,
   "metadata": {},
   "outputs": [
    {
     "data": {
      "image/png": "[encoded data removed]",
      "text/plain": [
       "<Figure size 640x480 with 1 Axes>"
      ]
     },
     "metadata": {},
     "output_type": "display_data"
    }
   ],
   "source": [
    "## misclassified vs degree and cluster size\n",
    "misclass = [i for i in np.where(train_mask)[0] if (Pred[i] != G.vs['ground_truth_community'][i]) ]\n",
    "correct = [i for i in np.where(train_mask)[0] if (Pred[i] == G.vs['ground_truth_community'][i]) ]\n",
    "\n",
    "## plot\n",
    "df = pd.DataFrame()\n",
    "df['misclassified'] = [Pred[i] != G.vs['ground_truth_community'][i] for i in np.where(train_mask)[0]]\n",
    "df['degree'] = G.degree(np.where(train_mask)[0])\n",
    "sns.boxplot(df, x='misclassified', y='degree', showfliers=False, hue='misclassified', width=.7)\n",
    "plt.show()\n"
   ]
  },
  {
   "cell_type": "markdown",
   "metadata": {},
   "source": [
    "## Community size fairness\n",
    "\n",
    "A similar experiment as I shared last month (degree bias) is to consider community sizes, where small communities can be seen as surrogate for \"minority groups\".\n",
    "\n",
    "I generated another ABCD graph with highly variable community sizes (smallest = 103, largest = 3772).\n",
    "\n",
    "Again I run a GNN classifier. There is a clear bias toward smaller community sizes for misclassified nodes.\n",
    "If we look at the misclassified nodes in the smallest community, most are assigned to the two largest communities:\n",
    "Counter({3772: 17, 1493: 5, 487: 3, 119: 2, 580: 1, 303: 1, 446: 1})\n",
    "\n",
    "\n"
   ]
  },
  {
   "cell_type": "code",
   "execution_count": 7,
   "metadata": {},
   "outputs": [
    {
     "name": "stdout",
     "output_type": "stream",
     "text": [
      "accuracy on the test set: 0.7001187648456056\n"
     ]
    }
   ],
   "source": [
    "G = build_ABCD(n=10000, gamma=2.5, delta=5, Delta=50, beta=1.5, s=100, S=8000, xi=0.65, seed=321)\n",
    "comm_sizes = Counter(G.vs['ground_truth_community'])\n",
    "G.vs['comm_size'] = [comm_sizes[i] for i in G.vs['ground_truth_community']]\n",
    "\n",
    "## classification\n",
    "Pred, train_mask = apply_GNN(G)\n"
   ]
  },
  {
   "cell_type": "code",
   "execution_count": 8,
   "metadata": {},
   "outputs": [
    {
     "data": {
      "image/png": "[encoded data removed]",
      "text/plain": [
       "<Figure size 640x480 with 1 Axes>"
      ]
     },
     "metadata": {},
     "output_type": "display_data"
    }
   ],
   "source": [
    "## misclassified vs degree and cluster size\n",
    "misclass = [i for i in np.where(train_mask)[0] if (Pred[i] != G.vs['ground_truth_community'][i]) ]\n",
    "correct = [i for i in np.where(train_mask)[0] if (Pred[i] == G.vs['ground_truth_community'][i]) ]\n",
    "\n",
    "## plot\n",
    "df = pd.DataFrame()\n",
    "df['misclassified'] = [Pred[i] != G.vs['ground_truth_community'][i] for i in np.where(train_mask)[0]]\n",
    "df['comm_size'] = [G.vs['comm_size'][i] for i in np.where(train_mask)[0]]\n",
    "sns.boxplot(df, x='misclassified', y='comm_size', showfliers=False, hue='misclassified', width=.7)\n",
    "plt.show()\n"
   ]
  },
  {
   "cell_type": "code",
   "execution_count": 9,
   "metadata": {},
   "outputs": [
    {
     "data": {
      "text/html": [
       "<div>\n",
       "<style scoped>\n",
       "    .dataframe tbody tr th:only-of-type {\n",
       "        vertical-align: middle;\n",
       "    }\n",
       "\n",
       "    .dataframe tbody tr th {\n",
       "        vertical-align: top;\n",
       "    }\n",
       "\n",
       "    .dataframe thead th {\n",
       "        text-align: right;\n",
       "    }\n",
       "</style>\n",
       "<table border=\"1\" class=\"dataframe\">\n",
       "  <thead>\n",
       "    <tr style=\"text-align: right;\">\n",
       "      <th></th>\n",
       "      <th>comm_size</th>\n",
       "      <th>pred_comm_size</th>\n",
       "    </tr>\n",
       "    <tr>\n",
       "      <th>misclassified</th>\n",
       "      <th></th>\n",
       "      <th></th>\n",
       "    </tr>\n",
       "  </thead>\n",
       "  <tbody>\n",
       "    <tr>\n",
       "      <th>False</th>\n",
       "      <td>2121.243992</td>\n",
       "      <td>2121.243992</td>\n",
       "    </tr>\n",
       "    <tr>\n",
       "      <th>True</th>\n",
       "      <td>1143.032343</td>\n",
       "      <td>2252.792739</td>\n",
       "    </tr>\n",
       "  </tbody>\n",
       "</table>\n",
       "</div>"
      ],
      "text/plain": [
       "                 comm_size  pred_comm_size\n",
       "misclassified                             \n",
       "False          2121.243992     2121.243992\n",
       "True           1143.032343     2252.792739"
      ]
     },
     "execution_count": 9,
     "metadata": {},
     "output_type": "execute_result"
    }
   ],
   "source": [
    "## community sizes vs predicted community sizes \n",
    "df['pred_comm_size'] = [comm_sizes[Pred[i]] for i in np.where(train_mask)[0]]\n",
    "df.groupby(by='misclassified').mean()"
   ]
  },
  {
   "cell_type": "code",
   "execution_count": 10,
   "metadata": {},
   "outputs": [
    {
     "data": {
      "text/plain": [
       "Counter({True: 1058, False: 457})"
      ]
     },
     "execution_count": 10,
     "metadata": {},
     "output_type": "execute_result"
    }
   ],
   "source": [
    "## true community size smaller than predicted community size?\n",
    "Counter(df[df.misclassified==True]['comm_size'] < df[df.misclassified==True]['pred_comm_size'])\n"
   ]
  },
  {
   "cell_type": "code",
   "execution_count": 11,
   "metadata": {},
   "outputs": [
    {
     "data": {
      "text/plain": [
       "Counter({3772: 14, 1493: 3, 487: 1, 303: 1, 151: 1})"
      ]
     },
     "execution_count": 11,
     "metadata": {},
     "output_type": "execute_result"
    }
   ],
   "source": [
    "## predicted community sizes - smallest community misclassified points\n",
    "smallest = min(df.comm_size)\n",
    "Counter(df[ (df.comm_size==smallest) & (df.misclassified==True) ]['pred_comm_size'])\n"
   ]
  }
 ],
 "metadata": {
  "kernelspec": {
   "display_name": "complexnetworks",
   "language": "python",
   "name": "complexnetworks"
  },
  "language_info": {
   "codemirror_mode": {
    "name": "ipython",
    "version": 3
   },
   "file_extension": ".py",
   "mimetype": "text/x-python",
   "name": "python",
   "nbconvert_exporter": "python",
   "pygments_lexer": "ipython3",
   "version": "3.12.11"
  }
 },
 "nbformat": 4,
 "nbformat_minor": 4
}
